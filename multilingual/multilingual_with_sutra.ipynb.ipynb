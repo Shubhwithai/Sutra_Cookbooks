{
  "cells": [
    {
      "cell_type": "markdown",
      "metadata": {
        "id": "title"
      },
      "source": [
        "# Using Regional Languages with SUTRA\n",
        "\n",
        "<img src=\"https://play-lh.googleusercontent.com/_O9p4Z4yucA2NLmZBu9mTJCuBwXeT9NcbtrDN6I8gKlkIPRySV0adOmbyipjSj9Gew\" width=\"150\">\n",
        "\n",
        "[![Open In Colab](https://colab.research.google.com/assets/colab-badge.svg)](https://colab.research.google.com/drive/10XCd_x88UCoOZgdtX-clce6lr5wkOT-X?usp=sharing)\n",
        "\n",
        "## Introduction\n",
        "\n",
        "SUTRA is a  powerful multilingual AI model that excels in processing and generating content in over 50 languages, with particular strengths in Indian and other regional languages. This notebook demonstrates SUTRA's multilingual capabilities across various tasks and showcases how it can be used effectively for applications requiring support for diverse languages."
      ]
    },
    {
      "cell_type": "markdown",
      "metadata": {},
      "source": [
        "## Get Your API Keys\n",
        "\n",
        "Before you begin, make sure you have:\n",
        "\n",
        "1. A SUTRA API key (Get yours at [TWO AI's SUTRA API page](https://www.two.ai/sutra/api))\n",
        "2. Basic familiarity with Python and Jupyter notebooks\n",
        "\n",
        "This notebook is designed to run in Google Colab, so no local Python installation is required."
      ]
    },
    {
      "cell_type": "markdown",
      "metadata": {
        "id": "setup"
      },
      "source": [
        "## Setup\n",
        "\n",
        "First, let's install the necessary libraries and set up our environment."
      ]
    },
    {
      "cell_type": "code",
      "execution_count": null,
      "metadata": {
        "colab": {
          "base_uri": "https://localhost:8080/"
        },
        "collapsed": true,
        "id": "unLfWNXQG0mO",
        "outputId": "0e86dc1f-a5fa-4ee4-ecb9-7b7b95e02dec"
      },
      "outputs": [
        {
          "name": "stdout",
          "output_type": "stream",
          "text": [
            "Requirement already satisfied: openai in /usr/local/lib/python3.11/dist-packages (1.76.0)\n",
            "Requirement already satisfied: requests in /usr/local/lib/python3.11/dist-packages (2.32.3)\n",
            "Requirement already satisfied: pandas in /usr/local/lib/python3.11/dist-packages (2.2.2)\n",
            "Requirement already satisfied: matplotlib in /usr/local/lib/python3.11/dist-packages (3.10.0)\n",
            "Requirement already satisfied: anyio<5,>=3.5.0 in /usr/local/lib/python3.11/dist-packages (from openai) (4.9.0)\n",
            "Requirement already satisfied: distro<2,>=1.7.0 in /usr/local/lib/python3.11/dist-packages (from openai) (1.9.0)\n",
            "Requirement already satisfied: httpx<1,>=0.23.0 in /usr/local/lib/python3.11/dist-packages (from openai) (0.28.1)\n",
            "Requirement already satisfied: jiter<1,>=0.4.0 in /usr/local/lib/python3.11/dist-packages (from openai) (0.9.0)\n",
            "Requirement already satisfied: pydantic<3,>=1.9.0 in /usr/local/lib/python3.11/dist-packages (from openai) (2.11.3)\n",
            "Requirement already satisfied: sniffio in /usr/local/lib/python3.11/dist-packages (from openai) (1.3.1)\n",
            "Requirement already satisfied: tqdm>4 in /usr/local/lib/python3.11/dist-packages (from openai) (4.67.1)\n",
            "Requirement already satisfied: typing-extensions<5,>=4.11 in /usr/local/lib/python3.11/dist-packages (from openai) (4.13.2)\n",
            "Requirement already satisfied: charset-normalizer<4,>=2 in /usr/local/lib/python3.11/dist-packages (from requests) (3.4.1)\n",
            "Requirement already satisfied: idna<4,>=2.5 in /usr/local/lib/python3.11/dist-packages (from requests) (3.10)\n",
            "Requirement already satisfied: urllib3<3,>=1.21.1 in /usr/local/lib/python3.11/dist-packages (from requests) (2.4.0)\n",
            "Requirement already satisfied: certifi>=2017.4.17 in /usr/local/lib/python3.11/dist-packages (from requests) (2025.4.26)\n",
            "Requirement already satisfied: numpy>=1.23.2 in /usr/local/lib/python3.11/dist-packages (from pandas) (2.0.2)\n",
            "Requirement already satisfied: python-dateutil>=2.8.2 in /usr/local/lib/python3.11/dist-packages (from pandas) (2.9.0.post0)\n",
            "Requirement already satisfied: pytz>=2020.1 in /usr/local/lib/python3.11/dist-packages (from pandas) (2025.2)\n",
            "Requirement already satisfied: tzdata>=2022.7 in /usr/local/lib/python3.11/dist-packages (from pandas) (2025.2)\n",
            "Requirement already satisfied: contourpy>=1.0.1 in /usr/local/lib/python3.11/dist-packages (from matplotlib) (1.3.2)\n",
            "Requirement already satisfied: cycler>=0.10 in /usr/local/lib/python3.11/dist-packages (from matplotlib) (0.12.1)\n",
            "Requirement already satisfied: fonttools>=4.22.0 in /usr/local/lib/python3.11/dist-packages (from matplotlib) (4.57.0)\n",
            "Requirement already satisfied: kiwisolver>=1.3.1 in /usr/local/lib/python3.11/dist-packages (from matplotlib) (1.4.8)\n",
            "Requirement already satisfied: packaging>=20.0 in /usr/local/lib/python3.11/dist-packages (from matplotlib) (24.2)\n",
            "Requirement already satisfied: pillow>=8 in /usr/local/lib/python3.11/dist-packages (from matplotlib) (11.2.1)\n",
            "Requirement already satisfied: pyparsing>=2.3.1 in /usr/local/lib/python3.11/dist-packages (from matplotlib) (3.2.3)\n",
            "Requirement already satisfied: httpcore==1.* in /usr/local/lib/python3.11/dist-packages (from httpx<1,>=0.23.0->openai) (1.0.9)\n",
            "Requirement already satisfied: h11>=0.16 in /usr/local/lib/python3.11/dist-packages (from httpcore==1.*->httpx<1,>=0.23.0->openai) (0.16.0)\n",
            "Requirement already satisfied: annotated-types>=0.6.0 in /usr/local/lib/python3.11/dist-packages (from pydantic<3,>=1.9.0->openai) (0.7.0)\n",
            "Requirement already satisfied: pydantic-core==2.33.1 in /usr/local/lib/python3.11/dist-packages (from pydantic<3,>=1.9.0->openai) (2.33.1)\n",
            "Requirement already satisfied: typing-inspection>=0.4.0 in /usr/local/lib/python3.11/dist-packages (from pydantic<3,>=1.9.0->openai) (0.4.0)\n",
            "Requirement already satisfied: six>=1.5 in /usr/local/lib/python3.11/dist-packages (from python-dateutil>=2.8.2->pandas) (1.17.0)\n"
          ]
        }
      ],
      "source": [
        "# Install required packages\n",
        "!pip install openai requests pandas matplotlib"
      ]
    },
    {
      "cell_type": "markdown",
      "metadata": {
        "id": "H7huB_RVG1oU"
      },
      "source": [
        "### Import necessary libraries\n"
      ]
    },
    {
      "cell_type": "code",
      "execution_count": null,
      "metadata": {
        "id": "install-packages"
      },
      "outputs": [],
      "source": [
        "# Import necessary libraries\n",
        "import os\n",
        "import time\n",
        "import pandas as pd\n",
        "import matplotlib.pyplot as plt\n",
        "from openai import OpenAI\n",
        "from IPython.display import display, Markdown, HTML\n",
        "from google.colab import userdata"
      ]
    },
    {
      "cell_type": "markdown",
      "metadata": {
        "id": "E0eKXF6YPvHu"
      },
      "source": [
        "## Authentication\n",
        "\n",
        "To use the Sutra API, you need to set up your API key.\n",
        "\n",
        "Set up authentication using Colab secrets."
      ]
    },
    {
      "cell_type": "code",
      "execution_count": null,
      "metadata": {
        "id": "4u4UxBWIPvHv"
      },
      "outputs": [],
      "source": [
        "# Get API key from Colab secrets\n",
        "os.environ[\"SUTRA_API_KEY\"] = userdata.get('SUTRA_API_KEY')"
      ]
    },
    {
      "cell_type": "markdown",
      "metadata": {
        "id": "oPRdHAb1QPlm"
      },
      "source": [
        "###Create the OpenAI client with Sutra"
      ]
    },
    {
      "cell_type": "code",
      "execution_count": null,
      "metadata": {
        "id": "fzIZRpcBQT4T"
      },
      "outputs": [],
      "source": [
        "# Create the OpenAI client with Sutra's API endpoint\n",
        "client = OpenAI(\n",
        "    base_url=\"https://api.two.ai/v2\",\n",
        "    api_key=os.environ.get(\"SUTRA_API_KEY\")\n",
        ")"
      ]
    },
    {
      "cell_type": "markdown",
      "metadata": {
        "id": "helper-functions"
      },
      "source": [
        "## Helper Functions\n",
        "\n",
        "Let's create helper functions to interact with the Sutra API and evaluate responses in different languages."
      ]
    },
    {
      "cell_type": "code",
      "execution_count": null,
      "metadata": {
        "id": "sutra-response-function"
      },
      "outputs": [],
      "source": [
        "import time\n",
        "from IPython.display import display, HTML\n",
        "\n",
        "def get_sutra_response(prompt, language=None, temperature=0, max_tokens=1024):\n",
        "    \"\"\"\n",
        "    Get a response from Sutra for a given prompt.\n",
        "\n",
        "    Args:\n",
        "        prompt (str): The user prompt or question.\n",
        "        language (str, optional): The language of the prompt (for display).\n",
        "        temperature (float): Controls randomness (0 to 1).\n",
        "        max_tokens (int): Maximum number of tokens to generate.\n",
        "\n",
        "    Returns:\n",
        "        str: The model's response.\n",
        "        float: Time taken to get the response.\n",
        "    \"\"\"\n",
        "    start_time = time.time()\n",
        "\n",
        "    try:\n",
        "        response = client.chat.completions.create(\n",
        "            model=\"sutra-v2\",\n",
        "            messages=[{\"role\": \"user\", \"content\": prompt}],\n",
        "            max_tokens=max_tokens,\n",
        "            temperature=temperature\n",
        "        )\n",
        "\n",
        "        end_time = time.time()\n",
        "        result = response.choices[0].message.content.strip()\n",
        "        time_taken = end_time - start_time\n",
        "\n",
        "        # Displaying results with better styling\n",
        "        if language:\n",
        "            display(HTML(f\"<h3>Language: {language}</h3>\"))\n",
        "\n",
        "        display(HTML(f\"\"\"\n",
        "            <h4>Prompt:</h4>\n",
        "            <div style='background-color:#e6f2ff; color:#000; padding:10px; border-radius:5px;'>\n",
        "                {prompt}\n",
        "            </div>\n",
        "            <h4>Response:</h4>\n",
        "            <div style='background-color:#f9f9f9; color:#000; padding:10px; border-radius:5px;\n",
        "                        max-height:300px; overflow:auto; white-space: pre-wrap;'>\n",
        "                {result}\n",
        "            </div>\n",
        "            <p><b>Time:</b> {time_taken:.2f} seconds</p>\n",
        "            <hr>\n",
        "        \"\"\"))\n",
        "\n",
        "        return result, time_taken\n",
        "\n",
        "    except Exception as e:\n",
        "        end_time = time.time()\n",
        "        return f\"Error: {str(e)}\", end_time - start_time"
      ]
    },
    {
      "cell_type": "markdown",
      "metadata": {
        "id": "indian-languages"
      },
      "source": [
        "## Part 1: Indian Languages\n",
        "\n",
        "India has 22 officially recognized languages and hundreds of dialects. Sutra has been designed to handle this linguistic diversity with high proficiency. Let's explore how Sutra performs across various Indian languages."
      ]
    },
    {
      "cell_type": "markdown",
      "metadata": {
        "id": "hindi"
      },
      "source": [
        "### Hindi (हिन्दी)\n",
        "\n",
        "Hindi is one of the most widely spoken languages in India and the fourth most spoken language globally."
      ]
    },
    {
      "cell_type": "code",
      "execution_count": null,
      "metadata": {
        "colab": {
          "base_uri": "https://localhost:8080/",
          "height": 530
        },
        "id": "hindi-example",
        "outputId": "986e08a0-bcc0-4c08-8ef3-1328a8779d10"
      },
      "outputs": [
        {
          "data": {
            "text/html": [
              "<h3>Language: Hindi</h3>"
            ],
            "text/plain": [
              "<IPython.core.display.HTML object>"
            ]
          },
          "metadata": {},
          "output_type": "display_data"
        },
        {
          "data": {
            "text/html": [
              "\n",
              "            <h4>Prompt:</h4>\n",
              "            <div style='background-color:#e6f2ff; color:#000; padding:10px; border-radius:5px;'>\n",
              "                भारत के स्वतंत्रता संग्राम के बारे में बताएं और महात्मा गांधी के योगदान पर प्रकाश डालें।\n",
              "            </div>\n",
              "            <h4>Response:</h4>\n",
              "            <div style='background-color:#f9f9f9; color:#000; padding:10px; border-radius:5px; \n",
              "                        max-height:300px; overflow:auto; white-space: pre-wrap;'>\n",
              "                भारत का स्वतंत्रता संग्राम एक लंबी और जटिल प्रक्रिया थी, जो 1857 के पहले स्वतंत्रता संग्राम से लेकर 1947 में भारत की स्वतंत्रता तक फैली हुई है। इस संघर्ष में विभिन्न सामाजिक, राजनीतिक और आर्थिक कारक शामिल थे, जिनका उद्देश्य ब्रिटिश उपनिवेशी शासन को समाप्त करना था।\n",
              "\n",
              "महात्मा गांधी का योगदान इस स्वतंत्रता संग्राम में अत्यंत महत्वपूर्ण था। उन्होंने अहिंसा और सत्याग्रह के सिद्धांतों को अपनाया और भारतीय जनता को संगठित करने में महत्वपूर्ण भूमिका निभाई। उनके कुछ प्रमुख योगदान निम्नलिखित हैं:\n",
              "\n",
              "1. **अहिंसा का सिद्धांत**: गांधीजी ने अहिंसा को अपने आंदोलन का मूल आधार बनाया। उन्होंने यह विश्वास दिलाया कि बिना हिंसा के भी स्वतंत्रता प्राप्त की जा सकती है।\n",
              "\n",
              "2. **सत्याग्रह**: यह एक ऐसा आंदोलन था जिसमें लोग अपने अधिकारों के लिए शांतिपूर्ण तरीके से विरोध करते थे। गांधीजी ने इसे कई आंदोलनों में लागू किया, जैसे कि असहमति आंदोलन (1920) और नमक सत्याग्रह (1930)।\n",
              "\n",
              "3. **नमक सत्याग्रह**: 1930 में गांधीजी ने दांडी मार्च किया, जिसमें उन्होंने समुद्र के किनारे जाकर नमक बनाने का कार्य किया। यह ब्रिटिश नमक कानून के खिलाफ एक बड़ा विरोध था और इसने भारतीय जनमानस को जागरूक किया।\n",
              "\n",
              "4. **सामाजिक सुधार**: गांधीजी ने जातिवाद, छुआछूत और महिलाओं के अधिकारों के लिए भी आवाज उठाई। उन्होंने समाज में समानता और न्याय की आवश्यकता पर जोर दिया।\n",
              "\n",
              "5. **भारतीय राष्ट्रीय कांग्रेस**: गांधीजी ने कांग्रेस पार्टी को एक व्यापक जन आंदोलन में बदल दिया। उन्होंने इसे आम लोगों के बीच लोकप्रिय बनाया और स्वतंत्रता संग्राम को एक नई दिशा दी।\n",
              "\n",
              "6. **द्वितीय विश्व युद्ध के बाद का आंदोलन**: 1942 में \"भारत छोड़ो आंदोलन\" की शुरुआत की, जिसमें उन्होंने ब्रिटिश शासन के खिलाफ एक निर्णायक संघर्ष का आह्वान किया।\n",
              "\n",
              "महात्मा गांधी के नेतृत्व में भारतीय स्वतंत्रता संग्राम ने न केवल भारत को स्वतंत्रता दिलाई, बल्कि यह विश्व स्तर पर अहिंसक प्रतिरोध का एक प्रेरणास्त्रोत बना। उनका दृष्टिकोण और विचारधारा आज भी कई आंदोलनों में प्रासंगिक हैं।\n",
              "            </div>\n",
              "            <p><b>Time:</b> 24.04 seconds</p>\n",
              "            <hr>\n",
              "        "
            ],
            "text/plain": [
              "<IPython.core.display.HTML object>"
            ]
          },
          "metadata": {},
          "output_type": "display_data"
        }
      ],
      "source": [
        "hindi_prompt = \"भारत के स्वतंत्रता संग्राम के बारे में बताएं और महात्मा गांधी के योगदान पर प्रकाश डालें।\"\n",
        "# Translation: \"Tell me about India's freedom struggle and highlight Mahatma Gandhi's contributions.\"\n",
        "\n",
        "hindi_response, hindi_time = get_sutra_response(hindi_prompt, \"Hindi\")"
      ]
    },
    {
      "cell_type": "markdown",
      "metadata": {
        "id": "tamil"
      },
      "source": [
        "### Tamil (தமிழ்)\n",
        "\n",
        "Tamil is one of the oldest languages still in use, with a rich literary tradition dating back over 2,000 years."
      ]
    },
    {
      "cell_type": "code",
      "execution_count": null,
      "metadata": {
        "colab": {
          "base_uri": "https://localhost:8080/",
          "height": 530
        },
        "id": "tamil-example",
        "outputId": "cb50f8a2-1d17-4bb8-a9f9-6be46a8b0404"
      },
      "outputs": [
        {
          "data": {
            "text/html": [
              "<h3>Language: Tamil</h3>"
            ],
            "text/plain": [
              "<IPython.core.display.HTML object>"
            ]
          },
          "metadata": {},
          "output_type": "display_data"
        },
        {
          "data": {
            "text/html": [
              "\n",
              "            <h4>Prompt:</h4>\n",
              "            <div style='background-color:#e6f2ff; color:#000; padding:10px; border-radius:5px;'>\n",
              "                தமிழ் மொழியின் வரலாறு மற்றும் முக்கியத்துவத்தை விளக்குங்கள்.\n",
              "            </div>\n",
              "            <h4>Response:</h4>\n",
              "            <div style='background-color:#f9f9f9; color:#000; padding:10px; border-radius:5px; \n",
              "                        max-height:300px; overflow:auto; white-space: pre-wrap;'>\n",
              "                தமிழ் மொழி உலகின் மிகப் பழமையான மொழிகளில் ஒன்றாகும், இது 2,000 ஆண்டுகளுக்கும் மேலான வளமான வரலாற்றைக் கொண்டுள்ளது. இது திராவிட மொழிக் குடும்பத்தைச் சேர்ந்தது மற்றும் முதன்மையாக இந்திய மாநிலமான தமிழ்நாட்டிலும், இலங்கை, சிங்கப்பூர், மலேசியா மற்றும் உலகெங்கிலும் உள்ள தமிழ் புலம்பெயர்ந்தோர் மத்தியிலும் பேசப்படுகிறது.\n",
              "\n",
              "### வரலாற்று வளர்ச்சி\n",
              "\n",
              "1. **பண்டைய தோற்றம்**: தமிழின் ஆரம்பகால சான்றுகள் கிமு 500 ஆம் ஆண்டைச் சேர்ந்த கல்வெட்டுகளிலிருந்து தொடங்குகின்றன, அவை தமிழ்நாடு மற்றும் வடக்கு இலங்கையில் காணப்படுகின்றன. இந்த மொழி பல்வேறு நிலைகளைக் கடந்து பரிணமித்துள்ளது, ஆரம்பகால வடிவம் பழைய தமிழ் என்று அழைக்கப்படுகிறது.\n",
              "\n",
              "2. **பாரம்பரிய இலக்கியம்**: தமிழ் சங்க காலம் (தோராயமாக கிமு 300 முதல் கிபி 300 வரை) தமிழ் இலக்கியத்திற்கு ஒரு குறிப்பிடத்தக்க சகாப்தமாகும், திருவள்ளுவரின் \"திருக்குறள்\" போன்ற படைப்புகளையும், அக்கால கலாச்சாரம், நெறிமுறைகள் மற்றும் சமூக வாழ்க்கையை பிரதிபலிக்கும் பல்வேறு கவிதைகள் மற்றும் தொகுப்புகளையும் உருவாக்கியது. இந்தக் காலகட்டம் தமிழை ஒரு வளமான இலக்கிய மரபைக் கொண்ட ஒரு செம்மொழியாக நிலைநிறுத்தியது.\n",
              "\n",
              "3. **இடைக்கால காலம்**: இடைக்காலத்தில், சோழர்கள் மற்றும் பாண்டியர்கள் உட்பட பல்வேறு வம்சங்களின் கீழ் தமிழ் தொடர்ந்து செழித்து வளர்ந்தது. சமஸ்கிருதம் மற்றும் பிற மொழிகளின் தாக்கங்களை இந்த மொழி உள்வாங்கிக் கொண்டது, புதிய இலக்கிய வடிவங்கள் மற்றும் பாணிகளின் வளர்ச்சிக்கு வழிவகுத்தது.\n",
              "\n",
              "4. **காலனித்துவ சகாப்தம்**: பிரிட்டிஷ் காலனித்துவ காலத்தில் ஆங்கிலக் கல்வி அறிமுகப்படுத்தப்பட்டது, இது தமிழ் பயன்பாட்டைப் பாதித்தது. இருப்பினும், இந்த சகாப்தம் தமிழ் இலக்கியம் மற்றும் கலாச்சாரத்தில் ஆர்வத்தின் மறுமலர்ச்சியைத் தூண்டியது, இது மொழியைப் பாதுகாப்பதையும் ஊக்குவிப்பதையும் நோக்கமாகக் கொண்ட இயக்கங்களுக்கு வழிவகுத்தது.\n",
              "\n",
              "5. **நவீன முன்னேற்றங்கள்**: 20 ஆம் நூற்றாண்டில், கல்வி நிறுவனங்கள் நிறுவப்பட்டதாலும், நிர்வாகம் மற்றும் ஊடகங்களில் தமிழை ஊக்குவிப்பதாலும் தமிழ் தரப்படுத்தல் மற்றும் நவீனமயமாக்கலுக்கு உட்பட்டது. இந்த மொழி அதன் பாரம்பரிய வேர்களைப் பேணுகையில் சமகாலத் தேவைகளுக்கு ஏற்ப மாற்றியமைத்துள்ளது.\n",
              "\n",
              "### தமிழின் முக்கியத்துவம்\n",
              "\n",
              "1. **கலாச்சார அடையாளம்**: தமிழ் என்பது தமிழர் அடையாளம் மற்றும் பாரம்பரியத்தின் ஒரு முக்கிய அம்சமாகும். இது தமிழ் பேசும் சமூகங்களின் தனித்துவமான கலாச்சார நடைமுறைகள், மரபுகள் மற்றும் மதிப்புகளை வெளிப்படுத்தும் ஒரு ஊடகமாக செயல்படுகிறது.\n",
              "\n",
              "2. **இலக்கிய பாரம்பரியம்**: பண்டைய கவிதைகள் முதல் நவீன நாவல்கள் வரை பரந்து விரிந்த தமிழ் இலக்கியங்கள் உலக இலக்கியத்திற்கு குறிப்பிடத்தக்க பங்களிப்பை வழங்குகின்றன. இது தத்துவம், ஆன்மீகம் மற்றும் சமூக வர்ணனை உள்ளிட்ட பல்வேறு வகைகளை உள்ளடக்கியது.\n",
              "\n",
              "3. **அதிகாரப்பூர்வ நிலை**: இந்தியாவின் 22 திட்டமிடப்பட்ட மொழிகளில் தமிழ் ஒன்றாகும், மேலும் இது இந்திய அரசால் ஒரு செம்மொழியாக அங்கீகரிக்கப்பட்டுள்ளது. இது இலங்கை மற்றும் சிங்கப்பூரில் ஒரு அதிகாரப்பூர்வ மொழியாகவும் உள்ளது, இது நிர்வாகம் மற்றும் கல்வியில் அதன் முக்கியத்துவத்தை எடுத்துக்காட்டுகிறது.\n",
              "\n",
              "4. **உலகளாவிய இருப்பு**: உலகளவில் மில்லியன் கணக்கான பேச்சாளர்களைக் கொண்ட தமிழ், மொழி மற்றும் கலாச்சாரத்தை தீவிரமாக ஊக்குவிக்கும் துடிப்பான புலம்பெயர்ந்தோரைக் கொண்டுள்ளது. உலகளாவிய சூழல்களில் மொழியின் பொருத்தத்தைப் பராமரிக்க அமைப்புகளும் கலாச்சார நிகழ்வுகளும் உதவுகின்றன.\n",
              "\n",
              "5. **மொழியியல் ஆய்வுகள்**: தமிழ் அதன் பண்டைய தோற்றம், இலக்கண அமைப்பு மற்றும் ஒலிப்பு காரணமாக மொழியியலாளர்களுக்கு மிகுந்த ஆர்வமாக உள்ளது. இது மொழிகளின் பரிணாமம் மற்றும் மனித தொடர்பு வளர்ச்சியைப் பற்றிய நுண்ணறிவுகளை வழங்குகிறது.\n",
              "\n",
              "சுருக்கமாக, தமிழ் மொழி வெறும் தகவல் தொடர்பு சாதனமாக மட்டுமல்லாமல், கலாச்சார அடையாளம், இலக்கிய செழுமை மற்றும் வரலாற்று தொடர்ச்சியின் ஒரு முக்கிய அங்கமாகவும் உள்ளது, இது உலகளாவிய மொழியியல் நிலப்பரப்பின் ஒரு முக்கிய பகுதியாக அமைகிறது.\n",
              "            </div>\n",
              "            <p><b>Time:</b> 16.41 seconds</p>\n",
              "            <hr>\n",
              "        "
            ],
            "text/plain": [
              "<IPython.core.display.HTML object>"
            ]
          },
          "metadata": {},
          "output_type": "display_data"
        }
      ],
      "source": [
        "tamil_prompt = \"தமிழ் மொழியின் வரலாறு மற்றும் முக்கியத்துவத்தை விளக்குங்கள்.\"\n",
        "# Translation: \"Explain the history and importance of the Tamil language.\"\n",
        "\n",
        "tamil_response, tamil_time = get_sutra_response(tamil_prompt, \"Tamil\")"
      ]
    },
    {
      "cell_type": "markdown",
      "metadata": {
        "id": "bengali"
      },
      "source": [
        "### Bengali (বাংলা)\n",
        "\n",
        "Bengali is the second most spoken language in India and the national language of Bangladesh."
      ]
    },
    {
      "cell_type": "code",
      "execution_count": null,
      "metadata": {
        "colab": {
          "base_uri": "https://localhost:8080/",
          "height": 530
        },
        "id": "bengali-example",
        "outputId": "8098a6d0-77eb-438a-d02a-5414c26271b8"
      },
      "outputs": [
        {
          "data": {
            "text/html": [
              "<h3>Language: Bengali</h3>"
            ],
            "text/plain": [
              "<IPython.core.display.HTML object>"
            ]
          },
          "metadata": {},
          "output_type": "display_data"
        },
        {
          "data": {
            "text/html": [
              "\n",
              "            <h4>Prompt:</h4>\n",
              "            <div style='background-color:#e6f2ff; color:#000; padding:10px; border-radius:5px;'>\n",
              "                রবীন্দ্রনাথ ঠাকুরের সাহিত্য অবদান এবং তাঁর বিশ্বদর্শন সম্পর্কে আলোচনা করুন।\n",
              "            </div>\n",
              "            <h4>Response:</h4>\n",
              "            <div style='background-color:#f9f9f9; color:#000; padding:10px; border-radius:5px; \n",
              "                        max-height:300px; overflow:auto; white-space: pre-wrap;'>\n",
              "                রবীন্দ্রনাথ ঠাকুর, যিনি গুরুদেব নামে পরিচিত, বাংলা সাহিত্যের অন্যতম শ্রেষ্ঠ কবি, নাট্যকার, গল্পকার এবং সঙ্গীতজ্ঞ। তাঁর সাহিত্য অবদান এবং বিশ্বদর্শন উভয়ই গভীর ও বহুমাত্রিক।\n",
              "\n",
              "### সাহিত্য অবদান:\n",
              "১. **কবিতা**: রবীন্দ্রনাথের কবিতায় মানবিক অনুভূতি, প্রকৃতি, প্রেম, এবং আধ্যাত্মিকতার চিত্রায়ণ দেখা যায়। \"গীতাঞ্জলি\" তাঁর সবচেয়ে বিখ্যাত কবিতা সংকলন, যা ১৯১৩ সালে নোবেল পুরস্কার লাভ করে। এই গ্রন্থে তিনি জীবনের গভীর দার্শনিক ভাবনা প্রকাশ করেছেন।\n",
              "\n",
              "২. **নাটক**: রবীন্দ্রনাথের নাটকগুলি সমাজের বিভিন্ন দিক তুলে ধরে। \"রাজা\", \"চোখের বালি\", \"মুকুট\" ইত্যাদি নাটকে তিনি মানব সম্পর্ক, সামাজিক সমস্যা এবং নৈতিক দ্বন্দ্ব নিয়ে আলোচনা করেছেন।\n",
              "\n",
              "৩. **গল্প**: তাঁর গল্পগুলিতে সাধারণ মানুষের জীবন, তাদের সুখ-দুঃখ এবং সমাজের নানা অসঙ্গতি ফুটিয়ে তোলা হয়েছে। \"দশের মেয়ে\", \"কথা\" ইত্যাদি গল্পে তিনি মানবিক সম্পর্কের জটিলতা তুলে ধরেছেন।\n",
              "\n",
              "৪. **সঙ্গীত**: রবীন্দ্রনাথের সঙ্গীত, যা রবীন্দ্রসঙ্গীত নামে পরিচিত, বাংলা সঙ্গীতের একটি বিশেষ শাখা। তাঁর সঙ্গীতে প্রেম, প্রকৃতি, এবং আধ্যাত্মিকতার মিশ্রণ দেখা যায়।\n",
              "\n",
              "### বিশ্বদর্শন:\n",
              "রবীন্দ্রনাথের বিশ্বদর্শন মানবতাবাদী এবং আধ্যাত্মিক। তিনি বিশ্বাস করতেন যে:\n",
              "\n",
              "১. **মানবতা**: তিনি মানবতার প্রতি গভীর শ্রদ্ধা ও ভালোবাসা প্রকাশ করেছেন। তাঁর মতে, মানুষের মধ্যে যে আত্মিক সম্পর্ক বিদ্যমান, তা সকল ধর্ম ও জাতির ঊর্ধ্বে।\n",
              "\n",
              "২. **প্রকৃতি**: রবীন্দ্রনাথ প্রকৃতিকে এক অপরিহার্য অংশ হিসেবে দেখতেন। তিনি মনে করতেন যে প্রকৃতির সঙ্গে মানুষের সম্পর্ক গভীর এবং এটি মানব জীবনের একটি গুরুত্বপূর্ণ দিক।\n",
              "\n",
              "৩. **শিক্ষা**: তিনি শিক্ষাকে জীবনের একটি মৌলিক উপাদান হিসেবে বিবেচনা করতেন। তাঁর প্রতিষ্ঠিত শান্তিনিকেতন শিক্ষা পদ্ধতির মাধ্যমে তিনি মুক্ত চিন্তা ও সৃজনশীলতার উপর গুরুত্ব দিয়েছেন।\n",
              "\n",
              "৪. **আধ্যাত্মিকতা**: রবীন্দ্রনাথের লেখায় আধ্যাত্মিকতার একটি বিশেষ স্থান রয়েছে। তিনি বিশ্বাস করতেন যে, মানুষের আত্মা সর্বদা সত্যের সন্ধানে থাকে এবং এই সত্যের অনুসন্ধানই জীবনের মূল উদ্দেশ্য।\n",
              "\n",
              "রবীন্দ্রনাথ ঠাকুরের সাহিত্য ও দর্শন আজও মানুষের মনে প্রভাব ফেলে চলেছে এবং তাঁর কাজগুলি বিশ্বজুড়ে সমাদৃত।\n",
              "            </div>\n",
              "            <p><b>Time:</b> 8.60 seconds</p>\n",
              "            <hr>\n",
              "        "
            ],
            "text/plain": [
              "<IPython.core.display.HTML object>"
            ]
          },
          "metadata": {},
          "output_type": "display_data"
        }
      ],
      "source": [
        "bengali_prompt = \"রবীন্দ্রনাথ ঠাকুরের সাহিত্য অবদান এবং তাঁর বিশ্বদর্শন সম্পর্কে আলোচনা করুন।\"\n",
        "# Translation: \"Discuss Rabindranath Tagore's literary contributions and his world view.\"\n",
        "\n",
        "bengali_response, bengali_time = get_sutra_response(bengali_prompt, \"Bengali\")"
      ]
    },
    {
      "cell_type": "markdown",
      "metadata": {
        "id": "international-languages"
      },
      "source": [
        "## Part 2: International Languages\n",
        "\n",
        "Sutra also excels at handling a wide variety of international languages. Let's explore some examples."
      ]
    },
    {
      "cell_type": "markdown",
      "metadata": {
        "id": "arabic"
      },
      "source": [
        "### Arabic (العربية)\n",
        "\n",
        "Arabic is spoken by over 400 million people worldwide and is the liturgical language of Islam."
      ]
    },
    {
      "cell_type": "code",
      "execution_count": null,
      "metadata": {
        "colab": {
          "base_uri": "https://localhost:8080/",
          "height": 530
        },
        "id": "arabic-example",
        "outputId": "f1eae862-e043-45cd-aec7-b00d9311dcbb"
      },
      "outputs": [
        {
          "data": {
            "text/html": [
              "<h3>Language: Arabic</h3>"
            ],
            "text/plain": [
              "<IPython.core.display.HTML object>"
            ]
          },
          "metadata": {},
          "output_type": "display_data"
        },
        {
          "data": {
            "text/html": [
              "\n",
              "            <h4>Prompt:</h4>\n",
              "            <div style='background-color:#e6f2ff; color:#000; padding:10px; border-radius:5px;'>\n",
              "                اشرح تأثير الثورة الصناعية على الاقتصاد العالمي والتطور التكنولوجي.\n",
              "            </div>\n",
              "            <h4>Response:</h4>\n",
              "            <div style='background-color:#f9f9f9; color:#000; padding:10px; border-radius:5px; \n",
              "                        max-height:300px; overflow:auto; white-space: pre-wrap;'>\n",
              "                تأثير الثورة الصناعية على الاقتصاد العالمي والتطور التكنولوجي كان عميقًا وشاملاً، حيث أحدثت تغييرات جذرية في كيفية إنتاج السلع وتوزيعها واستهلاكها. يمكن تلخيص التأثيرات الرئيسية للثورة الصناعية في النقاط التالية:\n",
              "\n",
              "1. **زيادة الإنتاجية**: أدت الابتكارات التكنولوجية مثل الآلات البخارية والمكائن إلى زيادة كبيرة في الإنتاجية. تمكّن المصنعون من إنتاج كميات أكبر من السلع بسرعة أكبر، مما ساهم في تلبية الطلب المتزايد.\n",
              "\n",
              "2. **تحول من الزراعة إلى الصناعة**: انتقل العديد من الناس من العمل في الزراعة إلى العمل في المصانع. هذا التحول أدى إلى نمو المدن وزيادة عدد السكان الحضريين، مما غيّر التركيبة الاجتماعية والاقتصادية.\n",
              "\n",
              "3. **تطوير وسائل النقل**: ساهمت الثورة الصناعية في تطوير وسائل النقل مثل السكك الحديدية والسفن البخارية، مما سهل حركة البضائع والأشخاص. هذا ساعد في توسيع الأسواق وزيادة التجارة الدولية.\n",
              "\n",
              "4. **ظهور أسواق جديدة**: مع زيادة الإنتاج، ظهرت أسواق جديدة للسلع، مما أدى إلى تعزيز التجارة العالمية. الدول التي كانت تعتمد على الزراعة أصبحت الآن جزءًا من شبكة تجارية عالمية.\n",
              "\n",
              "5. **التغيرات في العمل**: أدت الثورة الصناعية إلى ظهور نظام العمل في المصانع، مما غير طبيعة العمل. ظهرت ظروف عمل جديدة، وأحيانًا قاسية، مما أدى إلى نشوء حركات عمالية للمطالبة بحقوق أفضل.\n",
              "\n",
              "6. **الابتكار التكنولوجي**: الثورة الصناعية كانت فترة من الابتكار التكنولوجي المستمر. تم تطوير تقنيات جديدة في مجالات مثل النسيج، التعدين، والكيماويات، مما ساهم في تحسين الكفاءة وتقليل التكاليف.\n",
              "\n",
              "7. **التأثيرات البيئية**: مع زيادة الإنتاج الصناعي، ظهرت مشكلات بيئية جديدة، مثل التلوث واستنزاف الموارد الطبيعية. هذه القضايا أصبحت محور اهتمام عالمي في العقود الأخيرة.\n",
              "\n",
              "8. **تغيرات اقتصادية عالمية**: أدت الثورة الصناعية إلى تغييرات في القوى الاقتصادية العالمية، حيث أصبحت بعض الدول الصناعية مثل بريطانيا وألمانيا والولايات المتحدة مهيمنة اقتصاديًا، بينما تأثرت دول أخرى سلبًا.\n",
              "\n",
              "بشكل عام، كانت الثورة الصناعية نقطة تحول رئيسية في التاريخ الاقتصادي والتكنولوجي، حيث وضعت الأسس لعالم حديث يعتمد على الصناعة والتجارة العالمية.\n",
              "            </div>\n",
              "            <p><b>Time:</b> 8.32 seconds</p>\n",
              "            <hr>\n",
              "        "
            ],
            "text/plain": [
              "<IPython.core.display.HTML object>"
            ]
          },
          "metadata": {},
          "output_type": "display_data"
        }
      ],
      "source": [
        "arabic_prompt = \"اشرح تأثير الثورة الصناعية على الاقتصاد العالمي والتطور التكنولوجي.\"\n",
        "# Translation: \"Explain the impact of the Industrial Revolution on the global economy and technological development.\"\n",
        "\n",
        "arabic_response, arabic_time = get_sutra_response(arabic_prompt, \"Arabic\")"
      ]
    },
    {
      "cell_type": "markdown",
      "metadata": {
        "id": "chinese"
      },
      "source": [
        "### Chinese (中文)\n",
        "\n",
        "Mandarin Chinese is the most spoken language in the world with over a billion speakers."
      ]
    },
    {
      "cell_type": "code",
      "execution_count": null,
      "metadata": {
        "colab": {
          "base_uri": "https://localhost:8080/",
          "height": 473
        },
        "id": "chinese-example",
        "outputId": "ed2967db-ebbd-4795-ba7b-cfd6f57340d2"
      },
      "outputs": [
        {
          "data": {
            "text/html": [
              "<h3>Language: Chinese</h3>"
            ],
            "text/plain": [
              "<IPython.core.display.HTML object>"
            ]
          },
          "metadata": {},
          "output_type": "display_data"
        },
        {
          "data": {
            "text/html": [
              "\n",
              "            <h4>Prompt:</h4>\n",
              "            <div style='background-color:#e6f2ff; color:#000; padding:10px; border-radius:5px;'>\n",
              "                简述中国古代四大发明及其对世界文明的贡献。\n",
              "            </div>\n",
              "            <h4>Response:</h4>\n",
              "            <div style='background-color:#f9f9f9; color:#000; padding:10px; border-radius:5px; \n",
              "                        max-height:300px; overflow:auto; white-space: pre-wrap;'>\n",
              "                中国古代四大发明指的是造纸术、印刷术、指南针和火药。这些发明对世界文明的发展产生了深远的影响。\n",
              "\n",
              "1. **造纸术**：东汉时期，蔡伦改进了造纸技术，使纸张的生产更加普及。纸的出现大大降低了书写材料的成本，促进了文化的传播和知识的积累。纸张的广泛使用为后来的教育、文学和科学发展奠定了基础。\n",
              "\n",
              "2. **印刷术**：唐代的木版印刷和宋代的活字印刷技术，使得书籍的复制变得更加高效。印刷术的发明推动了信息的传播，促进了文艺复兴和启蒙运动等历史事件的发生，对全球的教育和文化交流产生了重要影响。\n",
              "\n",
              "3. **指南针**：最早的指南针出现在宋代，最初用于航海。指南针的发明使得海上航行更加安全和准确，促进了全球贸易和探索，推动了地理大发现时代的到来。\n",
              "\n",
              "4. **火药**：火药的发明最初用于军事，改变了战争的方式。火药的使用不仅影响了中国的军事战略，也在全球范围内引发了战争技术的革命，促进了西方国家的军事发展。\n",
              "\n",
              "总的来说，这四大发明不仅推动了中国自身的社会进步，也对世界其他地区的科技、文化和经济发展产生了深远的影响。\n",
              "            </div>\n",
              "            <p><b>Time:</b> 5.09 seconds</p>\n",
              "            <hr>\n",
              "        "
            ],
            "text/plain": [
              "<IPython.core.display.HTML object>"
            ]
          },
          "metadata": {},
          "output_type": "display_data"
        }
      ],
      "source": [
        "chinese_prompt = \"简述中国古代四大发明及其对世界文明的贡献。\"\n",
        "# Translation: \"Briefly describe the four great inventions of ancient China and their contributions to world civilization.\"\n",
        "\n",
        "chinese_response, chinese_time = get_sutra_response(chinese_prompt, \"Chinese\")"
      ]
    },
    {
      "cell_type": "markdown",
      "metadata": {
        "id": "spanish"
      },
      "source": [
        "### Spanish (Español)\n",
        "\n",
        "Spanish is the world's second-most spoken native language with nearly 500 million speakers."
      ]
    },
    {
      "cell_type": "code",
      "execution_count": null,
      "metadata": {
        "colab": {
          "base_uri": "https://localhost:8080/",
          "height": 530
        },
        "id": "spanish-example",
        "outputId": "163b9e4f-5856-46e6-a900-2ca7d9ba19a9"
      },
      "outputs": [
        {
          "data": {
            "text/html": [
              "<h3>Language: Spanish</h3>"
            ],
            "text/plain": [
              "<IPython.core.display.HTML object>"
            ]
          },
          "metadata": {},
          "output_type": "display_data"
        },
        {
          "data": {
            "text/html": [
              "\n",
              "            <h4>Prompt:</h4>\n",
              "            <div style='background-color:#e6f2ff; color:#000; padding:10px; border-radius:5px;'>\n",
              "                Describe la influencia de la cultura española en América Latina y cómo ha evolucionado a lo largo de los siglos.\n",
              "            </div>\n",
              "            <h4>Response:</h4>\n",
              "            <div style='background-color:#f9f9f9; color:#000; padding:10px; border-radius:5px; \n",
              "                        max-height:300px; overflow:auto; white-space: pre-wrap;'>\n",
              "                La influencia de la cultura española en América Latina es profunda y multifacética, abarcando aspectos como la lengua, la religión, la arquitectura, la gastronomía, las tradiciones y las costumbres. Esta influencia se remonta al periodo de la colonización, que comenzó en el siglo XVI, cuando los conquistadores españoles llegaron a las tierras americanas.\n",
              "\n",
              "### Lengua\n",
              "El español se convirtió en la lengua predominante en la mayoría de los países latinoamericanos. A lo largo de los siglos, el idioma ha evolucionado, incorporando vocabulario indígena y adaptándose a las particularidades locales. Hoy en día, existen diversas variantes del español en América Latina, cada una con sus propias características fonéticas y léxicas.\n",
              "\n",
              "### Religión\n",
              "La religión católica fue impuesta por los colonizadores y se convirtió en un pilar fundamental de la cultura latinoamericana. Las festividades religiosas, como la Semana Santa y el Día de los Muertos, reflejan una fusión de creencias indígenas y católicas. Con el tiempo, han surgido movimientos sincréticos que combinan elementos de ambas tradiciones.\n",
              "\n",
              "### Arquitectura\n",
              "La arquitectura colonial española dejó una huella significativa en las ciudades latinoamericanas. Iglesias, plazas y edificios gubernamentales construidos en estilos barroco y neoclásico son comunes en muchas ciudades. Con el tiempo, se han incorporado estilos autóctonos y modernos, creando un paisaje arquitectónico diverso.\n",
              "\n",
              "### Gastronomía\n",
              "La cocina latinoamericana es un reflejo de la mezcla de ingredientes y técnicas españolas con productos y tradiciones indígenas. Platos como el mole, las empanadas y el ceviche muestran esta fusión. A medida que las comunidades han evolucionado, también lo ha hecho la gastronomía, incorporando influencias africanas, asiáticas y de otras culturas.\n",
              "\n",
              "### Tradiciones y Costumbres\n",
              "Las tradiciones españolas, como las corridas de toros y las fiestas patronales, han sido adoptadas y adaptadas en diferentes regiones. Sin embargo, también han surgido nuevas costumbres que reflejan la identidad local y la resistencia cultural frente a la colonización.\n",
              "\n",
              "### Evolución a lo Largo de los Siglos\n",
              "A lo largo de los siglos, la influencia española ha sido objeto de reinterpretación y resistencia. Durante el siglo XIX, los movimientos de independencia llevaron a una reevaluación de la herencia colonial, y muchos países comenzaron a buscar su propia identidad cultural. En el siglo XX y XXI, la globalización y la migración han añadido nuevas capas a la cultura latinoamericana, enriqueciendo aún más el legado español.\n",
              "\n",
              "En resumen, la influencia de la cultura española en América Latina ha sido fundamental en la formación de la identidad regional. Aunque ha evolucionado y se ha transformado a lo largo de los siglos, sigue siendo un componente esencial de la rica diversidad cultural de la región.\n",
              "            </div>\n",
              "            <p><b>Time:</b> 7.44 seconds</p>\n",
              "            <hr>\n",
              "        "
            ],
            "text/plain": [
              "<IPython.core.display.HTML object>"
            ]
          },
          "metadata": {},
          "output_type": "display_data"
        }
      ],
      "source": [
        "spanish_prompt = \"Describe la influencia de la cultura española en América Latina y cómo ha evolucionado a lo largo de los siglos.\"\n",
        "# Translation: \"Describe the influence of Spanish culture in Latin America and how it has evolved over the centuries.\"\n",
        "\n",
        "spanish_response, spanish_time = get_sutra_response(spanish_prompt, \"Spanish\")"
      ]
    },
    {
      "cell_type": "markdown",
      "metadata": {
        "id": "code-switching"
      },
      "source": [
        "## Part 3: Code-Switching and Mixed Language Processing\n",
        "\n",
        "One of the unique strengths of Sutra is its ability to handle code-switching and mixed language content, which is common in multilingual societies."
      ]
    },
    {
      "cell_type": "code",
      "execution_count": null,
      "metadata": {
        "colab": {
          "base_uri": "https://localhost:8080/",
          "height": 530
        },
        "id": "code-switching-example",
        "outputId": "fda071d3-41f8-41a1-da55-71898ed91a2e"
      },
      "outputs": [
        {
          "data": {
            "text/html": [
              "<h3>Language: Hindi-English Code-Switching</h3>"
            ],
            "text/plain": [
              "<IPython.core.display.HTML object>"
            ]
          },
          "metadata": {},
          "output_type": "display_data"
        },
        {
          "data": {
            "text/html": [
              "\n",
              "            <h4>Prompt:</h4>\n",
              "            <div style='background-color:#e6f2ff; color:#000; padding:10px; border-radius:5px;'>\n",
              "                मेरे पास एक question है about artificial intelligence और इसके impact on society. Can you explain कैसे AI हमारी daily lives को change कर रही है?\n",
              "            </div>\n",
              "            <h4>Response:</h4>\n",
              "            <div style='background-color:#f9f9f9; color:#000; padding:10px; border-radius:5px; \n",
              "                        max-height:300px; overflow:auto; white-space: pre-wrap;'>\n",
              "                Artificial Intelligence (AI) हमारी दैनिक ज़िंदगी को कई तरीकों से बदल रही है। यहाँ कुछ प्रमुख क्षेत्रों का उल्लेख किया गया है जहाँ AI का प्रभाव स्पष्ट है:\n",
              "\n",
              "1. **स्वास्थ्य सेवा**: AI का उपयोग रोगों की पहचान, उपचार योजनाओं के विकास और मरीजों की देखभाल में किया जा रहा है। उदाहरण के लिए, मशीन लर्निंग एल्गोरिदम का उपयोग मेडिकल इमेजिंग में किया जाता है ताकि कैंसर जैसी बीमारियों का जल्दी और सटीक निदान किया जा सके।\n",
              "\n",
              "2. **शिक्षा**: AI ट्यूटरिंग सिस्टम और व्यक्तिगत अध्ययन योजनाएँ बनाने में मदद कर रहे हैं। ये सिस्टम छात्रों की प्रगति को ट्रैक करते हैं और उनके अनुसार सामग्री को अनुकूलित करते हैं, जिससे सीखने की प्रक्रिया अधिक प्रभावी होती है।\n",
              "\n",
              "3. **परिवहन**: स्वायत्त वाहन और स्मार्ट ट्रैफिक मैनेजमेंट सिस्टम AI तकनीकों का उपयोग कर रहे हैं। ये न केवल यात्रा को सुरक्षित बनाते हैं, बल्कि ट्रैफिक जाम को भी कम करने में मदद करते हैं।\n",
              "\n",
              "4. **व्यापार और वित्त**: AI का उपयोग डेटा एनालिटिक्स, ग्राहक सेवा (जैसे चैटबॉट्स) और धोखाधड़ी की पहचान में किया जा रहा है। इससे कंपनियों को बेहतर निर्णय लेने और ग्राहकों के अनुभव को सुधारने में मदद मिलती है।\n",
              "\n",
              "5. **मनोरंजन**: स्ट्रीमिंग सेवाएँ जैसे Netflix और Spotify AI का उपयोग करके उपयोगकर्ताओं की पसंद के आधार पर सामग्री की सिफारिश करती हैं। यह व्यक्तिगत अनुभव को बढ़ाता है और उपयोगकर्ताओं को उनकी रुचियों के अनुसार सामग्री खोजने में मदद करता है।\n",
              "\n",
              "6. **घरेलू जीवन**: स्मार्ट होम डिवाइस, जैसे कि वॉयस असिस्टेंट (जैसे Alexa या Google Assistant), घर के कामों को आसान बनाते हैं। ये उपकरण दिनचर्या को स्वचालित करने, ऊर्जा की खपत को प्रबंधित करने और सुरक्षा बढ़ाने में मदद करते हैं।\n",
              "\n",
              "7. **रोजगार**: जबकि AI कुछ नौकरियों को स्वचालित कर सकता है, यह नए रोजगार के अवसर भी पैदा कर रहा है। AI के विकास के साथ, नई भूमिकाएँ और कौशल की आवश्यकता बढ़ रही है।\n",
              "\n",
              "इन सभी पहलुओं से स्पष्ट है कि AI न केवल हमारे कार्य करने के तरीके को बदल रहा है, बल्कि यह हमारे जीवन के विभिन्न क्षेत्रों में सुधार और सुविधा भी ला रहा है। हालांकि, इसके साथ ही, यह कुछ चुनौतियाँ भी प्रस्तुत करता है, जैसे कि गोपनीयता, सुरक्षा और रोजगार में बदलाव, जिन्हें संबोधित करना आवश्यक है।\n",
              "            </div>\n",
              "            <p><b>Time:</b> 6.05 seconds</p>\n",
              "            <hr>\n",
              "        "
            ],
            "text/plain": [
              "<IPython.core.display.HTML object>"
            ]
          },
          "metadata": {},
          "output_type": "display_data"
        }
      ],
      "source": [
        "code_switching_prompt = \"मेरे पास एक question है about artificial intelligence और इसके impact on society. Can you explain कैसे AI हमारी daily lives को change कर रही है?\"\n",
        "# This is a mix of Hindi and English, which is common in everyday conversation in India\n",
        "\n",
        "code_switching_response, code_switching_time = get_sutra_response(code_switching_prompt, \"Hindi-English Code-Switching\")"
      ]
    },
    {
      "cell_type": "markdown",
      "metadata": {
        "id": "translation"
      },
      "source": [
        "## Part 4: Translation Capabilities\n",
        "\n",
        "Sutra can also be used for translation between various languages. Let's test its translation capabilities."
      ]
    },
    {
      "cell_type": "code",
      "execution_count": null,
      "metadata": {
        "id": "translation-function"
      },
      "outputs": [],
      "source": [
        "def translate_with_sutra(text, source_language, target_language):\n",
        "    \"\"\"\n",
        "    Translate text from source language to target language using Sutra.\n",
        "\n",
        "    Args:\n",
        "        text (str): Text to translate\n",
        "        source_language (str): Source language name\n",
        "        target_language (str): Target language name\n",
        "\n",
        "    Returns:\n",
        "        str: Translated text\n",
        "    \"\"\"\n",
        "    prompt = f\"Translate the following {source_language} text to {target_language}:\\n\\n{text}\"\n",
        "\n",
        "    display(HTML(f\"<h3>Translation: {source_language} to {target_language}</h3>\"))\n",
        "    result, time_taken = get_sutra_response(prompt)\n",
        "\n",
        "    return result"
      ]
    },
    {
      "cell_type": "code",
      "execution_count": null,
      "metadata": {
        "colab": {
          "base_uri": "https://localhost:8080/",
          "height": 559
        },
        "id": "translation-examples",
        "outputId": "07219e11-5e08-4b95-9863-1f76e5756d16"
      },
      "outputs": [
        {
          "data": {
            "text/html": [
              "<h3>Translation: Hindi to English</h3>"
            ],
            "text/plain": [
              "<IPython.core.display.HTML object>"
            ]
          },
          "metadata": {},
          "output_type": "display_data"
        },
        {
          "data": {
            "text/html": [
              "\n",
              "            <h4>Prompt:</h4>\n",
              "            <div style='background-color:#e6f2ff; color:#000; padding:10px; border-radius:5px;'>\n",
              "                Translate the following Hindi text to English:\n",
              "\n",
              "भारत एक विविधतापूर्ण देश है जहां कई भाषाएं, धर्म और संस्कृतियां एक साथ फलती-फूलती हैं।\n",
              "            </div>\n",
              "            <h4>Response:</h4>\n",
              "            <div style='background-color:#f9f9f9; color:#000; padding:10px; border-radius:5px; \n",
              "                        max-height:300px; overflow:auto; white-space: pre-wrap;'>\n",
              "                India is a diverse country where many languages, religions, and cultures thrive together.\n",
              "            </div>\n",
              "            <p><b>Time:</b> 1.64 seconds</p>\n",
              "            <hr>\n",
              "        "
            ],
            "text/plain": [
              "<IPython.core.display.HTML object>"
            ]
          },
          "metadata": {},
          "output_type": "display_data"
        },
        {
          "data": {
            "text/html": [
              "<h3>Translation: English to Tamil</h3>"
            ],
            "text/plain": [
              "<IPython.core.display.HTML object>"
            ]
          },
          "metadata": {},
          "output_type": "display_data"
        },
        {
          "data": {
            "text/html": [
              "\n",
              "            <h4>Prompt:</h4>\n",
              "            <div style='background-color:#e6f2ff; color:#000; padding:10px; border-radius:5px;'>\n",
              "                Translate the following English text to Tamil:\n",
              "\n",
              "Artificial intelligence is transforming the way we live and work, bringing both opportunities and challenges.\n",
              "            </div>\n",
              "            <h4>Response:</h4>\n",
              "            <div style='background-color:#f9f9f9; color:#000; padding:10px; border-radius:5px; \n",
              "                        max-height:300px; overflow:auto; white-space: pre-wrap;'>\n",
              "                கிரகண அறிவியல் எங்கள் வாழ்வும் வேலை செய்வதற்கான முறையையும் மாற்றுகிறது, இது வாய்ப்புகளையும் சவால்களையும் கொண்டுவருகிறது.\n",
              "            </div>\n",
              "            <p><b>Time:</b> 1.47 seconds</p>\n",
              "            <hr>\n",
              "        "
            ],
            "text/plain": [
              "<IPython.core.display.HTML object>"
            ]
          },
          "metadata": {},
          "output_type": "display_data"
        },
        {
          "data": {
            "application/vnd.google.colaboratory.intrinsic+json": {
              "type": "string"
            },
            "text/plain": [
              "'கிரகண அறிவியல் எங்கள் வாழ்வும் வேலை செய்வதற்கான முறையையும் மாற்றுகிறது, இது வாய்ப்புகளையும் சவால்களையும் கொண்டுவருகிறது.'"
            ]
          },
          "execution_count": 20,
          "metadata": {},
          "output_type": "execute_result"
        }
      ],
      "source": [
        "# Example 1: Hindi to English\n",
        "hindi_text = \"भारत एक विविधतापूर्ण देश है जहां कई भाषाएं, धर्म और संस्कृतियां एक साथ फलती-फूलती हैं।\"\n",
        "translate_with_sutra(hindi_text, \"Hindi\", \"English\")\n",
        "\n",
        "# Example 2: English to Tamil\n",
        "english_text = \"Artificial intelligence is transforming the way we live and work, bringing both opportunities and challenges.\"\n",
        "translate_with_sutra(english_text, \"English\", \"Tamil\")"
      ]
    },
    {
      "cell_type": "markdown",
      "metadata": {
        "id": "sentiment-analysis"
      },
      "source": [
        "## Part 5: Sentiment Analysis in Multiple Languages\n",
        "\n",
        "Sutra can perform sentiment analysis across different languages, which is valuable for global businesses and multilingual applications."
      ]
    },
    {
      "cell_type": "code",
      "execution_count": null,
      "metadata": {
        "id": "sentiment-function"
      },
      "outputs": [],
      "source": [
        "def analyze_sentiment(text, language):\n",
        "    \"\"\"\n",
        "    Analyze the sentiment of text in a specific language.\n",
        "\n",
        "    Args:\n",
        "        text (str): Text to analyze\n",
        "        language (str): Language of the text\n",
        "\n",
        "    Returns:\n",
        "        str: Sentiment analysis result\n",
        "    \"\"\"\n",
        "    prompt = f\"Analyze the sentiment of the following {language} text. Classify it as positive, negative, or neutral, and explain your reasoning:\\n\\n{text}\"\n",
        "\n",
        "    display(HTML(f\"<h3>Sentiment Analysis in {language}</h3>\"))\n",
        "    result, time_taken = get_sutra_response(prompt)\n",
        "\n",
        "    return result"
      ]
    },
    {
      "cell_type": "code",
      "execution_count": null,
      "metadata": {
        "colab": {
          "base_uri": "https://localhost:8080/",
          "height": 821
        },
        "id": "sentiment-examples",
        "outputId": "4c3ce227-5cd4-4452-879a-de7cd36774c5"
      },
      "outputs": [
        {
          "data": {
            "text/html": [
              "<h3>Sentiment Analysis in Hindi</h3>"
            ],
            "text/plain": [
              "<IPython.core.display.HTML object>"
            ]
          },
          "metadata": {},
          "output_type": "display_data"
        },
        {
          "data": {
            "text/html": [
              "\n",
              "            <h4>Prompt:</h4>\n",
              "            <div style='background-color:#e6f2ff; color:#000; padding:10px; border-radius:5px;'>\n",
              "                Analyze the sentiment of the following Hindi text. Classify it as positive, negative, or neutral, and explain your reasoning:\n",
              "\n",
              "यह फिल्म बहुत अच्छी थी, अभिनेताओं ने शानदार प्रदर्शन किया और कहानी भी रोचक थी।\n",
              "            </div>\n",
              "            <h4>Response:</h4>\n",
              "            <div style='background-color:#f9f9f9; color:#000; padding:10px; border-radius:5px; \n",
              "                        max-height:300px; overflow:auto; white-space: pre-wrap;'>\n",
              "                The sentiment of the provided Hindi text is classified as positive. \n",
              "\n",
              "Reasoning:\n",
              "1. The phrase \"यह फिल्म बहुत अच्छी थी\" translates to \"This film was very good,\" which expresses a favorable opinion about the film.\n",
              "2. The mention of \"अभिनेताओं ने शानदार प्रदर्शन किया\" means \"the actors gave a wonderful performance,\" indicating appreciation for the actors' work.\n",
              "3. The statement \"कहानी भी रोचक थी\" translates to \"the story was also interesting,\" further emphasizing a positive view of the film's narrative.\n",
              "\n",
              "Overall, the text conveys enthusiasm and satisfaction regarding the film, its actors, and the storyline, leading to a clear positive sentiment.\n",
              "            </div>\n",
              "            <p><b>Time:</b> 2.80 seconds</p>\n",
              "            <hr>\n",
              "        "
            ],
            "text/plain": [
              "<IPython.core.display.HTML object>"
            ]
          },
          "metadata": {},
          "output_type": "display_data"
        },
        {
          "data": {
            "text/html": [
              "<h3>Sentiment Analysis in Tamil</h3>"
            ],
            "text/plain": [
              "<IPython.core.display.HTML object>"
            ]
          },
          "metadata": {},
          "output_type": "display_data"
        },
        {
          "data": {
            "text/html": [
              "\n",
              "            <h4>Prompt:</h4>\n",
              "            <div style='background-color:#e6f2ff; color:#000; padding:10px; border-radius:5px;'>\n",
              "                Analyze the sentiment of the following Tamil text. Classify it as positive, negative, or neutral, and explain your reasoning:\n",
              "\n",
              "இந்த உணவகத்தில் சேவை மிகவும் மோசமாக இருந்தது, உணவும் சுவையற்றதாக இருந்தது.\n",
              "            </div>\n",
              "            <h4>Response:</h4>\n",
              "            <div style='background-color:#f9f9f9; color:#000; padding:10px; border-radius:5px; \n",
              "                        max-height:300px; overflow:auto; white-space: pre-wrap;'>\n",
              "                The sentiment of the provided Tamil text is classified as negative. \n",
              "\n",
              "Reasoning:\n",
              "- The phrase \"சேவை மிகவும் மோசமாக இருந்தது\" translates to \"the service was very bad,\" indicating dissatisfaction with the service.\n",
              "- Additionally, \"உணவும் சுவையற்றதாக இருந்தது\" means \"the food was tasteless,\" which further emphasizes a negative experience regarding the quality of the food.\n",
              "- Both statements express disappointment and dissatisfaction, leading to an overall negative sentiment.\n",
              "            </div>\n",
              "            <p><b>Time:</b> 5.48 seconds</p>\n",
              "            <hr>\n",
              "        "
            ],
            "text/plain": [
              "<IPython.core.display.HTML object>"
            ]
          },
          "metadata": {},
          "output_type": "display_data"
        },
        {
          "data": {
            "application/vnd.google.colaboratory.intrinsic+json": {
              "type": "string"
            },
            "text/plain": [
              "'The sentiment of the provided Tamil text is classified as negative. \\n\\nReasoning:\\n- The phrase \"சேவை மிகவும் மோசமாக இருந்தது\" translates to \"the service was very bad,\" indicating dissatisfaction with the service.\\n- Additionally, \"உணவும் சுவையற்றதாக இருந்தது\" means \"the food was tasteless,\" which further emphasizes a negative experience regarding the quality of the food.\\n- Both statements express disappointment and dissatisfaction, leading to an overall negative sentiment.'"
            ]
          },
          "execution_count": 22,
          "metadata": {},
          "output_type": "execute_result"
        }
      ],
      "source": [
        "# Example 1: Hindi sentiment analysis\n",
        "hindi_sentiment_text = \"यह फिल्म बहुत अच्छी थी, अभिनेताओं ने शानदार प्रदर्शन किया और कहानी भी रोचक थी।\"\n",
        "analyze_sentiment(hindi_sentiment_text, \"Hindi\")\n",
        "\n",
        "# Example 2: Tamil sentiment analysis\n",
        "tamil_sentiment_text = \"இந்த உணவகத்தில் சேவை மிகவும் மோசமாக இருந்தது, உணவும் சுவையற்றதாக இருந்தது.\"\n",
        "analyze_sentiment(tamil_sentiment_text, \"Tamil\")"
      ]
    },
    {
      "cell_type": "markdown",
      "metadata": {
        "id": "creative-writing"
      },
      "source": [
        "## Part 6: Creative Writing in Different Languages\n",
        "\n",
        "Sutra can generate creative content in multiple languages, making it useful for content creation in diverse linguistic contexts."
      ]
    },
    {
      "cell_type": "code",
      "execution_count": null,
      "metadata": {
        "id": "creative-function"
      },
      "outputs": [],
      "source": [
        "def creative_writing(prompt, language):\n",
        "    \"\"\"\n",
        "    Generate creative content in a specific language.\n",
        "\n",
        "    Args:\n",
        "        prompt (str): Creative writing prompt\n",
        "        language (str): Target language\n",
        "\n",
        "    Returns:\n",
        "        str: Generated creative content\n",
        "    \"\"\"\n",
        "    full_prompt = f\"Write in {language}: {prompt}\"\n",
        "\n",
        "    display(HTML(f\"<h3>Creative Writing in {language}</h3>\"))\n",
        "    result, time_taken = get_sutra_response(full_prompt, temperature=0.7)  # Higher temperature for creativity\n",
        "\n",
        "    return result"
      ]
    },
    {
      "cell_type": "code",
      "execution_count": null,
      "metadata": {
        "colab": {
          "base_uri": "https://localhost:8080/",
          "height": 961
        },
        "id": "creative-examples",
        "outputId": "b7c9a044-a16d-42d3-cda9-cea29989d351"
      },
      "outputs": [
        {
          "data": {
            "text/html": [
              "<h3>Creative Writing in Hindi</h3>"
            ],
            "text/plain": [
              "<IPython.core.display.HTML object>"
            ]
          },
          "metadata": {},
          "output_type": "display_data"
        },
        {
          "data": {
            "text/html": [
              "\n",
              "            <h4>Prompt:</h4>\n",
              "            <div style='background-color:#e6f2ff; color:#000; padding:10px; border-radius:5px;'>\n",
              "                Write in Hindi: Write a short poem about nature and its beauty\n",
              "            </div>\n",
              "            <h4>Response:</h4>\n",
              "            <div style='background-color:#f9f9f9; color:#000; padding:10px; border-radius:5px; \n",
              "                        max-height:300px; overflow:auto; white-space: pre-wrap;'>\n",
              "                प्रकृति की गोद में बसी, सुन्दरता की छवि है,  \n",
              "पेड़ों की छांव में ठंडी, बहारों की चादर बिछी है।  \n",
              "नदियों की सरसराहट में, संगीत का जादू भरा,  \n",
              "फूलों की महक से महके, हर एक आँगन सजा।  \n",
              "\n",
              "चाँद की चाँदनी रात में, तारे जैसे चमकते,  \n",
              "पहाड़ों की ऊँचाइयों से, बादल भी खेलते।  \n",
              "सूरज की किरणों में बसी, जीवन की नयी कहानी,  \n",
              "प्रकृति की इस अद्भुत लीला में, सब कुछ है सुहाना।\n",
              "            </div>\n",
              "            <p><b>Time:</b> 2.47 seconds</p>\n",
              "            <hr>\n",
              "        "
            ],
            "text/plain": [
              "<IPython.core.display.HTML object>"
            ]
          },
          "metadata": {},
          "output_type": "display_data"
        },
        {
          "data": {
            "text/html": [
              "<h3>Creative Writing in Bengali</h3>"
            ],
            "text/plain": [
              "<IPython.core.display.HTML object>"
            ]
          },
          "metadata": {},
          "output_type": "display_data"
        },
        {
          "data": {
            "text/html": [
              "\n",
              "            <h4>Prompt:</h4>\n",
              "            <div style='background-color:#e6f2ff; color:#000; padding:10px; border-radius:5px;'>\n",
              "                Write in Bengali: Write a brief story about a child who discovers a magical book\n",
              "            </div>\n",
              "            <h4>Response:</h4>\n",
              "            <div style='background-color:#f9f9f9; color:#000; padding:10px; border-radius:5px; \n",
              "                        max-height:300px; overflow:auto; white-space: pre-wrap;'>\n",
              "                একটি ছোট গ্রামের বাসিন্দা ছিল একটি কিশোরী মেয়ে নাম সারা। সারা খুবই কৌতূহলী এবং বইপোকা ছিল। একদিন, সে তার দাদির পুরনো ঘরে খুঁজতে গিয়েছিল। সেখানে অনেক পুরনো জিনিসের মধ্যে একটি ধুলোমাখা বই তার নজর কাড়ল।\n",
              "\n",
              "সারা বইটি খুলতেই দেখতে পেল অদ্ভুত ছবি ও লেখা। বইয়ের প্রথম পৃষ্ঠায় লেখা ছিল, \"এই বইয়ের মাধ্যমে তুমি অন্য জগতে প্রবেশ করতে পারবে।\" সারা অবাক হয়ে গেল। বইটি পড়তে শুরু করতেই হঠাৎ চারপাশে আলো ঝলমল করতে লাগল এবং সে একটি আশ্চর্যজনক জগতে প্রবেশ করল।\n",
              "\n",
              "এখানে ফ্যান্টাসি প্রাণী, রঙ-বেরঙের গাছ, এবং কথা বলা পাখিরা ছিল। সারা বুঝতে পারল যে এই বইয়ের মাধ্যমে সে যেকোনো কিছু করতে পারে। সে বিভিন্ন অ্যাডভেঞ্চারে গেল, নতুন বন্ধু তৈরি করল, এবং শিখল কিভাবে সাহসী হতে হয়।\n",
              "\n",
              "কিছুক্ষণ পর, সারা বুঝল যে তাকে ফিরে যেতে হবে। সে বইটির শেষ পৃষ্ঠা পড়ে এবং ফিরে আসল তার বাস্তব জগতে। তবে সারা জানতো, বইটি সবসময় তার কাছে থাকবে, যখনই সে নতুন কিছু জানতে চাবে বা নতুন অ্যাডভেঞ্চারের জন্য প্রস্তুত হবে। \n",
              "\n",
              "সারা সেই দিন থেকে আরও বেশি বই পড়া শুরু করল, কারণ সে জানত বইগুলোর মধ্যে অসীম জ্ঞান এবং ম্যাজিক লুকানো আছে।\n",
              "            </div>\n",
              "            <p><b>Time:</b> 19.20 seconds</p>\n",
              "            <hr>\n",
              "        "
            ],
            "text/plain": [
              "<IPython.core.display.HTML object>"
            ]
          },
          "metadata": {},
          "output_type": "display_data"
        },
        {
          "data": {
            "application/vnd.google.colaboratory.intrinsic+json": {
              "type": "string"
            },
            "text/plain": [
              "'একটি ছোট গ্রামের বাসিন্দা ছিল একটি কিশোরী মেয়ে নাম সারা। সারা খুবই কৌতূহলী এবং বইপোকা ছিল। একদিন, সে তার দাদির পুরনো ঘরে খুঁজতে গিয়েছিল। সেখানে অনেক পুরনো জিনিসের মধ্যে একটি ধুলোমাখা বই তার নজর কাড়ল।\\n\\nসারা বইটি খুলতেই দেখতে পেল অদ্ভুত ছবি ও লেখা। বইয়ের প্রথম পৃষ্ঠায় লেখা ছিল, \"এই বইয়ের মাধ্যমে তুমি অন্য জগতে প্রবেশ করতে পারবে।\" সারা অবাক হয়ে গেল। বইটি পড়তে শুরু করতেই হঠাৎ চারপাশে আলো ঝলমল করতে লাগল এবং সে একটি আশ্চর্যজনক জগতে প্রবেশ করল।\\n\\nএখানে ফ্যান্টাসি প্রাণী, রঙ-বেরঙের গাছ, এবং কথা বলা পাখিরা ছিল। সারা বুঝতে পারল যে এই বইয়ের মাধ্যমে সে যেকোনো কিছু করতে পারে। সে বিভিন্ন অ্যাডভেঞ্চারে গেল, নতুন বন্ধু তৈরি করল, এবং শিখল কিভাবে সাহসী হতে হয়।\\n\\nকিছুক্ষণ পর, সারা বুঝল যে তাকে ফিরে যেতে হবে। সে বইটির শেষ পৃষ্ঠা পড়ে এবং ফিরে আসল তার বাস্তব জগতে। তবে সারা জানতো, বইটি সবসময় তার কাছে থাকবে, যখনই সে নতুন কিছু জানতে চাবে বা নতুন অ্যাডভেঞ্চারের জন্য প্রস্তুত হবে। \\n\\nসারা সেই দিন থেকে আরও বেশি বই পড়া শুরু করল, কারণ সে জানত বইগুলোর মধ্যে অসীম জ্ঞান এবং ম্যাজিক লুকানো আছে।'"
            ]
          },
          "execution_count": 24,
          "metadata": {},
          "output_type": "execute_result"
        }
      ],
      "source": [
        "# Example 1: Hindi poetry\n",
        "creative_writing(\"Write a short poem about nature and its beauty\", \"Hindi\")\n",
        "\n",
        "# Example 2: Bengali story\n",
        "creative_writing(\"Write a brief story about a child who discovers a magical book\", \"Bengali\")"
      ]
    },
    {
      "cell_type": "markdown",
      "metadata": {
        "id": "best-practices"
      },
      "source": [
        "## Best Practices for Using Sutra with Regional Languages\n",
        "\n",
        "Here are some best practices for getting the most out of Sutra when working with regional languages:\n",
        "\n",
        "1. **Provide clear context**: When working with less common languages, providing clear context helps Sutra generate more accurate responses.\n",
        "\n",
        "2. **Use native scripts**: Sutra performs best when using the native script of a language rather than transliteration.\n",
        "\n",
        "3. **Consider dialectal variations**: Many languages have regional dialects. Be specific about which dialect you're using if relevant.\n",
        "\n",
        "4. **Leverage code-switching capabilities**: For multilingual applications, you can use Sutra's ability to handle code-switching between languages.\n",
        "\n",
        "5. **Test with native speakers**: For critical applications, have native speakers verify the quality of Sutra's outputs."
      ]
    },
    {
      "cell_type": "markdown",
      "metadata": {
        "id": "conclusion"
      },
      "source": [
        "## Conclusion\n",
        "\n",
        "This notebook has demonstrated Sutra's impressive capabilities across a wide range of Indian and international languages. Key takeaways include:\n",
        "\n",
        "1. **Broad language support**: Sutra effectively handles over 50 languages, with particular strengths in Indian languages.\n",
        "\n",
        "2. **Consistent performance**: Sutra maintains high quality across different language families and scripts.\n",
        "\n",
        "3. **Versatile applications**: From translation to sentiment analysis to creative writing, Sutra can perform diverse tasks in multiple languages.\n",
        "\n",
        "4. **Code-switching capabilities**: Sutra can handle mixed language content, which is particularly valuable in multilingual societies.\n",
        "\n",
        "These capabilities make Sutra an excellent choice for applications requiring robust multilingual support, especially those targeting diverse linguistic regions like India and other multilingual markets."
      ]
    }
  ],
  "metadata": {
    "colab": {
      "provenance": []
    },
    "kernelspec": {
      "display_name": "Python 3",
      "name": "python3"
    },
    "language_info": {
      "name": "python"
    }
  },
  "nbformat": 4,
  "nbformat_minor": 0
}
