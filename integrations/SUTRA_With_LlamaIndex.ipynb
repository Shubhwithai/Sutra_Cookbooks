{
  "cells": [
    {
      "cell_type": "markdown",
      "metadata": {
        "id": "_zIiYGJZZOsH"
      },
      "source": [
        "<div style=\"display: flex; align-items: center; gap: 40px;\">\n",
        "\n",
        "<img src=\"https://play-lh.googleusercontent.com/_O9p4Z4yucA2NLmZBu9mTJCuBwXeT9NcbtrDN6I8gKlkIPRySV0adOmbyipjSj9Gew\" width=\"130\"><img src=\"https://encrypted-tbn0.gstatic.com/images?q=tbn:ANd9GcQmC5gqclRICsDUVYV9uQXVaIfH3gCapSdjEQ&s\" width=\"130\">\n",
        "\n",
        "\n",
        "\n",
        "\n",
        "<div>\n",
        "  <h2>SUTRA by TWO Platforms </h2>\n",
        "  <p>SUTRA is a family of large multi-lingual language (LMLMs) models pioneered by Two Platforms. SUTRA’s dual-transformer approach extends the power of both MoE and Dense AI language model architectures, delivering cost-efficient multilingual capabilities for over 50+ languages. It powers scalable AI applications for conversation, search, and advanced reasoning, ensuring high-performance across diverse languages, domains and applications.</p>\n",
        "\n",
        "  <h2>LlamaIndex 🦙</h2>\n",
        "  <p>LlamaIndex is the leading framework for building LLM-powered agents over your data with LLMs and workflows.</p>\n",
        "</div>\n",
        "</div>\n"
      ]
    },
    {
      "cell_type": "markdown",
      "metadata": {},
      "source": [
        "[![Open In Colab](https://colab.research.google.com/assets/colab-badge.svg)](https://colab.research.google.com/drive/1IzEMvNDPmPa8OWYLUn2Y_7XA-xq1UUKX?usp=sharing#scrollTo=468wYMncagrN)"
      ]
    },
    {
      "cell_type": "markdown",
      "metadata": {},
      "source": [
        "## Get Your API Keys\n",
        "\n",
        "Before you begin, make sure you have:\n",
        "\n",
        "1. A SUTRA API key (Get yours at [TWO AI's SUTRA API page](https://www.two.ai/sutra/api))\n",
        "2. Basic familiarity with Python and Jupyter notebooks\n",
        "\n",
        "This notebook is designed to run in Google Colab, so no local Python installation is required."
      ]
    },
    {
      "cell_type": "markdown",
      "metadata": {
        "id": "468wYMncagrN"
      },
      "source": [
        "###Sutra using LlamaIndex 🦙"
      ]
    },
    {
      "cell_type": "markdown",
      "metadata": {
        "id": "YMn1dXjgamFU"
      },
      "source": [
        "###Install Requirements"
      ]
    },
    {
      "cell_type": "code",
      "execution_count": null,
      "metadata": {
        "colab": {
          "base_uri": "https://localhost:8080/"
        },
        "id": "R_62EQccD-Fx",
        "outputId": "309d91fe-abab-47c2-aa96-b36f3fc13462"
      },
      "outputs": [
        {
          "name": "stdout",
          "output_type": "stream",
          "text": [
            "\u001b[2K   \u001b[90m━━━━━━━━━━━━━━━━━━━━━━━━━━━━━━━━━━━━━━━━\u001b[0m \u001b[32m31.3/31.3 MB\u001b[0m \u001b[31m17.0 MB/s\u001b[0m eta \u001b[36m0:00:00\u001b[0m\n",
            "\u001b[2K   \u001b[90m━━━━━━━━━━━━━━━━━━━━━━━━━━━━━━━━━━━━━━━━\u001b[0m \u001b[32m139.8/139.8 kB\u001b[0m \u001b[31m8.2 MB/s\u001b[0m eta \u001b[36m0:00:00\u001b[0m\n",
            "\u001b[2K   \u001b[90m━━━━━━━━━━━━━━━━━━━━━━━━━━━━━━━━━━━━━━━━\u001b[0m \u001b[32m7.7/7.7 MB\u001b[0m \u001b[31m71.8 MB/s\u001b[0m eta \u001b[36m0:00:00\u001b[0m\n",
            "\u001b[2K   \u001b[90m━━━━━━━━━━━━━━━━━━━━━━━━━━━━━━━━━━━━━━━━\u001b[0m \u001b[32m40.8/40.8 kB\u001b[0m \u001b[31m2.3 MB/s\u001b[0m eta \u001b[36m0:00:00\u001b[0m\n",
            "\u001b[2K   \u001b[90m━━━━━━━━━━━━━━━━━━━━━━━━━━━━━━━━━━━━━━━━\u001b[0m \u001b[32m2.2/2.2 MB\u001b[0m \u001b[31m55.8 MB/s\u001b[0m eta \u001b[36m0:00:00\u001b[0m\n",
            "\u001b[2K   \u001b[90m━━━━━━━━━━━━━━━━━━━━━━━━━━━━━━━━━━━━━━━━\u001b[0m \u001b[32m1.6/1.6 MB\u001b[0m \u001b[31m6.1 MB/s\u001b[0m eta \u001b[36m0:00:00\u001b[0m\n",
            "\u001b[2K   \u001b[90m━━━━━━━━━━━━━━━━━━━━━━━━━━━━━━━━━━━━━━━━\u001b[0m \u001b[32m263.6/263.6 kB\u001b[0m \u001b[31m16.1 MB/s\u001b[0m eta \u001b[36m0:00:00\u001b[0m\n",
            "\u001b[2K   \u001b[90m━━━━━━━━━━━━━━━━━━━━━━━━━━━━━━━━━━━━━━━━\u001b[0m \u001b[32m302.3/302.3 kB\u001b[0m \u001b[31m11.7 MB/s\u001b[0m eta \u001b[36m0:00:00\u001b[0m\n",
            "\u001b[2K   \u001b[90m━━━━━━━━━━━━━━━━━━━━━━━━━━━━━━━━━━━━━━━━\u001b[0m \u001b[32m1.2/1.2 MB\u001b[0m \u001b[31m33.2 MB/s\u001b[0m eta \u001b[36m0:00:00\u001b[0m\n",
            "\u001b[2K   \u001b[90m━━━━━━━━━━━━━━━━━━━━━━━━━━━━━━━━━━━━━━━━\u001b[0m \u001b[32m50.9/50.9 kB\u001b[0m \u001b[31m3.1 MB/s\u001b[0m eta \u001b[36m0:00:00\u001b[0m\n",
            "\u001b[2K   \u001b[90m━━━━━━━━━━━━━━━━━━━━━━━━━━━━━━━━━━━━━━━━\u001b[0m \u001b[32m129.3/129.3 kB\u001b[0m \u001b[31m8.5 MB/s\u001b[0m eta \u001b[36m0:00:00\u001b[0m\n",
            "\u001b[?25h"
          ]
        }
      ],
      "source": [
        "!pip install -qU llama-index llama-index-llms-openai-like llama-index-vector-stores-faiss faiss-cpu ipywidgets"
      ]
    },
    {
      "cell_type": "markdown",
      "metadata": {
        "id": "G8Gq3jNOap6J"
      },
      "source": [
        "###Setup API Keys"
      ]
    },
    {
      "cell_type": "code",
      "execution_count": null,
      "metadata": {
        "id": "He-gNIfuE_bw"
      },
      "outputs": [],
      "source": [
        "import os\n",
        "from google.colab import userdata\n",
        "\n",
        "# Set the API key from Colab secrets\n",
        "os.environ[\"SUTRA_API_KEY\"] = userdata.get(\"SUTRA_API_KEY\")\n",
        "os.environ[\"OPENAI_API_KEY\"] = userdata.get(\"OPENAI_API_KEY\")"
      ]
    },
    {
      "cell_type": "markdown",
      "metadata": {
        "id": "1c33niB0avy1"
      },
      "source": [
        "###Initialize Sutra Model via LlamaIndex 🦙:"
      ]
    },
    {
      "cell_type": "code",
      "execution_count": null,
      "metadata": {
        "colab": {
          "base_uri": "https://localhost:8080/"
        },
        "id": "IK3ffJhpREuA",
        "outputId": "cc4df1ac-d228-4ba0-8805-d53e00340d88"
      },
      "outputs": [
        {
          "name": "stdout",
          "output_type": "stream",
          "text": [
            "मैं ठीक हूँ, धन्यवाद! आप कैसे हैं?\n"
          ]
        }
      ],
      "source": [
        "from llama_index.llms.openai_like import OpenAILike\n",
        "\n",
        "# Initialize Sutra LLM with necessary parameters\n",
        "llm = OpenAILike(\n",
        "    model=\"sutra-v2\",                    # Sutra model name\n",
        "    api_base=\"https://api.two.ai/v2\",    # Sutra API base URL\n",
        "    api_key=os.getenv(\"SUTRA_API_KEY\"),  # Sutra API key\n",
        "    is_chat_model=True,                  # Mandatory: Set to True for chat-based models\n",
        ")\n",
        "\n",
        "# Send request and print response\n",
        "response = llm.complete(\"कैसे हो?\")       # Sending a message to the model in Hindi (\"How are you?\")\n",
        "print(str(response))"
      ]
    },
    {
      "cell_type": "markdown",
      "metadata": {
        "id": "ynnSF9pka4uh"
      },
      "source": [
        "###Multilingual capabilities using LlamaIndex 🦙"
      ]
    },
    {
      "cell_type": "code",
      "execution_count": null,
      "metadata": {
        "colab": {
          "base_uri": "https://localhost:8080/"
        },
        "id": "lNO6tVCvSXfh",
        "outputId": "ce4cce5e-9567-426c-d492-7ddf9536634f"
      },
      "outputs": [
        {
          "name": "stdout",
          "output_type": "stream",
          "text": [
            "\n",
            "Prompt: తెలుగులో ఒక కథ చెప్పు?\n",
            "Response: ఒక గ్రామంలో ఒక చిన్న పిల్లవాడు ఉండేవాడు. అతని పేరు రామ్. రామ్ చాలా చురుకుగా ఉండేవాడు, కానీ అతనికి చదువులో ఆసక్తి లేదు. అతను ఎప్పుడూ ఆటలలోనే మునిగిపోయేవాడు. \n",
            "\n",
            "ఒక రోజు, రామ్ తన స్నేహితులతో కలిసి అడవిలోకి వెళ్లాడు. అక్కడ వారు ఒక పాత చెట్టు కింద కూర్చొని ఆటలు ఆడుతున్నారు. ఆ సమయంలో, రామ్ ఆ చెట్టుకు దగ్గరగా వెళ్లి, దాని కొమ్మలను చూసాడు. అప్పుడు అతనికి ఆ చెట్టు గురించి తెలుసుకోవాలనిపించింది. \n",
            "\n",
            "అతను అడవిలో ఉన్న పెద్దవారిని అడిగాడు, \"ఈ చెట్టు ఎంత పాతది?\" పెద్దవాడు సమాధానం ఇచ్చాడు, \"ఈ చెట్టు వంద సంవత్సరాల పాతది. ఇది ఎన్నో కథలు చెప్పగలదు.\" \n",
            "\n",
            "రామ్ ఆ చెట్టుకు దగ్గరగా వెళ్లి, \"నేను నీ కథలు వినాలనుకుంటున్నాను\" అని చెప్పాడు. అప్పుడు చెట్టు ఒక మాయాజాలంలోకి మారింది. చెట్టు మాట్లాడటం ప్రారంభించింది. \"నేను ఎన్నో కాలాల నుండి ఇక్కడ ఉన్నాను. నేను చూసిన అనేక సంఘటనలు, ప్రేమ, యుద్ధాలు, ఆనందం మరియు దుఃఖం అన్నీ నాకు గుర్తున్నాయి.\"\n",
            "\n",
            "రామ్ చెట్టుతో మాట్లాడి, అందులోని జ్ఞానాన్ని తెలుసుకోవాలని నిర్ణయించుకున్నాడు. రోజులు గడిచాయి, రామ్ ప్రతిరోజూ చెట్టుకు వచ్చి కొత్త విషయాలు తెలుసుకునే ప్రయత్నం చేశాడు. \n",
            "\n",
            "చెట్టు రామ్‌కు చదువు, జీవితం, మరియు స్నేహం గురించి ఎన్నో పాఠాలు నేర్పించింది. చివరకు, రామ్ చదువులో ఆసక్తి పెంచుకుని, మంచి విద్యార్థిగా మారాడు. \n",
            "\n",
            "ఈ విధంగా, చెట్టు ద్వారా రామ్ తన జీవితాన్ని మార్చుకున్నాడు. అతను గ్రహించాడు, జ్ఞానం పొందడం ఎంత ముఖ్యమో. \n",
            "\n",
            "ఈ కథ మనకు తెలియజేస్తుంది, జ్ఞానం ఎక్కడి నుంచైనా రావచ్చు, కాబట్టి మనం ఎప్పుడూ నేర్చుకోవడానికి సిద్ధంగా ఉండాలి.\n",
            "\n",
            "\n",
            "Prompt: Une histoire en français, s'il vous plaît.\n",
            "Response: Il était une fois, dans un petit village niché au cœur des montagnes, une jeune fille nommée Élodie. Élodie avait un rêve : explorer le monde au-delà des sommets qui entouraient son village. Chaque jour, elle s'asseyait près de la fenêtre de sa chambre, regardant les nuages flotter et imaginant les aventures qui l'attendaient.\n",
            "\n",
            "Un matin, alors qu'elle se promenait dans la forêt voisine, Élodie découvrit un vieux livre en cuir caché sous un tas de feuilles. Curieuse, elle l'ouvrit et trouva des histoires de contrées lointaines, de créatures fantastiques et de trésors cachés. En lisant ces récits, son désir d'aventure grandit encore plus.\n",
            "\n",
            "Décidée à réaliser son rêve, Élodie commença à préparer son voyage. Elle rassembla quelques provisions, une carte ancienne qu'elle avait trouvée dans le grenier de sa grand-mère, et un petit médaillon que sa mère lui avait offert pour la protéger. Le lendemain, elle se leva avant l'aube et, avec un cœur plein d'espoir, elle quitta son village.\n",
            "\n",
            "Au cours de son périple, Élodie rencontra des personnages fascinants : un sage ermite qui lui enseigna la patience, une troupe de musiciens itinérants qui lui apprirent la joie de vivre, et un jeune garçon nommé Lucas, qui devint son fidèle compagnon. Ensemble, ils affrontèrent des tempêtes, traversèrent des rivières tumultueuses et escaladèrent des montagnes escarpées.\n",
            "\n",
            "Un jour, alors qu'ils exploraient une grotte mystérieuse, ils découvrirent un trésor caché : des pierres précieuses scintillantes et des artefacts anciens. Mais au lieu de garder ce trésor pour eux, Élodie et Lucas décidèrent de le ramener au village pour partager leur découverte avec tous. Ils savaient que la véritable richesse résidait dans les liens qu'ils avaient tissés et les expériences vécues ensemble.\n",
            "\n",
            "De retour chez elle, Élodie fut accueillie en héroïne. Elle raconta ses aventures, inspirant les autres villageois à poursuivre leurs propres rêves. Grâce à son courage et à sa détermination, le village devint un lieu où chacun osait rêver et explorer.\n",
            "\n",
            "Et ainsi, Élodie comprit que le voyage était tout aussi important que la destination. Elle continua à explorer le monde, mais toujours avec le souvenir de son village et des amis qu'elle avait rencontrés en chemin.\n",
            "\n",
            "\n",
            "Prompt: Por favor, cuéntame una historia en español.\n",
            "Response: Había una vez en un pequeño pueblo llamado Valle Verde, un joven llamado Lucas que soñaba con ser aventurero. Desde niño, pasaba horas leyendo libros sobre exploradores y tierras lejanas. Sin embargo, su vida en el pueblo era tranquila y monótona, rodeado de montañas y ríos que nunca había explorado.\n",
            "\n",
            "Un día, mientras caminaba por el bosque cercano, Lucas encontró un viejo mapa escondido entre las raíces de un árbol. El mapa mostraba un camino hacia una cueva misteriosa en la montaña más alta del valle. Intrigado, decidió que era el momento de vivir la aventura que siempre había deseado.\n",
            "\n",
            "Al amanecer del día siguiente, Lucas se preparó con provisiones y comenzó su viaje. A medida que ascendía por la montaña, se encontró con diversos desafíos: ríos caudalosos que cruzar, rocas resbaladizas y animales salvajes. Pero cada obstáculo lo hacía más fuerte y decidido.\n",
            "\n",
            "Finalmente, después de días de arduo esfuerzo, llegó a la entrada de la cueva. Con el corazón latiendo con fuerza, encendió una antorcha y entró. Dentro, descubrió pinturas rupestres que contaban historias de antiguos habitantes del valle y un cofre lleno de tesoros olvidados: joyas, monedas de oro y objetos mágicos.\n",
            "\n",
            "Lucas comprendió que su aventura no solo le había traído riquezas materiales, sino también un profundo conocimiento sobre su historia y cultura. Decidió regresar al pueblo y compartir sus hallazgos con todos. Se convirtió en un héroe local, inspirando a otros a explorar y valorar su entorno.\n",
            "\n",
            "Desde entonces, Valle Verde se llenó de nuevas aventuras, y Lucas nunca dejó de buscar nuevas historias que contar. Así, el joven soñador se transformó en un verdadero aventurero, recordando siempre que la mayor riqueza está en las experiencias vividas y en el conocimiento adquirido.\n",
            "\n",
            "\n",
            "Prompt: कृपया हिंदी में एक कहानी सुनाइए।\n",
            "Response: एक बार की बात है, एक छोटे से गाँव में एक किसान रहता था। उसका नाम रामू था। रामू बहुत मेहनती और ईमानदार किसान था, लेकिन उसकी फसल हमेशा खराब होती थी। गाँव के लोग उसे मजाक उड़ाते थे, लेकिन रामू कभी हार नहीं मानता था।\n",
            "\n",
            "एक दिन, रामू ने सोचा कि उसे कुछ नया करना चाहिए। उसने गाँव के पुराने पुस्तकालय से कृषि पर कुछ किताबें पढ़ीं। उन किताबों में उसे पता चला कि मिट्टी की गुणवत्ता और फसल चक्र का ध्यान रखना कितना महत्वपूर्ण है। उसने अपने खेत में प्रयोग करने का निर्णय लिया।\n",
            "\n",
            "रामू ने पहले अपनी मिट्टी की जांच करवाई और उसके अनुसार खाद और बीज का चयन किया। उसने फसल चक्र अपनाया और विभिन्न प्रकार की फसलें उगाने का प्रयास किया। धीरे-धीरे, उसकी मेहनत रंग लाई। उसकी फसलें अब हर साल अच्छी होने लगीं।\n",
            "\n",
            "गाँव के लोग अब रामू की तारीफ करने लगे। उन्होंने देखा कि कैसे रामू ने अपनी मेहनत और ज्ञान से अपनी स्थिति को बदल दिया। रामू ने न केवल अपनी फसलें बढ़ाईं, बल्कि गाँव के अन्य किसानों को भी अपने अनुभव साझा किए। \n",
            "\n",
            "इस तरह, रामू ने न केवल अपनी जिंदगी बदली, बल्कि पूरे गाँव को एक नई दिशा दिखाई। उसकी कहानी यह सिखाती है कि मेहनत और ज्ञान का सही उपयोग करके हम किसी भी कठिनाई को पार कर सकते हैं।\n",
            "\n",
            "\n",
            "Prompt: Bitte erzähle mir eine Geschichte auf Deutsch.\n",
            "Response: Es war einmal in einem kleinen Dorf am Fuße eines majestätischen Berges, wo die Menschen in Harmonie mit der Natur lebten. In diesem Dorf lebte ein junger Mann namens Lukas, der von Abenteuern träumte und die Welt außerhalb seines Heimatdorfes erkunden wollte.\n",
            "\n",
            "Eines Tages hörte Lukas von einem geheimnisvollen Wald, der tief im Gebirge verborgen lag. Man sagte, dass dieser Wald voller magischer Kreaturen und unerforschter Geheimnisse sei. Entschlossen, das Abenteuer seines Lebens zu erleben, packte er einige Vorräte und machte sich auf den Weg.\n",
            "\n",
            "Nach mehreren Tagen des Wanderns erreichte Lukas den Rand des geheimnisvollen Waldes. Die Bäume waren hoch und dicht, und ein sanfter Nebel schwebte über dem Boden. Als er tiefer in den Wald eindrang, bemerkte er, dass die Luft anders roch – süßlich und frisch. Plötzlich hörte er ein leises Flüstern, das ihn an einen kleinen klaren Teich führte.\n",
            "\n",
            "Am Ufer des Teiches saß eine wunderschöne Elfe mit schimmernden Flügeln. Sie stellte sich als Lira vor und erklärte, dass sie die Hüterin des Waldes sei. Lira erzählte Lukas von den vielen Wundern des Waldes, aber auch von den Gefahren, die ihn bedrohten. Ein dunkler Schatten hatte sich über den Wald gelegt, und nur ein mutiger Mensch konnte helfen, das Gleichgewicht wiederherzustellen.\n",
            "\n",
            "Lukas, voller Entschlossenheit, bot seine Hilfe an. Gemeinsam mit Lira begab er sich auf eine Reise durch den Wald, um die Quelle des Übels zu finden. Sie begegneten fantastischen Kreaturen, lösten Rätsel und überwanden zahlreiche Hindernisse. Schließlich entdeckten sie, dass ein alter Zauberer, der einst aus dem Wald verbannt worden war, zurückgekehrt war, um Rache zu nehmen.\n",
            "\n",
            "Mit Mut und List gelang es Lukas und Lira, den Zauberer zu besiegen und den Wald zu befreien. Die Farben des Waldes wurden lebendiger, und die magischen Kreaturen feierten ihre Rückkehr zur Freiheit. Als Dank für seinen Mut erhielt Lukas von Lira ein kleines Amulett, das ihm Glück bringen sollte.\n",
            "\n",
            "Nach seinem Abenteuer kehrte Lukas in sein Dorf zurück, bereichert durch die Erfahrungen und Freundschaften, die er im geheimnisvollen Wald gemacht hatte. Von diesem Tag an erzählte er den Dorfbewohnern von seinen Erlebnissen und inspirierte sie, ihre eigenen Träume zu verfolgen und die Wunder der Welt zu entdecken. Und so lebte er glücklich und zufrieden, immer bereit für das nächste Abenteuer.\n",
            "\n"
          ]
        }
      ],
      "source": [
        "from llama_index.llms.openai_like import OpenAILike\n",
        "\n",
        "# Initialize Sutra LLM with necessary parameters\n",
        "llm = OpenAILike(\n",
        "    model=\"sutra-v2\",                    # Sutra model name\n",
        "    api_base=\"https://api.two.ai/v2\",    # Sutra API base URL\n",
        "    api_key=os.getenv(\"SUTRA_API_KEY\"),  # Sutra API key\n",
        "    is_chat_model=True,                  # Mandatory: Set to True for chat-based models\n",
        ")\n",
        "\n",
        "# Multilingual prompts\n",
        "prompts = [\n",
        "    \"తెలుగులో ఒక కథ చెప్పు?\",                         # Telugu\n",
        "    \"Une histoire en français, s'il vous plaît.\",     # French\n",
        "    \"Por favor, cuéntame una historia en español.\",   # Spanish\n",
        "    \"कृपया हिंदी में एक कहानी सुनाइए।\",                    # Hindi\n",
        "    \"Bitte erzähle mir eine Geschichte auf Deutsch.\"  # German\n",
        "]\n",
        "\n",
        "# Loop through each prompt and print the response\n",
        "for prompt in prompts:\n",
        "    response = llm.complete(prompt)\n",
        "    print(f\"\\nPrompt: {prompt}\")\n",
        "    print(f\"Response: {str(response)}\\n\")"
      ]
    },
    {
      "cell_type": "markdown",
      "metadata": {
        "id": "DXzhTgxIbJwI"
      },
      "source": [
        "###Building a Simple Chatbot with LlamaIndex 🦙"
      ]
    },
    {
      "cell_type": "code",
      "execution_count": null,
      "metadata": {
        "colab": {
          "base_uri": "https://localhost:8080/"
        },
        "id": "bmMDK4rRSqI7",
        "outputId": "8f653dd4-5042-421d-f3c5-df00db026820"
      },
      "outputs": [
        {
          "name": "stdout",
          "output_type": "stream",
          "text": [
            "Chatbot: Hello! Type 'exit' to end the conversation.\n",
            "\n",
            "You: hi\n",
            "Chatbot: Hello! How can I assist you today?\n",
            "You: exit\n",
            "Chatbot: Goodbye! 👋\n"
          ]
        }
      ],
      "source": [
        "import os\n",
        "from llama_index.llms.openai_like import OpenAILike\n",
        "from llama_index.core.llms import ChatMessage\n",
        "\n",
        "\n",
        "# Initialize the Sutra model via LlamaIndex\n",
        "llm = OpenAILike(\n",
        "    model=\"sutra-v2\",                    # Sutra model name\n",
        "    api_base=\"https://api.two.ai/v2\",    # Sutra API base URL\n",
        "    api_key=os.getenv(\"SUTRA_API_KEY\"),  # Sutra API key\n",
        "    is_chat_model=True,                  # Mandatory for chat-based models\n",
        ")\n",
        "\n",
        "# Start the chatbot conversation loop\n",
        "print(\"Chatbot: Hello! Type 'exit' to end the conversation.\\n\")\n",
        "\n",
        "chat_history = []\n",
        "\n",
        "while True:\n",
        "    user_input = input(\"You: \")  # Get user input\n",
        "\n",
        "    if user_input.lower() == \"exit\":\n",
        "        print(\"Chatbot: Goodbye! 👋\")\n",
        "        break\n",
        "\n",
        "    # Add user message to chat history\n",
        "    chat_history.append(ChatMessage(role=\"user\", content=user_input))\n",
        "\n",
        "    # Get response from Sutra via LlamaIndex\n",
        "    response = llm.chat(chat_history)\n",
        "\n",
        "    # Print response content\n",
        "    print(\"Chatbot:\", response.message.content)\n",
        "\n",
        "    # Add AI response to chat history\n",
        "    chat_history.append(response.message)"
      ]
    },
    {
      "cell_type": "markdown",
      "metadata": {
        "id": "xnyFjI4ibQ13"
      },
      "source": [
        "###LlamaIndex 🦙 with the Sutra model for Document Querying"
      ]
    },
    {
      "cell_type": "code",
      "execution_count": null,
      "metadata": {
        "colab": {
          "base_uri": "https://localhost:8080/"
        },
        "id": "Ry5PamjDTj0S",
        "outputId": "700007ff-8a0f-4687-a876-9ce9097de8fd"
      },
      "outputs": [
        {
          "name": "stdout",
          "output_type": "stream",
          "text": [
            "उत्तर: SUTRA 50+ से अधिक भाषाओं का समर्थन करता है।\n"
          ]
        }
      ],
      "source": [
        "import os\n",
        "import faiss\n",
        "from llama_index.core import Document, StorageContext, VectorStoreIndex\n",
        "from llama_index.vector_stores.faiss import FaissVectorStore\n",
        "from llama_index.embeddings.openai import OpenAIEmbedding\n",
        "from llama_index.llms.openai_like import OpenAILike\n",
        "from llama_index.core.query_engine import RetrieverQueryEngine\n",
        "\n",
        "# Set up FAISS index manually\n",
        "dimension = 3072  # For \"text-embedding-3-large\" from OpenAI\n",
        "faiss_index = faiss.IndexFlatL2(dimension)\n",
        "\n",
        "# 1. Hindi text\n",
        "text = \"\"\"\n",
        "SUTRA दो प्लेटफ़ॉर्म्स द्वारा विकसित एक बहुभाषी बड़े भाषा मॉडल (LMLM) परिवार है।\n",
        "SUTRA की डुअल-ट्रांसफॉर्मर पद्धति MoE और Dense AI मॉडल आर्किटेक्चर दोनों की शक्ति को बढ़ाती है,\n",
        "जो 50+ से अधिक भाषाओं के लिए लागत-कुशल बहुभाषी क्षमताएं प्रदान करती है। यह संवाद, खोज,\n",
        "और उन्नत तर्क के लिए स्केलेबल एआई एप्लिकेशन को सक्षम बनाता है, जो विभिन्न भाषाओं, डोमेन और उपयोगों में उच्च प्रदर्शन सुनिश्चित करता है।\n",
        "\"\"\"\n",
        "documents = [Document(text=text)]\n",
        "\n",
        "# 2. Embedding model\n",
        "embedding_model = OpenAIEmbedding(\n",
        "    model=\"text-embedding-3-large\",\n",
        "    api_key=os.getenv(\"OPENAI_API_KEY\")\n",
        ")\n",
        "\n",
        "# 3. FAISS vector store and storage context\n",
        "vector_store = FaissVectorStore(faiss_index=faiss_index)\n",
        "storage_context = StorageContext.from_defaults(vector_store=vector_store)\n",
        "\n",
        "# 4. Create the vector index with the given storage context\n",
        "index = VectorStoreIndex.from_documents(\n",
        "    documents,\n",
        "    embed_model=embedding_model,\n",
        "    storage_context=storage_context,\n",
        ")\n",
        "\n",
        "# 5. Set up Sutra LLM\n",
        "sutra_llm = OpenAILike(\n",
        "    model=\"sutra-v2\",\n",
        "    api_base=\"https://api.two.ai/v2\",\n",
        "    api_key=os.getenv(\"SUTRA_API_KEY\"),\n",
        "    is_chat_model=True,\n",
        ")\n",
        "\n",
        "# 6. Query the index using the Sutra LLM\n",
        "query_engine = index.as_query_engine(llm=sutra_llm)\n",
        "response = query_engine.query(\"SUTRA कितनी भाषाओं का समर्थन करता है?\")\n",
        "\n",
        "# 7. Show the result\n",
        "print(\"उत्तर:\", response.response)\n"
      ]
    },
    {
      "cell_type": "markdown",
      "metadata": {
        "id": "iofZR6jY6yYx"
      },
      "source": [
        "###Multilingual Chat with Sutra LLM"
      ]
    },
    {
      "cell_type": "code",
      "execution_count": null,
      "metadata": {
        "colab": {
          "base_uri": "https://localhost:8080/",
          "height": 83,
          "referenced_widgets": [
            "7d79dd7001b14e8783c8086814678257",
            "894662451ef34162b19574cfd3414d13",
            "f906f1e71e7f41f0bc432ac15a0ace33",
            "5098bbe269e14d6eaeb8f99d59896468",
            "b3ffd4aa83464566aaa1e98fe955b019",
            "a2e7457ded384d6c8f46a885177d6592",
            "8a25218a0ab74b8a83fb3b33080d23f5",
            "18b219bd67b7440c97a047dfa8ce4cff",
            "61da7080eb5e462783ebebfe8d322655",
            "075b193a7c084a439d9805313ab0463b",
            "07464a08eee24aac858fd33cb462f1be",
            "4f54acfa998b49bcba7fb16b02057d2f",
            "e2d826261cc945c5861d295f9475266e",
            "365d24c1b443410e952e98c0098cec44"
          ]
        },
        "id": "72uDJ_GN5lYo",
        "outputId": "43288fc9-259b-479b-f388-1edaed80d1d1"
      },
      "outputs": [
        {
          "data": {
            "application/vnd.jupyter.widget-view+json": {
              "model_id": "7d79dd7001b14e8783c8086814678257",
              "version_major": 2,
              "version_minor": 0
            },
            "text/plain": [
              "Dropdown(description='Select Language:', layout=Layout(height='30px', width='75%'), options=('English', 'Hindi…"
            ]
          },
          "metadata": {},
          "output_type": "display_data"
        },
        {
          "data": {
            "application/vnd.jupyter.widget-view+json": {
              "model_id": "5098bbe269e14d6eaeb8f99d59896468",
              "version_major": 2,
              "version_minor": 0
            },
            "text/plain": [
              "Textarea(value='', description='Chat History:', disabled=True, layout=Layout(height='400px', width='80%'), pla…"
            ]
          },
          "metadata": {},
          "output_type": "display_data"
        },
        {
          "data": {
            "application/vnd.jupyter.widget-view+json": {
              "model_id": "8a25218a0ab74b8a83fb3b33080d23f5",
              "version_major": 2,
              "version_minor": 0
            },
            "text/plain": [
              "Text(value='', description='You:', layout=Layout(width='70%'), placeholder='Type your message...', style=TextS…"
            ]
          },
          "metadata": {},
          "output_type": "display_data"
        },
        {
          "data": {
            "application/vnd.jupyter.widget-view+json": {
              "model_id": "075b193a7c084a439d9805313ab0463b",
              "version_major": 2,
              "version_minor": 0
            },
            "text/plain": [
              "Button(button_style='info', description='Send', layout=Layout(width='20%'), style=ButtonStyle())"
            ]
          },
          "metadata": {},
          "output_type": "display_data"
        },
        {
          "data": {
            "application/vnd.jupyter.widget-view+json": {
              "model_id": "e2d826261cc945c5861d295f9475266e",
              "version_major": 2,
              "version_minor": 0
            },
            "text/plain": [
              "Output()"
            ]
          },
          "metadata": {},
          "output_type": "display_data"
        }
      ],
      "source": [
        "# Step 1: Import dependencies\n",
        "import ipywidgets as widgets\n",
        "from IPython.display import display\n",
        "from llama_index.llms.openai_like import OpenAILike\n",
        "from llama_index.core.chat_engine import SimpleChatEngine\n",
        "\n",
        "# Step 2: Set up Sutra LLM\n",
        "sutra_llm = OpenAILike(\n",
        "    api_base=\"https://api.two.ai/v2\",\n",
        "    api_key=os.getenv(\"SUTRA_API_KEY\"),\n",
        "    model=\"sutra-v2\",\n",
        "    is_chat_model=True,\n",
        ")\n",
        "\n",
        "chat_engine = SimpleChatEngine.from_defaults(llm=sutra_llm)\n",
        "\n",
        "# Step 3: Language options\n",
        "languages = [\n",
        "    \"English\", \"Hindi\", \"Gujarati\", \"Bengali\", \"Tamil\", \"Telugu\", \"Kannada\", \"Malayalam\",\n",
        "    \"Punjabi\", \"Marathi\", \"Urdu\", \"Assamese\", \"Odia\", \"Sanskrit\", \"Korean\", \"Japanese\",\n",
        "    \"Arabic\", \"French\", \"German\", \"Spanish\", \"Portuguese\", \"Russian\", \"Chinese\", \"Vietnamese\",\n",
        "    \"Thai\", \"Indonesian\", \"Turkish\", \"Polish\", \"Ukrainian\", \"Dutch\", \"Italian\", \"Greek\",\n",
        "    \"Hebrew\", \"Persian\"\n",
        "]\n",
        "\n",
        "# Step 4: Create widgets with style\n",
        "lang_dropdown = widgets.Dropdown(\n",
        "    options=languages,\n",
        "    value=\"English\",\n",
        "    description='Select Language:',\n",
        "    style={'description_width': 'initial'},\n",
        "    layout=widgets.Layout(width='75%', height='30px')\n",
        ")\n",
        "\n",
        "chat_log = widgets.Textarea(\n",
        "    value=\"\",\n",
        "    placeholder='Chat history will appear here...',\n",
        "    description='Chat History:',\n",
        "    disabled=True,\n",
        "    layout=widgets.Layout(width='80%', height='400px'),\n",
        "    style={'description_width': 'initial'}\n",
        ")\n",
        "\n",
        "user_input = widgets.Text(\n",
        "    value='',\n",
        "    placeholder='Type your message...',\n",
        "    description='You:',\n",
        "    layout=widgets.Layout(width='70%'),\n",
        "    style={'description_width': 'initial'}\n",
        ")\n",
        "\n",
        "send_button = widgets.Button(\n",
        "    description=\"Send\",\n",
        "    button_style='info',\n",
        "    layout=widgets.Layout(width='20%')\n",
        ")\n",
        "\n",
        "output = widgets.Output()\n",
        "\n",
        "# Step 5: Initialize message storage\n",
        "messages = []\n",
        "\n",
        "# Step 6: Send message handler\n",
        "def on_send_click(b):\n",
        "    user_text = user_input.value.strip()\n",
        "    if not user_text:\n",
        "        return\n",
        "    language = lang_dropdown.value\n",
        "\n",
        "    # Add user message to the history\n",
        "    messages.append(f\"User: {user_text}\")\n",
        "    chat_log.value = '\\n'.join(messages)\n",
        "\n",
        "    # Create prompt for Sutra LLM\n",
        "    full_prompt = f\"Please respond only in {language}. User: {user_text}\\nAssistant:\"\n",
        "\n",
        "    # Get response from Sutra LLM\n",
        "    response = chat_engine.chat(full_prompt)\n",
        "    assistant_reply = response.response.strip()\n",
        "\n",
        "    # Add assistant response to chat history\n",
        "    messages.append(f\"Assistant ({language}): {assistant_reply}\")\n",
        "    chat_log.value = '\\n'.join(messages)\n",
        "\n",
        "    # Clear user input field\n",
        "    user_input.value = \"\"\n",
        "\n",
        "# Step 7: Bind button click event\n",
        "send_button.on_click(on_send_click)\n",
        "\n",
        "# Step 8: Display all widgets\n",
        "display(lang_dropdown, chat_log, user_input, send_button, output)"
      ]
    }
  ],
  "metadata": {
    "colab": {
      "provenance": []
    },
    "kernelspec": {
      "display_name": "Python 3",
      "name": "python3"
    },
    "language_info": {
      "name": "python"
    }
  },
  "nbformat": 4,
  "nbformat_minor": 0
}
