{
  "cells": [
    {
      "cell_type": "markdown",
      "metadata": {
        "id": "_QrOyUGFt1OB"
      },
      "source": [
        "<div style=\"display: flex; align-items: center; gap: 40px;\">\n",
        "\n",
        "<img src=\"https://play-lh.googleusercontent.com/_O9p4Z4yucA2NLmZBu9mTJCuBwXeT9NcbtrDN6I8gKlkIPRySV0adOmbyipjSj9Gew\" width=\"130\">\n",
        "<img src=\"https://registry.npmmirror.com/@lobehub/icons-static-png/1.45.0/files/light/langchain.png\" width=\"120\">\n",
        "\n",
        "\n",
        "\n",
        "<div>\n",
        "  <h2>SUTRA by TWO Platforms</h2>\n",
        "  <p>SUTRA is a family of large multi-lingual language (LMLMs) models pioneered by Two Platforms. SUTRA’s dual-transformer approach extends the power of both MoE and Dense AI language model architectures, delivering cost-efficient multilingual capabilities for over 50+ languages. It powers scalable AI applications for conversation, search, and advanced reasoning, ensuring high-performance across diverse languages, domains and applications.</p>\n",
        "\n",
        "  <h2>LangChain</h2>\n",
        "  <p>LangChain is a framework for developing applications powered by large language models (LLMs).</p>\n",
        "</div>\n",
        "</div>\n"
      ]
    },
    {
      "cell_type": "markdown",
      "metadata": {},
      "source": [
        "<a href=\"https://colab.research.google.com/drive/1OYpQFo88aLWbv0D1_DA2j4HZGRxTjRcK?usp=sharing#scrollTo=EN0-3KNPvcWE\" target=\"_parent\"><img src=\"https://colab.research.google.com/assets/colab-badge.svg\" alt=\"Open In Colab\"/></a>"
      ]
    },
    {
      "cell_type": "markdown",
      "metadata": {},
      "source": [
        "## Get Your API Keys\n",
        "\n",
        "Before you begin, make sure you have:\n",
        "\n",
        "1. A SUTRA API key (Get yours at [TWO AI's SUTRA API page](https://www.two.ai/sutra/api))\n",
        "2. Basic familiarity with Python and Jupyter notebooks\n",
        "\n",
        "This notebook is designed to run in Google Colab, so no local Python installation is required."
      ]
    },
    {
      "cell_type": "markdown",
      "metadata": {
        "id": "NYJH3UIWvVZA"
      },
      "source": [
        "#Sutra using Langchain"
      ]
    },
    {
      "cell_type": "markdown",
      "metadata": {
        "id": "EN0-3KNPvcWE"
      },
      "source": [
        "###Install Requirements"
      ]
    },
    {
      "cell_type": "code",
      "execution_count": null,
      "metadata": {
        "colab": {
          "base_uri": "https://localhost:8080/"
        },
        "id": "lkOuC4sMvhd9",
        "outputId": "3b3866c6-4dfc-40ff-c843-d4bfde7a399a"
      },
      "outputs": [
        {
          "name": "stdout",
          "output_type": "stream",
          "text": [
            "\u001b[2K   \u001b[90m━━━━━━━━━━━━━━━━━━━━━━━━━━━━━━━━━━━━━━━━\u001b[0m \u001b[32m62.8/62.8 kB\u001b[0m \u001b[31m2.1 MB/s\u001b[0m eta \u001b[36m0:00:00\u001b[0m\n",
            "\u001b[2K   \u001b[90m━━━━━━━━━━━━━━━━━━━━━━━━━━━━━━━━━━━━━━━━\u001b[0m \u001b[32m2.5/2.5 MB\u001b[0m \u001b[31m18.1 MB/s\u001b[0m eta \u001b[36m0:00:00\u001b[0m\n",
            "\u001b[2K   \u001b[90m━━━━━━━━━━━━━━━━━━━━━━━━━━━━━━━━━━━━━━━━\u001b[0m \u001b[32m31.3/31.3 MB\u001b[0m \u001b[31m22.7 MB/s\u001b[0m eta \u001b[36m0:00:00\u001b[0m\n",
            "\u001b[2K   \u001b[90m━━━━━━━━━━━━━━━━━━━━━━━━━━━━━━━━━━━━━━━━\u001b[0m \u001b[32m1.2/1.2 MB\u001b[0m \u001b[31m25.5 MB/s\u001b[0m eta \u001b[36m0:00:00\u001b[0m\n",
            "\u001b[2K   \u001b[90m━━━━━━━━━━━━━━━━━━━━━━━━━━━━━━━━━━━━━━━━\u001b[0m \u001b[32m437.6/437.6 kB\u001b[0m \u001b[31m14.5 MB/s\u001b[0m eta \u001b[36m0:00:00\u001b[0m\n",
            "\u001b[2K   \u001b[90m━━━━━━━━━━━━━━━━━━━━━━━━━━━━━━━━━━━━━━━━\u001b[0m \u001b[32m44.4/44.4 kB\u001b[0m \u001b[31m2.1 MB/s\u001b[0m eta \u001b[36m0:00:00\u001b[0m\n",
            "\u001b[2K   \u001b[90m━━━━━━━━━━━━━━━━━━━━━━━━━━━━━━━━━━━━━━━━\u001b[0m \u001b[32m50.9/50.9 kB\u001b[0m \u001b[31m2.1 MB/s\u001b[0m eta \u001b[36m0:00:00\u001b[0m\n",
            "\u001b[?25h"
          ]
        }
      ],
      "source": [
        "!pip install -qU langchain_openai langchain_community tavily-python faiss-cpu tiktoken"
      ]
    },
    {
      "cell_type": "markdown",
      "metadata": {
        "id": "YTWAtTZhvqBY"
      },
      "source": [
        "####Setup API Keys"
      ]
    },
    {
      "cell_type": "code",
      "execution_count": null,
      "metadata": {
        "id": "8nh-3aFHvpZT"
      },
      "outputs": [],
      "source": [
        "import os\n",
        "from google.colab import userdata\n",
        "\n",
        "# Set the API key from Colab secrets\n",
        "os.environ[\"SUTRA_API_KEY\"] = userdata.get(\"SUTRA_API_KEY\")\n",
        "os.environ[\"TAVILY_API_KEY\"] = userdata.get(\"TAVILY_API_KEY\")\n",
        "os.environ[\"OPENAI_API_KEY\"] = userdata.get(\"OPENAI_API_KEY\")"
      ]
    },
    {
      "cell_type": "markdown",
      "metadata": {
        "id": "4qnOgQxqDBy5"
      },
      "source": [
        "### Initialize Sutra Model via Langchain:"
      ]
    },
    {
      "cell_type": "code",
      "execution_count": null,
      "metadata": {
        "colab": {
          "base_uri": "https://localhost:8080/"
        },
        "id": "CY6c6YrVv56C",
        "outputId": "3aa0e4cf-7809-44ac-b912-c68e72b21341"
      },
      "outputs": [
        {
          "name": "stdout",
          "output_type": "stream",
          "text": [
            "मैं ठीक हूँ, धन्यवाद! आप कैसे हैं?\n"
          ]
        }
      ],
      "source": [
        "from langchain_openai import ChatOpenAI\n",
        "from langchain.schema import HumanMessage\n",
        "\n",
        "# Initialize the ChatOpenAI model\n",
        "chat = ChatOpenAI(\n",
        "    api_key=os.getenv(\"SUTRA_API_KEY\"),\n",
        "    base_url=\"https://api.two.ai/v2\",\n",
        "    model=\"sutra-v2\"\n",
        ")\n",
        "\n",
        "# Create a conversation\n",
        "messages = [HumanMessage(content=\"कैसे हो?\")]\n",
        "\n",
        "# Get response\n",
        "response = chat.invoke(messages)\n",
        "\n",
        "# Print response content\n",
        "print(response.content)"
      ]
    },
    {
      "cell_type": "markdown",
      "metadata": {
        "id": "lMisZ1kPwM4m"
      },
      "source": [
        "### Multilingual capabilities using Langchain"
      ]
    },
    {
      "cell_type": "code",
      "execution_count": null,
      "metadata": {
        "colab": {
          "base_uri": "https://localhost:8080/"
        },
        "id": "hR8DhenVwI0W",
        "outputId": "12b63a1b-eea2-4fd8-8f21-954e80a0daea"
      },
      "outputs": [
        {
          "name": "stdout",
          "output_type": "stream",
          "text": [
            "\n",
            "Prompt: తెలుగులో ఒక కథ చెప్పు?\n",
            "Response: ఒకప్పుడు, ఒక చిన్న గ్రామంలో సీత అనే ఒక అమ్మాయి నివసించేది. ఆమె చాలా మంచి హృదయంతో, అందరికీ సహాయం చేసే వ్యక్తి. గ్రామంలో ఉన్న ప్రతి ఒక్కరి కోసం ఆమెకు ప్రేమ మరియు కరుణ ఉండేది.\n",
            "\n",
            "ఒక రోజు, సీతకు ఓ పాత బోనెట్టు కనిపించింది. ఆ బోనెట్టు చాలా అందంగా ఉండేది, కానీ అది చాలా కాలంగా వాడబడలేదు. సీత ఆ బోనెట్టును తీసుకొని, దాన్ని శుభ్రం చేసుకుంది. అప్పుడు, ఆ బోనెట్టు తనలోని మాయాజాలాన్ని ప్రదర్శించింది. అది మాట్లాడటం మొదలు పెట్టింది.\n",
            "\n",
            "\"సీత, నీ మంచితనం నాకు తెలిసింది. నేను నీకు మూడు ఇష్టాలు అందిస్తాను,\" అని బోనెట్టు చెప్పింది.\n",
            "\n",
            "సీత ముందుగా తన కుటుంబం మరియు గ్రామానికి మంచి జరిగాలని కోరుకుంది. రెండవ ఇష్టంగా, అందరికి ఆరోగ్యం ఉండాలని కోరుకుంది. చివరగా, ఆమె తన స్వంత ఆనందాన్ని కోరుకుంది. \n",
            "\n",
            "బోనెట్టు ఆమె ఇష్టాలను అమలు చేసింది. గ్రామంలో అందరూ సుఖంగా జీవించారు. గ్రామం prosper అయింది, మరియు సీత ఎప్పటికప్పుడు అందరికి సహాయం చేస్తూనే ఉండింది.\n",
            "\n",
            "ఇది తెలుసుకున్న సీత, నిజమైన ఆనందం ఇతరులకు సహాయం చేయడంలో ఉందని అర్థం చేసుకుంది. అందువల్ల, ఆమె తన జీవితాన్ని ఇతరుల సేవలో గడిపింది. \n",
            "\n",
            "ఈ కథ మనకు ఇది నేర్పిస్తుంది: నిజమైన ఆనందం మరియు సంతోషం అందరితో కలిసి ఉండటంలో, ఒకరికొకరు సహాయం చేయడంలో ఉంది.\n",
            "\n",
            "\n",
            "Prompt: Une histoire en français, s'il vous plaît.\n",
            "Response: Il était une fois, dans un petit village niché au cœur des montagnes, une jeune fille nommée Élodie. Elle avait toujours rêvé d'aventures au-delà des collines qui entouraient son village. Un jour, en se promenant près d'une rivière scintillante, elle découvrit un vieux livre en cuir, à moitié enfoui dans le sable. Curieuse, Élodie le ramassa et l'ouvrit.\n",
            "\n",
            "À l'intérieur, elle trouva des cartes anciennes et des récits de trésors cachés dans des lieux mystérieux. L'excitation la submergea. Elle décida de partir à la recherche de ces trésors. Élodie rassembla quelques provisions, dit au revoir à sa famille et se mit en route.\n",
            "\n",
            "Sa quête la mena à travers des forêts denses, des vallées verdoyantes et des rivières tumultueuses. En chemin, elle rencontra des créatures fantastiques : un hibou sage qui lui donna des conseils, un renard espiègle qui l’aida à déjouer des pièges, et même un dragon endormi qu'elle réussit à apaiser avec une mélodie douce.\n",
            "\n",
            "Après plusieurs jours d'aventure, Élodie arriva enfin à la grotte décrite dans le livre. À l’intérieur, elle découvrit un coffre rempli de pièces d’or et de bijoux étincelants. Mais plus précieux encore, elle trouva un ancien médaillon qui brillait d'une lumière chaleureuse. En le tenant dans ses mains, elle comprit que la véritable richesse ne résidait pas seulement dans les trésors matériels, mais aussi dans les expériences vécues et les amitiés nouées en cours de route.\n",
            "\n",
            "Élodie rentra chez elle, le cœur rempli de souvenirs et de sagesse. Elle partagea ses histoires avec les villageois, inspirant ainsi d'autres à explorer le monde autour d'eux. Et c'est ainsi qu'Élodie devint non seulement une aventurière, mais aussi une conteuse, transmettant la magie des récits de génération en génération.\n",
            "\n",
            "\n",
            "Prompt: Por favor, cuéntame una historia en español.\n",
            "Response: Había una vez en un pequeño pueblo rodeado de montañas, un joven llamado Lucas. Desde muy temprano, Lucas soñaba con explorar el mundo más allá de las colinas que limitaban su hogar. Cada noche, se sentaba en la cima de una de las montañas y miraba las estrellas, imaginando las aventuras que podría tener.\n",
            "\n",
            "Un día, mientras paseaba por el bosque, Lucas encontró un mapa antiguo escondido entre las raíces de un árbol gigante. El mapa mostraba un camino hacia un lugar llamado \"El Valle de los Sueños\", un sitio legendario donde se decía que los deseos se hacían realidad. Sin pensarlo dos veces, decidió emprender su viaje hacia ese valle misterioso.\n",
            "\n",
            "Lucas recorrió ríos y bosques, enfrentándose a desafíos en el camino, como cruzar un río caudaloso y escalar acantilados empinados. En su travesía, conoció a varios personajes: una anciana sabia que le enseñó sobre la paciencia, un guerrero valiente que le mostró la importancia de la amistad, y un artista que le inspiró a nunca dejar de soñar.\n",
            "\n",
            "Finalmente, después de muchas aventuras, llegó al Valle de los Sueños. Allí, se encontró con un hermoso paisaje lleno de flores brillantes y un cielo despejado. En el centro del valle había un lago cristalino que reflejaba todo lo que deseabas. Lucas se acercó al lago y, con el corazón lleno de esperanza, cerró los ojos y pidió su deseo más profundo: encontrar su propósito en la vida.\n",
            "\n",
            "Al abrir los ojos, no solo vio su reflejo, sino también a todas las personas que había conocido en su viaje. Comprendió que su propósito era ayudar a otros, inspirar a quienes lo rodeaban y compartir sus sueños. Regresó a su pueblo con una nueva visión y dedicó su vida a hacer realidad los sueños de los demás, convirtiéndose en un guía para muchos.\n",
            "\n",
            "Y así, Lucas descubrió que el verdadero viaje no era solo llegar a un destino, sino aprender y crecer a lo largo del camino. Fin.\n",
            "\n",
            "\n",
            "Prompt: कृपया हिंदी में एक कहानी सुनाइए।\n",
            "Response: एक बार की बात है, एक छोटे से गाँव में एक लड़का रहता था जिसका नाम आर्यन था। आर्यन बहुत ही जिज्ञासु और साहसी था। उसे हमेशा नई चीजें सीखने का शौक था। गाँव के पास एक घना जंगल था, जहाँ लोग अक्सर जाने से डरते थे। लेकिन आर्यन ने तय किया कि वह उस जंगल की खोज करेगा।\n",
            "\n",
            "एक दिन, आर्यन अपने दोस्तों के साथ जंगल की ओर बढ़ा। उन्होंने सोचा कि वे कुछ समय खेलेंगे और फिर लौट आएंगे। लेकिन जैसे ही वे जंगल में गहरे गए, उन्हें एक पुरानी खंडहर जैसी जगह दिखाई दी। वहाँ एक बड़ा सा पेड़ था, जिसके नीचे एक चमकीली चीज़ चमक रही थी। आर्यन ने उत्सुकता से उस चीज़ की ओर बढ़ा।\n",
            "\n",
            "जब उसने उसे उठाया, तो वह एक प्राचीन सिक्का था। सिक्के पर एक अजीब सी आकृति बनी हुई थी। आर्यन ने अपने दोस्तों को बताया और सभी ने मिलकर उस सिक्के की कहानी जानने की कोशिश की। तभी एक बूढ़ा आदमी वहाँ आया। उसने कहा, \"यह सिक्का तुम्हारे लिए भाग्य ला सकता है, लेकिन इसे सही तरीके से इस्तेमाल करना चाहिए।\"\n",
            "\n",
            "आर्यन ने बूढ़े आदमी की सलाह मानी और सिक्के का उपयोग अच्छे कामों के लिए करने का निर्णय लिया। उसने अपने गाँव के लोगों की मदद करने का सोचा। आर्यन ने गाँव में एक स्कूल खोला, जहां बच्चों को शिक्षा देने का काम शुरू हुआ। धीरे-धीरे, गाँव में खुशहाली फैल गई।\n",
            "\n",
            "सालों बाद, आर्यन बड़ा हो गया, लेकिन उसने कभी भी उस सिक्के को नहीं भुलाया। उसने सीखा कि सच्चा धन केवल पैसे में नहीं, बल्कि ज्ञान और मानवता में है। और इस तरह, आर्यन ने अपने गाँव को एक नई दिशा दी और सबके दिलों में हमेशा के लिए एक मिसाल कायम की। \n",
            "\n",
            "इस कहानी से हमें यह सिखने को मिलता है कि साहस, ज्ञान, और मानवता का महत्व हमेशा सबसे बड़ा होता है।\n",
            "\n",
            "\n",
            "Prompt: Bitte erzähle mir eine Geschichte auf Deutsch.\n",
            "Response: Es war einmal in einem kleinen, malerischen Dorf am Rande eines dichten, geheimnisvollen Waldes. Die Dorfbewohner lebten in Harmonie mit der Natur und erzählten sich oft Geschichten über die magischen Wesen, die im Wald leben sollten. Eines Tages beschloss ein mutiger junger Mann namens Lukas, das Abenteuer seines Lebens zu suchen und den Wald zu erkunden.\n",
            "\n",
            "Lukas packte einige Vorräte – Brot, Wasser und seine treue Taschenlampe – und machte sich auf den Weg. Als er den Wald betrat, umfing ihn sofort die Stille, nur unterbrochen von dem sanften Rascheln der Blätter im Wind. Die Bäume schienen hoch in den Himmel zu ragen, und die Sonnenstrahlen tanzten auf dem moosbedeckten Boden.\n",
            "\n",
            "Nach einer Weile stieß Lukas auf eine Lichtung, in deren Mitte ein glitzernder Teich lag. Plötzlich erschien eine kleine, leuchtende Gestalt über dem Wasser. Es war eine Elfe mit schimmernden Flügeln. „Willkommen, mutiger Reisender“, sagte sie mit einer melodischen Stimme. „Ich bin Lira, die Hüterin dieses Waldes. Was führt dich hierher?“\n",
            "\n",
            "Lukas war erstaunt, aber auch erfreut, so eine wunderbare Kreatur zu treffen. Er erzählte Lira von seinem Wunsch, die Geheimnisse des Waldes zu entdecken. Lira lächelte und bot ihm an, ihn durch den Wald zu führen, wenn er bereit sei, die Lektionen der Natur zu lernen.\n",
            "\n",
            "So begann Lukas' Reise. Lira zeigte ihm die verborgenen Schönheiten des Waldes – die heilenden Kräuter, die magischen Blumen, die nur im Mondlicht blühten, und die Tiere, die in perfekter Harmonie lebten. Er lernte, wie wichtig es ist, die Natur zu respektieren und mit ihr im Einklang zu leben.\n",
            "\n",
            "Nach vielen Abenteuern und Lektionen kehrte Lukas schließlich in sein Dorf zurück. Er hatte nicht nur viele Geschichten zu erzählen, sondern auch eine tiefe Wertschätzung für die Natur gewonnen. Die Dorfbewohner hörten gebannt seinen Erzählungen zu und begannen, achtsamer mit ihrer Umgebung umzugehen.\n",
            "\n",
            "Von diesem Tag an war Lukas nicht nur ein einfacher Dorfbewohner, sondern auch ein Botschafter der Natur, der die Weisheiten des Waldes mit allen teilte. Und tief im Herzen wusste er, dass die Magie des Waldes immer bei ihm sein würde, solange er die Lektionen der Elfe Lira in seinem Herzen trug.\n",
            "\n"
          ]
        }
      ],
      "source": [
        "from langchain_openai import ChatOpenAI\n",
        "from langchain.schema import HumanMessage\n",
        "\n",
        "# Initialize the ChatOpenAI model\n",
        "chat = ChatOpenAI(\n",
        "    api_key=os.getenv(\"SUTRA_API_KEY\"),\n",
        "    base_url=\"https://api.two.ai/v2\",\n",
        "    model=\"sutra-v2\",\n",
        "\n",
        ")\n",
        "\n",
        "# List of messages in different languages\n",
        "messages_list = [\n",
        "    HumanMessage(content=\"తెలుగులో ఒక కథ చెప్పు?\"),                          # Telugu: \"Tell a story in Telugu\"\n",
        "    HumanMessage(content=\"Une histoire en français, s'il vous plaît.\"),      # French: \"A story in French, please.\"\n",
        "    HumanMessage(content=\"Por favor, cuéntame una historia en español.\"),    # Spanish: \"Please tell me a story in Spanish.\"\n",
        "    HumanMessage(content=\"कृपया हिंदी में एक कहानी सुनाइए।\"),                     # Hindi: \"Please tell a story in Hindi.\"\n",
        "    HumanMessage(content=\"Bitte erzähle mir eine Geschichte auf Deutsch.\")   # German: \"Please tell me a story in German.\"\n",
        "]\n",
        "\n",
        "# Loop through each language request\n",
        "for msg in messages_list:\n",
        "    response = chat.invoke([msg])\n",
        "    print(f\"\\nPrompt: {msg.content}\")\n",
        "    print(f\"Response: {response.content}\\n\")"
      ]
    },
    {
      "cell_type": "markdown",
      "metadata": {
        "id": "N9ADqnTqwrob"
      },
      "source": [
        "### Building a Simple Chatbot with Langchain"
      ]
    },
    {
      "cell_type": "code",
      "execution_count": null,
      "metadata": {
        "colab": {
          "base_uri": "https://localhost:8080/"
        },
        "id": "naIqDZobwwir",
        "outputId": "1b85b917-92de-4d2f-e3b0-7008117bb298"
      },
      "outputs": [
        {
          "name": "stdout",
          "output_type": "stream",
          "text": [
            "Chatbot: Hello! Type 'exit' to end the conversation.\n",
            "\n",
            "You: hi\n",
            "Chatbot: Hello! How can I assist you today?\n",
            "You: exit\n",
            "Chatbot: Goodbye! 👋\n"
          ]
        }
      ],
      "source": [
        "from langchain_openai import ChatOpenAI\n",
        "from langchain.schema import HumanMessage\n",
        "\n",
        "# Initialize the ChatOpenAI model\n",
        "chat = ChatOpenAI(\n",
        "    api_key=os.getenv(\"SUTRA_API_KEY\"),\n",
        "    base_url=\"https://api.two.ai/v2\",\n",
        "    model=\"sutra-v2\"\n",
        ")\n",
        "\n",
        "# Start the chatbot conversation loop\n",
        "print(\"Chatbot: Hello! Type 'exit' to end the conversation.\\n\")\n",
        "\n",
        "chat_history = []\n",
        "\n",
        "while True:\n",
        "    user_input = input(\"You: \")  # Get user input\n",
        "\n",
        "    if user_input.lower() == \"exit\":\n",
        "        print(\"Chatbot: Goodbye! 👋\")\n",
        "        break\n",
        "\n",
        "    # Add user message to chat history\n",
        "    chat_history.append(HumanMessage(content=user_input))\n",
        "\n",
        "    # Get response from AI\n",
        "    response = chat.invoke(chat_history)\n",
        "\n",
        "    # Print AI response\n",
        "    print(\"Chatbot:\", response.content)\n",
        "\n",
        "    # Add AI response to chat history\n",
        "    chat_history.append(response)"
      ]
    },
    {
      "cell_type": "markdown",
      "metadata": {
        "id": "FHN3taCp9EBH"
      },
      "source": [
        "###Langchain with the Sutra model for Document Querying"
      ]
    },
    {
      "cell_type": "code",
      "execution_count": null,
      "metadata": {
        "colab": {
          "base_uri": "https://localhost:8080/"
        },
        "id": "G6Yja4rY8e7d",
        "outputId": "2bb444ef-25f9-47e7-aaac-c2452e8bc2ae"
      },
      "outputs": [
        {
          "name": "stderr",
          "output_type": "stream",
          "text": [
            "<ipython-input-7-ee2b6ea6e50e>:42: LangChainDeprecationWarning: The method `Chain.__call__` was deprecated in langchain 0.1.0 and will be removed in 1.0. Use :meth:`~invoke` instead.\n",
            "  result = qa_chain({\"query\": query})\n"
          ]
        },
        {
          "name": "stdout",
          "output_type": "stream",
          "text": [
            "उत्तर: SUTRA 50+ से अधिक भाषाओं का समर्थन करता है।\n"
          ]
        }
      ],
      "source": [
        "from langchain_openai import ChatOpenAI\n",
        "from langchain.text_splitter import CharacterTextSplitter\n",
        "from langchain.vectorstores import FAISS\n",
        "from langchain.chains import RetrievalQA\n",
        "from langchain.schema import Document\n",
        "from langchain_openai import OpenAIEmbeddings\n",
        "\n",
        "# Use Sutra for LLM\n",
        "llm = ChatOpenAI(\n",
        "    api_key=userdata.get(\"SUTRA_API_KEY\"),\n",
        "    base_url=\"https://api.two.ai/v2\",\n",
        "    model=\"sutra-v2\",\n",
        ")\n",
        "\n",
        "# Hindi sample text\n",
        "text = \"\"\"\n",
        "SUTRA दो प्लेटफ़ॉर्म्स द्वारा विकसित एक बहुभाषी बड़े भाषा मॉडल (LMLM) परिवार है।\n",
        "SUTRA की डुअल-ट्रांसफॉर्मर पद्धति MoE और Dense AI मॉडल आर्किटेक्चर दोनों की शक्ति को बढ़ाती है,\n",
        "जो 50+ से अधिक भाषाओं के लिए लागत-कुशल बहुभाषी क्षमताएं प्रदान करती है। यह संवाद, खोज,\n",
        "और उन्नत तर्क के लिए स्केलेबल एआई एप्लिकेशन को सक्षम बनाता है, जो विभिन्न भाषाओं, डोमेन और उपयोगों में उच्च प्रदर्शन सुनिश्चित करता है।\n",
        "\"\"\"\n",
        "\n",
        "# Split into chunks\n",
        "text_splitter = CharacterTextSplitter(chunk_size=500, chunk_overlap=50)\n",
        "docs = text_splitter.create_documents([text])\n",
        "\n",
        "# Embedding model\n",
        "embedding_model = OpenAIEmbeddings(\n",
        "    model=\"text-embedding-3-large\",\n",
        "    openai_api_key=os.environ[\"OPENAI_API_KEY\"]\n",
        ")\n",
        "\n",
        "# Vector store\n",
        "vectorstore = FAISS.from_documents(docs, embedding_model)\n",
        "\n",
        "# RetrievalQA Chain\n",
        "retriever = vectorstore.as_retriever()\n",
        "qa_chain = RetrievalQA.from_chain_type(llm=llm, retriever=retriever)\n",
        "\n",
        "# Ask question in Hindi\n",
        "query = \"SUTRA कितनी भाषाओं का समर्थन करता है?\"\n",
        "result = qa_chain({\"query\": query})\n",
        "\n",
        "# Print result\n",
        "print(\"उत्तर:\", result[\"result\"])"
      ]
    },
    {
      "cell_type": "markdown",
      "metadata": {
        "id": "6vh1lh0fCVTz"
      },
      "source": [
        "### Multilingual Tavily Agent Using Sutra LMLMs"
      ]
    },
    {
      "cell_type": "code",
      "execution_count": null,
      "metadata": {
        "colab": {
          "base_uri": "https://localhost:8080/"
        },
        "id": "Sz1Jd7HCANUE",
        "outputId": "ebcc6072-0db2-4c8e-a51e-cb43602c02ad"
      },
      "outputs": [
        {
          "name": "stderr",
          "output_type": "stream",
          "text": [
            "<ipython-input-8-499f0d366d17>:25: LangChainDeprecationWarning: LangChain agents will continue to be supported, but it is recommended for new use cases to be built with LangGraph. LangGraph offers a more flexible and full-featured framework for building agents, including support for tool-calling, persistence of state, and human-in-the-loop workflows. For details, refer to the `LangGraph documentation <https://langchain-ai.github.io/langgraph/>`_ as well as guides for `Migrating from AgentExecutor <https://python.langchain.com/docs/how_to/migrate_agent/>`_ and LangGraph's `Pre-built ReAct agent <https://langchain-ai.github.io/langgraph/how-tos/create-react-agent/>`_.\n",
            "  agent = initialize_agent(\n"
          ]
        },
        {
          "name": "stdout",
          "output_type": "stream",
          "text": [
            "\n",
            "\n",
            "\u001b[1m> Entering new AgentExecutor chain...\u001b[0m\n",
            "\u001b[32;1m\u001b[1;3mAction: Tavily Search  \n",
            "Action Input: 'ICC 2025 final winner'  \u001b[0m\n",
            "Observation: \u001b[36;1m\u001b[1;3m[{'title': '2025 ICC Champions Trophy final - Wikipedia', 'url': 'https://en.wikipedia.org/wiki/2025_ICC_Champions_Trophy_final', 'content': 'The 2025 ICC Champions Trophy final will be an One Day International (ODI) cricket match to be played at the Dubai International Cricket Stadium on 9 March 2025 to determine the winner of 2025 ICC Champions Trophy. It will be played between India and New Zealand. It will be second time that India and New Zealand will play a Champions Trophy final against each other, after the 2000 final.\\nBackground\\n[edit]\\nMain article: 2025 ICC Champions Trophy [...] | \\xa0Australia | 4 March 2025 | Won | SF | \\xa0South Africa | 5 March 2025 | Won |\\n| 2025 ICC Champions Trophy final |\\nIndia\\n[edit] [...] ^ \"Champions Trophy 2025: Revisiting India and New Zealand\\'s head-to-head record ahead of Sunday\\'s final\". Firstpost. Retrieved 6 March 2025.\\n^ 2025 ICC Champions Trophy, points table standings at ESPNcricinfo\\n^ \"Gill hits ton as India cruise to victory over Bangladesh\". BBC Sports. Retrieved 20 February 2025.\\n^ \"Kohli slams 100, India breeze past Pakistan by six wickets\". International Cricket Council. Retrieved 23 February 2025.', 'score': 0.9014448}, {'title': 'India beat New Zealand by four wickets to win Champions Trophy', 'url': 'https://www.aljazeera.com/sports/2025/3/9/icc-champions-trophy-2025-final-india-beats-new-zealand-by-four-wickets', 'content': 'Published Time: 2025-03-09T18:29:51Z\\nICC Champions Trophy 2025 final: India beat New Zealand by four wickets | Cricket News | Al Jazeera\\nAdvertisement\\nSkip linksSkip to Content\\n\\nLive\\nSign upEnrich your Al Jazeera experience by signing in or creating an account.\\nNavigation menu\\n\\n\\nNewsShow more news sections\\n\\nAfrica\\nAsia\\nUS & Canada\\nLatin America\\nEurope\\nAsia Pacific\\n\\n\\n\\nMiddle East\\n\\nExplained\\nOpinion\\nSport\\nVideo\\n\\nMoreShow more sections [...] Features\\nEconomy\\nHuman Rights\\nClimate Crisis\\nInvestigations\\nInteractives\\nIn Pictures\\nScience & Technology\\nPodcasts\\n\\n\\n\\nLive\\nClick here to search\\nSign upEnrich your Al Jazeera experience by signing in or creating an account.\\nNavigation menu\\n\\nTrending\\nSyria\\nRussia-Ukraine War\\nGaza\\nDonald Trump\\n\\nSport|Cricket\\nICC Champions Trophy 2025 final: India beat New Zealand by four wickets\\nIndia overcome New Zealand’s 251-7 to win by four wickets in the 2025 Champions Trophy final in Dubai.', 'score': 0.85157084}]\u001b[0m\n",
            "Thought:\u001b[32;1m\u001b[1;3mI have found relevant information about the ICC 2025 final. \n",
            "\n",
            "Action: Tavily Search  \n",
            "Action Input: 'India New Zealand ICC Champions Trophy 2025 final details'  \u001b[0m\n",
            "Observation: \u001b[36;1m\u001b[1;3m[{'title': '2025 ICC Champions Trophy final - Wikipedia', 'url': 'https://en.wikipedia.org/wiki/2025_ICC_Champions_Trophy_final', 'content': 'The 2025 ICC Champions Trophy final will be an One Day International (ODI) cricket match to be played at the Dubai International Cricket Stadium on 9 March 2025 to determine the winner of 2025 ICC Champions Trophy. It will be played between India and New Zealand. It will be second time that India and New Zealand will play a Champions Trophy final against each other, after the 2000 final.\\nBackground\\n[edit]\\nMain article: 2025 ICC Champions Trophy [...] Appearance\\nmove to sidebar hide\\nFrom Wikipedia, the free encyclopedia\\n2025 ICC Champions Trophy finalThe Dubai International Cricket Stadium in Dubai (pictured in 2019) will host its first ICC Champions Trophy final.Event2025 ICC Champions TrophyIndiaNew ZealandDate9 March 2025VenueDubai International Cricket Stadium, DubaiUmpiresRichard Illingworth (Eng) and Paul Reiffel (Aus)← 20172029 →\\nCricket final [...] | \\xa0India | vs | \\xa0New Zealand |\\n| --- | --- | --- |\\n| Opponent | Date | Result | Points | Match | Opponent | Date | Result | Points |\\n| Group A | Group stage | Group A |\\n| \\xa0Bangladesh | 20 February 2025 | Won | 2 | 1 | \\xa0Pakistan | 19 February 2025 | Won | 2 |\\n| \\xa0Pakistan | 23 February 2025 | Won | 4 | 2 | \\xa0Bangladesh | 24 February 2025 | Won | 4 |\\n| \\xa0New Zealand | 2 March 2025 | Won | 6 | 3 | \\xa0India | 2 March 2025 | Lost | 4 |\\n| Semi-final 1 | Knockout stage | Semi-final 2 |', 'score': 0.93086797}, {'title': 'India edge New Zealand to win the Champions Trophy 2025', 'url': 'https://www.icc-cricket.com/news/live-india-and-new-zealand-on-crossroads-in-the-champions-trophy-final', 'content': 'India won the ICC Champions Trophy 2025 Final in Dubai, beating New Zealand by four wickets. They made 254/6, with KL Rahul and Ravindra', 'score': 0.8865877}]\u001b[0m\n",
            "Thought:\u001b[32;1m\u001b[1;3mI have gathered enough information regarding the ICC 2025 final match. \n",
            "\n",
            "Action: Tavily Search  \n",
            "Action Input: 'India New Zealand ICC Champions Trophy 2025 match summary'  \u001b[0m\n",
            "Observation: \u001b[36;1m\u001b[1;3m[{'title': '2025 ICC Champions Trophy final - Wikipedia', 'url': 'https://en.wikipedia.org/wiki/2025_ICC_Champions_Trophy_final', 'content': '| \\xa0India | vs | \\xa0New Zealand |\\n| --- | --- | --- |\\n| Opponent | Date | Result | Points | Match | Opponent | Date | Result | Points |\\n| Group A | Group stage | Group A |\\n| \\xa0Bangladesh | 20 February 2025 | Won | 2 | 1 | \\xa0Pakistan | 19 February 2025 | Won | 2 |\\n| \\xa0Pakistan | 23 February 2025 | Won | 4 | 2 | \\xa0Bangladesh | 24 February 2025 | Won | 4 |\\n| \\xa0New Zealand | 2 March 2025 | Won | 6 | 3 | \\xa0India | 2 March 2025 | Lost | 4 |\\n| Semi-final 1 | Knockout stage | Semi-final 2 | [...] ^ \"Champions Trophy: Varun Chakravarthy takes 5 wickets as India defeat New Zealand by 44 runs to set up semifinal date with Australia\". The Indian Express. Retrieved 3 March 2025.\\n^ \"IND vs AUS: Kohli leads India into fifth Champions Trophy final\". Sportstar. Retrieved 4 March 2025.\\n^ \"New Zealand Dominate Pakistan With 60-Run Win In Champions Trophy Opener\". NDTV Sports. Retrieved 19 February 2025.\\n^ \"NZ beat Bangladesh to reach Champions Trophy semis\". BBC. Retrieved 24 February 2025. [...] The 2025 ICC Champions Trophy final will be an One Day International (ODI) cricket match to be played at the Dubai International Cricket Stadium on 9 March 2025 to determine the winner of 2025 ICC Champions Trophy. It will be played between India and New Zealand. It will be second time that India and New Zealand will play a Champions Trophy final against each other, after the 2000 final.\\nBackground\\n[edit]\\nMain article: 2025 ICC Champions Trophy', 'score': 0.9168945}, {'title': 'IND vs NZ Cricket Scorecard, 12th Match, Group A at Dubai, March ...', 'url': 'https://www.espncricinfo.com/series/icc-champions-trophy-2024-25-1459031/india-vs-new-zealand-12th-match-group-a-1466425/full-scorecard', 'content': '12th Match, Group A (D/N), Dubai (DICS), March 02, 2025, ICC Champions Trophy. IND Flag IND. 249/9. NZ Flag NZ. (45.3/50 ov, T:250) 205. India won by 44 runs.', 'score': 0.86080295}]\u001b[0m\n",
            "Thought:\u001b[32;1m\u001b[1;3mI have confirmed that India won the ICC Champions Trophy 2025 final.\n",
            "\n",
            "Final Answer: भारत ने 2025 आईसीसी चैंपियंस ट्रॉफी फाइनल में न्यूजीलैंड को चार विकेट से हराकर खिताब जीता।\u001b[0m\n",
            "\n",
            "\u001b[1m> Finished chain.\u001b[0m\n",
            "उत्तर: भारत ने 2025 आईसीसी चैंपियंस ट्रॉफी फाइनल में न्यूजीलैंड को चार विकेट से हराकर खिताब जीता।\n"
          ]
        }
      ],
      "source": [
        "from langchain.agents import Tool, AgentExecutor, initialize_agent\n",
        "from langchain.agents.agent_types import AgentType\n",
        "from langchain_community.tools.tavily_search import TavilySearchResults\n",
        "from langchain_openai import ChatOpenAI\n",
        "from langchain.schema import HumanMessage\n",
        "\n",
        "# Step 1: Define Sutra LLM via LangChain\n",
        "llm = ChatOpenAI(\n",
        "    api_key=userdata.get(\"SUTRA_API_KEY\"),\n",
        "    base_url=\"https://api.two.ai/v2\",\n",
        "    model=\"sutra-v2\"\n",
        ")\n",
        "\n",
        "# Step 2: Setup Tavily search tool\n",
        "search_tool = TavilySearchResults(max_results=2)\n",
        "\n",
        "# Step 3: Convert it to LangChain Tool\n",
        "search = Tool.from_function(\n",
        "    name=\"Tavily Search\",\n",
        "    description=\"Real-time web search tool. उपयोगकर्ता के प्रश्नों के उत्तर खोजने के लिए वेब पर खोज करता है।\",\n",
        "    func=search_tool.invoke\n",
        ")\n",
        "\n",
        "# Step 4: Initialize Agent\n",
        "agent = initialize_agent(\n",
        "    tools=[search],\n",
        "    llm=llm,\n",
        "    agent=AgentType.ZERO_SHOT_REACT_DESCRIPTION,\n",
        "    verbose=True\n",
        ")\n",
        "\n",
        "# Step 5: Multilingual Query Example\n",
        "query = \"आईसीसी 2025 फाइनल किसने जीता?\"  # Hindi: Who Won ICC 2025 Finals?\n",
        "\n",
        "# Step 6: Invoke agent\n",
        "response = agent.invoke({\"input\": query})\n",
        "print(\"उत्तर:\", response[\"output\"])"
      ]
    }
  ],
  "metadata": {
    "colab": {
      "provenance": []
    },
    "kernelspec": {
      "display_name": "Python 3",
      "name": "python3"
    },
    "language_info": {
      "name": "python"
    }
  },
  "nbformat": 4,
  "nbformat_minor": 0
}
