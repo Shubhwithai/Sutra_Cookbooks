{
  "cells": [
    {
      "cell_type": "markdown",
      "metadata": {
        "id": "3LlcoNgkG5ke"
      },
      "source": [
        "# SUTRA Prompting Guide\n",
        "\n",
        "\n",
        "\n",
        "\n",
        "<img src=\"https://play-lh.googleusercontent.com/_O9p4Z4yucA2NLmZBu9mTJCuBwXeT9NcbtrDN6I8gKlkIPRySV0adOmbyipjSj9Gew\" width=\"120\">\n",
        "\n",
        "## Introduction\n",
        "\n",
        "This notebook demonstrates how to use Sutra models through the OpenAI client interface. This approach  allows you to leverage your existing OpenAI-based code and workflows while accessing Sutra's powerful language models, which excel at Indian languages and cultural contexts.\n",
        "\n",
        "### What You'll Learn\n",
        "\n",
        "- Setting up the OpenAI client to work with Sutra models\n",
        "- Best practices for prompting Sutra models\n",
        "- Practical examples across various use cases\n",
        "- Advanced techniques for getting the most out of Sutra\n",
        "\n",
        "<a href=\"https://colab.research.google.com/drive/14cI_vUqW7U__0iwTq19CXesmLPPYSlfs?usp=sharing\" target=\"_parent\"><img src=\"https://colab.research.google.com/assets/colab-badge.svg\" alt=\"Open In Colab\"/></a>"
      ]
    },
    {
      "cell_type": "markdown",
      "metadata": {
        "id": "T-aK0gzHKwNk"
      },
      "source": [
        "## Get Your API Keys\n",
        "\n",
        "Before you begin, make sure you have:\n",
        "\n",
        "1. A SUTRA API key (Get yours at [TWO AI's SUTRA API page](https://www.two.ai/sutra/api))\n",
        "2. Basic familiarity with Python and Jupyter notebooks\n",
        "\n",
        "This notebook is designed to run in Google Colab, so no local Python installation is required."
      ]
    },
    {
      "cell_type": "markdown",
      "metadata": {
        "id": "YvRDhX-zG5kg"
      },
      "source": [
        "## Setup\n",
        "\n",
        "First, let's install the OpenAI client library."
      ]
    },
    {
      "cell_type": "code",
      "execution_count": null,
      "metadata": {
        "id": "d7mqG9c_G5kg"
      },
      "outputs": [],
      "source": [
        "!pip install -q openai"
      ]
    },
    {
      "cell_type": "markdown",
      "metadata": {
        "id": "cbKyRdWDJ7fC"
      },
      "source": [
        "### Import necessary libraries\n"
      ]
    },
    {
      "cell_type": "code",
      "execution_count": null,
      "metadata": {
        "id": "scm5GNreJ7_1"
      },
      "outputs": [],
      "source": [
        "import os\n",
        "from openai import OpenAI\n",
        "from google.colab import userdata"
      ]
    },
    {
      "cell_type": "markdown",
      "metadata": {
        "id": "xV_Bv3xjJzxh"
      },
      "source": [
        "## Authentication\n",
        "\n",
        "To use the Sutra API, you need to set up your API key.\n",
        "\n",
        "Set up authentication using Colab secrets."
      ]
    },
    {
      "cell_type": "code",
      "execution_count": null,
      "metadata": {
        "id": "LqLum848Jy_i"
      },
      "outputs": [],
      "source": [
        "# Get API key from Colab secrets\n",
        "os.environ[\"SUTRA_API_KEY\"] = userdata.get('SUTRA_API_KEY')"
      ]
    },
    {
      "cell_type": "markdown",
      "metadata": {
        "id": "tAtB963nG5kh"
      },
      "source": [
        "## Configuring OpenAI Client for Sutra\n",
        "\n",
        "To use Sutra models with the OpenAI client, we need to configure the client to point to Sutra's API endpoint."
      ]
    },
    {
      "cell_type": "code",
      "execution_count": null,
      "metadata": {
        "id": "WcATBJeoG5kh"
      },
      "outputs": [],
      "source": [
        "# Create the OpenAI client with Sutra's API endpoint\n",
        "client = OpenAI(\n",
        "    base_url=\"https://api.two.ai/v2\",\n",
        "    api_key=os.environ.get(\"SUTRA_API_KEY\")\n",
        ")"
      ]
    },
    {
      "cell_type": "markdown",
      "metadata": {
        "id": "l1wtjDBfG5kh"
      },
      "source": [
        "## Helper Function\n",
        "\n",
        "Let's create a helper function to easily generate responses from Sutra models using the OpenAI client."
      ]
    },
    {
      "cell_type": "code",
      "execution_count": null,
      "metadata": {
        "id": "xBixQUvFG5kh"
      },
      "outputs": [],
      "source": [
        "def generate_with_sutra(prompt, temperature=0.7, max_tokens=1000):\n",
        "    \"\"\"Generate text using Sutra models via OpenAI client\"\"\"\n",
        "    response = client.chat.completions.create(\n",
        "        model=\"sutra-v2\",\n",
        "        messages=[\n",
        "            {\"role\": \"user\", \"content\": prompt}\n",
        "        ],\n",
        "        temperature=temperature,\n",
        "        max_tokens=max_tokens\n",
        "    )\n",
        "    return response.choices[0].message.content"
      ]
    },
    {
      "cell_type": "markdown",
      "metadata": {
        "id": "Uxc87PuKG5ki"
      },
      "source": [
        "## 1. Basic Usage\n",
        "\n",
        "Let's start with some basic examples of using Sutra models through the OpenAI client."
      ]
    },
    {
      "cell_type": "code",
      "execution_count": null,
      "metadata": {
        "colab": {
          "base_uri": "https://localhost:8080/"
        },
        "id": "G4tsobu8G5ki",
        "outputId": "228e4fa5-7e66-4167-ca51-702146f3fbc3"
      },
      "outputs": [
        {
          "name": "stdout",
          "output_type": "stream",
          "text": [
            "The Indian monsoon season, which typically occurs from June to September, is crucial for agriculture in India due to several key factors:\n",
            "\n",
            "1. **Water Supply**: The monsoon brings about 70-90% of the annual rainfall in India, replenishing water sources essential for irrigation and crop growth. This is particularly important in regions where groundwater levels are low or where irrigation infrastructure may be limited.\n",
            "\n",
            "2. **Crop Production**: Many staple crops, such as rice, pulses, and coarse cereals, depend heavily on monsoon rains. The timing and distribution of rainfall during the monsoon season significantly affect crop yields. Adequate rainfall can lead to high productivity, while a delay or insufficient rainfall can result in droughts and crop failures.\n",
            "\n",
            "3. **Soil Moisture**: The rains help maintain soil moisture, which is vital for plant growth. It supports not only the initial stages of crop development but also sustains plants throughout their growth cycle.\n",
            "\n",
            "4. **Economic Impact**: Agriculture is a significant part of the Indian economy, employing a large portion of the population. Successful monsoon seasons lead to better agricultural output, boosting rural incomes and contributing to overall economic stability.\n",
            "\n",
            "5. **Biodiversity and Ecosystems**: The monsoon also plays a critical role in maintaining biodiversity and the ecological balance in agricultural landscapes. It supports various flora and fauna that contribute to sustainable farming practices.\n",
            "\n",
            "6. **Irrigation Planning**: Farmers rely on the monsoon predictions to plan their cropping cycles. Knowledge of expected rainfall patterns helps in decision-making regarding planting and harvesting times.\n",
            "\n",
            "7. **Climate Variability**: Understanding monsoon patterns is crucial for managing climate variability and its effects on agriculture. Erratic monsoons can lead to food insecurity, necessitating adaptive strategies and investments in weather forecasting and agricultural practices.\n",
            "\n",
            "Overall, the Indian monsoon season is integral to ensuring food security, sustaining livelihoods, and fostering economic growth in the agrarian sector.\n"
          ]
        }
      ],
      "source": [
        "# Simple text generation\n",
        "prompt = \"Explain the importance of the Indian monsoon season for agriculture.\"\n",
        "response = generate_with_sutra(prompt)\n",
        "print(response)"
      ]
    },
    {
      "cell_type": "code",
      "execution_count": null,
      "metadata": {
        "colab": {
          "base_uri": "https://localhost:8080/"
        },
        "id": "eB5LXNBvG5ki",
        "outputId": "6a904a79-25a8-4079-b522-ea313469177c"
      },
      "outputs": [
        {
          "name": "stdout",
          "output_type": "stream",
          "text": [
            "Using sutra-v2 model:\n",
            "Majestic peaks in whispered snow,  \n",
            "Where ancient spirits gently flow,  \n",
            "Veiled in clouds, they touch the sky,  \n",
            "Guardians of time, standing high.  \n",
            "\n",
            "Rivers carve through valleys deep,  \n",
            "Secrets in their currents keep,  \n",
            "Sunrise paints the mountains gold,  \n",
            "Tales of wonder yet untold.  \n",
            "\n",
            "Nature’s canvas, vast and grand,  \n",
            "In every stone, a timeless brand,  \n",
            "Himalayas, proud and free,  \n",
            "Eternal beauty, wild decree.  \n"
          ]
        }
      ],
      "source": [
        "# Using Sutra model\n",
        "prompt = \"Write a short poem about the Himalayas.\"\n",
        "\n",
        "print(\"Using sutra-v2 model:\")\n",
        "response = generate_with_sutra(prompt)\n",
        "print(response)"
      ]
    },
    {
      "cell_type": "markdown",
      "metadata": {
        "id": "BV3oipc1G5ki"
      },
      "source": [
        "## 2. Best Prompting Practices for Sutra Models\n",
        "\n",
        "Let's explore some best practices for crafting effective prompts for Sutra models."
      ]
    },
    {
      "cell_type": "markdown",
      "metadata": {
        "id": "-GPvzZGIG5ki"
      },
      "source": [
        "### Be Clear and Specific"
      ]
    },
    {
      "cell_type": "code",
      "execution_count": null,
      "metadata": {
        "colab": {
          "base_uri": "https://localhost:8080/"
        },
        "id": "Za9h7kjZG5ki",
        "outputId": "18b008ce-0d0c-4d92-bc85-84ca1cabea9f"
      },
      "outputs": [
        {
          "name": "stdout",
          "output_type": "stream",
          "text": [
            "Response to vague prompt:\n",
            "Indian cuisine is renowned for its diversity, rich flavors, and distinctive regional specialties. It reflects the country's cultural heritage, geography, and climate, resulting in a wide variety of dishes and cooking techniques. Here are some key aspects:\n",
            "\n",
            "1. **Regional Diversity**: \n",
            "   - **North In...\n",
            "\n",
            "Response to specific prompt:\n",
            "South Indian breakfast dishes exhibit rich regional variations influenced by local ingredients, climate, and cultural practices. Here’s a look at some signature dishes from Karnataka, Tamil Nadu, Kerala, and Andhra Pradesh, along with their key ingredients.\n",
            "\n",
            "### Karnataka\n",
            "1. **Dose (Dosa)**: A thin, crispy crepe made from fermented rice and urad dal (black gram) batter. It is often served with coconut chutney and sambar (a lentil-based vegetable stew).\n",
            "   - **Key Ingredients**: Rice, urad dal, fenugreek seeds, water.\n",
            "\n",
            "2. **Idli**: Steamed rice cakes made from a fermented batter of rice and urad dal. Idlis are typically served with chutneys and sambar.\n",
            "   - **Key Ingredients**: Rice, urad dal, salt, water.\n",
            "\n",
            "### Tamil Nadu\n",
            "1. **Idli**: Similar to Karnataka, idli is also popular in Tamil Nadu but often served with a variety of chutneys like tomato, coconut, or mint, and spicy sambar.\n",
            "   - **Key Ingredients**: Rice, urad dal, salt, water.\n",
            "\n",
            "2. **Pongal**: A savory dish made with rice and moong dal, seasoned with black pepper, cumin, ginger, and garnished with ghee, cashews, and curry leaves.\n",
            "   - **Key Ingredients**: Rice, moong dal, black pepper, cumin seeds, ginger, ghee.\n",
            "\n",
            "### Kerala\n",
            "1. **Appam**: A type of pancake made with fermented rice batter and coconut milk, characterized by its soft center and crispy edges. It is often paired with stew (vegetable or meat-based).\n",
            "   - **Key Ingredients**: Rice, coconut milk, yeast, sugar.\n",
            "\n",
            "2. **Puttu**: Steamed cylinders of rice flour and grated coconut, often served with banana or sugar and sometimes with curry.\n",
            "   - **Key Ingredients**: Rice flour, grated coconut, water, salt.\n",
            "\n",
            "### Andhra Pradesh\n",
            "1. **Upma**: A savory dish made from semolina (rava), cooked with vegetables, mustard seeds, and green chilies. It's often garnished with coriander leaves and served with chutney.\n",
            "   - **Key Ingredients**: Semolina, mustard seeds, green chilies, curry leaves, vegetables.\n",
            "\n",
            "2. **Pesarattu**: A dosa made from green gram (moong dal), usually served with ginger chutney. It is unique for its use of whole moong and is rich in protein.\n",
            "   - **Key Ingredients**: Green gram (moong dal), ginger, green chilies, cumin seeds.\n",
            "\n",
            "These dishes not only showcase the culinary diversity of South India but also reflect the local produce and cooking techniques unique to each state.\n"
          ]
        }
      ],
      "source": [
        "# Vague prompt\n",
        "vague_prompt = \"Tell me about Indian cuisine.\"\n",
        "print(\"Response to vague prompt:\")\n",
        "vague_response = generate_with_sutra(vague_prompt)\n",
        "print(vague_response[:300] + \"...\\n\")\n",
        "\n",
        "# Specific prompt\n",
        "specific_prompt = \"Explain the regional variations in South Indian breakfast dishes across Karnataka, Tamil Nadu, Kerala, and Andhra Pradesh. Include at least two signature dishes from each state and their key ingredients.\"\n",
        "print(\"Response to specific prompt:\")\n",
        "specific_response = generate_with_sutra(specific_prompt)\n",
        "print(specific_response)"
      ]
    },
    {
      "cell_type": "markdown",
      "metadata": {
        "id": "k_V79E5UG5ki"
      },
      "source": [
        "### Structure Your Prompts"
      ]
    },
    {
      "cell_type": "code",
      "execution_count": null,
      "metadata": {
        "colab": {
          "base_uri": "https://localhost:8080/"
        },
        "id": "TY4mD7zMG5kj",
        "outputId": "b00bd52a-c753-4c54-b1b1-c54045f13ccd"
      },
      "outputs": [
        {
          "name": "stdout",
          "output_type": "stream",
          "text": [
            "Category: Shipping\n",
            "\n",
            "Explanation: The comment primarily addresses the delivery speed and the condition of the packaging upon arrival. While it mentions that the product itself was intact, the focus is on the delivery experience, making \"Shipping\" the most appropriate category.\n"
          ]
        }
      ],
      "source": [
        "structured_prompt = \"\"\"\n",
        "Context: I'm analyzing customer feedback for an e-commerce platform selling electronics in India.\n",
        "\n",
        "Task: Categorize the following customer comment into one of these categories: Product Quality, Shipping, Customer Service, Website Experience, or Price.\n",
        "\n",
        "Comment: \"The delivery was super fast, but the packaging was damaged when it arrived. Fortunately, the product inside was intact.\"\n",
        "\n",
        "Format: Provide the category and a brief explanation for your choice.\n",
        "\"\"\"\n",
        "\n",
        "response = generate_with_sutra(structured_prompt)\n",
        "print(response)"
      ]
    },
    {
      "cell_type": "markdown",
      "metadata": {
        "id": "ISC-OofxG5kj"
      },
      "source": [
        "### Specify the Desired Output Format"
      ]
    },
    {
      "cell_type": "code",
      "execution_count": null,
      "metadata": {
        "colab": {
          "base_uri": "https://localhost:8080/"
        },
        "id": "6r5bP9O_G5kj",
        "outputId": "43c4964f-9f19-48d9-c088-b3f086dca12a"
      },
      "outputs": [
        {
          "name": "stdout",
          "output_type": "stream",
          "text": [
            "| Dance Form      | State of Origin | Key Characteristics                                       | Famous Exponents                     | Traditional Costume Elements                |\n",
            "|------------------|-----------------|---------------------------------------------------------|--------------------------------------|---------------------------------------------|\n",
            "| Bharatanatyam    | Tamil Nadu      | Expressive facial expressions (abhinaya), intricate footwork, and storytelling through dance. | Rukmini Devi Arundale, Alarmel Valli | Sari for female dancers, dhoti for male dancers, ornate jewelry, and traditional hairstyles. |\n",
            "| Kathak           | Uttar Pradesh   | Emphasizes rhythmic footwork, spins (chakkars), and narrating stories through gestures and expressions. | Birju Maharaj, Shambhu Maharaj      | Anarkali suits for female dancers, kurtas and churidars for males, embellished with decorative accessories and jewelry. |\n",
            "| Odissi           | Odisha          | Characterized by its graceful movements, sculpturesque poses, and the use of 'tribhangi' (three bends of the body). | Madhavi Mudgal, Kumkum Mohanty       | Sambalpuri sarees for female dancers, dhoti and dupatta for male dancers, adorned with traditional jewelry and makeup. |\n"
          ]
        }
      ],
      "source": [
        "format_prompt = \"\"\"\n",
        "Provide information about three popular classical dance forms of India.\n",
        "\n",
        "Format your response as a markdown table with the following columns:\n",
        "- Dance Form\n",
        "- State of Origin\n",
        "- Key Characteristics\n",
        "- Famous Exponents\n",
        "- Traditional Costume Elements\n",
        "\"\"\"\n",
        "\n",
        "response = generate_with_sutra(format_prompt)\n",
        "print(response)"
      ]
    },
    {
      "cell_type": "markdown",
      "metadata": {
        "id": "Bffcd5vAG5kj"
      },
      "source": [
        "## 3. Multilingual Capabilities\n",
        "\n",
        "One of Sutra's key strengths is its exceptional performance with Indian languages. Let's explore this capability."
      ]
    },
    {
      "cell_type": "code",
      "execution_count": null,
      "metadata": {
        "colab": {
          "base_uri": "https://localhost:8080/"
        },
        "id": "vqzFxjb_G5kj",
        "outputId": "f5c1eff6-e5f0-48f3-9c5d-201b38c9a8bf"
      },
      "outputs": [
        {
          "name": "stdout",
          "output_type": "stream",
          "text": [
            "भारत का स्टार्टअप इकोसिस्टम तेजी से विकसित हो रहा है और यह विश्व के सबसे बड़े स्टार्टअप हब में से एक बन गया है। पिछले कुछ वर्षों में, भारत ने अनेक सफल स्टार्टअप्स को जन्म दिया है, जो विभिन्न क्षेत्रों जैसे ई-कॉमर्स, फिनटेक, हेल्थकेयर, एजुकेशन टेक्नोलॉजी आदि में कार्य कर रहे हैं। इसके पीछे कई कारण हैं, जैसे विशाल उपभोक्ता बाजार, युवा जनसंख्या, तकनीकी नवाचार, और सरकार की पहलें जैसे \"स्टार्टअप इंडिया\" और \"डिजिटल इंडिया\"।\n",
            "\n",
            "**विकास के लिए तीन सुझाव:**\n",
            "\n",
            "1. **शिक्षा और प्रशिक्षण पर ध्यान**: भारतीय शिक्षा प्रणाली में स्टार्टअप और उद्यमिता से संबंधित पाठ्यक्रमों को शामिल किया जाना चाहिए। छात्रों को प्रोजेक्ट आधारित सीखने के अवसर देने से वे वास्तविक दुनिया की समस्याओं को समझ सकेंगे और अपने विचारों को व्यावसायिक रूप में विकसित कर सकेंगे।\n",
            "\n",
            "2. **फंडिंग और निवेश की उपलब्धता**: स्टार्टअप्स को शुरुआती चरण में वित्तीय सहायता की आवश्यकता होती है। इसके लिए वेंचर कैपिटल फर्मों, एंजेल इन्वेस्टर्स और सरकारी योजनाओं के माध्यम से फंडिंग के अधिक विकल्प उपलब्ध कराने की आवश्यकता है। इसके अलावा, बैंकों द्वारा विशेष लोन योजनाएं भी बनाई जानी चाहिए।\n",
            "\n",
            "3. **नवाचार और अनुसंधान को बढ़ावा**: अनुसंधान एवं विकास (R&D) में निवेश को बढ़ावा दिया जाना चाहिए। स्टार्टअप्स को सहयोगात्मक अनुसंधान केंद्रों और उच्च शिक्षण संस्थानों के साथ जोड़कर नवाचार को प्रेरित किया जा सकता है। इससे नए विचार और तकनीकें उत्पन्न होंगी, जिससे स्टार्टअप्स को प्रतिस्पर्धात्मक लाभ मिलेगा।\n",
            "\n",
            "इन सुझावों के माध्यम से भारत का स्टार्टअप इकोसिस्टम और भी मजबूत और स्थायी बन सकता है।\n"
          ]
        }
      ],
      "source": [
        "# Hindi prompt\n",
        "hindi_prompt = \"भारत में स्टार्टअप इकोसिस्टम के बारे में बताएं और इसके विकास के लिए तीन सुझाव दें।\"\n",
        "response = generate_with_sutra(hindi_prompt)\n",
        "print(response)"
      ]
    },
    {
      "cell_type": "code",
      "execution_count": null,
      "metadata": {
        "colab": {
          "base_uri": "https://localhost:8080/"
        },
        "id": "bPzaceqpG5kj",
        "outputId": "d5d6349c-37bc-42c8-d6f8-c5aa35fffa07"
      },
      "outputs": [
        {
          "name": "stdout",
          "output_type": "stream",
          "text": [
            "डिजिटल पेमेंट्स के बढ़ते चलन का भारतीय अर्थव्यवस्था पर कई महत्वपूर्ण प्रभाव पड़ रहा है। यहाँ पाँच मुख्य बिंदु दिए गए हैं:\n",
            "\n",
            "1. **आर्थिक समावेशन**: डिजिटल पेमेंट्स ने छोटे व्यापारियों और ग्रामीण क्षेत्रों में रहने वाले लोगों को भी वित्तीय सेवाओं तक पहुँच प्रदान की है, जिससे आर्थिक समावेशन बढ़ा है। यह उन लोगों के लिए लाभकारी है जो पारंपरिक बैंकिंग प्रणाली से बाहर थे।\n",
            "\n",
            "2. **लेन-देन की पारदर्शिता**: डिजिटल लेन-देन अधिक पारदर्शी होते हैं, जिससे कर चोरी और भ्रष्टाचार कम करने में मदद मिलती है। इससे सरकार को राजस्व बढ़ाने में सहायता मिलती है और व्यवस्था में सुधार होता है।\n",
            "\n",
            "3. **लागत में कमी**: डिजिटल पेमेंट्स से लेन-देन की लागत कम होती है। कैश हैंडलिंग, सुरक्षा और परिवहन की लागत घट जाती है, जिससे व्यवसायों की लाभप्रदता में सुधार होता है।\n",
            "\n",
            "4. **नवाचार और तकनीकी विकास**: डिजिटल भुगतान प्रणालियों के बढ़ने से फिनटेक स्टार्टअप्स और तकनीकी नवाचार को बढ़ावा मिला है। यह क्षेत्र नई सेवाएँ और उत्पाद विकसित करने में सक्षम हो रहा है, जिससे रोजगार के नए अवसर उत्पन्न हो रहे हैं।\n",
            "\n",
            "5. **उपभोक्ता अनुभव में सुधार**: डिजिटल पेमेंट्स से उपभोक्ताओं को सुविधाजनक और त्वरित अनुभव मिलता है। इससे उपभोक्ता खरीददारी में अधिक सक्रिय होते हैं, जो अंततः अर्थव्यवस्था को गति देता है। \n",
            "\n",
            "ये प्रभाव भारत की अर्थव्यवस्था को अधिक गतिशील और प्रतिस्पर्धात्मक बनाने में महत्वपूर्ण भूमिका निभा रहे हैं।\n"
          ]
        }
      ],
      "source": [
        "# Code-switching prompt (mixing English and Hindi)\n",
        "code_switching_prompt = \"Digital payments के बढ़ते चलन से भारतीय economy पर क्या प्रभाव पड़ रहा है? 5 key points में बताएं।\"\n",
        "response = generate_with_sutra(code_switching_prompt)\n",
        "print(response)"
      ]
    },
    {
      "cell_type": "code",
      "execution_count": null,
      "metadata": {
        "colab": {
          "base_uri": "https://localhost:8080/"
        },
        "id": "Ig38DCNaG5kk",
        "outputId": "c9e531c6-c02a-4dde-ccd4-0c53da2fd45a"
      },
      "outputs": [
        {
          "name": "stdout",
          "output_type": "stream",
          "text": [
            "\"மெஷின் லெர்னிங் ஆல்காரிதம் பெரும் தரவுத்தொகுப்புகளை செயலாக்கி, தெளிவான நிரலாக்கம் இல்லாமல் மாதிரிகளை அடையாளம் காணவும், முன்னறிக்கைகள் உருவாக்கவும் முடியும். இதற்கான பயன்பாடுகள் சுகாதாரம், நிதி மற்றும் பல்வேறு தொழில்களில் உள்ளன.\"\n"
          ]
        }
      ],
      "source": [
        "# Translation with context\n",
        "translation_prompt = \"\"\"\n",
        "Translate the following English text to Tamil. Maintain the technical terminology in English where appropriate:\n",
        "\n",
        "\"Machine learning algorithms can process large datasets to identify patterns and make predictions without explicit programming. This has applications in healthcare, finance, and many other industries.\"\n",
        "\"\"\"\n",
        "response = generate_with_sutra(translation_prompt)\n",
        "print(response)"
      ]
    },
    {
      "cell_type": "markdown",
      "metadata": {
        "id": "pKkIH3tkG5kk"
      },
      "source": [
        "## 4. Advanced Prompting Techniques\n",
        "\n",
        "Let's explore some advanced techniques to get even better results from Sutra models."
      ]
    },
    {
      "cell_type": "markdown",
      "metadata": {
        "id": "lmJMGNCkG5kk"
      },
      "source": [
        "### Few-Shot Learning"
      ]
    },
    {
      "cell_type": "code",
      "execution_count": null,
      "metadata": {
        "colab": {
          "base_uri": "https://localhost:8080/"
        },
        "id": "ZkmU_efFG5kk",
        "outputId": "6116641a-8f04-4841-a2a9-4c80a5cc44e9"
      },
      "outputs": [
        {
          "name": "stdout",
          "output_type": "stream",
          "text": [
            "Sentiment: Neutral\n"
          ]
        }
      ],
      "source": [
        "few_shot_prompt = \"\"\"\n",
        "Classify each customer review as Positive, Neutral, or Negative.\n",
        "\n",
        "Review: \"The product arrived on time and works perfectly. Very satisfied!\"\n",
        "Sentiment: Positive\n",
        "\n",
        "Review: \"Delivery was quick but the instruction manual is confusing.\"\n",
        "Sentiment: Neutral\n",
        "\n",
        "Review: \"Poor quality product. Broke after two days of use. Waste of money.\"\n",
        "Sentiment: Negative\n",
        "\n",
        "Review: \"Average product for the price. Nothing special but does the job.\"\n",
        "Sentiment:\n",
        "\"\"\"\n",
        "\n",
        "response = generate_with_sutra(few_shot_prompt)\n",
        "print(response)"
      ]
    },
    {
      "cell_type": "markdown",
      "metadata": {
        "id": "1B4-hMXVG5kk"
      },
      "source": [
        "### Chain-of-Thought Prompting"
      ]
    },
    {
      "cell_type": "code",
      "execution_count": null,
      "metadata": {
        "colab": {
          "base_uri": "https://localhost:8080/"
        },
        "id": "LQw8O-BTG5kk",
        "outputId": "a0e46d3c-2375-4fca-bd67-fc7d3858853a"
      },
      "outputs": [
        {
          "name": "stdout",
          "output_type": "stream",
          "text": [
            "To find the time when the two trains meet, we can follow these steps:\n",
            "\n",
            "1. **Determine the distance traveled by the first train before the second train departs**:\n",
            "   - The first train leaves Delhi at 8:00 AM and travels towards Mumbai at a speed of 60 km/h.\n",
            "   - The second train leaves Mumbai at 9:30 AM.\n",
            "   - By 9:30 AM, the first train has already been traveling for 1.5 hours (from 8:00 AM to 9:30 AM).\n",
            "   \n",
            "   Distance traveled by the first train in 1.5 hours:\n",
            "   \\[\n",
            "   \\text{Distance} = \\text{Speed} \\times \\text{Time} = 60 \\, \\text{km/h} \\times 1.5 \\, \\text{h} = 90 \\, \\text{km}\n",
            "   \\]\n",
            "\n",
            "2. **Calculate the remaining distance between the two trains when the second train starts**:\n",
            "   - The total distance between Delhi and Mumbai is 1440 km.\n",
            "   - When the second train starts, the first train is 90 km away from Delhi.\n",
            "   - Therefore, the distance between the two trains at 9:30 AM is:\n",
            "   \\[\n",
            "   1440 \\, \\text{km} - 90 \\, \\text{km} = 1350 \\, \\text{km}\n",
            "   \\]\n",
            "\n",
            "3. **Determine the relative speed of the two trains**:\n",
            "   - The first train is traveling towards Mumbai at 60 km/h.\n",
            "   - The second train is traveling towards Delhi at 90 km/h.\n",
            "   - Therefore, the combined speed at which they are approaching each other is:\n",
            "   \\[\n",
            "   \\text{Relative Speed} = 60 \\, \\text{km/h} + 90 \\, \\text{km/h} = 150 \\, \\text{km/h}\n",
            "   \\]\n",
            "\n",
            "4. **Calculate the time taken for the trains to meet**:\n",
            "   - To find the time required for the trains to meet, we can use the formula:\n",
            "   \\[\n",
            "   \\text{Time} = \\frac{\\text{Distance}}{\\text{Speed}} = \\frac{1350 \\, \\text{km}}{150 \\, \\text{km/h}} = 9 \\, \\text{hours}\n",
            "   \\]\n",
            "\n",
            "5. **Determine the meeting time**:\n",
            "   - The second train starts at 9:30 AM, and it takes 9 hours for the two trains to meet.\n",
            "   - Therefore, the time when the two trains meet is:\n",
            "   \\[\n",
            "   9:30 \\, \\text{AM} + 9 \\, \\text{hours} = 6:30 \\, \\text{PM}\n",
            "   \\]\n",
            "\n",
            "In conclusion, the two trains will meet at **6:30 PM**.\n"
          ]
        }
      ],
      "source": [
        "cot_prompt = \"\"\"\n",
        "Problem: A train leaves Delhi at 8:00 AM and travels at 60 km/h towards Mumbai, which is 1440 km away. Another train leaves Mumbai at 9:30 AM and travels at 90 km/h towards Delhi. At what time will the two trains meet?\n",
        "\n",
        "Let's solve this step by step:\n",
        "\"\"\"\n",
        "\n",
        "response = generate_with_sutra(cot_prompt)\n",
        "print(response)"
      ]
    },
    {
      "cell_type": "markdown",
      "metadata": {
        "id": "NNBTkemlG5kk"
      },
      "source": [
        "### Role-Based Prompting"
      ]
    },
    {
      "cell_type": "code",
      "execution_count": null,
      "metadata": {
        "colab": {
          "base_uri": "https://localhost:8080/"
        },
        "id": "nFz0HUK6G5kk",
        "outputId": "0a5dd2f1-25ea-48ad-c183-a17093f1a11b"
      },
      "outputs": [
        {
          "name": "stdout",
          "output_type": "stream",
          "text": [
            "To create a comprehensive retirement plan for your client, we will need to consider several factors, including current financial status, future expenses, desired lifestyle in retirement, and investment options. Here’s a detailed strategy:\n",
            "\n",
            "### Current Financial Snapshot\n",
            "- **Monthly Income**: ₹1,50,000\n",
            "- **Annual Income**: ₹18,00,000\n",
            "- **Current Savings**: ₹30,00,000 (in fixed deposits)\n",
            "- **Home Loan Outstanding**: ₹40,00,000\n",
            "- **EMI**: ₹35,000\n",
            "- **Children's Ages**: 12 and 15 years old\n",
            "\n",
            "### Retirement Goals\n",
            "- **Retirement Age**: 60 years\n",
            "- **Retirement Duration**: Expected lifespan until 85 years (25 years in retirement)\n",
            "- **Desired Monthly Retirement Income**: This amount should cover living expenses, healthcare, and any discretionary spending. A common approach is to aim for 70-80% of pre-retirement income.\n",
            "\n",
            "### Step-by-Step Retirement Planning Strategy\n",
            "\n",
            "#### 1. Assess Current Expenses and Future Needs\n",
            "Calculate the current monthly expenses:\n",
            "- Monthly Income: ₹1,50,000\n",
            "- Subtract EMI: ₹35,000\n",
            "- Remaining Income: ₹1,15,000\n",
            "\n",
            "Estimate monthly expenses (including education costs):\n",
            "- Assume current monthly expenses are around ₹1,00,000.\n",
            "- Post-retirement, aim for ₹1,20,000 (adjusted for inflation).\n",
            "\n",
            "#### 2. Calculate Retirement Corpus Required\n",
            "To determine the required corpus at retirement, consider:\n",
            "- **Monthly Requirement**: ₹1,20,000\n",
            "- **Annual Requirement**: ₹1,20,000 x 12 = ₹14,40,000\n",
            "- Assuming a conservative withdrawal rate of 4%, the total corpus needed can be calculated as:\n",
            "  \n",
            "  \\[\n",
            "  \\text{Required Corpus} = \\frac{\\text{Annual Requirement}}{0.04} = \\frac{14,40,000}{0.04} = ₹3,60,00,000\n",
            "  \\]\n",
            "\n",
            "#### 3. Existing Savings and Investments\n",
            "- Current savings: ₹30,00,000\n",
            "- Factor in the growth of this amount over the next 15 years. Assuming an average return of 7% per annum compounded annually:\n",
            "\n",
            "\\[\n",
            "\\text{Future Value} = \\text{Present Value} \\times (1 + r)^n\n",
            "\\]\n",
            "\\[\n",
            "= 30,00,000 \\times (1 + 0.07)^{15} \\approx 30,00,000 \\times 2.759 = ₹82,77,000\n",
            "\\]\n",
            "\n",
            "#### 4. Additional Savings Needed\n",
            "Calculate the gap between the required corpus and the projected future value of current savings:\n",
            "\n",
            "\\[\n",
            "\\text{Gap} = \\text{Required Corpus} - \\text{Future Value}\n",
            "\\]\n",
            "\\[\n",
            "= 3,60,00,000 - 82,77,000 = ₹2,77,23,000\n",
            "\\]\n",
            "\n",
            "#### 5. Monthly Investment Plan\n",
            "To achieve the required corpus, the client needs to invest regularly. Assuming an expected rate of return of 10% on new investments, calculate the monthly investment required:\n",
            "\n",
            "Using the Future Value of a series formula:\n",
            "\n",
            "\\[\n",
            "\\text{FV} = P \\times \\frac{(1 + r)^n - 1}{r}\n",
            "\\]\n",
            "Where:\n",
            "- \\(FV\\) = Future Value required (₹2,77,23,000)\n",
            "- \\(P\\) = Monthly investment\n",
            "- \\(r\\) = Monthly interest rate (10% annual = 0.00833 monthly)\n",
            "- \\(n\\) = Number of months (15 years = 180 months)\n",
            "\n",
            "Rearranging for \\(P\\):\n",
            "\n",
            "\\[\n",
            "P = \\frac{FV \\cdot r}{(1 + r)^n - 1}\n",
            "\\]\n",
            "\\[\n",
            "= \\frac{2,77,23,000 \\cdot 0.00833}{(1 + 0.00833)^{180} - 1} \\approx ₹29,000\n",
            "\\]\n",
            "\n",
            "### 6. Debt Management\n",
            "The client has a home loan of ₹40,00,000. Consider the following:\n",
            "- If possible, consider making extra payments towards the principal to reduce interest costs and pay off the loan sooner.\n",
            "- Evaluate refinancing options if they can secure a lower interest rate.\n",
            "\n",
            "### 7. Education Planning for Children\n",
            "- **Child aged 15**: Higher education in 3 years.\n",
            "- **Child aged 12**: Higher education in 6 years.\n",
            "\n",
            "Estimate the cost of higher education and create a separate fund for this (approximately ₹20,00,000 for each child assuming inflation). Use SIPs or investments in mutual funds to grow this fund.\n",
            "\n",
            "### 8. Review and Adjust\n",
            "Regularly review\n"
          ]
        }
      ],
      "source": [
        "role_prompt = \"\"\"\n",
        "You are a financial advisor specializing in retirement planning for middle-class Indian families.\n",
        "\n",
        "A client comes to you with the following situation:\n",
        "- 45 years old software engineer\n",
        "- Monthly income: ₹1,50,000\n",
        "- Current savings: ₹30,00,000 in fixed deposits\n",
        "- Has a home loan with ₹40,00,000 remaining (EMI: ₹35,000)\n",
        "- Two children aged 12 and 15, planning for their higher education\n",
        "- Wants to retire at 60\n",
        "\n",
        "Provide a detailed retirement planning strategy for this client.\n",
        "\"\"\"\n",
        "\n",
        "response = generate_with_sutra(role_prompt)\n",
        "print(response)"
      ]
    },
    {
      "cell_type": "markdown",
      "metadata": {
        "id": "pxLZlE2JG5kk"
      },
      "source": [
        "## 5. Practical Use Cases\n",
        "\n",
        "Let's explore some practical applications of Sutra models using the OpenAI client."
      ]
    },
    {
      "cell_type": "markdown",
      "metadata": {
        "id": "s_7VvansG5kk"
      },
      "source": [
        "### Content Generation"
      ]
    },
    {
      "cell_type": "code",
      "execution_count": null,
      "metadata": {
        "colab": {
          "base_uri": "https://localhost:8080/"
        },
        "id": "b8n9HIXhG5kl",
        "outputId": "5c299758-e907-47df-e954-ad7823363ade"
      },
      "outputs": [
        {
          "name": "stdout",
          "output_type": "stream",
          "text": [
            "Incorporating traditional Indian herbs into modern cooking opens up a world of vibrant flavors and health benefits that can transform everyday meals into culinary adventures. These herbs, steeped in centuries of cultural significance, not only enhance taste but also offer a treasure trove of nutritional advantages. Imagine the aromatic warmth of cumin or the refreshing zest of coriander brightening your dishes! Beyond flavor, many Indian herbs are known for their medicinal properties, promoting digestion, boosting immunity, and even reducing inflammation. As home cooks, exploring these herbs invites creativity and experimentation in the kitchen, allowing you to craft unique recipes that celebrate both tradition and innovation. Whether you're sprinkling turmeric into your soups or infusing basil in your salads, the magic of Indian herbs can elevate your cooking while connecting you to a rich culinary heritage. So, grab your apron and let’s embark on this flavorful journey together!\n"
          ]
        }
      ],
      "source": [
        "content_generation_prompt = \"\"\"\n",
        "Write a short blog post introduction (150 words) about the benefits of incorporating traditional Indian herbs in modern cooking.\n",
        "The tone should be informative yet conversational, and the content should appeal to home cooks interested in exploring new flavors.\n",
        "\"\"\"\n",
        "\n",
        "response = generate_with_sutra(content_generation_prompt)\n",
        "print(response)"
      ]
    },
    {
      "cell_type": "markdown",
      "metadata": {
        "id": "1YOLUz80G5kl"
      },
      "source": [
        "### Code Generation"
      ]
    },
    {
      "cell_type": "code",
      "execution_count": null,
      "metadata": {
        "colab": {
          "base_uri": "https://localhost:8080/"
        },
        "id": "Yl3SekU7G5kl",
        "outputId": "3205e5b9-de70-4421-e555-e96210fd37c3"
      },
      "outputs": [
        {
          "name": "stdout",
          "output_type": "stream",
          "text": [
            "Here's a Python function that calculates the mean, median, and mode of a list of numbers. It includes handling for empty lists and lists with one element. The function also contains docstrings and comments for clarity.\n",
            "\n",
            "```python\n",
            "from collections import Counter\n",
            "from typing import List, Union, Tuple\n",
            "\n",
            "def calculate_statistics(numbers: List[Union[int, float]]) -> Tuple[Union[float, None], Union[float, None], Union[float, None]]:\n",
            "    \"\"\"\n",
            "    Calculate the mean, median, and mode of a list of numbers.\n",
            "\n",
            "    Parameters:\n",
            "    numbers (List[Union[int, float]]): A list of numerical values.\n",
            "\n",
            "    Returns:\n",
            "    Tuple[Union[float, None], Union[float, None], Union[float, None]]:\n",
            "        A tuple containing the mean, median, and mode of the list.\n",
            "        Returns None for any statistic if the input list is empty.\n",
            "    \"\"\"\n",
            "    \n",
            "    # Handle empty list\n",
            "    if not numbers:\n",
            "        return None, None, None\n",
            "\n",
            "    # Calculate the mean\n",
            "    mean = sum(numbers) / len(numbers)\n",
            "\n",
            "    # Calculate the median\n",
            "    sorted_numbers = sorted(numbers)\n",
            "    n = len(sorted_numbers)\n",
            "    \n",
            "    if n % 2 == 0:  # If even number of elements\n",
            "        median = (sorted_numbers[n // 2 - 1] + sorted_numbers[n // 2]) / 2\n",
            "    else:  # If odd number of elements\n",
            "        median = sorted_numbers[n // 2]\n",
            "\n",
            "    # Calculate the mode\n",
            "    count = Counter(numbers)\n",
            "    max_count = max(count.values())\n",
            "    mode_candidates = [k for k, v in count.items() if v == max_count]\n",
            "    \n",
            "    # If all numbers are unique, there is no mode; otherwise, return the first mode candidate\n",
            "    mode = mode_candidates[0] if len(mode_candidates) > 1 else (mode_candidates[0] if max_count > 1 else None)\n",
            "\n",
            "    return mean, median, mode\n",
            "\n",
            "# Example usage:\n",
            "numbers = [1, 2, 2, 3, 4]\n",
            "mean, median, mode = calculate_statistics(numbers)\n",
            "print(f\"Mean: {mean}, Median: {median}, Mode: {mode}\")\n",
            "```\n",
            "\n",
            "### Explanation:\n",
            "1. **Mean**: Calculated by summing all elements and dividing by the number of elements.\n",
            "2. **Median**: Found by sorting the list and checking if the number of elements is odd or even to select the middle value(s).\n",
            "3. **Mode**: Determined using the `Counter` class from the `collections` module to count occurrences, then identifying the most frequent value. If all values are unique, it returns `None`.\n",
            "\n",
            "This function handles edge cases like empty lists and lists with a single element appropriately.\n"
          ]
        }
      ],
      "source": [
        "code_generation_prompt = \"\"\"\n",
        "Write a Python function that takes a list of numbers and returns:\n",
        "1. The mean\n",
        "2. The median\n",
        "3. The mode (most frequent value)\n",
        "\n",
        "The function should handle empty lists and lists with one element appropriately.\n",
        "Include docstrings and comments explaining your approach.\n",
        "\"\"\"\n",
        "\n",
        "response = generate_with_sutra(code_generation_prompt)\n",
        "print(response)"
      ]
    },
    {
      "cell_type": "markdown",
      "metadata": {
        "id": "Q7MYRtf9G5kl"
      },
      "source": [
        "### Educational Content"
      ]
    },
    {
      "cell_type": "code",
      "execution_count": null,
      "metadata": {
        "colab": {
          "base_uri": "https://localhost:8080/"
        },
        "id": "MOSHfSSyG5kl",
        "outputId": "b32a740a-5aed-4189-f895-8033297c7c02"
      },
      "outputs": [
        {
          "name": "stdout",
          "output_type": "stream",
          "text": [
            "### Lesson Plan: Understanding Photosynthesis\n",
            "\n",
            "**Grade Level:** 8th Grade  \n",
            "**Subject:** Science  \n",
            "**Duration:** 45 Minutes  \n",
            "**Topic:** Photosynthesis  \n",
            "\n",
            "---\n",
            "\n",
            "#### 1. Learning Objectives\n",
            "By the end of the lesson, students will be able to:\n",
            "- Describe the process of photosynthesis and its importance for plants and human life.\n",
            "- Identify the key components required for photosynthesis (light, water, carbon dioxide).\n",
            "- Explain how photosynthesis is related to local agricultural practices in India, particularly with crops like rice and wheat.\n",
            "- Conduct a simple experiment to observe evidence of photosynthesis.\n",
            "\n",
            "#### 2. Required Materials\n",
            "- Whiteboard and markers\n",
            "- Projector or smartboard (if available)\n",
            "- Chart paper and colored markers\n",
            "- Small potted plants (e.g., bean plants) for hands-on activity\n",
            "- Clear plastic bags (for covering plant leaves)\n",
            "- Water\n",
            "- Straws (to demonstrate gas exchange)\n",
            "- Worksheets for exit ticket assessment\n",
            "\n",
            "#### 3. Warm-Up Activity (5 minutes)\n",
            "**Activity:** \"Photosynthesis Pictionary\"\n",
            "- Divide the class into small groups.\n",
            "- Each group selects a member to draw a word related to photosynthesis (e.g., sunlight, chlorophyll, water, carbon dioxide, glucose) on the board without using letters or numbers.\n",
            "- Other group members guess the word. After each round, briefly discuss the significance of the word in the context of photosynthesis.\n",
            "\n",
            "---\n",
            "\n",
            "#### 4. Main Content Delivery (20 minutes)\n",
            "**Key Points:**\n",
            "- **Definition of Photosynthesis:** Explain that photosynthesis is the process by which green plants, algae, and some bacteria convert light energy into chemical energy in the form of glucose.\n",
            "  \n",
            "- **Equation of Photosynthesis:**\n",
            "  \\[\n",
            "  6CO_2 + 6H_2O + \\text{light energy} \\rightarrow C_6H_{12}O_6 + 6O_2\n",
            "  \\]\n",
            "  - Discuss what each component represents: carbon dioxide from the air, water from the soil, and light energy absorbed by chlorophyll.\n",
            "\n",
            "- **Importance of Photosynthesis:**\n",
            "  - Oxygen Production: Explain how oxygen produced during photosynthesis is essential for human and animal life.\n",
            "  - Food Source: Discuss how plants are the foundation of the food chain in ecosystems.\n",
            "\n",
            "- **Connection to Indian Agriculture:**\n",
            "  - Highlight the role of photosynthesis in significant crops like rice and wheat, which are staples in the Indian diet.\n",
            "  - Discuss traditional farming practices in India, such as the use of organic fertilizers that promote healthy plant growth.\n",
            "\n",
            "#### 5. Hands-On Activity (15 minutes)\n",
            "**Activity:** \"Investigating Photosynthesis\"\n",
            "- Students will work in pairs. Each pair receives a small potted plant (preferably a bean plant) and a clear plastic bag.\n",
            "- **Procedure:**\n",
            "  1. Cover one leaf of the plant with a clear plastic bag to trap moisture and create a mini-greenhouse effect.\n",
            "  2. Use straws to blow gently into the bag (to simulate carbon dioxide).\n",
            "  3. Leave the plant in a sunny area for 10 minutes.\n",
            "- After the time is up, have students observe any condensation inside the bag and discuss what this indicates about the process of photosynthesis (i.e., water vapor released).\n",
            "\n",
            "#### 6. Assessment/Exit Ticket (5 minutes)\n",
            "- Distribute a short worksheet with the following questions:\n",
            "  1. What are the main ingredients needed for photosynthesis?\n",
            "  2. Write the equation for photosynthesis.\n",
            "  3. Why is photosynthesis important for both plants and humans?\n",
            "  4. Name one crop in India that relies on photosynthesis and describe its importance.\n",
            "\n",
            "- Collect the worksheets as students leave the classroom to assess their understanding of the topic.\n",
            "\n",
            "---\n",
            "\n",
            "This lesson plan incorporates a mix of interactive and practical activities to ensure student engagement while effectively teaching the concept of photosynthesis.\n"
          ]
        }
      ],
      "source": [
        "education_prompt = \"\"\"\n",
        "Create a lesson plan for a 45-minute class teaching the concept of photosynthesis to 8th-grade students in an Indian school.\n",
        "\n",
        "The lesson plan should include:\n",
        "1. Learning objectives (3-4 specific goals)\n",
        "2. Required materials\n",
        "3. A 5-minute warm-up activity\n",
        "4. 20 minutes of main content delivery with key points\n",
        "5. A 15-minute hands-on activity that demonstrates the concept\n",
        "6. A 5-minute assessment/exit ticket\n",
        "\n",
        "Make the content engaging and appropriate for 13-14 year old students with basic science knowledge.\n",
        "Include at least one connection to Indian agricultural practices or local plant species.\n",
        "\"\"\"\n",
        "\n",
        "response = generate_with_sutra(education_prompt)\n",
        "print(response)"
      ]
    },
    {
      "cell_type": "markdown",
      "metadata": {
        "id": "Gzt6wVTNG5kl"
      },
      "source": [
        "## 6. Multi-Turn Conversations\n",
        "\n",
        "The OpenAI client also supports multi-turn conversations with Sutra models."
      ]
    },
    {
      "cell_type": "code",
      "execution_count": null,
      "metadata": {
        "colab": {
          "base_uri": "https://localhost:8080/"
        },
        "id": "i8X8qTxAG5kl",
        "outputId": "25fbd019-2599-4a9e-a3aa-7c74c7bc869a"
      },
      "outputs": [
        {
          "name": "stdout",
          "output_type": "stream",
          "text": [
            "Sutra: India has a rich heritage of traditional board games that reflect its cultural diversity and history. Here are some notable ones:\n",
            "\n",
            "1. **Pachisi**: Often referred to as the \"Royal Game of India,\" Pachisi is played on a cross-shaped board. Players move their pieces based on the roll of cowrie shells. The game emphasizes strategy and chance, with the objective of moving all pieces around the board and into the center.\n",
            "\n",
            "2. **Chowkabara**: A popular game in many Indian households, Chowkabara is played on a square board divided into grids. Players use pawns to navigate the grid and capture opponents' pieces. It's similar to the Western game of Ludo.\n",
            "\n",
            "3. **Carrom**: Although not strictly a board game, Carrom is played on a square board with pockets in each corner. Players flick wooden discs (carrom men) into the pockets using a striker. The game combines skill and strategy, often played competitively.\n",
            "\n",
            "4. **Satoliya (Seven Stones)**: This traditional outdoor game involves stacking seven stones and attempting to knock them down with a ball while the opposing team tries to rebuild the stack. It's a combination of strategy, agility, and teamwork.\n",
            "\n",
            "5. **Gyan Chaupar**: Similar to Snakes and Ladders, Gyan Chaupar is a board game that teaches moral lessons. Players move according to dice rolls, encountering various squares that can either advance or hinder their progress based on philosophical teachings.\n",
            "\n",
            "6. **Ashta Chamma**: This game, also known as \"Eight Cows,\" is played with a board that resembles a cross. Each player has four pieces and moves them based on the roll of two dice. The objective is to get all pieces home before the opponent.\n",
            "\n",
            "7. **Khiladi**: A strategy game played on a checkered board, Khiladi is reminiscent of chess. Each player has pieces with different movement capabilities, aiming to capture the opponent's king.\n",
            "\n",
            "These games are not only entertaining but also foster social interaction, strategic thinking, and cultural continuity across generations.\n",
            "\n",
            "Sutra: Among the traditional Indian board games mentioned, the following are generally considered the easiest to teach to children:\n",
            "\n",
            "1. **Ludo (Chowkabara)**: This game is simple to understand and involves basic counting and movement based on dice rolls. The colorful board and straightforward rules make it engaging for young players.\n",
            "\n",
            "2. **Carrom**: While it requires some skill in flicking the discs, the basic objective of getting the pieces into the pockets is easy to grasp. Children can quickly learn the mechanics and enjoy the tactile aspect of the game.\n",
            "\n",
            "3. **Pachisi**: The rules are relatively simple, focusing on rolling cowrie shells and moving pieces accordingly. It introduces elements of strategy but is still accessible for children.\n",
            "\n",
            "4. **Satoliya (Seven Stones)**: This game is physical and active, making it appealing for kids. The rules are straightforward, and it encourages teamwork and coordination.\n",
            "\n",
            "5. **Gyan Chaupar**: With its familiar format similar to Snakes and Ladders, children can easily understand the movement on the board and the concept of advancing or retreating based on specific squares.\n",
            "\n",
            "These games not only have simple rules but also promote social interaction, making them ideal for teaching to children.\n"
          ]
        }
      ],
      "source": [
        "def chat_with_sutra(messages, model=\"sutra-v2\", temperature=0.7):\n",
        "    \"\"\"Have a multi-turn conversation with Sutra models\"\"\"\n",
        "    response = client.chat.completions.create(\n",
        "        model=model,\n",
        "        messages=messages,\n",
        "        temperature=temperature\n",
        "    )\n",
        "    return response.choices[0].message.content\n",
        "\n",
        "# Example conversation\n",
        "conversation = [\n",
        "    {\"role\": \"user\", \"content\": \"Can you tell me about some traditional Indian board games?\"}\n",
        "]\n",
        "\n",
        "response = chat_with_sutra(conversation)\n",
        "print(\"Sutra:\", response)\n",
        "\n",
        "# Add the assistant's response to the conversation\n",
        "conversation.append({\"role\": \"assistant\", \"content\": response})\n",
        "\n",
        "# Add a follow-up question\n",
        "conversation.append({\"role\": \"user\", \"content\": \"Which of these games would be easiest to teach to children?\"})\n",
        "\n",
        "response = chat_with_sutra(conversation)\n",
        "print(\"\\nSutra:\", response)"
      ]
    },
    {
      "cell_type": "markdown",
      "metadata": {
        "id": "eMF-sn6DG5kl"
      },
      "source": [
        "## 6. System Messages\n",
        "\n",
        "You can also use system messages to set the context or behavior of the model."
      ]
    },
    {
      "cell_type": "code",
      "execution_count": null,
      "metadata": {
        "colab": {
          "base_uri": "https://localhost:8080/"
        },
        "id": "iUYdcw3eG5kl",
        "outputId": "30f422ef-33da-4ec7-fbf4-8b73dc92e46c"
      },
      "outputs": [
        {
          "name": "stdout",
          "output_type": "stream",
          "text": [
            "The Gupta Empire, which existed from approximately 240 to 550 CE, is often referred to as the \"Golden Age of India\" due to its significant achievements in various fields such as art, science, literature, and philosophy. The empire was founded by Maharaja Sri Gupta and reached its zenith under Chandragupta II, also known as Vikramaditya.\n",
            "\n",
            "### Political Structure\n",
            "The Gupta Empire had a well-structured administration. The empire's capital was Pataliputra (modern-day Patna), which served as a political and cultural center. The Guptas implemented a system of local governance with a hierarchy of officials overseeing various regions, ensuring a degree of autonomy while maintaining overall control. \n",
            "\n",
            "### Expansion and Conquests\n",
            "Under Chandragupta I, the empire expanded significantly through military conquests and strategic marriages, including the marriage to Licchavi princess Kumaradevi, which strengthened ties with influential clans. Chandragupta II further expanded the territory by defeating the Shaka rulers in western India, thus enhancing trade routes and economic prosperity.\n",
            "\n",
            "### Cultural Achievements\n",
            "1. **Literature**: The Gupta period saw remarkable literary achievements. Notable figures include Kalidasa, who is regarded as one of the greatest Sanskrit poets and dramatists. His works, such as \"Shakuntala\" and \"Meghaduta,\" reflect the cultural richness of the time.\n",
            "   \n",
            "2. **Science and Mathematics**: The era made significant advances in mathematics and astronomy. Aryabhata, one of the first mathematicians and astronomers, formulated concepts of zero and the decimal system. His work \"Aryabhatiya\" laid the foundation for later developments in mathematics.\n",
            "\n",
            "3. **Art and Architecture**: Gupta art is characterized by its extraordinary sculptures, temple architecture, and intricate carvings. The rock-cut caves of Ajanta and Ellora are prime examples, showcasing exquisite frescoes and sculptures reflecting both religious themes and everyday life.\n",
            "\n",
            "4. **Religion**: Hinduism flourished during this period, with the promotion of various sects. Buddhism also continued to thrive, albeit with a gradual decline in patronage towards the end of the empire. Jainism experienced growth as well.\n",
            "\n",
            "### Economy\n",
            "The economy during the Gupta period was largely agrarian, supplemented by trade. The empire maintained extensive trade networks with regions like Southeast Asia and the Roman Empire, facilitating the exchange of goods, culture, and ideas. The Guptas minted coins, which played a crucial role in trade and commerce.\n",
            "\n",
            "### Decline\n",
            "The decline of the Gupta Empire began in the late 5th century due to various factors, including invasions by the Huns, internal strife, and economic difficulties. By the mid-6th century, the empire fragmented into smaller kingdoms, leading to the eventual end of Gupta rule.\n",
            "\n",
            "### Legacy\n",
            "The Gupta Empire left a lasting legacy on Indian culture, influencing subsequent dynasties in art, literature, and governance. It is often considered a high point in the history of ancient India, and its contributions to various fields continue to be recognized and celebrated today.\n",
            "\n",
            "### References\n",
            "- R.C. Majumdar, \"History of Ancient India\"\n",
            "- Romila Thapar, \"A History of India: Volume 1\"\n",
            "- A.L. Basham, \"The Wonder That Was India\"\n"
          ]
        }
      ],
      "source": [
        "messages_with_system = [\n",
        "    {\"role\": \"system\", \"content\": \"You are a helpful assistant specializing in Indian history and culture. Provide detailed and accurate information with references where possible.\"},\n",
        "    {\"role\": \"user\", \"content\": \"Tell me about the Gupta Empire.\"}\n",
        "]\n",
        "\n",
        "response = chat_with_sutra(messages_with_system)\n",
        "print(response)"
      ]
    },
    {
      "cell_type": "markdown",
      "metadata": {
        "id": "xjUp4ueNG5km"
      },
      "source": [
        "## 9. Conclusion\n",
        "\n",
        "In this notebook, we've explored how to use Sutra models through the OpenAI client interface. This approach allows you to leverage your existing OpenAI-based code and workflows while accessing Sutra's powerful language models.\n",
        "\n",
        "### Key Takeaways\n",
        "\n",
        "1. **Easy integration**: The OpenAI client can be configured to work with Sutra models with minimal changes\n",
        "2. **Familiar interface**: If you're already using OpenAI's API, you can use the same patterns with Sutra\n",
        "3. **Multilingual strength**: Sutra excels at Indian languages and cultural contexts\n",
        "4. **Advanced techniques**: Few-shot learning, chain-of-thought, and role-based prompting work well with Sutra models\n",
        "\n",
        "By combining the familiar OpenAI client interface with Sutra's powerful models, you can build applications that leverage the best of both worlds."
      ]
    },
    {
      "cell_type": "markdown",
      "metadata": {
        "id": "2qB6CkCdG5km"
      },
      "source": [
        "## 9. Additional Resources\n",
        "\n",
        "- [Sutra Documentation](https://docs.sutra.ai)\n",
        "- [OpenAI API Documentation](https://platform.openai.com/docs)\n",
        "- [Sutra Community Forum](https://community.sutra.ai)\n",
        "\n",
        "For more examples and use cases, explore other notebooks in the Sutra Cookbooks repository."
      ]
    }
  ],
  "metadata": {
    "colab": {
      "provenance": []
    },
    "kernelspec": {
      "display_name": "Python 3",
      "language": "python",
      "name": "python3"
    },
    "language_info": {
      "codemirror_mode": {
        "name": "ipython",
        "version": 3
      },
      "file_extension": ".py",
      "mimetype": "text/x-python",
      "name": "python",
      "nbconvert_exporter": "python",
      "pygments_lexer": "ipython3",
      "version": "3.8.10"
    }
  },
  "nbformat": 4,
  "nbformat_minor": 0
}
