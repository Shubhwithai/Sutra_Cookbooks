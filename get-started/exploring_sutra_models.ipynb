{
  "cells": [
    {
      "cell_type": "markdown",
      "metadata": {
        "id": "IFuK3D_9PvHr"
      },
      "source": [
        "# Exploring SUTRA Models \n",
        "\n",
        "<img src=\"https://play-lh.googleusercontent.com/_O9p4Z4yucA2NLmZBu9mTJCuBwXeT9NcbtrDN6I8gKlkIPRySV0adOmbyipjSj9Gew\" width=\"150\">\n",
        "\n",
        "[![Open In Colab](https://colab.research.google.com/assets/colab-badge.svg)](https://colab.research.google.com/drive/1Ktp74EgDfCh0TtfD3Z4Hc14aaXZruVKQ?usp=sharing)\n",
        "\n",
        "## Introduction\n",
        "\n",
        "SUTRA offers several specialized model variants, each designed for specific use cases and capabilities. This notebook  explores the features of each Sutra model variant and provides examples of how to use them effectively in your applications."
      ]
    },
    {
      "cell_type": "markdown",
      "metadata": {
        "id": "pkRPZB-9Q4Kt"
      },
      "source": [
        "## Best Practices for Using Sutra Models\n",
        "\n",
        "Here are some best practices for getting the most out of Sutra model variants:\n",
        "\n",
        "1. **Select the right model for your task**:\n",
        "   - Use SUTRA-V2 for multilingual applications and general conversational AI\n",
        "   - Use SUTRA-R0 for complex reasoning and problem-solving\n",
        "   - Use SUTRA-Q0 (Enterprise) for time-series analysis and forecasting\n",
        "\n",
        "2. **Optimize your prompts**:\n",
        "   - Be specific and clear in your instructions\n",
        "   - Provide context when necessary\n",
        "   - Use examples to guide the model's output format\n",
        "\n",
        "3. **Adjust temperature settings**:\n",
        "   - Lower temperature (0-0.3) for more deterministic, focused responses\n",
        "   - Higher temperature (0.7-1.0) for more creative, varied responses\n",
        "\n",
        "4. **Consider token limits**:\n",
        "   - Be mindful of input and output token limits\n",
        "   - Break complex tasks into smaller, manageable chunks"
      ]
    },
    {
      "cell_type": "markdown",
      "metadata": {
        "id": "prereqs_cell"
      },
      "source": [
        "## Get Your API Keys\n",
        "\n",
        "Before you begin, make sure you have:\n",
        "\n",
        "1. A SUTRA API key (Get yours at [TWO AI's SUTRA API page](https://www.two.ai/sutra/api))\n",
        "2. Basic familiarity with Python and Jupyter notebooks\n",
        "\n",
        "This notebook is designed to run in Google Colab, so no local Python installation is required."
      ]
    },
    {
      "cell_type": "markdown",
      "metadata": {
        "id": "9-JDYIwlPvHt"
      },
      "source": [
        "\n",
        "\n",
        "## Setup\n",
        "\n",
        "First, let's install the necessary libraries and set up our environment."
      ]
    },
    {
      "cell_type": "code",
      "execution_count": null,
      "metadata": {
        "colab": {
          "base_uri": "https://localhost:8080/"
        },
        "id": "o_-XYDDVQB2K",
        "outputId": "7be47ded-c5ee-47c9-d144-b8dd218755c6"
      },
      "outputs": [
        {
          "name": "stdout",
          "output_type": "stream",
          "text": [
            "Requirement already satisfied: openai in /usr/local/lib/python3.11/dist-packages (1.76.0)\n",
            "Requirement already satisfied: requests in /usr/local/lib/python3.11/dist-packages (2.32.3)\n",
            "Requirement already satisfied: anyio<5,>=3.5.0 in /usr/local/lib/python3.11/dist-packages (from openai) (4.9.0)\n",
            "Requirement already satisfied: distro<2,>=1.7.0 in /usr/local/lib/python3.11/dist-packages (from openai) (1.9.0)\n",
            "Requirement already satisfied: httpx<1,>=0.23.0 in /usr/local/lib/python3.11/dist-packages (from openai) (0.28.1)\n",
            "Requirement already satisfied: jiter<1,>=0.4.0 in /usr/local/lib/python3.11/dist-packages (from openai) (0.9.0)\n",
            "Requirement already satisfied: pydantic<3,>=1.9.0 in /usr/local/lib/python3.11/dist-packages (from openai) (2.11.3)\n",
            "Requirement already satisfied: sniffio in /usr/local/lib/python3.11/dist-packages (from openai) (1.3.1)\n",
            "Requirement already satisfied: tqdm>4 in /usr/local/lib/python3.11/dist-packages (from openai) (4.67.1)\n",
            "Requirement already satisfied: typing-extensions<5,>=4.11 in /usr/local/lib/python3.11/dist-packages (from openai) (4.13.2)\n",
            "Requirement already satisfied: charset-normalizer<4,>=2 in /usr/local/lib/python3.11/dist-packages (from requests) (3.4.1)\n",
            "Requirement already satisfied: idna<4,>=2.5 in /usr/local/lib/python3.11/dist-packages (from requests) (3.10)\n",
            "Requirement already satisfied: urllib3<3,>=1.21.1 in /usr/local/lib/python3.11/dist-packages (from requests) (2.4.0)\n",
            "Requirement already satisfied: certifi>=2017.4.17 in /usr/local/lib/python3.11/dist-packages (from requests) (2025.4.26)\n",
            "Requirement already satisfied: httpcore==1.* in /usr/local/lib/python3.11/dist-packages (from httpx<1,>=0.23.0->openai) (1.0.9)\n",
            "Requirement already satisfied: h11>=0.16 in /usr/local/lib/python3.11/dist-packages (from httpcore==1.*->httpx<1,>=0.23.0->openai) (0.16.0)\n",
            "Requirement already satisfied: annotated-types>=0.6.0 in /usr/local/lib/python3.11/dist-packages (from pydantic<3,>=1.9.0->openai) (0.7.0)\n",
            "Requirement already satisfied: pydantic-core==2.33.1 in /usr/local/lib/python3.11/dist-packages (from pydantic<3,>=1.9.0->openai) (2.33.1)\n",
            "Requirement already satisfied: typing-inspection>=0.4.0 in /usr/local/lib/python3.11/dist-packages (from pydantic<3,>=1.9.0->openai) (0.4.0)\n"
          ]
        }
      ],
      "source": [
        "# Install required packages\n",
        "!pip install openai requests"
      ]
    },
    {
      "cell_type": "markdown",
      "metadata": {
        "id": "ratVVonyQD1e"
      },
      "source": [
        "### Import necessary libraries\n"
      ]
    },
    {
      "cell_type": "code",
      "execution_count": null,
      "metadata": {
        "id": "4MMt03I-PvHu"
      },
      "outputs": [],
      "source": [
        "# Import necessary libraries\n",
        "import os\n",
        "from openai import OpenAI\n",
        "from IPython.display import display, Markdown, HTML\n",
        "from google.colab import userdata"
      ]
    },
    {
      "cell_type": "markdown",
      "metadata": {
        "id": "E0eKXF6YPvHu"
      },
      "source": [
        "## Authentication\n",
        "\n",
        "To use the Sutra API, you need to set up your API key.\n",
        "\n",
        "Set up authentication using Colab secrets."
      ]
    },
    {
      "cell_type": "code",
      "execution_count": null,
      "metadata": {
        "id": "4u4UxBWIPvHv"
      },
      "outputs": [],
      "source": [
        "# Get API key from Colab secrets\n",
        "os.environ[\"SUTRA_API_KEY\"] = userdata.get('SUTRA_API_KEY')"
      ]
    },
    {
      "cell_type": "markdown",
      "metadata": {
        "id": "oPRdHAb1QPlm"
      },
      "source": [
        "###Create the OpenAI client with Sutra"
      ]
    },
    {
      "cell_type": "code",
      "execution_count": null,
      "metadata": {
        "id": "fzIZRpcBQT4T"
      },
      "outputs": [],
      "source": [
        "# Create the OpenAI client with Sutra's API endpoint\n",
        "client = OpenAI(\n",
        "    base_url=\"https://api.two.ai/v2\",\n",
        "    api_key=os.environ.get(\"SUTRA_API_KEY\")\n",
        ")"
      ]
    },
    {
      "cell_type": "markdown",
      "metadata": {
        "id": "OkTwAZP4PvHv"
      },
      "source": [
        "## Helper Function\n",
        "\n",
        "Let's create a helper function to interact with the Sutra API."
      ]
    },
    {
      "cell_type": "code",
      "execution_count": null,
      "metadata": {
        "id": "vMbB6-0ZPvHv"
      },
      "outputs": [],
      "source": [
        "def get_model_response(model, prompt, temperature=0, max_tokens=1024):\n",
        "    \"\"\"\n",
        "    Get a response from a specified Sutra model.\n",
        "\n",
        "    Args:\n",
        "        model (str): The model identifier (e.g., \"sutra-v2\", \"sutra-r0\")\n",
        "        prompt (str): The user prompt or question\n",
        "        temperature (float): Controls randomness (0 to 1)\n",
        "        max_tokens (int): Maximum number of tokens to generate\n",
        "\n",
        "    Returns:\n",
        "        str: The model's response\n",
        "    \"\"\"\n",
        "    try:\n",
        "        response = client.chat.completions.create(\n",
        "            model=model,\n",
        "            messages=[{\"role\": \"user\", \"content\": prompt}],\n",
        "            max_tokens=max_tokens,\n",
        "            temperature=temperature\n",
        "        )\n",
        "\n",
        "        return response.choices[0].message.content\n",
        "\n",
        "    except Exception as e:\n",
        "        return f\"Error: {str(e)}\""
      ]
    },
    {
      "cell_type": "markdown",
      "metadata": {
        "id": "Sf0h0GMSPvHv"
      },
      "source": [
        "## SUTRA-V2: Multilingual AI Model\n",
        "\n",
        "SUTRA-V2 is a powerful multilingual AI model designed for instruction execution and conversational intelligence across 50+ languages. It excels in handling complex tasks with high accuracy and has deep proficiency across Latin, Indic, and Far Eastern languages.\n",
        "\n",
        "### Key Features\n",
        "\n",
        "- Support for 50+ languages\n",
        "- Conversational intelligence\n",
        "- Instruction following\n",
        "- Context-aware responses\n",
        "- Natural language understanding\n",
        "\n",
        "### Example: Multilingual Capabilities\n",
        "\n",
        "Let's explore SUTRA-V2's multilingual capabilities with examples in different languages."
      ]
    },
    {
      "cell_type": "code",
      "execution_count": null,
      "metadata": {
        "colab": {
          "base_uri": "https://localhost:8080/"
        },
        "id": "QyDjOp1JPvHv",
        "outputId": "ae341acc-1f1a-42a5-b08c-fb5abb2a1237"
      },
      "outputs": [
        {
          "name": "stdout",
          "output_type": "stream",
          "text": [
            "\n",
            "--- English Example ---\n",
            "Prompt: Explain the concept of artificial intelligence in simple terms.\n",
            "\n",
            "Response:\n",
            "Artificial intelligence (AI) refers to the ability of machines or computer programs to perform tasks that typically require human intelligence. This includes things like understanding language, recognizing patterns, solving problems, and making decisions. \n",
            "\n",
            "In simple terms, AI is about creating systems that can think and learn from experience, similar to how humans do. For example, when you use a virtual assistant like Siri or Alexa, it uses AI to understand your voice commands and respond appropriately. AI can be found in various applications, from self-driving cars to recommendation systems on streaming services.\n",
            "--------------------------------------------------\n",
            "\n",
            "--- Hindi Example ---\n",
            "Prompt: कृत्रिम बुद्धिमत्ता की अवधारणा को सरल शब्दों में समझाएं।\n",
            "\n",
            "Response:\n",
            "कृत्रिम बुद्धिमत्ता (AI) एक ऐसी तकनीक है जो कंप्यूटर और मशीनों को मानव जैसी सोचने, समझने और सीखने की क्षमता देती है। इसका मतलब है कि ये मशीनें डेटा का विश्लेषण करके निर्णय ले सकती हैं, समस्याओं को हल कर सकती हैं और विभिन्न कार्यों को स्वचालित कर सकती हैं। \n",
            "\n",
            "उदाहरण के लिए, जब आप अपने फोन पर वॉयस असिस्टेंट से कुछ पूछते हैं, तो वह आपकी आवाज़ को समझकर जवाब देता है। यह सब कृत्रिम बुद्धिमत्ता की मदद से होता है। AI का उपयोग कई क्षेत्रों में किया जाता है, जैसे स्वास्थ्य, परिवहन, शिक्षा, और मनोरंजन, ताकि काम को अधिक प्रभावी और तेज़ बनाया जा सके।\n",
            "--------------------------------------------------\n",
            "\n",
            "--- Spanish Example ---\n",
            "Prompt: Explica el concepto de inteligencia artificial en términos simples.\n",
            "\n",
            "Response:\n",
            "La inteligencia artificial (IA) es una rama de la informática que se centra en crear sistemas y programas capaces de realizar tareas que normalmente requieren inteligencia humana. Esto incluye habilidades como aprender, razonar, resolver problemas, entender el lenguaje y reconocer patrones.\n",
            "\n",
            "En términos simples, la IA permite que las máquinas \"piensen\" y \"aprendan\" a partir de datos, lo que les permite mejorar su rendimiento con el tiempo. Por ejemplo, un asistente virtual puede aprender de tus preguntas anteriores para ofrecerte respuestas más precisas en el futuro. La IA se utiliza en diversas aplicaciones, desde motores de búsqueda y recomendaciones de productos hasta vehículos autónomos y diagnósticos médicos.\n",
            "--------------------------------------------------\n",
            "\n",
            "--- Chinese Example ---\n",
            "Prompt: 用简单的术语解释人工智能的概念。\n",
            "\n",
            "Response:\n",
            "人工智能（AI）是指计算机或机器模拟人类智能的能力。它可以学习、推理、解决问题和理解语言等。简单来说，人工智能使机器能够像人类一样思考和做决定。常见的应用包括语音助手、推荐系统和自动驾驶汽车等。\n",
            "--------------------------------------------------\n",
            "\n",
            "--- Arabic Example ---\n",
            "Prompt: اشرح مفهوم الذكاء الاصطناعي بمصطلحات بسيطة.\n",
            "\n",
            "Response:\n",
            "الذكاء الاصطناعي هو فرع من علوم الكمبيوتر يهدف إلى إنشاء أنظمة قادرة على محاكاة الذكاء البشري. يعني ذلك أن هذه الأنظمة يمكنها التعلم، التفكير، وحل المشكلات بطريقة مشابهة للبشر. \n",
            "\n",
            "يمكن تقسيم الذكاء الاصطناعي إلى نوعين رئيسيين:\n",
            "\n",
            "1. **الذكاء الاصطناعي الضيق**: وهو مصمم لأداء مهام محددة، مثل التعرف على الصوت أو الصور، أو حتى لعب الألعاب. هذه الأنظمة لا تفهم أو تتعلم خارج نطاق المهمة المخصصة لها.\n",
            "\n",
            "2. **الذكاء الاصطناعي العام**: وهو نوع أكثر تطورًا يمكنه فهم وتعلم أي مهمة عقلية يمكن للبشر القيام بها. هذا النوع لا يزال في مرحلة البحث والتطوير.\n",
            "\n",
            "تستخدم تقنيات الذكاء الاصطناعي في مجالات متعددة مثل الرعاية الصحية، السيارات الذاتية القيادة، المساعدات الشخصية الرقمية، وغيرها الكثير، مما يساعد في تحسين الكفاءة وتقديم حلول مبتكرة للمشكلات.\n",
            "--------------------------------------------------\n"
          ]
        }
      ],
      "source": [
        "# Define prompts in different languages\n",
        "multilingual_examples = {\n",
        "    \"English\": \"Explain the concept of artificial intelligence in simple terms.\",\n",
        "    \"Hindi\": \"कृत्रिम बुद्धिमत्ता की अवधारणा को सरल शब्दों में समझाएं।\",\n",
        "    \"Spanish\": \"Explica el concepto de inteligencia artificial en términos simples.\",\n",
        "    \"Chinese\": \"用简单的术语解释人工智能的概念。\",\n",
        "    \"Arabic\": \"اشرح مفهوم الذكاء الاصطناعي بمصطلحات بسيطة.\"\n",
        "}\n",
        "\n",
        "# Get responses from SUTRA-V2\n",
        "for language, prompt in multilingual_examples.items():\n",
        "    print(f\"\\n--- {language} Example ---\")\n",
        "    print(f\"Prompt: {prompt}\")\n",
        "\n",
        "    response = get_model_response(\"sutra-v2\", prompt)\n",
        "    print(f\"\\nResponse:\\n{response}\")\n",
        "    print(\"-\" * 50)"
      ]
    },
    {
      "cell_type": "markdown",
      "metadata": {
        "id": "TmAe7itgPvHw"
      },
      "source": [
        "### Example: Creative Writing\n",
        "\n",
        "SUTRA-V2 can also be used for creative writing tasks across different languages."
      ]
    },
    {
      "cell_type": "code",
      "execution_count": null,
      "metadata": {
        "colab": {
          "base_uri": "https://localhost:8080/"
        },
        "id": "2jXDlPMTPvHw",
        "outputId": "9b0f8d09-2706-4582-87c9-71943c910666"
      },
      "outputs": [
        {
          "name": "stdout",
          "output_type": "stream",
          "text": [
            "Creative Writing Example:\n",
            "Prompt: Write a short poem about the changing seasons.\n",
            "\n",
            "Response:\n",
            "In springtime's bloom, the world awakes,  \n",
            "With gentle rains and soft heartaches.  \n",
            "Blossoms burst in colors bright,  \n",
            "Nature dances, pure delight.  \n",
            "\n",
            "Summer follows with a golden glow,  \n",
            "Fields of green and rivers flow.  \n",
            "The sun reigns high, warm and bold,  \n",
            "Stories of laughter and joy unfold.  \n",
            "\n",
            "Autumn whispers in fiery hues,  \n",
            "Leaves descend like whispered blues.  \n",
            "Crisp air carries a hint of frost,  \n",
            "A fleeting beauty, never lost.  \n",
            "\n",
            "Winter wraps the earth in white,  \n",
            "Silent nights and stars so bright.  \n",
            "Each season sings its unique song,  \n",
            "In nature's cycle, we all belong.  \n"
          ]
        }
      ],
      "source": [
        "creative_prompt = \"Write a short poem about the changing seasons.\"\n",
        "\n",
        "print(\"Creative Writing Example:\")\n",
        "print(f\"Prompt: {creative_prompt}\")\n",
        "\n",
        "response = get_model_response(\"sutra-v2\", creative_prompt, temperature=0.7)\n",
        "print(f\"\\nResponse:\\n{response}\")"
      ]
    },
    {
      "cell_type": "markdown",
      "metadata": {
        "id": "woefn02PPvHw"
      },
      "source": [
        "## SUTRA-R0: Advanced Reasoning Model\n",
        "\n",
        "SUTRA-R0 is designed for complex problem-solving and deep contextual understanding. It applies structured reasoning to tackle nuanced queries, multi-step problem-solving, and enterprise decision-making.\n",
        "\n",
        "### Key Features\n",
        "\n",
        "- Complex problem-solving\n",
        "- Logical reasoning\n",
        "- Multi-step decision processes\n",
        "- Deep contextual understanding\n",
        "- High-accuracy responses across domains\n",
        "\n",
        "### Example: Logical Reasoning\n",
        "\n",
        "Let's explore SUTRA-R0's reasoning capabilities with logical problems."
      ]
    },
    {
      "cell_type": "code",
      "execution_count": null,
      "metadata": {
        "colab": {
          "base_uri": "https://localhost:8080/"
        },
        "id": "bw9hLtdMPvHw",
        "outputId": "efcb1039-0bd2-4b8e-ffa1-968513bfb58f"
      },
      "outputs": [
        {
          "name": "stdout",
          "output_type": "stream",
          "text": [
            "\n",
            "--- Reasoning Example 1 ---\n",
            "Prompt: Solve the following logical puzzle: If all A are B, and some B are C, what can we conclude about A and C?\n",
            "\n",
            "Response:\n",
            "<thinking>\n",
            "In this logical puzzle, we start with two premises: \"All A are B\" and \"Some B are C.\" The first premise tells us that every element of set A is also an element of set B. The second premise indicates that there is at least one element in set B that is also part of set C.\n",
            "\n",
            "To determine the relationship between A and C, we need to analyze the implications of these premises. Since all A are included in B, any overlap between B and C does not necessarily imply that A has any elements in C. The statement \"some B are C\" only confirms that there is a subset of B that intersects with C, but it does not guarantee that this subset includes any elements from A.\n",
            "\n",
            "Therefore, we cannot definitively conclude that A and C have any relationship based on the given premises. The conclusion is that we cannot say anything about A in relation to C—there might be some overlap, or there might not be any at all. Thus, the answer is that no definitive conclusion can be drawn about A and C.\n",
            "</thinking>\n",
            "\n",
            "From the premises \"All A are B\" and \"Some B are C,\" we can analyze the relationships as follows:\n",
            "\n",
            "1. **All A are B**: This means that every element in set A is also an element of set B.\n",
            "2. **Some B are C**: This indicates that there is at least one element in set B that is also part of set C.\n",
            "\n",
            "However, the first premise does not provide any information about whether any elements of A are included in C. The second premise only tells us that there is a subset of B that intersects with C, but it does not specify if that subset includes any elements from A.\n",
            "\n",
            "Therefore, we cannot definitively conclude that there is any relationship between A and C based on the given premises. It is possible that some elements of B that are also in C do not include any elements from A. Thus, the conclusion is that we cannot determine any specific relationship between A and C.\n",
            "--------------------------------------------------\n",
            "\n",
            "--- Reasoning Example 2 ---\n",
            "Prompt: A ball and a bat cost $1.10 in total. The bat costs $1.00 more than the ball. How much does the ball cost?\n",
            "\n",
            "Response:\n",
            "<thinking>\n",
            "To solve the problem, I need to set up an equation based on the information given. The total cost of the ball and bat is $1.10, and the bat costs $1.00 more than the ball.\n",
            "\n",
            "Let’s denote the cost of the ball as \\( x \\). Then the cost of the bat would be \\( x + 1.00 \\). According to the problem, the sum of these two costs equals $1.10, which gives us the equation: \n",
            "\n",
            "\\( x + (x + 1.00) = 1.10 \\).\n",
            "\n",
            "Now, I can simplify this equation. Combining like terms results in \\( 2x + 1.00 = 1.10 \\). To isolate \\( x \\), I will subtract $1.00 from both sides, leading to \\( 2x = 0.10 \\). \n",
            "\n",
            "Finally, dividing both sides by 2 gives \\( x = 0.05 \\). Thus, the ball costs $0.05, and the bat, being $1.00 more, costs $1.05. \n",
            "\n",
            "I will present this solution clearly to the user.\n",
            "</thinking>\n",
            "\n",
            "Let the cost of the ball be \\( x \\). Then, the cost of the bat would be \\( x + 1.00 \\). \n",
            "\n",
            "According to the problem, the total cost is given by the equation:\n",
            "\n",
            "\\[ x + (x + 1.00) = 1.10. \\]\n",
            "\n",
            "Simplifying this, we have:\n",
            "\n",
            "\\[ 2x + 1.00 = 1.10. \\]\n",
            "\n",
            "Subtracting $1.00 from both sides results in:\n",
            "\n",
            "\\[ 2x = 0.10. \\]\n",
            "\n",
            "Dividing both sides by 2 gives:\n",
            "\n",
            "\\[ x = 0.05. \\]\n",
            "\n",
            "Thus, the ball costs $0.05, and the bat, being $1.00 more, costs $1.05.\n",
            "--------------------------------------------------\n",
            "\n",
            "--- Reasoning Example 3 ---\n",
            "Prompt: Analyze the following argument and identify any logical fallacies: 'All birds can fly. Penguins are birds. Therefore, penguins can fly.'\n",
            "\n",
            "Response:\n",
            "<thinking>\n",
            "The argument presents a generalization about birds, claiming that all birds can fly. This premise is flawed because it overlooks exceptions, such as penguins, which are indeed birds but cannot fly.\n",
            "\n",
            "Next, I will identify the specific logical fallacy present in the argument. The fallacy here is known as hasty generalization, where a broad conclusion is drawn from insufficient evidence. In this case, the argument incorrectly assumes that since most birds can fly, all must be able to do so.\n",
            "\n",
            "I will also clarify that while the structure of the argument appears valid (if the premises were true, the conclusion would follow), the first premise is factually incorrect. This leads to the conclusion being invalid as well.\n",
            "\n",
            "In summary, I will explain the hasty generalization fallacy and highlight the factual inaccuracy regarding birds' flying ability, particularly concerning penguins. This will provide a comprehensive analysis of the argument's flaws.\n",
            "</thinking>\n",
            "\n",
            "The argument presents a generalization that all birds can fly, followed by the assertion that penguins, being birds, must also be able to fly. This reasoning contains a logical fallacy known as hasty generalization.\n",
            "\n",
            "1. **Hasty Generalization**: The premise \"All birds can fly\" is an overgeneralization that fails to account for exceptions. While many birds do have the ability to fly, there are notable exceptions, such as penguins, ostriches, and kiwis, which are birds that cannot fly. The argument incorrectly assumes that because most birds can fly, all must be able to do so.\n",
            "\n",
            "2. **Factual Inaccuracy**: The first premise is factually incorrect. Not all birds possess the ability to fly, which invalidates the conclusion drawn in the argument. \n",
            "\n",
            "In summary, the argument is flawed due to the hasty generalization fallacy and the factual inaccuracy regarding the flying capabilities of certain bird species, particularly penguins. As a result, the conclusion that \"penguins can fly\" is invalid.\n",
            "--------------------------------------------------\n"
          ]
        }
      ],
      "source": [
        "reasoning_examples = [\n",
        "    \"Solve the following logical puzzle: If all A are B, and some B are C, what can we conclude about A and C?\",\n",
        "    \"A ball and a bat cost $1.10 in total. The bat costs $1.00 more than the ball. How much does the ball cost?\",\n",
        "    \"Analyze the following argument and identify any logical fallacies: 'All birds can fly. Penguins are birds. Therefore, penguins can fly.'\"\n",
        "]\n",
        "\n",
        "for i, prompt in enumerate(reasoning_examples):\n",
        "    print(f\"\\n--- Reasoning Example {i+1} ---\")\n",
        "    print(f\"Prompt: {prompt}\")\n",
        "\n",
        "    response = get_model_response(\"sutra-r0\", prompt)\n",
        "    print(f\"\\nResponse:\\n{response}\")\n",
        "    print(\"-\" * 50)"
      ]
    },
    {
      "cell_type": "markdown",
      "metadata": {
        "id": "9sHqeJ9uPvHw"
      },
      "source": [
        "### Example: Step-by-Step Problem Solving\n",
        "\n",
        "SUTRA-R0 excels at breaking down complex problems into manageable steps."
      ]
    },
    {
      "cell_type": "code",
      "execution_count": null,
      "metadata": {
        "colab": {
          "base_uri": "https://localhost:8080/"
        },
        "id": "2sM1UEnMPvHw",
        "outputId": "eedcd58c-03c6-43d2-e6e6-ce9f3ea857cb"
      },
      "outputs": [
        {
          "name": "stdout",
          "output_type": "stream",
          "text": [
            "Step-by-Step Problem Solving Example:\n",
            "Prompt: \n",
            "Explain how to solve this physics problem step by step:\n",
            "A car accelerates from rest at a constant rate of 3 m/s². How far will it travel in 10 seconds?\n",
            "\n",
            "\n",
            "Response:\n",
            "<thinking>\n",
            "To solve the physics problem, I need to identify the relevant equations of motion that apply to constant acceleration. The problem provides the initial velocity, acceleration, and time, which will help in calculating the distance traveled.\n",
            "\n",
            "The equation that relates distance, initial velocity, acceleration, and time is:  \n",
            "\\[ d = v_i t + \\frac{1}{2} a t^2 \\]  \n",
            "where \\( d \\) is the distance, \\( v_i \\) is the initial velocity, \\( a \\) is the acceleration, and \\( t \\) is the time.\n",
            "\n",
            "Since the car starts from rest, the initial velocity \\( v_i \\) is 0 m/s. The acceleration \\( a \\) is given as 3 m/s², and the time \\( t \\) is 10 seconds. \n",
            "\n",
            "Next, I will substitute these values into the equation to find the distance traveled. Calculating \\( \\frac{1}{2} a t^2 \\) will give me the total distance covered during the acceleration period. \n",
            "\n",
            "Finally, I will present the calculation clearly, showing each step and the final answer. This structured approach ensures clarity and helps the user understand the solution process.\n",
            "</thinking>\n",
            "\n",
            "To solve the problem of how far a car travels while accelerating from rest at a constant rate, follow these steps:\n",
            "\n",
            "### Step 1: Identify the Given Information\n",
            "- **Initial velocity (\\(v_i\\))**: The car starts from rest, so \\(v_i = 0 \\, \\text{m/s}\\).\n",
            "- **Acceleration (\\(a\\))**: The car accelerates at \\(3 \\, \\text{m/s}^2\\).\n",
            "- **Time (\\(t\\))**: The time duration for which the car accelerates is \\(10 \\, \\text{s}\\).\n",
            "\n",
            "### Step 2: Use the Equation of Motion\n",
            "The equation that relates distance (\\(d\\)), initial velocity (\\(v_i\\)), acceleration (\\(a\\)), and time (\\(t\\)) is:\n",
            "\\[\n",
            "d = v_i t + \\frac{1}{2} a t^2\n",
            "\\]\n",
            "\n",
            "### Step 3: Substitute the Values into the Equation\n",
            "Since the initial velocity \\(v_i\\) is \\(0 \\, \\text{m/s}\\), the equation simplifies to:\n",
            "\\[\n",
            "d = 0 \\cdot t + \\frac{1}{2} a t^2\n",
            "\\]\n",
            "This further simplifies to:\n",
            "\\[\n",
            "d = \\frac{1}{2} a t^2\n",
            "\\]\n",
            "\n",
            "Now substitute the values of \\(a\\) and \\(t\\):\n",
            "\\[\n",
            "d = \\frac{1}{2} \\cdot 3 \\, \\text{m/s}^2 \\cdot (10 \\, \\text{s})^2\n",
            "\\]\n",
            "\n",
            "### Step 4: Calculate the Distance\n",
            "First, calculate \\( (10 \\, \\text{s})^2 \\):\n",
            "\\[\n",
            "(10 \\, \\text{s})^2 = 100 \\, \\text{s}^2\n",
            "\\]\n",
            "\n",
            "Now substitute this back into the equation:\n",
            "\\[\n",
            "d = \\frac{1}{2} \\cdot 3 \\, \\text{m/s}^2 \\cdot 100 \\, \\text{s}^2\n",
            "\\]\n",
            "\\[\n",
            "d = \\frac{1}{2} \\cdot 300 \\, \\text{m}\n",
            "\\]\n",
            "\\[\n",
            "d = 150 \\, \\text{m}\n",
            "\\]\n",
            "\n",
            "### Step 5: State the Final Answer\n",
            "The car will travel **150 meters** in 10 seconds while accelerating from rest at a constant rate of \\(3 \\, \\text{m/s}^2\\).\n"
          ]
        }
      ],
      "source": [
        "problem_solving_prompt = \"\"\"\n",
        "Explain how to solve this physics problem step by step:\n",
        "A car accelerates from rest at a constant rate of 3 m/s². How far will it travel in 10 seconds?\n",
        "\"\"\"\n",
        "\n",
        "print(\"Step-by-Step Problem Solving Example:\")\n",
        "print(f\"Prompt: {problem_solving_prompt}\")\n",
        "\n",
        "response = get_model_response(\"sutra-r0\", problem_solving_prompt)\n",
        "print(f\"\\nResponse:\\n{response}\")"
      ]
    },
    {
      "cell_type": "markdown",
      "metadata": {
        "id": "ExQPq2YjPvHx"
      },
      "source": [
        "## SUTRA-Q0: Time-Series Large Quantitative Model\n",
        "\n",
        "SUTRA-Q0 is a time-series Large Quantitative Model (LQM) built for forecasting and analytical applications beyond text and chat. It's optimized for dynamic data patterns and enables enterprises to predict trends, detect anomalies, and make data-driven decisions.\n",
        "\n",
        "> Note: SUTRA-Q0 is available to SUTRA Enterprise customers.\n",
        "\n",
        "### Key Features\n",
        "\n",
        "- Time-series forecasting\n",
        "- Anomaly detection\n",
        "- Pattern recognition in data\n",
        "- Predictive analytics\n",
        "- Data-driven decision support\n",
        "\n",
        "### Example: Time-Series Analysis\n",
        "\n",
        "For enterprise users with access to SUTRA-Q0, here's an example of how you might use it for time-series analysis."
      ]
    },
    {
      "cell_type": "code",
      "execution_count": null,
      "metadata": {
        "colab": {
          "base_uri": "https://localhost:8080/"
        },
        "id": "McfxIoOiPvHx",
        "outputId": "f4999659-b555-4f86-ba75-28fb8de460ae"
      },
      "outputs": [
        {
          "name": "stdout",
          "output_type": "stream",
          "text": [
            "Time-Series Analysis Example (Enterprise Feature):\n",
            "Prompt: \n",
            "Analyze this time series data and identify trends and patterns:\n",
            "[10, 12, 15, 14, 16, 19, 22, 21, 24, 27, 26, 29, 33, 32, 35, 38]\n",
            "\n",
            "What forecast would you make for the next 5 data points?\n",
            "\n",
            "\n",
            "Response:\n",
            "To analyze the given time series data, we can observe the following:\n",
            "\n",
            "1. **Trends**: The data shows an overall upward trend. Starting from 10, the values increase with some fluctuations but generally rise over time.\n",
            "\n",
            "2. **Patterns**: \n",
            "   - There are some fluctuations in the data, particularly between certain points (e.g., from 19 to 22 and from 29 to 33).\n",
            "   - The increases are not uniform; however, there is a noticeable acceleration in the latter part of the series, especially from 29 to 38.\n",
            "\n",
            "3. **Rate of Change**: The differences between consecutive data points indicate that the rate of increase is not constant:\n",
            "   - Differences: [2, 3, -1, 2, 3, 3, -1, 3, 3, -1, 4, -1, 3, 3, 3]\n",
            "   - The positive differences suggest growth, while the occasional negative differences indicate minor corrections or fluctuations.\n",
            "\n",
            "### Forecast for the Next 5 Data Points\n",
            "\n",
            "To forecast the next five data points, we can use a simple linear extrapolation based on the recent trend. The last few data points show an average increase of about 3.2 (calculated from the last five differences).\n",
            "\n",
            "Using this average increase, we can project the next five values:\n",
            "\n",
            "1. **38 + 3 = 41**\n",
            "2. **41 + 3 = 44**\n",
            "3. **44 + 3 = 47**\n",
            "4. **47 + 3 = 50**\n",
            "5. **50 + 3 = 53**\n",
            "\n",
            "Thus, the forecast for the next five data points would be: **41, 44, 47, 50, 53**. \n",
            "\n",
            "This forecast assumes that the upward trend continues with similar fluctuations as observed in the past. More sophisticated forecasting methods could provide different results, especially if seasonality or other factors were considered.\n"
          ]
        }
      ],
      "source": [
        "# Note: This is a demonstration of how you might use SUTRA-Q0 if you have enterprise access\n",
        "time_series_prompt = \"\"\"\n",
        "Analyze this time series data and identify trends and patterns:\n",
        "[10, 12, 15, 14, 16, 19, 22, 21, 24, 27, 26, 29, 33, 32, 35, 38]\n",
        "\n",
        "What forecast would you make for the next 5 data points?\n",
        "\"\"\"\n",
        "\n",
        "print(\"Time-Series Analysis Example (Enterprise Feature):\")\n",
        "print(f\"Prompt: {time_series_prompt}\")\n",
        "\n",
        "# For demonstration purposes only - actual enterprise users would use \"sutra-q0\"\n",
        "response = get_model_response(\"sutra-v2\", time_series_prompt)\n",
        "print(f\"\\nResponse:\\n{response}\")"
      ]
    },
    {
      "cell_type": "markdown",
      "metadata": {
        "id": "3hgNfkHKPvHx"
      },
      "source": [
        "### Example: Anomaly Detection\n",
        "\n",
        "Another powerful capability of SUTRA-Q0 is anomaly detection in datasets."
      ]
    },
    {
      "cell_type": "code",
      "execution_count": null,
      "metadata": {
        "colab": {
          "base_uri": "https://localhost:8080/"
        },
        "id": "DaWR8hfePvHx",
        "outputId": "63cb862f-6764-4d80-af57-58fde42a5b63"
      },
      "outputs": [
        {
          "name": "stdout",
          "output_type": "stream",
          "text": [
            "Anomaly Detection Example (Enterprise Feature):\n",
            "Prompt: \n",
            "Identify any anomalies in this dataset and explain your reasoning:\n",
            "[100, 102, 98, 103, 99, 101, 250, 97, 104, 100, 103, 97, 101]\n",
            "\n",
            "\n",
            "Response:\n",
            "In the provided dataset, the values are as follows: [100, 102, 98, 103, 99, 101, 250, 97, 104, 100, 103, 97, 101]. \n",
            "\n",
            "An anomaly in a dataset is typically a value that significantly deviates from the other values. In this case, the number **250** stands out as an anomaly. \n",
            "\n",
            "**Reasoning:**\n",
            "\n",
            "1. **Statistical Deviation**: The majority of the values range from 97 to 104, which suggests that they are clustered closely together. The mean of these values (excluding 250) is approximately 101. The value 250 is far outside this range, making it a statistical outlier.\n",
            "\n",
            "2. **Contextual Relevance**: If we assume these numbers represent some form of measurement (e.g., temperature, scores, etc.), a value like 250 would be unrealistic compared to the others, which are all within a reasonable range.\n",
            "\n",
            "3. **Impact on Analysis**: Including 250 in any analysis (like calculating the mean or standard deviation) would skew the results significantly, indicating that it should be treated as an outlier.\n",
            "\n",
            "In summary, the value 250 is an anomaly due to its significant deviation from the other values in the dataset.\n"
          ]
        }
      ],
      "source": [
        "# Note: This is a demonstration of how you might use SUTRA-Q0 if you have enterprise access\n",
        "anomaly_prompt = \"\"\"\n",
        "Identify any anomalies in this dataset and explain your reasoning:\n",
        "[100, 102, 98, 103, 99, 101, 250, 97, 104, 100, 103, 97, 101]\n",
        "\"\"\"\n",
        "\n",
        "print(\"Anomaly Detection Example (Enterprise Feature):\")\n",
        "print(f\"Prompt: {anomaly_prompt}\")\n",
        "\n",
        "# For demonstration purposes only - actual enterprise users would use \"sutra-q0\"\n",
        "response = get_model_response(\"sutra-v2\", anomaly_prompt)\n",
        "print(f\"\\nResponse:\\n{response}\")"
      ]
    },
    {
      "cell_type": "markdown",
      "metadata": {
        "id": "8iXLHYeiPvHx"
      },
      "source": [
        "## Conclusion\n",
        "\n",
        "This notebook has explored the features and capabilities of different Sutra model variants. Each model is designed with specific strengths and use cases in mind:\n",
        "\n",
        "- **SUTRA-V2**: Excels in multilingual capabilities and conversational AI\n",
        "- **SUTRA-R0**: Specializes in complex reasoning and problem-solving\n",
        "- **SUTRA-Q0**: Focuses on time-series analysis and quantitative tasks (Enterprise)\n",
        "\n",
        "By understanding the unique capabilities of each model, you can select the most appropriate one for your specific use case and get the best results from the Sutra AI platform.\n",
        "\n",
        "For the latest information on Sutra models and their capabilities, visit the [official documentation](https://docs.two.ai/version-2/docs/models)."
      ]
    }
  ],
  "metadata": {
    "colab": {
      "provenance": []
    },
    "kernelspec": {
      "display_name": "Python 3",
      "name": "python3"
    },
    "language_info": {
      "name": "python"
    }
  },
  "nbformat": 4,
  "nbformat_minor": 0
}
