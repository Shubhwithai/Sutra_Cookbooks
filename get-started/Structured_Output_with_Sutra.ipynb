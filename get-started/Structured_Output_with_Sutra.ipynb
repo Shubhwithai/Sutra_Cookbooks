{
  "cells": [
    {
      "cell_type": "markdown",
      "metadata": {
        "id": "intro_cell"
      },
      "source": [
        "# Getting Structured Output from SUTRA\n",
        "\n",
        "<img src=\"https://play-lh.googleusercontent.com/_O9p4Z4yucA2NLmZBu9mTJCuBwXeT9NcbtrDN6I8gKlkIPRySV0adOmbyipjSj9Gew\" width=\"150\">\n",
        "\n",
        "[![Open In Colab](https://colab.research.google.com/assets/colab-badge.svg)](https://colab.research.google.com/drive/1Gi_YPaFPm-iJcEdslSvgf-xWGhAGjwjJ?usp=sharing)\n",
        "\n",
        "## Introduction\n",
        "\n",
        "This notebook demonstrates  techniques for getting consistent, structured responses from SUTRA, making it easier to integrate the model's outputs into your applications."
      ]
    },
    {
      "cell_type": "markdown",
      "metadata": {
        "id": "prereqs_cell"
      },
      "source": [
        "## Get Your API Keys\n",
        "\n",
        "Before you begin, make sure you have:\n",
        "\n",
        "1. A SUTRA API key (Get yours at [TWO AI's SUTRA API page](https://www.two.ai/sutra/api))\n",
        "2. Basic familiarity with Python and Jupyter notebooks\n",
        "\n",
        "This notebook is designed to run in Google Colab, so no local Python installation is required."
      ]
    },
    {
      "cell_type": "markdown",
      "metadata": {
        "id": "setup_header"
      },
      "source": [
        "## Setup\n",
        "\n",
        "Install necessary packages and set up the environment."
      ]
    },
    {
      "cell_type": "code",
      "execution_count": null,
      "metadata": {
        "colab": {
          "base_uri": "https://localhost:8080/"
        },
        "id": "PWUBt6DVrdH0",
        "outputId": "97ff44db-cb59-4ab8-c149-7eab6c994f05"
      },
      "outputs": [
        {
          "name": "stdout",
          "output_type": "stream",
          "text": [
            "\u001b[?25l   \u001b[90m━━━━━━━━━━━━━━━━━━━━━━━━━━━━━━━━━━━━━━━━\u001b[0m \u001b[32m0.0/661.3 kB\u001b[0m \u001b[31m?\u001b[0m eta \u001b[36m-:--:--\u001b[0m\r\u001b[2K   \u001b[91m━━━━━━━━━━━━━━━━━━━━━━━━━━━━━━━━━━━━━━━\u001b[0m\u001b[91m╸\u001b[0m \u001b[32m655.4/661.3 kB\u001b[0m \u001b[31m20.7 MB/s\u001b[0m eta \u001b[36m0:00:01\u001b[0m\r\u001b[2K   \u001b[90m━━━━━━━━━━━━━━━━━━━━━━━━━━━━━━━━━━━━━━━━\u001b[0m \u001b[32m661.3/661.3 kB\u001b[0m \u001b[31m11.7 MB/s\u001b[0m eta \u001b[36m0:00:00\u001b[0m\n",
            "\u001b[?25h"
          ]
        }
      ],
      "source": [
        "# Install required packages\n",
        "!pip install -qU openai"
      ]
    },
    {
      "cell_type": "markdown",
      "metadata": {
        "id": "6nJvhRWTroDi"
      },
      "source": [
        "### Import necessary libraries\n"
      ]
    },
    {
      "cell_type": "code",
      "execution_count": null,
      "metadata": {
        "colab": {
          "base_uri": "https://localhost:8080/"
        },
        "id": "setup_install",
        "outputId": "3c4e1276-a472-4df8-8fcf-031d6168723e"
      },
      "outputs": [
        {
          "name": "stdout",
          "output_type": "stream",
          "text": [
            "Setup complete.\n"
          ]
        }
      ],
      "source": [
        "# Import necessary libraries\n",
        "import os\n",
        "import json\n",
        "import re\n",
        "from openai import OpenAI\n",
        "from google.colab import userdata\n",
        "from IPython.display import Markdown, display\n",
        "from pprint import pprint\n",
        "\n",
        "print('Setup complete.')"
      ]
    },
    {
      "cell_type": "markdown",
      "metadata": {
        "id": "auth_header"
      },
      "source": [
        "### Authentication\n",
        "\n",
        "Set up authentication using Colab secrets."
      ]
    },
    {
      "cell_type": "code",
      "execution_count": null,
      "metadata": {
        "id": "auth_code"
      },
      "outputs": [],
      "source": [
        "# Get API key from Colab secrets\n",
        "api_key = userdata.get(\"SUTRA_API_KEY\")"
      ]
    },
    {
      "cell_type": "markdown",
      "metadata": {
        "id": "HKm703ltxEAy"
      },
      "source": [
        "### Initialize the client with SUTRA's API endpoint"
      ]
    },
    {
      "cell_type": "code",
      "execution_count": null,
      "metadata": {
        "colab": {
          "base_uri": "https://localhost:8080/"
        },
        "id": "wV6VovnjxDvI",
        "outputId": "59bcae52-0456-4518-8169-ea64b51a3ba9"
      },
      "outputs": [
        {
          "name": "stdout",
          "output_type": "stream",
          "text": [
            "OpenAI client initialized successfully.\n"
          ]
        }
      ],
      "source": [
        "# Initialize the client\n",
        "client = OpenAI(\n",
        "        base_url='https://api.two.ai/v2',\n",
        "        api_key=api_key\n",
        "    )\n",
        "print(\"OpenAI client initialized successfully.\")"
      ]
    },
    {
      "cell_type": "markdown",
      "metadata": {
        "id": "helper_header"
      },
      "source": [
        "### Helper Function\n",
        "\n",
        "A helper function to make API calls and display results."
      ]
    },
    {
      "cell_type": "code",
      "execution_count": null,
      "metadata": {
        "id": "helper_code"
      },
      "outputs": [],
      "source": [
        "def get_sutra_response(prompt, temperature=0.2, max_tokens=1024):\n",
        "    \"\"\"Get a response from SUTRA with the given prompt.\"\"\"\n",
        "    if not api_key:\n",
        "        return 'API key not configured.'\n",
        "    try:\n",
        "        response = client.chat.completions.create(\n",
        "            model='sutra-v2',\n",
        "            messages=[{\"role\": \"user\", \"content\": prompt}],\n",
        "            max_tokens=max_tokens,\n",
        "            temperature=temperature\n",
        "        )\n",
        "        return response.choices[0].message.content\n",
        "    except Exception as e:\n",
        "        return f'Error calling API: {e}'\n",
        "\n",
        "def display_response(prompt, temperature=0.2):\n",
        "    \"\"\"Display the prompt and response.\"\"\"\n",
        "    response = get_sutra_response(prompt, temperature)\n",
        "    print(\"📝 Prompt:\")\n",
        "    print(prompt)\n",
        "    print(\"\\n🤖 Response:\")\n",
        "    print(response)\n",
        "    print(\"\\n\" + \"-\" * 80)\n",
        "    return response"
      ]
    },
    {
      "cell_type": "markdown",
      "metadata": {
        "id": "json_header"
      },
      "source": [
        "## 1. Getting JSON Output\n",
        "\n",
        "Ask SUTRA to generate a JSON object."
      ]
    },
    {
      "cell_type": "code",
      "execution_count": null,
      "metadata": {
        "colab": {
          "base_uri": "https://localhost:8080/"
        },
        "id": "json_code",
        "outputId": "a4313301-214f-4aa1-816a-2fe570f61450"
      },
      "outputs": [
        {
          "name": "stdout",
          "output_type": "stream",
          "text": [
            "📝 Prompt:\n",
            "\n",
            "Generate a JSON object for a product with the fields: id, name, price, and category.\n",
            "Respond with ONLY a valid JSON object, no explanation, no markdown, no comments.\n",
            "\n",
            "\n",
            "🤖 Response:\n",
            "Error calling API: Error code: 401 - {'errorMessage': 'Invalid API key. Contact us to get a valid key.'}\n",
            "\n",
            "--------------------------------------------------------------------------------\n",
            "❌ Invalid JSON: Expecting value: line 1 column 1 (char 0)\n"
          ]
        }
      ],
      "source": [
        "json_prompt = \"\"\"\n",
        "Generate a JSON object for a product with the fields: id, name, price, and category.\n",
        "Respond with ONLY a valid JSON object, no explanation, no markdown, no comments.\n",
        "\"\"\"\n",
        "\n",
        "json_response = display_response(json_prompt)\n",
        "\n",
        "# Verify JSON\n",
        "try:\n",
        "    parsed_json = json.loads(json_response)\n",
        "    print(\"✅ Valid JSON!\")\n",
        "    pprint(parsed_json)\n",
        "except json.JSONDecodeError as e:\n",
        "    print(f\"❌ Invalid JSON: {e}\")"
      ]
    },
    {
      "cell_type": "markdown",
      "metadata": {
        "id": "table_header"
      },
      "source": [
        "## 2. Generating Tabular Data (Markdown)\n",
        "\n",
        "Ask SUTRA to format data as a markdown table."
      ]
    },
    {
      "cell_type": "code",
      "execution_count": null,
      "metadata": {
        "colab": {
          "base_uri": "https://localhost:8080/",
          "height": 437
        },
        "id": "table_code",
        "outputId": "b47f67db-a773-44dd-d4e8-fceac87fc3bc"
      },
      "outputs": [
        {
          "name": "stdout",
          "output_type": "stream",
          "text": [
            "📝 Prompt:\n",
            "\n",
            "Generate a markdown table of 3 major planets with columns: Planet, Diameter (km), Moons.\n",
            "\n",
            "\n",
            "🤖 Response:\n",
            "Here is a markdown table of three major planets, including their diameter and number of moons:\n",
            "\n",
            "```markdown\n",
            "| Planet     | Diameter (km) | Moons |\n",
            "|------------|---------------|-------|\n",
            "| Jupiter    | 139,820       | 79    |\n",
            "| Saturn     | 116,460       | 83    |\n",
            "| Earth      | 12,742        | 1     |\n",
            "```\n",
            "\n",
            "--------------------------------------------------------------------------------\n"
          ]
        },
        {
          "data": {
            "text/markdown": [
              "Here is a markdown table of three major planets, including their diameter and number of moons:\n",
              "\n",
              "```markdown\n",
              "| Planet     | Diameter (km) | Moons |\n",
              "|------------|---------------|-------|\n",
              "| Jupiter    | 139,820       | 79    |\n",
              "| Saturn     | 116,460       | 83    |\n",
              "| Earth      | 12,742        | 1     |\n",
              "```"
            ],
            "text/plain": [
              "<IPython.core.display.Markdown object>"
            ]
          },
          "metadata": {},
          "output_type": "display_data"
        }
      ],
      "source": [
        "table_prompt = \"\"\"\n",
        "Generate a markdown table of 3 major planets with columns: Planet, Diameter (km), Moons.\n",
        "\"\"\"\n",
        "\n",
        "table_response = display_response(table_prompt)\n",
        "\n",
        "# Display rendered markdown table\n",
        "display(Markdown(table_response))"
      ]
    },
    {
      "cell_type": "markdown",
      "metadata": {
        "id": "list_header"
      },
      "source": [
        "## 3. Structured Lists\n",
        "\n",
        "Generate a structured list, like a nested outline."
      ]
    },
    {
      "cell_type": "code",
      "execution_count": null,
      "metadata": {
        "colab": {
          "base_uri": "https://localhost:8080/",
          "height": 1000
        },
        "id": "list_code",
        "outputId": "859c528d-a11f-477b-9552-9c479c4303fc"
      },
      "outputs": [
        {
          "name": "stdout",
          "output_type": "stream",
          "text": [
            "📝 Prompt:\n",
            "\n",
            "Generate a nested markdown list outlining the steps to bake a cake (2 main steps, 2-3 sub-steps each).\n",
            "\n",
            "\n",
            "🤖 Response:\n",
            "# Steps to Bake a Cake\n",
            "\n",
            "1. **Prepare the Ingredients**\n",
            "   - Gather all necessary ingredients:\n",
            "     - Flour\n",
            "     - Sugar\n",
            "     - Eggs\n",
            "     - Butter\n",
            "     - Baking powder\n",
            "     - Milk\n",
            "     - Vanilla extract\n",
            "   - Measure the ingredients accurately using measuring cups and spoons.\n",
            "   - Preheat the oven to the required temperature (usually 350°F or 175°C).\n",
            "\n",
            "2. **Bake the Cake**\n",
            "   - Mix the dry ingredients:\n",
            "     - In a bowl, combine flour, baking powder, and salt.\n",
            "     - Whisk together until well blended.\n",
            "   - Combine wet ingredients:\n",
            "     - In a separate bowl, cream together butter and sugar until light and fluffy.\n",
            "     - Add eggs one at a time, mixing well after each addition, then stir in vanilla extract.\n",
            "   - Combine wet and dry mixtures:\n",
            "     - Gradually add the dry mixture to the wet mixture, alternating with milk.\n",
            "     - Mix until just combined, avoiding overmixing.\n",
            "   - Pour batter into a greased cake pan and bake for the recommended time (usually 25-30 minutes).\n",
            "   - Check for doneness by inserting a toothpick; it should come out clean.\n",
            "\n",
            "--------------------------------------------------------------------------------\n"
          ]
        },
        {
          "data": {
            "text/markdown": [
              "# Steps to Bake a Cake\n",
              "\n",
              "1. **Prepare the Ingredients**\n",
              "   - Gather all necessary ingredients:\n",
              "     - Flour\n",
              "     - Sugar\n",
              "     - Eggs\n",
              "     - Butter\n",
              "     - Baking powder\n",
              "     - Milk\n",
              "     - Vanilla extract\n",
              "   - Measure the ingredients accurately using measuring cups and spoons.\n",
              "   - Preheat the oven to the required temperature (usually 350°F or 175°C).\n",
              "\n",
              "2. **Bake the Cake**\n",
              "   - Mix the dry ingredients:\n",
              "     - In a bowl, combine flour, baking powder, and salt.\n",
              "     - Whisk together until well blended.\n",
              "   - Combine wet ingredients:\n",
              "     - In a separate bowl, cream together butter and sugar until light and fluffy.\n",
              "     - Add eggs one at a time, mixing well after each addition, then stir in vanilla extract.\n",
              "   - Combine wet and dry mixtures:\n",
              "     - Gradually add the dry mixture to the wet mixture, alternating with milk.\n",
              "     - Mix until just combined, avoiding overmixing.\n",
              "   - Pour batter into a greased cake pan and bake for the recommended time (usually 25-30 minutes).\n",
              "   - Check for doneness by inserting a toothpick; it should come out clean."
            ],
            "text/plain": [
              "<IPython.core.display.Markdown object>"
            ]
          },
          "metadata": {},
          "output_type": "display_data"
        }
      ],
      "source": [
        "list_prompt = \"\"\"\n",
        "Generate a nested markdown list outlining the steps to bake a cake (2 main steps, 2-3 sub-steps each).\n",
        "\"\"\"\n",
        "\n",
        "list_response = display_response(list_prompt)\n",
        "\n",
        "# Display rendered markdown list\n",
        "display(Markdown(list_response))"
      ]
    },
    {
      "cell_type": "markdown",
      "metadata": {
        "id": "extraction_header"
      },
      "source": [
        "## 4. Structured Extraction from Text\n",
        "\n",
        "Extract specific information from text into a structured format (JSON)."
      ]
    },
    {
      "cell_type": "code",
      "execution_count": null,
      "metadata": {
        "colab": {
          "base_uri": "https://localhost:8080/"
        },
        "id": "extraction_code",
        "outputId": "67e7f003-f762-4a8a-dcc3-5d9cb9a7365f"
      },
      "outputs": [
        {
          "name": "stdout",
          "output_type": "stream",
          "text": [
            "📝 Prompt:\n",
            "\n",
            "Extract the following details from the text into a JSON object:\n",
            "\n",
            "Text: \"The Apollo 11 mission launched on July 16, 1969, from Kennedy Space Center.\"\n",
            "\n",
            "Required JSON keys:\n",
            "- mission_name\n",
            "- launch_date\n",
            "- launch_location\n",
            "\n",
            "Respond with only a valid JSON object, without any explanation, formatting, or markdown. Do not include code blocks.\n",
            "\n",
            "\n",
            "🤖 Response:\n",
            "{\n",
            "  \"mission_name\": \"Apollo 11\",\n",
            "  \"launch_date\": \"July 16, 1969\",\n",
            "  \"launch_location\": \"Kennedy Space Center\"\n",
            "}\n",
            "\n",
            "--------------------------------------------------------------------------------\n",
            "✅ Valid JSON!\n",
            "{'launch_date': 'July 16, 1969',\n",
            " 'launch_location': 'Kennedy Space Center',\n",
            " 'mission_name': 'Apollo 11'}\n"
          ]
        }
      ],
      "source": [
        "extraction_prompt = \"\"\"\n",
        "Extract the following details from the text into a JSON object:\n",
        "\n",
        "Text: \"The Apollo 11 mission launched on July 16, 1969, from Kennedy Space Center.\"\n",
        "\n",
        "Required JSON keys:\n",
        "- mission_name\n",
        "- launch_date\n",
        "- launch_location\n",
        "\n",
        "Respond with only a valid JSON object, without any explanation, formatting, or markdown. Do not include code blocks.\n",
        "\"\"\"\n",
        "\n",
        "\n",
        "extraction_response = display_response(extraction_prompt)\n",
        "\n",
        "# Verify JSON\n",
        "try:\n",
        "    parsed_json = json.loads(extraction_response)\n",
        "    print(\"✅ Valid JSON!\")\n",
        "    pprint(parsed_json)\n",
        "except json.JSONDecodeError as e:\n",
        "    print(f\"❌ Invalid JSON: {e}\")"
      ]
    },
    {
      "cell_type": "markdown",
      "metadata": {
        "id": "fewshot_header"
      },
      "source": [
        "## 5. Few-Shot Prompting for Structure\n",
        "\n",
        "Provide examples within the prompt to guide the model towards the desired structure."
      ]
    },
    {
      "cell_type": "code",
      "execution_count": null,
      "metadata": {
        "colab": {
          "base_uri": "https://localhost:8080/"
        },
        "id": "fewshot_code",
        "outputId": "d8b8ce66-25ad-4651-929e-b56fa0bc8513"
      },
      "outputs": [
        {
          "name": "stdout",
          "output_type": "stream",
          "text": [
            "📝 Prompt:\n",
            "\n",
            "Extract city and country from the text into JSON.\n",
            "\n",
            "Example 1:\n",
            "Text: \"Paris is the capital of France.\"\n",
            "Output: {\"city\": \"Paris\", \"country\": \"France\"}\n",
            "\n",
            "Example 2:\n",
            "Text: \"Tokyo is a major city in Japan.\"\n",
            "Output: {\"city\": \"Tokyo\", \"country\": \"Japan\"}\n",
            "\n",
            "Now, process this text:\n",
            "Text: \"Berlin is located in Germany.\"\n",
            "Output:\n",
            "\n",
            "\n",
            "🤖 Response:\n",
            "{\"city\": \"Berlin\", \"country\": \"Germany\"}\n",
            "\n",
            "--------------------------------------------------------------------------------\n",
            "✅ Valid JSON!\n",
            "{'city': 'Berlin', 'country': 'Germany'}\n"
          ]
        }
      ],
      "source": [
        "few_shot_prompt = \"\"\"\n",
        "Extract city and country from the text into JSON.\n",
        "\n",
        "Example 1:\n",
        "Text: \"Paris is the capital of France.\"\n",
        "Output: {\"city\": \"Paris\", \"country\": \"France\"}\n",
        "\n",
        "Example 2:\n",
        "Text: \"Tokyo is a major city in Japan.\"\n",
        "Output: {\"city\": \"Tokyo\", \"country\": \"Japan\"}\n",
        "\n",
        "Now, process this text:\n",
        "Text: \"Berlin is located in Germany.\"\n",
        "Output:\n",
        "\"\"\"\n",
        "\n",
        "few_shot_response = display_response(few_shot_prompt)\n",
        "\n",
        "# Verify JSON\n",
        "try:\n",
        "    # The response might just be the JSON string without explanation\n",
        "    parsed_json = json.loads(few_shot_response.strip())\n",
        "    print(\"✅ Valid JSON!\")\n",
        "    pprint(parsed_json)\n",
        "except json.JSONDecodeError as e:\n",
        "    print(f\"❌ Invalid JSON: {e}\")"
      ]
    },
    {
      "cell_type": "markdown",
      "metadata": {
        "id": "conclusion_cell"
      },
      "source": [
        "## Conclusion & Best Practices\n",
        "\n",
        "- Be explicit about the desired format.\n",
        "- Use examples (few-shot prompting).\n",
        "- Use delimiters (like ```json ... ```).\n",
        "- Use a lower temperature (e.g., 0.1-0.3) for consistency.\n",
        "- Validate the output in your code."
      ]
    }
  ],
  "metadata": {
    "colab": {
      "provenance": []
    },
    "kernelspec": {
      "display_name": "Python 3",
      "name": "python3"
    },
    "language_info": {
      "name": "python"
    }
  },
  "nbformat": 4,
  "nbformat_minor": 0
}
