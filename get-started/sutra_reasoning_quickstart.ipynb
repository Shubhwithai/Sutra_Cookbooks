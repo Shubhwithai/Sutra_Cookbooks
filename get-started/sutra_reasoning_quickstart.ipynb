{
  "cells": [
    {
      "cell_type": "markdown",
      "metadata": {
        "id": "go6fUnsm2O5g"
      },
      "source": [
        "# SUTRA Reasoning Quickstart\n",
        "\n",
        "<img src=\"https://play-lh.googleusercontent.com/_O9p4Z4yucA2NLmZBu9mTJCuBwXeT9NcbtrDN6I8gKlkIPRySV0adOmbyipjSj9Gew\" width=\"150\">\n"
      ]
    },
    {
      "cell_type": "markdown",
      "metadata": {
        "id": "3e3_TxDn2p53"
      },
      "source": [
        "[![Open In Colab](https://colab.research.google.com/assets/colab-badge.svg)](https://colab.research.google.com/drive/1LIFr44A-VnTnDPqz2S5m9f118r-o5nBy?usp=sharing)\n",
        "\n",
        "## 🔍 Introduction to SUTRA-R0\n",
        "\n",
        "**SUTRA-R0** is a reasoning-focused multilingual language model developed by [TWO AI](https://www.two.ai). It features a logical reasoning layer that enables structured, multi-step  problem solving across 50+ languages.\n",
        "\n",
        "\n",
        "\n",
        "\n",
        "### ✅ Key Features\n",
        "\n",
        "* Logical and goal-oriented reasoning\n",
        "* Efficient and scalable for real-world applications\n",
        "* Strong multilingual understanding\n",
        "\n",
        "### 💡 How it Works\n",
        "\n",
        "When a user submits a query, **SUTRA-R0** first begins processing the input in a structured manner, marked by `<thinking></thinking>` tags, as it analyzes the context and determines the most logical path to an answer. This ensures that the response is not only accurate but also deeply reasoned, accounting for the complexities of the task at hand.\n",
        "\n",
        "\n"
      ]
    },
    {
      "cell_type": "markdown",
      "metadata": {
        "id": "CE_mcbv_23ej"
      },
      "source": [
        "## Get Your API Keys\n",
        "\n",
        "Before you begin, make sure you have:\n",
        "\n",
        "1. A SUTRA API key (Get yours at [TWO AI's SUTRA API page](https://www.two.ai/sutra/api))\n",
        "2. Basic familiarity with Python and Jupyter notebooks\n",
        "\n",
        "This notebook is designed to run in Google Colab, so no local Python installation is required."
      ]
    },
    {
      "cell_type": "markdown",
      "metadata": {
        "id": "n8vJkfEI2--q"
      },
      "source": [
        "## Step 1: Installation\n",
        "\n",
        "First, let's install the required dependencies:"
      ]
    },
    {
      "cell_type": "code",
      "execution_count": null,
      "metadata": {
        "colab": {
          "base_uri": "https://localhost:8080/"
        },
        "id": "vdIKimoM22_a",
        "outputId": "da3b3c55-cca4-415a-de17-a7272a6e8ed8"
      },
      "outputs": [
        {
          "name": "stdout",
          "output_type": "stream",
          "text": [
            "✅ OpenAI SDK installed successfully!\n"
          ]
        }
      ],
      "source": [
        "# Install the OpenAI Python package\n",
        "!pip install -qU openai\n",
        "\n",
        "print(\"✅ OpenAI SDK installed successfully!\")"
      ]
    },
    {
      "cell_type": "markdown",
      "metadata": {
        "id": "rBjNNWWc3HeF"
      },
      "source": [
        "## Step 2: Authentication\n",
        "\n",
        "SUTRA uses API keys for authentication. In Google Colab, we recommend using the `userdata` feature to securely store your API key.\n",
        "\n",
        "### Setting up your API key in Colab:\n",
        "\n",
        "1. Click on the 🔑 icon in the left sidebar\n",
        "2. Add a new secret with the name \"SUTRA_API_KEY\" and your API key as the value\n",
        "\n",
        "Then run the cell below to access your API key:"
      ]
    },
    {
      "cell_type": "code",
      "execution_count": null,
      "metadata": {
        "id": "95CVQrh42Np9"
      },
      "outputs": [],
      "source": [
        "import os\n",
        "from google.colab import userdata\n",
        "\n",
        "SUTRA_API_KEY = userdata.get(\"SUTRA_API_KEY\")"
      ]
    },
    {
      "cell_type": "markdown",
      "metadata": {
        "id": "HL57aRJx3QaX"
      },
      "source": [
        "## Step 3: Basic Usage with OpenAI SDK\n",
        "\n",
        "SUTRA's API is compatible with the OpenAI SDK, making it easy to integrate into existing workflows. Let's set up the client and make a simple request:"
      ]
    },
    {
      "cell_type": "markdown",
      "metadata": {
        "id": "XJsagyrq35Uf"
      },
      "source": [
        "###Initialize Sutra Client"
      ]
    },
    {
      "cell_type": "code",
      "execution_count": null,
      "metadata": {
        "id": "QfzjKcn43UES"
      },
      "outputs": [],
      "source": [
        "from openai import OpenAI\n",
        "\n",
        "# Initialize the client with SUTRA's API endpoint\n",
        "client = OpenAI(\n",
        "    base_url='https://api.two.ai/v2',\n",
        "    api_key=SUTRA_API_KEY\n",
        ")"
      ]
    },
    {
      "cell_type": "markdown",
      "metadata": {
        "id": "FMNLAQtz4AsU"
      },
      "source": [
        "###Helper Function to Call Sutra"
      ]
    },
    {
      "cell_type": "code",
      "execution_count": null,
      "metadata": {
        "id": "JrC4J-N_4DbT"
      },
      "outputs": [],
      "source": [
        "def get_sutra_response(prompt: str, temperature: float = 0.7, max_tokens: int = 1024, stream: bool = False) -> str:\n",
        "    \"\"\"Fetches response from Sutra LLM\"\"\"\n",
        "    response = client.chat.completions.create(\n",
        "        model='sutra-r0',\n",
        "        messages=[{\"role\": \"user\", \"content\": prompt}],\n",
        "        max_tokens=max_tokens,\n",
        "        temperature=temperature,\n",
        "        stream=stream\n",
        "    )\n",
        "    return response.choices[0].message.content"
      ]
    },
    {
      "cell_type": "markdown",
      "metadata": {
        "id": "GPi58CNc-cQy"
      },
      "source": [
        "###💬 Example 1: Multilingual Customer Support"
      ]
    },
    {
      "cell_type": "code",
      "execution_count": null,
      "metadata": {
        "colab": {
          "base_uri": "https://localhost:8080/"
        },
        "id": "lCBXGvA9-hX7",
        "outputId": "3787f5d9-fece-4c6d-814d-b8ab1ec6fb33"
      },
      "outputs": [
        {
          "name": "stdout",
          "output_type": "stream",
          "text": [
            "\n",
            "Language: Hindi\n",
            "Response: <thinking>\n",
            "The user has requested a response in Hindi for a customer query regarding the arrival of an order. I need to ensure that my response is clear and informative while maintaining a polite tone.\n",
            "\n",
            "First, I will acknowledge the customer's inquiry about their order status. Then, I will provide a general timeframe for delivery, as specific details may vary based on the company's policies or logistics. \n",
            "\n",
            "It's important to keep the language simple and direct, ensuring that the customer feels reassured about their order. Finally, I will conclude with an invitation for further questions if they have any concerns. \n",
            "\n",
            "Now, I will formulate the response in Hindi.\n",
            "</thinking>\n",
            "\n",
            "आपके ऑर्डर के लिए धन्यवाद! आपका ऑर्डर आमतौर पर 5 से 7 कार्यदिवसों के भीतर पहुंचता है। हालांकि, कुछ मामलों में डिलीवरी में थोड़ा समय लग सकता है। यदि आपको और जानकारी चाहिए या कोई अन्य सवाल है, तो कृपया बेझिझक पूछें। हम आपकी सहायता के लिए यहां हैं!\n",
            "\n",
            "Language: Spanish\n",
            "Response: <thinking>\n",
            "The user has requested a response to a customer query in Spanish regarding the arrival of an order. First, I need to ensure that the response is clear and polite, addressing the customer's concern about their order status.\n",
            "\n",
            "I should start by acknowledging the question about the order's arrival. Then, it would be helpful to provide a general timeframe for delivery if available, or suggest that the customer check their order status through a specific method, such as a tracking link or customer service contact.\n",
            "\n",
            "Finally, I will structure the response in a way that maintains a friendly tone, ensuring that the customer feels valued and informed. This approach will help create a positive interaction. Now, I can formulate the actual response in Spanish.\n",
            "</thinking>\n",
            "\n",
            "Estimado cliente,\n",
            "\n",
            "Gracias por su consulta sobre el estado de su pedido. La entrega de los pedidos suele tardar entre 3 y 7 días hábiles, dependiendo de la ubicación y el método de envío seleccionado. \n",
            "\n",
            "Le recomendamos que verifique el estado de su pedido a través del enlace de seguimiento que se le proporcionó en el correo de confirmación. Si tiene más preguntas o necesita ayuda adicional, no dude en ponerse en contacto con nuestro servicio al cliente.\n",
            "\n",
            "Agradecemos su paciencia y comprensión.\n",
            "\n",
            "Atentamente,  \n",
            "[Su Nombre]  \n",
            "[Su Empresa]\n",
            "\n",
            "Language: Arabic\n",
            "Response: <thinking>\n",
            "The user has asked for a response to a customer query in Arabic regarding the arrival of an order. I need to ensure that my response is clear and directly addresses the question about the order's arrival time.\n",
            "\n",
            "First, I should consider how to phrase the response in Arabic, keeping it polite and informative. It's important to convey that the exact arrival time may depend on various factors, such as processing time and shipping method.\n",
            "\n",
            "Next, I will construct a response that acknowledges the customer's inquiry and provides a general timeframe or suggests they check their order status for more specific information. This will help manage customer expectations effectively.\n",
            "\n",
            "Finally, I will ensure that the Arabic translation is accurate and maintains the tone appropriate for customer service communication.\n",
            "</thinking>\n",
            "\n",
            "شكرًا لاستفسارك. يعتمد وقت وصول طلبك على عدة عوامل، بما في ذلك وقت المعالجة وطريقة الشحن. بشكل عام، يمكن أن يستغرق الأمر من 3 إلى 7 أيام عمل. يمكنك أيضًا التحقق من حالة طلبك للحصول على معلومات أكثر دقة. إذا كان لديك أي أسئلة أخرى، فلا تتردد في طرحها.\n",
            "\n",
            "Language: Japanese\n",
            "Response: <thinking>\n",
            "The user has requested a response to a customer query in Japanese regarding the arrival of an order. I need to ensure that my response is clear and polite, as it pertains to customer service.\n",
            "\n",
            "First, I will consider the appropriate phrasing in Japanese for answering a question about order delivery. It’s important to convey the message in a way that is respectful and informative.\n",
            "\n",
            "Next, I’ll think about including a typical timeframe for order delivery if that information is known or relevant. If not, I can provide a general response indicating that the order status can be checked or that the customer can expect an update soon.\n",
            "\n",
            "Finally, I will format the response in Japanese, ensuring correct grammar and politeness levels suitable for customer communication.\n",
            "</thinking>\n",
            "\n",
            "お客様\n",
            "\n",
            "お問い合わせありがとうございます。ご注文の配送状況についてお知らせいたします。\n",
            "\n",
            "通常、発送からお届けまでにかかる時間は約〇日です。ただし、具体的なお届け日については、ご注文内容や配送先によって異なる場合があります。\n",
            "\n",
            "お手数ですが、詳しい情報が必要な場合は、注文番号をお知らせいただければ、さらに調査いたします。また、追跡情報がある場合は、そちらをご確認いただくこともできます。\n",
            "\n",
            "今後ともよろしくお願い申し上げます。\n",
            "\n",
            "Language: Korean\n",
            "Response: <thinking>\n",
            "The user has requested a response to a customer query in Korean regarding the arrival of an order. I need to ensure that the response is clear and polite, as it pertains to customer service.\n",
            "\n",
            "First, I will translate the question \"When will my order arrive?\" into Korean. The appropriate translation is \"내 주문은 언제 도착하나요?\" \n",
            "\n",
            "Next, I should consider adding a polite closing statement, such as \"감사합니다,\" which means \"Thank you.\" This enhances the professionalism of the response.\n",
            "\n",
            "Finally, I will structure the response to ensure it flows naturally in Korean while maintaining the original meaning. This will result in a complete and courteous reply to the customer's inquiry. \n",
            "\n",
            "Now, I will formulate the final response in Korean.\n",
            "</thinking>\n",
            "\n",
            "안녕하세요! 주문은 일반적으로 3-5일 이내에 도착합니다. 그러나 지역에 따라 다를 수 있으니 참고해 주세요. 추가 질문이 있으시면 언제든지 말씀해 주세요. 감사합니다!\n"
          ]
        }
      ],
      "source": [
        "def multilingual_customer_support():\n",
        "    queries = {\n",
        "        \"Hindi\": \"मेरा ऑर्डर कब तक पहुंचेगा?\",\n",
        "        \"Spanish\": \"¿Cuándo llegará mi pedido?\",\n",
        "        \"Arabic\": \"متى سيصل طلبي؟\",\n",
        "        \"Japanese\": \"注文はいつ届きますか？\",\n",
        "        \"Korean\": \"주문이 언제 도착하나요?\",\n",
        "    }\n",
        "\n",
        "    for lang, query in queries.items():\n",
        "        prompt = f\"Respond to this customer query in {lang}: {query}\"\n",
        "        print(f\"\\nLanguage: {lang}\")\n",
        "        print(\"Response:\", get_sutra_response(prompt))\n",
        "\n",
        "# Call the function\n",
        "multilingual_customer_support()"
      ]
    },
    {
      "cell_type": "markdown",
      "metadata": {
        "id": "jRFqf6Gk-lPt"
      },
      "source": [
        "###✍️ Example 2: Multilingual Content Generation"
      ]
    },
    {
      "cell_type": "code",
      "execution_count": null,
      "metadata": {
        "colab": {
          "base_uri": "https://localhost:8080/"
        },
        "id": "-ekqiwDT-oLW",
        "outputId": "fd0d834f-a236-446f-cb2a-134717e1c828"
      },
      "outputs": [
        {
          "name": "stdout",
          "output_type": "stream",
          "text": [
            "\n",
            "Language: Hindi\n",
            "<thinking>\n",
            "The user has requested a 200-word blog post in Hindi about the future of digital payments in India. I need to focus on key aspects such as technological advancements, government initiatives, and the growing acceptance of digital payment methods among consumers.\n",
            "\n",
            "First, I will outline the current landscape of digital payments in India, mentioning popular platforms like UPI, mobile wallets, and online banking. Next, I will highlight the role of the Indian government in promoting digital transactions through initiatives like Digital India.\n",
            "\n",
            "I should also touch on the increasing smartphone penetration and internet accessibility, which are crucial for the growth of digital payments. Additionally, I can mention the impact of the COVID-19 pandemic, which accelerated the shift towards contactless transactions.\n",
            "\n",
            "Finally, I will conclude with a forward-looking statement about the potential for innovation in this sector and how it could reshape the financial ecosystem in India. The tone should be informative yet engaging to capture the reader's interest. \n",
            "\n",
            "Now, I will compose the blog post in Hindi while ensuring it remains within the 200-word limit.\n",
            "</thinking>\n",
            "\n",
            "भारत में डिजिटल भुगतान का भविष्य उज्ज्वल और रोमांचक है। देश में तकनीकी प्रगति, जैसे कि यूपीआई, मोबाइल वॉलेट्स और ऑनलाइन बैंकिंग प्लेटफार्मों के माध्यम से डिजिटल लेनदेन तेजी से बढ़ रहे हैं। सरकार द्वारा ‘डिजिटल इंडिया’ जैसी पहलों ने इस प्रक्रिया को और तेज किया है, जिससे लोगों को डिजिटल भुगतान के लिए प्रोत्साहित किया जा रहा है।\n",
            "\n",
            "स्मार्टफोन की बढ़ती पहुंच और इंटरनेट कनेक्टिविटी भी डिजिटल भुगतान के विकास में महत्वपूर्ण भूमिका निभा रही है। COVID-19 महामारी ने संपर्क रहित लेनदेन की आवश्यकता को बढ़ावा दिया, जिसके परिणामस्वरूप अधिक लोग डिजिटल भुगतान के लिए आगे आए हैं। \n",
            "\n",
            "आने वाले वर्षों में, नई तकनीकों जैसे कि ब्लॉकचेन और आर्टिफिशियल इंटेलिजेंस के उपयोग से डिजिटल भुगतान प्रणाली में और भी सुधार होने की संभावना है। ये नवाचार वित्तीय पारिस्थितिकी तंत्र को नया आकार देने में सहायक होंगे। \n",
            "\n",
            "सम्पूर्ण रूप से, भारत में डिजिटल भुगतान न केवल सुविधाजनक होगा, बल्कि यह समावेशी अर्थव्यवस्था को भी बढ़ाने में महत्वपूर्ण योगदान देगा। इस दिशा में निरंतर प्रयासों के साथ, भारत दुनिया के सबसे अग्रणी डिजिटल भुगतान बाजारों में से एक बन सकता है।\n",
            "\n",
            "Language: Spanish\n",
            "<thinking>\n",
            "The user has requested a blog post in Spanish about the future of digital payments. I need to ensure that the content is engaging and informative while adhering to the 200-word limit. \n",
            "\n",
            "First, I'll consider the key trends shaping the future of digital payments, such as the rise of cryptocurrencies, the increasing use of mobile wallets, and advancements in security technologies like biometric authentication. These points will help create a comprehensive overview.\n",
            "\n",
            "Next, I’ll structure the post with a clear introduction, body, and conclusion. The introduction should briefly highlight the significance of digital payments in today's economy. The body will delve into specific trends and innovations, while the conclusion can reflect on the potential impact of these changes on consumers and businesses.\n",
            "\n",
            "Finally, I must ensure that the language is appropriate for a blog post—clear, concise, and accessible to a broad audience. After drafting the content in Spanish, I’ll review it to ensure it flows well and stays within the word count. \n",
            "\n",
            "Now, I will proceed to write the blog post in Spanish.\n",
            "</thinking>\n",
            "\n",
            "El futuro de los pagos digitales se presenta emocionante y transformador. En un mundo cada vez más interconectado, las tecnologías financieras están evolucionando rápidamente, cambiando la forma en que realizamos transacciones.\n",
            "\n",
            "Una de las tendencias más destacadas es el auge de las criptomonedas. Estas monedas digitales no solo ofrecen alternativas a las divisas tradicionales, sino que también prometen transacciones más rápidas y seguras. Además, el uso de billeteras móviles sigue en aumento, permitiendo a los usuarios realizar pagos con solo un toque en sus dispositivos. Esta comodidad es especialmente valorada por las nuevas generaciones.\n",
            "\n",
            "La seguridad también juega un papel crucial en el futuro de los pagos digitales. La autenticación biométrica, como el reconocimiento facial y las huellas dactilares, está ganando terreno, ofreciendo métodos más seguros y convenientes para acceder a cuentas y realizar pagos.\n",
            "\n",
            "Por último, la integración de inteligencia artificial y análisis de datos permitirá personalizar las experiencias de pago, adaptándose a las preferencias de los consumidores. En conclusión, el futuro de los pagos digitales promete ser más accesible, seguro y personalizado, beneficiando tanto a consumidores como a empresas en la era digital.\n"
          ]
        }
      ],
      "source": [
        "def multilingual_content_generation():\n",
        "    topics = {\n",
        "        \"Hindi\": \"भारत में डिजिटल भुगतान का भविष्य\",\n",
        "        \"Spanish\": \"El futuro de los pagos digitales\",\n",
        "    }\n",
        "\n",
        "    for lang, topic in topics.items():\n",
        "        prompt = f\"Write a 200-word blog post about {topic} in {lang}\"\n",
        "        print(f\"\\nLanguage: {lang}\")\n",
        "        print(get_sutra_response(prompt, temperature=0.8))\n",
        "# Call the function\n",
        "multilingual_content_generation()"
      ]
    },
    {
      "cell_type": "markdown",
      "metadata": {
        "id": "qT8xnOyI-s_2"
      },
      "source": [
        "###📊 Example 3: Multilingual Data Analysis"
      ]
    },
    {
      "cell_type": "code",
      "execution_count": null,
      "metadata": {
        "colab": {
          "base_uri": "https://localhost:8080/"
        },
        "id": "fTPBANho-yqP",
        "outputId": "87c5643d-89b1-46da-b22f-7081fd25db08"
      },
      "outputs": [
        {
          "name": "stdout",
          "output_type": "stream",
          "text": [
            "\n",
            "Analysis in Hindi:\n",
            " <thinking>\n",
            "The user has provided a table of sales data along with growth percentages for different regions. My task is to analyze this data and present insights in Hindi.\n",
            "\n",
            "First, I will identify key metrics from the data: total sales per region and their respective growth rates. This will help me understand which regions are performing well and which are lagging behind.\n",
            "\n",
            "Next, I will look for patterns or trends in the data. For instance, I can compare the sales figures and growth rates across regions to determine which region has the highest sales and which has the highest growth.\n",
            "\n",
            "Finally, I will formulate these insights clearly in Hindi, ensuring that the information is accurate and easily understandable for the user. This will involve translating my findings into concise statements while maintaining the integrity of the data.\n",
            "</thinking>\n",
            "\n",
            "इस बिक्री डेटा का विश्लेषण करते हैं:\n",
            "\n",
            "1. **कुल बिक्री**:\n",
            "   - उत्तर (North): 100,000\n",
            "   - दक्षिण (South): 150,000\n",
            "   - पूर्व (East): 120,000\n",
            "   - पश्चिम (West): 180,000\n",
            "\n",
            "2. **विकास प्रतिशत**:\n",
            "   - उत्तर: 10%\n",
            "   - दक्षिण: 15%\n",
            "   - पूर्व: 12%\n",
            "   - पश्चिम: 18%\n",
            "\n",
            "**मुख्य अंतर्दृष्टियाँ**:\n",
            "\n",
            "- **सर्वाधिक बिक्री**: पश्चिम क्षेत्र ने सबसे अधिक बिक्री की है, जो कि 180,000 है। यह क्षेत्र बिक्री के मामले में सबसे आगे है।\n",
            "  \n",
            "- **सर्वाधिक विकास**: पश्चिम क्षेत्र में विकास दर भी सबसे अधिक है, जो कि 18% है। इसके बाद दक्षिण क्षेत्र 15% के साथ आता है।\n",
            "\n",
            "- **सामान्य तुलना**: \n",
            "  - दक्षिण क्षेत्र की बिक्री 150,000 है, और इसकी विकास दर 15% है, जो इसे एक मजबूत प्रदर्शन क्षेत्र बनाता है।\n",
            "  - पूर्व क्षेत्र की बिक्री 120,000 है, लेकिन इसकी विकास दर 12% है, जो औसत है।\n",
            "  - उत्तर क्षेत्र सबसे कम बिक्री के साथ 100,000 पर है और इसकी विकास दर भी सबसे कम 10% है।\n",
            "\n",
            "**निष्कर्ष**: पश्चिम क्षेत्र बिक्री और विकास दोनों में सबसे अच्छा प्रदर्शन कर रहा है। दक्षिण और पूर्व क्षेत्र भी अच्छे प्रदर्शन कर रहे हैं, जबकि उत्तर क्षेत्र को सुधार की आवश्यकता है।\n",
            "\n",
            "Analysis in Spanish:\n",
            " <thinking>\n",
            "The user has provided sales data for four regions and requested an analysis in Spanish. My first step is to interpret the data, noting the sales figures and growth percentages for each region. \n",
            "\n",
            "Next, I will identify key insights such as which region has the highest sales and growth, as well as any trends or comparisons that can be made between the regions. This will help in forming a comprehensive analysis.\n",
            "\n",
            "Finally, I will translate my findings into Spanish, ensuring clarity and accuracy in the language used. It's important to maintain a professional tone while delivering the insights effectively.\n",
            "</thinking>\n",
            "\n",
            "Analizando los datos de ventas proporcionados para las cuatro regiones, se pueden destacar los siguientes puntos:\n",
            "\n",
            "1. **Ventas Totales**: La región Oeste tiene las ventas más altas con 180,000, seguida por la región Sur con 150,000, la región Este con 120,000 y finalmente la región Norte con 100,000.\n",
            "\n",
            "2. **Crecimiento**: En términos de crecimiento porcentual, la región Oeste también lidera con un crecimiento del 18%, seguida por la región Sur con un 15%, la región Este con un 12% y la región Norte con un 10%.\n",
            "\n",
            "3. **Comparación**:\n",
            "   - La región Oeste no solo tiene las ventas más altas, sino que también muestra el crecimiento más significativo. Esto puede indicar una fuerte demanda en esa área o el éxito de estrategias de marketing.\n",
            "   - La región Sur, aunque tiene menos ventas que la región Oeste, muestra un crecimiento robusto, lo que sugiere que podría haber potencial para aumentar aún más sus ventas en el futuro.\n",
            "\n",
            "4. **Tendencias**: Las regiones con mayores ventas (Oeste y Sur) también presentan un crecimiento saludable, lo que indica que estas áreas están en una buena posición tanto en términos de ingresos como de expansión.\n",
            "\n",
            "En resumen, la región Oeste se destaca como la más fuerte tanto en ventas como en crecimiento, mientras que la región Sur muestra un crecimiento prometedor. Esto podría ser un indicativo de oportunidades para concentrar esfuerzos de ventas y marketing en estas regiones para maximizar el rendimiento.\n"
          ]
        }
      ],
      "source": [
        "import pandas as pd\n",
        "\n",
        "def multilingual_data_analysis():\n",
        "    df = pd.DataFrame({\n",
        "        \"Region\": [\"North\", \"South\", \"East\", \"West\"],\n",
        "        \"Sales\": [100000, 150000, 120000, 180000],\n",
        "        \"Growth\": [10, 15, 12, 18]\n",
        "    })\n",
        "\n",
        "    for lang in [\"Hindi\", \"Spanish\"]:\n",
        "        prompt = f\"Analyze this sales data and provide insights in {lang}:\\n{df.to_string()}\"\n",
        "        print(f\"\\nAnalysis in {lang}:\\n\", get_sutra_response(prompt))\n",
        "\n",
        "# Call the function\n",
        "multilingual_data_analysis()"
      ]
    },
    {
      "cell_type": "markdown",
      "metadata": {
        "id": "ZKkAmM7B-3uO"
      },
      "source": [
        "###🧠 Example 4: Multilingual Code Documentation"
      ]
    },
    {
      "cell_type": "code",
      "execution_count": null,
      "metadata": {
        "colab": {
          "base_uri": "https://localhost:8080/"
        },
        "id": "Lj8kgmYj-54c",
        "outputId": "8985e6e6-dc6f-42e6-df45-292471220154"
      },
      "outputs": [
        {
          "name": "stdout",
          "output_type": "stream",
          "text": [
            "\n",
            "Documentation in Hindi:\n",
            " <thinking>\n",
            "The user has provided a Python function that calculates Fibonacci numbers and requested documentation in Hindi. I need to explain the purpose of the function, its parameters, and its return values clearly in Hindi.\n",
            "\n",
            "First, I'll describe what the Fibonacci sequence is and how this function works step by step. Then, I will outline the base cases for the function when `n` is less than or equal to 0 and when `n` equals 1. Finally, I will explain the recursive nature of the function for values of `n` greater than 1.\n",
            "\n",
            "It's essential to ensure that the documentation is concise yet informative, making it easy for Hindi-speaking users to understand the function's functionality. Now, I will proceed to write the documentation in Hindi.\n",
            "</thinking>\n",
            "\n",
            "यहां पर दिए गए Python फ़ंक्शन `calculate_fibonacci(n)` का विवरण हिंदी में प्रस्तुत किया गया है:\n",
            "\n",
            "### फ़ंक्शन का उद्देश्य:\n",
            "यह फ़ंक्शन फ़िबोनाच्ची अनुक्रम (Fibonacci sequence) के nवें तत्व की गणना करता है। फ़िबोनाच्ची अनुक्रम एक श्रंखला है जिसमें प्रत्येक संख्या पिछले दो संख्याओं का योग होती है। अनुक्रम इस प्रकार शुरू होता है: 0, 1, 1, 2, 3, 5, 8, 13, आदि।\n",
            "\n",
            "### पैरामीटर:\n",
            "- `n` (int): यह एक पूर्णांक है जो अनुक्रम में उस स्थान को दर्शाता है, जिसका फ़िबोनाच्ची संख्या हमें चाहिए।\n",
            "\n",
            "### लौटाए जाने वाले मान:\n",
            "- यदि `n` 0 या उससे कम है, तो यह फ़ंक्शन 0 लौटाता है।\n",
            "- यदि `n` 1 है, तो यह फ़ंक्शन 1 लौटाता है।\n",
            "- यदि `n` 1 से बड़ा है, तो यह फ़ंक्शन `calculate_fibonacci(n-1)` और `calculate_fibonacci(n-2)` का योग लौटाता है, जो कि पिछले दो फ़िबोनाच्ची संख्याओं का योग है।\n",
            "\n",
            "### कार्यप्रणाली:\n",
            "1. यदि `n` 0 या उससे कम है, तो फ़ंक्शन 0 लौटाता है।\n",
            "2. यदि `n` 1 है, तो फ़ंक्शन 1 लौटाता है।\n",
            "3. अन्यथा, फ़ंक्शन स्वयं को पुनः कॉल करता है:\n",
            "   - पहले `n-1` के लिए,\n",
            "   - फिर `n-2` के लिए।\n",
            "4. अंत में, यह दोनों परिणामों का योग लौटाता है, जो कि nवें फ़िबोनाच्ची संख्या को निर्धारित करता है।\n",
            "\n",
            "उदाहरण के लिए, यदि आप `calculate_fibonacci(5)` को कॉल करते हैं, तो यह 5वें फ़िबोनाच्ची संख्या (जो कि 5 है) की गणना करेगा।\n",
            "\n",
            "Documentation in Spanish:\n",
            " <thinking>\n",
            "The user has requested documentation for a Python function in Spanish. The function calculates Fibonacci numbers, so I need to explain its purpose, parameters, and behavior clearly in Spanish.\n",
            "\n",
            "First, I will describe what the function does, mentioning that it calculates Fibonacci numbers based on the input value `n`. Then, I will explain the conditions within the function: what happens when `n` is less than or equal to zero, when it equals one, and the recursive case for other values of `n`.\n",
            "\n",
            "Finally, I will ensure that the documentation is concise and uses appropriate technical language in Spanish while remaining accessible to someone with a basic understanding of programming concepts.\n",
            "</thinking>\n",
            "\n",
            "```python\n",
            "def calculate_fibonacci(n):\n",
            "    \"\"\"\n",
            "    Calcula el número de Fibonacci en la posición n.\n",
            "\n",
            "    La secuencia de Fibonacci se define como sigue:\n",
            "    - Fibonacci(0) = 0\n",
            "    - Fibonacci(1) = 1\n",
            "    - Fibonacci(n) = Fibonacci(n-1) + Fibonacci(n-2) para n > 1\n",
            "\n",
            "    Parámetros:\n",
            "    n (int): El índice de la posición en la secuencia de Fibonacci que se desea calcular. \n",
            "             Debe ser un número entero no negativo.\n",
            "\n",
            "    Retorna:\n",
            "    int: El número de Fibonacci correspondiente a la posición n.\n",
            "          Si n es menor o igual a 0, se retorna 0.\n",
            "          Si n es igual a 1, se retorna 1.\n",
            "\n",
            "    Ejemplo:\n",
            "    >>> calculate_fibonacci(5)\n",
            "    5\n",
            "    >>> calculate_fibonacci(10)\n",
            "    55\n",
            "    \"\"\"\n",
            "\n",
            "    if n <= 0:\n",
            "        return 0\n",
            "    elif n == 1:\n",
            "        return 1\n",
            "    else:\n",
            "        return calculate_fibonacci(n-1) + calculate_fibonacci(n-2)\n",
            "``` \n",
            "\n",
            "Esta documentación explica de manera clara y concisa la función `calculate_fibonacci`, sus parámetros y los valores de retorno esperados. También proporciona ejemplos de uso para ilustrar su funcionamiento.\n"
          ]
        }
      ],
      "source": [
        "def multilingual_code_documentation():\n",
        "    code = \"\"\"\n",
        "def calculate_fibonacci(n):\n",
        "    if n <= 0:\n",
        "        return 0\n",
        "    elif n == 1:\n",
        "        return 1\n",
        "    else:\n",
        "        return calculate_fibonacci(n-1) + calculate_fibonacci(n-2)\n",
        "    \"\"\"\n",
        "    for lang in [\"Hindi\", \"Spanish\"]:\n",
        "        prompt = f\"Document this Python function in {lang}:\\n{code}\"\n",
        "        print(f\"\\nDocumentation in {lang}:\\n\", get_sutra_response(prompt))\n",
        "\n",
        "# Call the function\n",
        "multilingual_code_documentation()"
      ]
    },
    {
      "cell_type": "markdown",
      "metadata": {
        "id": "d7Ldegc7--6F"
      },
      "source": [
        "###😊 Example 5: Multilingual Sentiment Analysis"
      ]
    },
    {
      "cell_type": "code",
      "execution_count": null,
      "metadata": {
        "colab": {
          "base_uri": "https://localhost:8080/"
        },
        "id": "XyPEzJke_DkT",
        "outputId": "d996d0bb-afb8-48d4-c7da-3cf29bef8096"
      },
      "outputs": [
        {
          "name": "stdout",
          "output_type": "stream",
          "text": [
            "\n",
            "Sentiment in Hindi:\n",
            " <thinking>\n",
            "The user has provided a Hindi review and asked for a sentiment analysis. The review states, \"This product is very good,\" which is clearly positive in sentiment.\n",
            "\n",
            "I need to focus on the key phrases in the review that indicate the sentiment. The phrase \"very good\" suggests a strong approval and satisfaction with the product.\n",
            "\n",
            "My response should summarize the sentiment as positive and may include a brief explanation of why it is considered positive based on the language used. I will also ensure that my response is clear and concise, directly addressing the user's request.\n",
            "</thinking>\n",
            "\n",
            "The sentiment of the review \"यह प्रोडक्ट बहुत अच्छा है।\" is positive. The phrase \"बहुत अच्छा\" (very good) indicates strong approval and satisfaction with the product, reflecting a favorable opinion.\n",
            "\n",
            "Sentiment in Spanish:\n",
            " <thinking>\n",
            "The user has provided a Spanish review and requested a sentiment analysis. The review states, \"Este producto es excelente,\" which translates to \"This product is excellent\" in English. The word \"excelente\" indicates a very positive sentiment.\n",
            "\n",
            "I need to convey that the overall sentiment of the review is positive. It's important to highlight the key term that contributes to this sentiment and provide a brief explanation for clarity. Additionally, since the review is in Spanish, I should acknowledge the language while providing the analysis in English. \n",
            "\n",
            "Overall, my response will summarize the sentiment, mention the key positive term, and ensure it is clear and concise for the user.\n",
            "</thinking>\n",
            "\n",
            "The sentiment of the review \"Este producto es excelente\" is positive. The key term contributing to this sentiment is \"excelente,\" which means \"excellent\" in English. This indicates a strong approval and satisfaction with the product.\n"
          ]
        }
      ],
      "source": [
        "def multilingual_sentiment_analysis():\n",
        "    reviews = {\n",
        "        \"Hindi\": \"यह प्रोडक्ट बहुत अच्छा है।\",\n",
        "        \"Spanish\": \"Este producto es excelente.\"\n",
        "    }\n",
        "\n",
        "    for lang, review in reviews.items():\n",
        "        prompt = f\"Analyze sentiment of this {lang} review:\\n{review}\"\n",
        "        print(f\"\\nSentiment in {lang}:\\n\", get_sutra_response(prompt))\n",
        "\n",
        "# Call the function\n",
        "multilingual_sentiment_analysis()"
      ]
    },
    {
      "cell_type": "markdown",
      "metadata": {
        "id": "0e5q4goL_J6s"
      },
      "source": [
        "###🧾 Example 6: Multilingual API Documentation"
      ]
    },
    {
      "cell_type": "code",
      "execution_count": null,
      "metadata": {
        "colab": {
          "base_uri": "https://localhost:8080/"
        },
        "id": "fvfgqwg1_QaF",
        "outputId": "c661c9e3-9077-46a7-f8d0-55ce1bc40370"
      },
      "outputs": [
        {
          "name": "stdout",
          "output_type": "stream",
          "text": [
            "\n",
            "API Docs in Hindi:\n",
            " <thinking>\n",
            "The user has requested API documentation in Hindi for a specific endpoint. I need to ensure that the documentation is clear and follows standard practices for API documentation, including the method, endpoint, content type, and request body structure.\n",
            "\n",
            "First, I will translate the endpoint details and the JSON structure into Hindi while maintaining technical accuracy. It's important to use appropriate terminology that developers would understand.\n",
            "\n",
            "Next, I will structure the documentation clearly, possibly including sections like \"Endpoint,\" \"Request Method,\" \"Content-Type,\" and \"Request Body.\" This will help users quickly find the information they need.\n",
            "\n",
            "Finally, I will ensure that the language is formal yet accessible, catering to both experienced developers and those who may be newer to working with APIs. After completing these steps, I will present the final documentation in Hindi.\n",
            "</thinking>\n",
            "\n",
            "# API दस्तावेज़ीकरण\n",
            "\n",
            "## एंडपॉइंट\n",
            "**POST /api/v1/users**\n",
            "\n",
            "## अनुरोध विधि\n",
            "**POST**\n",
            "\n",
            "## सामग्री प्रकार\n",
            "**application/json**\n",
            "\n",
            "## अनुरोध शरीर (Request Body)\n",
            "अनुरोध में JSON प्रारूप में निम्नलिखित मान होना चाहिए:\n",
            "\n",
            "```json\n",
            "{\n",
            "    \"name\": \"string\",\n",
            "    \"email\": \"string\",\n",
            "    \"age\": \"integer\"\n",
            "}\n",
            "```\n",
            "\n",
            "### फ़ील्ड विवरण\n",
            "- **name** (string): उपयोगकर्ता का नाम। यह एक स्ट्रिंग होना चाहिए।\n",
            "- **email** (string): उपयोगकर्ता का ईमेल पता। यह एक मान्य ईमेल प्रारूप में होना चाहिए।\n",
            "- **age** (integer): उपयोगकर्ता की आयु। यह एक पूर्णांक होना चाहिए।\n",
            "\n",
            "### उदाहरण अनुरोध\n",
            "निम्नलिखित एक उदाहरण अनुरोध है:\n",
            "\n",
            "```http\n",
            "POST /api/v1/users HTTP/1.1\n",
            "Host: example.com\n",
            "Content-Type: application/json\n",
            "\n",
            "{\n",
            "    \"name\": \"राम शर्मा\",\n",
            "    \"email\": \"ram@example.com\",\n",
            "    \"age\": 30\n",
            "}\n",
            "```\n",
            "\n",
            "## प्रतिक्रिया\n",
            "सफलता की स्थिति में, सर्वर एक स्थिति कोड 201 (Created) के साथ एक JSON प्रतिक्रिया लौटाएगा।\n",
            "\n",
            "### उदाहरण प्रतिक्रिया\n",
            "```json\n",
            "{\n",
            "    \"message\": \"उपयोगकर्ता सफलतापूर्वक बनाया गया।\",\n",
            "    \"userId\": \"12345\"\n",
            "}\n",
            "```\n",
            "\n",
            "## त्रुटि प्रबंधन\n",
            "यदि अनुरोध में कोई त्रुटि होती है, तो सर्वर एक उपयुक्त स्थिति कोड और विवरण सहित JSON प्रतिक्रिया लौटाएगा। उदाहरण के लिए, यदि ईमेल पता सही प्रारूप में नहीं है, तो प्रतिक्रिया इस प्रकार हो सकती है:\n",
            "\n",
            "```json\n",
            "{\n",
            "    \"error\": \"अमान्य ईमेल प्रारूप।\"\n",
            "}\n",
            "```\n",
            "\n",
            "यह दस्तावेज़ उपयोगकर्ताओं को `/api/v1/users` एंडपॉइंट का उपयोग करने में मदद करेगा।\n",
            "\n",
            "API Docs in Spanish:\n",
            " <thinking>\n",
            "The user has requested API documentation in Spanish for a specific endpoint. I need to ensure that I accurately translate the technical details while maintaining clarity and precision.\n",
            "\n",
            "First, I will outline the purpose of the endpoint, which is to create a new user. Then, I will describe the HTTP method used (POST) and the required content type (application/json). \n",
            "\n",
            "Next, I'll detail the expected JSON payload, explaining each field: \"name,\" \"email,\" and \"age.\" It's important to specify the data types for each field clearly. \n",
            "\n",
            "Finally, I will include any potential responses or error messages that might be relevant, ensuring the documentation is comprehensive. I will format the information in a structured manner for easy readability.\n",
            "</thinking>\n",
            "\n",
            "# Documentación de la API para el endpoint de creación de usuarios\n",
            "\n",
            "## Endpoint\n",
            "**POST** `/api/v1/users`\n",
            "\n",
            "## Tipo de contenido\n",
            "**Content-Type:** `application/json`\n",
            "\n",
            "## Descripción\n",
            "Este endpoint permite la creación de un nuevo usuario en el sistema. \n",
            "\n",
            "## Payload JSON esperado\n",
            "El cuerpo de la solicitud debe contener un objeto JSON con los siguientes campos:\n",
            "\n",
            "- **name** (string): El nombre del usuario. Este campo es obligatorio.\n",
            "- **email** (string): La dirección de correo electrónico del usuario. Este campo es obligatorio y debe ser único.\n",
            "- **age** (integer): La edad del usuario. Este campo es opcional, pero debe ser un número entero.\n",
            "\n",
            "### Ejemplo de Payload\n",
            "```json\n",
            "{\n",
            "    \"name\": \"Juan Pérez\",\n",
            "    \"email\": \"juan.perez@example.com\",\n",
            "    \"age\": 30\n",
            "}\n",
            "```\n",
            "\n",
            "## Respuestas esperadas\n",
            "\n",
            "- **201 Created**: Se ha creado el usuario exitosamente. \n",
            "  - Ejemplo de respuesta:\n",
            "    ```json\n",
            "    {\n",
            "        \"message\": \"Usuario creado exitosamente.\",\n",
            "        \"userId\": 123\n",
            "    }\n",
            "    ```\n",
            "\n",
            "- **400 Bad Request**: La solicitud no fue válida. Esto puede ocurrir si faltan campos obligatorios o si el formato es incorrecto.\n",
            "  - Ejemplo de respuesta:\n",
            "    ```json\n",
            "    {\n",
            "        \"error\": \"El campo 'email' es obligatorio.\"\n",
            "    }\n",
            "    ```\n",
            "\n",
            "- **409 Conflict**: El correo electrónico ya está en uso.\n",
            "  - Ejemplo de respuesta:\n",
            "    ```json\n",
            "    {\n",
            "        \"error\": \"El correo electrónico ya está registrado.\"\n",
            "    }\n",
            "    ```\n",
            "\n",
            "## Notas\n",
            "Asegúrese de validar los datos antes de enviar la solicitud para evitar errores comunes.\n"
          ]
        }
      ],
      "source": [
        "def multilingual_api_documentation():\n",
        "    api = \"\"\"\n",
        "POST /api/v1/users\n",
        "Content-Type: application/json\n",
        "\n",
        "{\n",
        "    \"name\": \"string\",\n",
        "    \"email\": \"string\",\n",
        "    \"age\": \"integer\"\n",
        "}\n",
        "    \"\"\"\n",
        "    for lang in [\"Hindi\", \"Spanish\"]:\n",
        "        prompt = f\"Create API documentation in {lang} for this endpoint:\\n{api}\"\n",
        "        print(f\"\\nAPI Docs in {lang}:\\n\", get_sutra_response(prompt))\n",
        "\n",
        "# Call the function\n",
        "multilingual_api_documentation()"
      ]
    }
  ],
  "metadata": {
    "colab": {
      "provenance": []
    },
    "kernelspec": {
      "display_name": "Python 3",
      "name": "python3"
    },
    "language_info": {
      "name": "python"
    }
  },
  "nbformat": 4,
  "nbformat_minor": 0
}
