{
  "cells": [
    {
      "cell_type": "markdown",
      "metadata": {
        "id": "title"
      },
      "source": [
        "# Comparing Sutra V2 with OpenAI Models\n",
        "\n",
        "<img src=\"https://play-lh.googleusercontent.com/_O9p4Z4yucA2NLmZBu9mTJCuBwXeT9NcbtrDN6I8gKlkIPRySV0adOmbyipjSj9Gew\" width=\"150\">\n",
        "\n",
        "<a href=\"https://colab.research.google.com/drive/175pEoGuZX_6s2lxzXiiT4lYS76QIdg-k?usp=sharing\" target=\"_parent\"><img src=\"https://colab.research.google.com/assets/colab-badge.svg\" alt=\"Open In Colab\"/></a>\n",
        "\n",
        "## Introduction\n",
        "\n",
        "This notebook provides a comparison between Sutra V2 and OpenAI models across various tasks and capabilities. By directly comparing these models, you can make informed decisions about which model best suits your specific use cases."
      ]
    },
    {
      "cell_type": "markdown",
      "metadata": {},
      "source": [
        "## Get Your API Keys\n",
        "\n",
        "Before you begin, make sure you have:\n",
        "\n",
        "1. A SUTRA API key (Get yours at [TWO AI's SUTRA API page](https://www.two.ai/sutra/api))\n",
        "2. Basic familiarity with Python and Jupyter notebooks\n",
        "\n",
        "This notebook is designed to run in Google Colab, so no local Python installation is required."
      ]
    },
    {
      "cell_type": "markdown",
      "metadata": {
        "id": "setup"
      },
      "source": [
        "## Setup\n",
        "\n",
        "First, let's install the necessary libraries and set up our environment."
      ]
    },
    {
      "cell_type": "code",
      "execution_count": null,
      "metadata": {
        "colab": {
          "base_uri": "https://localhost:8080/"
        },
        "id": "J5er0RGw56ip",
        "outputId": "3c159bb9-bffb-4fec-aa56-a0a3c137cd5f"
      },
      "outputs": [
        {
          "name": "stdout",
          "output_type": "stream",
          "text": [
            "Requirement already satisfied: openai in /usr/local/lib/python3.11/dist-packages (1.76.0)\n",
            "Requirement already satisfied: requests in /usr/local/lib/python3.11/dist-packages (2.32.3)\n",
            "Requirement already satisfied: pandas in /usr/local/lib/python3.11/dist-packages (2.2.2)\n",
            "Requirement already satisfied: matplotlib in /usr/local/lib/python3.11/dist-packages (3.10.0)\n",
            "Requirement already satisfied: seaborn in /usr/local/lib/python3.11/dist-packages (0.13.2)\n",
            "Requirement already satisfied: anyio<5,>=3.5.0 in /usr/local/lib/python3.11/dist-packages (from openai) (4.9.0)\n",
            "Requirement already satisfied: distro<2,>=1.7.0 in /usr/local/lib/python3.11/dist-packages (from openai) (1.9.0)\n",
            "Requirement already satisfied: httpx<1,>=0.23.0 in /usr/local/lib/python3.11/dist-packages (from openai) (0.28.1)\n",
            "Requirement already satisfied: jiter<1,>=0.4.0 in /usr/local/lib/python3.11/dist-packages (from openai) (0.9.0)\n",
            "Requirement already satisfied: pydantic<3,>=1.9.0 in /usr/local/lib/python3.11/dist-packages (from openai) (2.11.3)\n",
            "Requirement already satisfied: sniffio in /usr/local/lib/python3.11/dist-packages (from openai) (1.3.1)\n",
            "Requirement already satisfied: tqdm>4 in /usr/local/lib/python3.11/dist-packages (from openai) (4.67.1)\n",
            "Requirement already satisfied: typing-extensions<5,>=4.11 in /usr/local/lib/python3.11/dist-packages (from openai) (4.13.2)\n",
            "Requirement already satisfied: charset-normalizer<4,>=2 in /usr/local/lib/python3.11/dist-packages (from requests) (3.4.1)\n",
            "Requirement already satisfied: idna<4,>=2.5 in /usr/local/lib/python3.11/dist-packages (from requests) (3.10)\n",
            "Requirement already satisfied: urllib3<3,>=1.21.1 in /usr/local/lib/python3.11/dist-packages (from requests) (2.4.0)\n",
            "Requirement already satisfied: certifi>=2017.4.17 in /usr/local/lib/python3.11/dist-packages (from requests) (2025.4.26)\n",
            "Requirement already satisfied: numpy>=1.23.2 in /usr/local/lib/python3.11/dist-packages (from pandas) (2.0.2)\n",
            "Requirement already satisfied: python-dateutil>=2.8.2 in /usr/local/lib/python3.11/dist-packages (from pandas) (2.9.0.post0)\n",
            "Requirement already satisfied: pytz>=2020.1 in /usr/local/lib/python3.11/dist-packages (from pandas) (2025.2)\n",
            "Requirement already satisfied: tzdata>=2022.7 in /usr/local/lib/python3.11/dist-packages (from pandas) (2025.2)\n",
            "Requirement already satisfied: contourpy>=1.0.1 in /usr/local/lib/python3.11/dist-packages (from matplotlib) (1.3.2)\n",
            "Requirement already satisfied: cycler>=0.10 in /usr/local/lib/python3.11/dist-packages (from matplotlib) (0.12.1)\n",
            "Requirement already satisfied: fonttools>=4.22.0 in /usr/local/lib/python3.11/dist-packages (from matplotlib) (4.57.0)\n",
            "Requirement already satisfied: kiwisolver>=1.3.1 in /usr/local/lib/python3.11/dist-packages (from matplotlib) (1.4.8)\n",
            "Requirement already satisfied: packaging>=20.0 in /usr/local/lib/python3.11/dist-packages (from matplotlib) (24.2)\n",
            "Requirement already satisfied: pillow>=8 in /usr/local/lib/python3.11/dist-packages (from matplotlib) (11.2.1)\n",
            "Requirement already satisfied: pyparsing>=2.3.1 in /usr/local/lib/python3.11/dist-packages (from matplotlib) (3.2.3)\n",
            "Requirement already satisfied: httpcore==1.* in /usr/local/lib/python3.11/dist-packages (from httpx<1,>=0.23.0->openai) (1.0.9)\n",
            "Requirement already satisfied: h11>=0.16 in /usr/local/lib/python3.11/dist-packages (from httpcore==1.*->httpx<1,>=0.23.0->openai) (0.16.0)\n",
            "Requirement already satisfied: annotated-types>=0.6.0 in /usr/local/lib/python3.11/dist-packages (from pydantic<3,>=1.9.0->openai) (0.7.0)\n",
            "Requirement already satisfied: pydantic-core==2.33.1 in /usr/local/lib/python3.11/dist-packages (from pydantic<3,>=1.9.0->openai) (2.33.1)\n",
            "Requirement already satisfied: typing-inspection>=0.4.0 in /usr/local/lib/python3.11/dist-packages (from pydantic<3,>=1.9.0->openai) (0.4.0)\n",
            "Requirement already satisfied: six>=1.5 in /usr/local/lib/python3.11/dist-packages (from python-dateutil>=2.8.2->pandas) (1.17.0)\n"
          ]
        }
      ],
      "source": [
        "# Install required packages\n",
        "!pip install openai requests pandas matplotlib seaborn"
      ]
    },
    {
      "cell_type": "markdown",
      "metadata": {
        "id": "0Cmnqa-G576Y"
      },
      "source": [
        "### Import necessary libraries\n"
      ]
    },
    {
      "cell_type": "code",
      "execution_count": null,
      "metadata": {
        "id": "install-packages"
      },
      "outputs": [],
      "source": [
        "# Import necessary libraries\n",
        "import os\n",
        "import time\n",
        "import pandas as pd\n",
        "import matplotlib.pyplot as plt\n",
        "import seaborn as sns\n",
        "from openai import OpenAI\n",
        "from IPython.display import display, Markdown, HTML\n",
        "from google.colab import userdata\n",
        "import html  # For escaping HTML entities"
      ]
    },
    {
      "cell_type": "markdown",
      "metadata": {
        "id": "authentication"
      },
      "source": [
        "## Authentication\n",
        "\n",
        "To compare both models, we need to set up API keys for both Sutra and OpenAI."
      ]
    },
    {
      "cell_type": "code",
      "execution_count": null,
      "metadata": {
        "id": "api-keys"
      },
      "outputs": [],
      "source": [
        "# Get API key from Colab secrets\n",
        "os.environ[\"SUTRA_API_KEY\"] = userdata.get('SUTRA_API_KEY')\n",
        "os.environ[\"OPENAI_API_KEY\"] = userdata.get('OPENAI_API_KEY')"
      ]
    },
    {
      "cell_type": "markdown",
      "metadata": {
        "id": "oPRdHAb1QPlm"
      },
      "source": [
        "###  Create clients for both APIs\n"
      ]
    },
    {
      "cell_type": "code",
      "execution_count": null,
      "metadata": {
        "id": "fzIZRpcBQT4T"
      },
      "outputs": [],
      "source": [
        "# Create clients for both APIs\n",
        "sutra_client = OpenAI(\n",
        "    base_url=\"https://api.two.ai/v2\",\n",
        "    api_key=os.environ.get(\"SUTRA_API_KEY\")\n",
        ")\n",
        "\n",
        "openai_client = OpenAI(\n",
        "    api_key=os.environ.get(\"OPENAI_API_KEY\")\n",
        ")"
      ]
    },
    {
      "cell_type": "markdown",
      "metadata": {
        "id": "helper-functions"
      },
      "source": [
        "## Helper Functions\n",
        "\n",
        "Let's create helper functions to interact with both APIs and evaluate their responses."
      ]
    },
    {
      "cell_type": "code",
      "execution_count": null,
      "metadata": {
        "id": "model-functions"
      },
      "outputs": [],
      "source": [
        "def get_sutra_response(prompt, temperature=0, max_tokens=1024):\n",
        "    \"\"\"\n",
        "    Get a response from Sutra V2.\n",
        "\n",
        "    Args:\n",
        "        prompt (str): The user prompt or question\n",
        "        temperature (float): Controls randomness (0 to 1)\n",
        "        max_tokens (int): Maximum number of tokens to generate\n",
        "\n",
        "    Returns:\n",
        "        str: The model's response\n",
        "        float: Time taken to get the response\n",
        "    \"\"\"\n",
        "    start_time = time.time()\n",
        "\n",
        "    try:\n",
        "        response = sutra_client.chat.completions.create(\n",
        "            model=\"sutra-v2\",\n",
        "            messages=[{\"role\": \"user\", \"content\": prompt}],\n",
        "            max_tokens=max_tokens,\n",
        "            temperature=temperature\n",
        "        )\n",
        "\n",
        "        end_time = time.time()\n",
        "        return response.choices[0].message.content, end_time - start_time\n",
        "\n",
        "    except Exception as e:\n",
        "        end_time = time.time()\n",
        "        return f\"Error: {str(e)}\", end_time - start_time\n",
        "\n",
        "def get_openai_response(prompt, model=\"gpt-4o\", temperature=0, max_tokens=1024):\n",
        "    \"\"\"\n",
        "    Get a response from an OpenAI model.\n",
        "\n",
        "    Args:\n",
        "        prompt (str): The user prompt or question\n",
        "        model (str): The OpenAI model to use\n",
        "        temperature (float): Controls randomness (0 to 1)\n",
        "        max_tokens (int): Maximum number of tokens to generate\n",
        "\n",
        "    Returns:\n",
        "        str: The model's response\n",
        "        float: Time taken to get the response\n",
        "    \"\"\"\n",
        "    start_time = time.time()\n",
        "\n",
        "    try:\n",
        "        response = openai_client.chat.completions.create(\n",
        "            model=model,\n",
        "            messages=[{\"role\": \"user\", \"content\": prompt}],\n",
        "            max_tokens=max_tokens,\n",
        "            temperature=temperature\n",
        "        )\n",
        "\n",
        "        end_time = time.time()\n",
        "        return response.choices[0].message.content, end_time - start_time\n",
        "\n",
        "    except Exception as e:\n",
        "        end_time = time.time()\n",
        "        return f\"Error: {str(e)}\", end_time - start_time\n",
        "\n",
        "\n",
        "def compare_responses(prompt, openai_model=\"gpt-4o\", temperature=0, max_tokens=1024):\n",
        "    \"\"\"\n",
        "    Compare responses from Sutra V2 and an OpenAI model.\n",
        "\n",
        "    Args:\n",
        "        prompt (str): The user prompt or question\n",
        "        openai_model (str): The OpenAI model to use\n",
        "        temperature (float): Controls randomness (0 to 1)\n",
        "        max_tokens (int): Maximum number of tokens to generate\n",
        "\n",
        "    Returns:\n",
        "        dict: Dictionary containing the prompt, responses, and timing information\n",
        "    \"\"\"\n",
        "    # Get responses from both models\n",
        "    sutra_response, sutra_time = get_sutra_response(prompt, temperature, max_tokens)\n",
        "    openai_response, openai_time = get_openai_response(prompt, openai_model, temperature, max_tokens)\n",
        "\n",
        "    # Escape HTML characters in the responses to ensure safe rendering\n",
        "    escaped_sutra_response = html.escape(sutra_response)\n",
        "    escaped_openai_response = html.escape(openai_response)\n",
        "\n",
        "    # Display the results\n",
        "    display(HTML(f\"<h3>Prompt:</h3><p>{html.escape(prompt)}</p>\"))\n",
        "\n",
        "    display(HTML(\n",
        "        f\"<h4>Sutra V2 Response:</h4>\"\n",
        "        f\"<pre style='background-color:#f5f5f5; color:#000; padding:10px; border-radius:5px;'>{escaped_sutra_response}</pre>\"\n",
        "        f\"<p><b>Time:</b> {sutra_time:.2f} seconds</p>\"\n",
        "    ))\n",
        "\n",
        "    display(HTML(\n",
        "        f\"<h4>{openai_model} Response:</h4>\"\n",
        "        f\"<pre style='background-color:#f5f5f5; color:#000; padding:10px; border-radius:5px;'>{escaped_openai_response}</pre>\"\n",
        "        f\"<p><b>Time:</b> {openai_time:.2f} seconds</p>\"\n",
        "    ))\n",
        "\n",
        "    display(HTML(\"<hr>\"))\n",
        "\n",
        "    return {\n",
        "        \"Prompt\": prompt,\n",
        "        \"Sutra Response\": sutra_response,\n",
        "        \"Sutra Time\": sutra_time,\n",
        "        \"OpenAI Model\": openai_model,\n",
        "        \"OpenAI Response\": openai_response,\n",
        "        \"OpenAI Time\": openai_time\n",
        "    }"
      ]
    },
    {
      "cell_type": "markdown",
      "metadata": {
        "id": "general-knowledge"
      },
      "source": [
        "## Comparison 1: General Knowledge and Factual Accuracy\n",
        "\n",
        "Let's compare how both models handle general knowledge questions."
      ]
    },
    {
      "cell_type": "code",
      "execution_count": null,
      "metadata": {
        "colab": {
          "base_uri": "https://localhost:8080/",
          "height": 1000
        },
        "id": "general-knowledge-test",
        "outputId": "51089d8e-c9f5-4870-d4e8-68f89974356a"
      },
      "outputs": [
        {
          "data": {
            "text/html": [
              "<h3>Prompt:</h3><p>What is the capital of France and what are some famous landmarks there?</p>"
            ],
            "text/plain": [
              "<IPython.core.display.HTML object>"
            ]
          },
          "metadata": {},
          "output_type": "display_data"
        },
        {
          "data": {
            "text/html": [
              "<h4>Sutra V2 Response:</h4><pre style='background-color:#f5f5f5; color:#000; padding:10px; border-radius:5px;'>The capital of France is Paris. Some famous landmarks in Paris include:\n",
              "\n",
              "1. **Eiffel Tower** - An iconic symbol of France, this iron lattice tower offers stunning views of the city.\n",
              "2. **Louvre Museum** - The world&#x27;s largest art museum, home to thousands of works, including the Mona Lisa and the Venus de Milo.\n",
              "3. **Notre-Dame Cathedral** - A masterpiece of French Gothic architecture, known for its intricate facade and stained glass windows.\n",
              "4. **Arc de Triomphe** - A monumental arch honoring those who fought and died for France, located at the top of the Champs-Élysées.\n",
              "5. **Sacré-Cœur Basilica** - A basilica situated on the highest point in the city, Montmartre, offering panoramic views of Paris.\n",
              "6. **Champs-Élysées** - One of the most famous avenues in the world, lined with shops, theaters, and cafes.\n",
              "7. **Palace of Versailles** - Although just outside Paris, this opulent palace is a UNESCO World Heritage site and a symbol of royal extravagance.\n",
              "\n",
              "These landmarks reflect the rich history and culture of Paris, making it a popular destination for tourists.</pre><p><b>Time:</b> 3.18 seconds</p>"
            ],
            "text/plain": [
              "<IPython.core.display.HTML object>"
            ]
          },
          "metadata": {},
          "output_type": "display_data"
        },
        {
          "data": {
            "text/html": [
              "<h4>gpt-4o Response:</h4><pre style='background-color:#f5f5f5; color:#000; padding:10px; border-radius:5px;'>The capital of France is Paris. Some famous landmarks in Paris include:\n",
              "\n",
              "1. **Eiffel Tower** - An iconic symbol of France, this iron lattice tower is one of the most recognizable structures in the world.\n",
              "\n",
              "2. **Louvre Museum** - The world&#x27;s largest art museum and a historic monument in Paris, home to thousands of works of art, including the Mona Lisa.\n",
              "\n",
              "3. **Notre-Dame Cathedral** - A masterpiece of French Gothic architecture, known for its stunning facade and significant historical importance.\n",
              "\n",
              "4. **Arc de Triomphe** - Commissioned by Napoleon after his victory at Austerlitz in 1805, this monumental arch honors those who fought and died for France.\n",
              "\n",
              "5. **Sacré-Cœur Basilica** - Located at the highest point in the city on Montmartre hill, this basilica offers panoramic views of Paris.\n",
              "\n",
              "6. **Champs-Élysées** - One of the most famous avenues in the world, known for its theaters, cafés, and luxury shops.\n",
              "\n",
              "7. **Palace of Versailles** - Although located just outside of Paris, this opulent palace is a major tourist attraction, known for its stunning gardens and the Hall of Mirrors.\n",
              "\n",
              "8. **Seine River** - Flowing through the heart of Paris, the river is lined with beautiful bridges and offers scenic boat tours.\n",
              "\n",
              "These landmarks are just a few of the many attractions that make Paris a popular destination for tourists from around the world.</pre><p><b>Time:</b> 5.44 seconds</p>"
            ],
            "text/plain": [
              "<IPython.core.display.HTML object>"
            ]
          },
          "metadata": {},
          "output_type": "display_data"
        },
        {
          "data": {
            "text/html": [
              "<hr>"
            ],
            "text/plain": [
              "<IPython.core.display.HTML object>"
            ]
          },
          "metadata": {},
          "output_type": "display_data"
        },
        {
          "data": {
            "text/html": [
              "<h3>Prompt:</h3><p>Explain the process of photosynthesis in simple terms.</p>"
            ],
            "text/plain": [
              "<IPython.core.display.HTML object>"
            ]
          },
          "metadata": {},
          "output_type": "display_data"
        },
        {
          "data": {
            "text/html": [
              "<h4>Sutra V2 Response:</h4><pre style='background-color:#f5f5f5; color:#000; padding:10px; border-radius:5px;'>Photosynthesis is the process by which green plants, algae, and some bacteria convert light energy into chemical energy. Here’s a simple breakdown of how it works:\n",
              "\n",
              "1. **Light Absorption**: Plants have a green pigment called chlorophyll, mainly found in their leaves. Chlorophyll absorbs sunlight.\n",
              "\n",
              "2. **Water and Carbon Dioxide Intake**: Plants take in water (H₂O) from the soil through their roots and carbon dioxide (CO₂) from the air through tiny openings in their leaves called stomata.\n",
              "\n",
              "3. **Chemical Reaction**: Using the energy from sunlight, plants combine water and carbon dioxide to produce glucose (a type of sugar) and oxygen (O₂). The overall chemical equation for photosynthesis can be summarized as:\n",
              "   \\[\n",
              "   6 \\text{CO}_2 + 6 \\text{H}_2\\text{O} + \\text{light energy} \\rightarrow \\text{C}_6\\text{H}_{12}\\text{O}_6 + 6 \\text{O}_2\n",
              "   \\]\n",
              "   This means six molecules of carbon dioxide and six molecules of water, using light energy, produce one molecule of glucose and six molecules of oxygen.\n",
              "\n",
              "4. **Energy Storage**: The glucose produced is used by the plant as food for energy and growth. It can also be stored for later use.\n",
              "\n",
              "5. **Oxygen Release**: The oxygen produced during photosynthesis is released into the atmosphere, which is essential for the survival of most living organisms on Earth.\n",
              "\n",
              "In summary, photosynthesis allows plants to make their own food using sunlight, water, and carbon dioxide, while also producing oxygen as a byproduct.</pre><p><b>Time:</b> 4.06 seconds</p>"
            ],
            "text/plain": [
              "<IPython.core.display.HTML object>"
            ]
          },
          "metadata": {},
          "output_type": "display_data"
        },
        {
          "data": {
            "text/html": [
              "<h4>gpt-4o Response:</h4><pre style='background-color:#f5f5f5; color:#000; padding:10px; border-radius:5px;'>Photosynthesis is the process by which green plants, algae, and some bacteria convert light energy, usually from the sun, into chemical energy stored in glucose, a type of sugar. Here&#x27;s a simple breakdown of how it works:\n",
              "\n",
              "1. **Light Absorption**: Plants have a green pigment called chlorophyll, which is found in structures called chloroplasts in their cells. Chlorophyll absorbs sunlight, which provides the energy needed for photosynthesis.\n",
              "\n",
              "2. **Water and Carbon Dioxide Intake**: Plants take in water (H2O) from the soil through their roots and carbon dioxide (CO2) from the air through tiny openings in their leaves called stomata.\n",
              "\n",
              "3. **Conversion to Glucose and Oxygen**: Using the energy from sunlight, chlorophyll helps to transform water and carbon dioxide into glucose (C6H12O6) and oxygen (O2). The chemical reaction can be summarized as:\n",
              "   \\[\n",
              "   6 \\text{CO}_2 + 6 \\text{H}_2\\text{O} + \\text{light energy} \\rightarrow \\text{C}_6\\text{H}_{12}\\text{O}_6 + 6 \\text{O}_2\n",
              "   \\]\n",
              "\n",
              "4. **Energy Storage**: The glucose produced is used by the plant as a source of energy for growth, reproduction, and other life processes. It can also be stored as starch for later use.\n",
              "\n",
              "5. **Oxygen Release**: The oxygen produced as a byproduct is released into the atmosphere through the stomata, which is essential for the survival of most living organisms on Earth, as they rely on oxygen for respiration.\n",
              "\n",
              "In summary, photosynthesis is how plants make their own food using sunlight, water, and carbon dioxide, while also producing oxygen as a beneficial byproduct.</pre><p><b>Time:</b> 4.95 seconds</p>"
            ],
            "text/plain": [
              "<IPython.core.display.HTML object>"
            ]
          },
          "metadata": {},
          "output_type": "display_data"
        },
        {
          "data": {
            "text/html": [
              "<hr>"
            ],
            "text/plain": [
              "<IPython.core.display.HTML object>"
            ]
          },
          "metadata": {},
          "output_type": "display_data"
        },
        {
          "data": {
            "text/html": [
              "<h3>Prompt:</h3><p>Who wrote &#x27;Pride and Prejudice&#x27; and what is the main theme of the novel?</p>"
            ],
            "text/plain": [
              "<IPython.core.display.HTML object>"
            ]
          },
          "metadata": {},
          "output_type": "display_data"
        },
        {
          "data": {
            "text/html": [
              "<h4>Sutra V2 Response:</h4><pre style='background-color:#f5f5f5; color:#000; padding:10px; border-radius:5px;'>&#x27;Pride and Prejudice&#x27; was written by Jane Austen and published in 1813. The main theme of the novel revolves around the exploration of love, marriage, and social class. It examines how personal biases and societal expectations can influence relationships and individual choices. The story highlights the importance of understanding and overcoming one&#x27;s prejudices, as well as the value of personal integrity and self-awareness in the pursuit of genuine connections. Through the experiences of the protagonist, Elizabeth Bennet, the novel critiques the limitations placed on women in the early 19th century and advocates for the idea that true love should be based on mutual respect and understanding rather than social status or wealth.</pre><p><b>Time:</b> 3.62 seconds</p>"
            ],
            "text/plain": [
              "<IPython.core.display.HTML object>"
            ]
          },
          "metadata": {},
          "output_type": "display_data"
        },
        {
          "data": {
            "text/html": [
              "<h4>gpt-4o Response:</h4><pre style='background-color:#f5f5f5; color:#000; padding:10px; border-radius:5px;'>&#x27;Pride and Prejudice&#x27; was written by Jane Austen. The main theme of the novel is the exploration of social class and the impact of first impressions. It delves into issues of marriage, morality, and misunderstandings, particularly focusing on the relationship between Elizabeth Bennet and Mr. Darcy. The novel critiques the rigid class structures of the time and highlights the importance of personal growth and understanding in overcoming prejudice and pride.</pre><p><b>Time:</b> 1.55 seconds</p>"
            ],
            "text/plain": [
              "<IPython.core.display.HTML object>"
            ]
          },
          "metadata": {},
          "output_type": "display_data"
        },
        {
          "data": {
            "text/html": [
              "<hr>"
            ],
            "text/plain": [
              "<IPython.core.display.HTML object>"
            ]
          },
          "metadata": {},
          "output_type": "display_data"
        }
      ],
      "source": [
        "general_knowledge_prompts = [\n",
        "    \"What is the capital of France and what are some famous landmarks there?\",\n",
        "    \"Explain the process of photosynthesis in simple terms.\",\n",
        "    \"Who wrote 'Pride and Prejudice' and what is the main theme of the novel?\"\n",
        "]\n",
        "\n",
        "general_knowledge_results = []\n",
        "\n",
        "for prompt in general_knowledge_prompts:\n",
        "    result = compare_responses(prompt)\n",
        "    general_knowledge_results.append(result)"
      ]
    },
    {
      "cell_type": "markdown",
      "metadata": {
        "id": "multilingual"
      },
      "source": [
        "## Comparison 2: Multilingual Capabilities\n",
        "\n",
        "Sutra V2 is known for its multilingual capabilities. Let's compare how it handles different languages compared to OpenAI models."
      ]
    },
    {
      "cell_type": "code",
      "execution_count": null,
      "metadata": {
        "colab": {
          "base_uri": "https://localhost:8080/",
          "height": 1000
        },
        "id": "multilingual-test",
        "outputId": "e4934588-e027-4b75-8bfd-0d5c69b7b43f"
      },
      "outputs": [
        {
          "data": {
            "text/html": [
              "<h3>Language: Hindi</h3>"
            ],
            "text/plain": [
              "<IPython.core.display.HTML object>"
            ]
          },
          "metadata": {},
          "output_type": "display_data"
        },
        {
          "data": {
            "text/html": [
              "<h3>Prompt:</h3><p>भारत के पांच प्रमुख पर्यटन स्थलों के बारे में बताएं।</p>"
            ],
            "text/plain": [
              "<IPython.core.display.HTML object>"
            ]
          },
          "metadata": {},
          "output_type": "display_data"
        },
        {
          "data": {
            "text/html": [
              "<h4>Sutra V2 Response:</h4><pre style='background-color:#f5f5f5; color:#000; padding:10px; border-radius:5px;'>भारत एक विविधता से भरा देश है, जिसमें कई अद्भुत पर्यटन स्थल हैं। यहाँ भारत के पांच प्रमुख पर्यटन स्थलों के बारे में जानकारी दी गई है:\n",
              "\n",
              "1. **ताज महल, आगरा**:\n",
              "   ताज महल विश्व धरोहर स्थल है और इसे मुग़ल सम्राट शाहजहाँ ने अपनी पत्नी मुमताज़ महल की याद में बनवाया था। यह सफेद संगमरमर से बना एक भव्य मकबरा है और इसे प्रेम का प्रतीक माना जाता है। ताज महल की वास्तुकला और इसके चारों ओर के बाग़ पर्यटकों को आकर्षित करते हैं।\n",
              "\n",
              "2. **जैसलमेर, राजस्थान**:\n",
              "   जैसलमेर को &quot;सोने का शहर&quot; कहा जाता है। यहाँ का जैसलमेर किला, जो कि एक विश्व धरोहर स्थल है, अपने सुनहरे बलुआ पत्थर की वास्तुकला के लिए प्रसिद्ध है। थार रेगिस्तान में स्थित होने के कारण, यहाँ ऊँट की सवारी और रेगिस्तानी कैंपिंग का अनुभव भी मिलता है।\n",
              "\n",
              "3. **वाराणसी, उत्तर प्रदेश**:\n",
              "   वाराणसी, जिसे काशी भी कहा जाता है, हिंदू धर्म का एक महत्वपूर्ण तीर्थ स्थल है। गंगा नदी के किनारे स्थित, यहाँ के घाटों पर हर सुबह और शाम आरती का दृश्य अद्भुत होता है। वाराणसी की संस्कृति, मंदिर और स्थानीय बाजार इसे एक अनूठा अनुभव प्रदान करते हैं।\n",
              "\n",
              "4. **गोवा**:\n",
              "   गोवा अपने खूबसूरत समुद्र तटों, जीवंत नाइटलाइफ़ और पुर्तगाली संस्कृति के लिए प्रसिद्ध है। यहाँ के समुद्र तट जैसे बागा, कालंगुट और अंजुना पर्यटकों के बीच बहुत लोकप्रिय हैं। गोवा में विभिन्न जलक्रीड़ाएँ और स्थानीय व्यंजन भी पर्यटकों को आकर्षित करते हैं।\n",
              "\n",
              "5. **केरल**:\n",
              "   केरल को &quot;ईश्वर का अपना देश&quot; कहा जाता है। यहाँ की प्राकृतिक सुंदरता, बैकवाटर्स, हिल स्टेशन (जैसे मुन्नार) और आयुर्वेदिक उपचार के लिए प्रसिद्ध है। अल्लेप्पी और कुमारकोम के बैकवाटर्स में हाउसबोट की सवारी एक अद्वितीय अनुभव है।\n",
              "\n",
              "ये स्थल भारत की सांस्कृतिक और प्राकृतिक विविधता को दर्शाते हैं और हर साल लाखों पर्यटकों को आकर्षित करते हैं।</pre><p><b>Time:</b> 7.99 seconds</p>"
            ],
            "text/plain": [
              "<IPython.core.display.HTML object>"
            ]
          },
          "metadata": {},
          "output_type": "display_data"
        },
        {
          "data": {
            "text/html": [
              "<h4>gpt-4o Response:</h4><pre style='background-color:#f5f5f5; color:#000; padding:10px; border-radius:5px;'>भारत एक विविधतापूर्ण देश है जो अपनी सांस्कृतिक धरोहर, प्राकृतिक सुंदरता और ऐतिहासिक महत्व के लिए प्रसिद्ध है। यहां पांच प्रमुख पर्यटन स्थलों के बारे में जानकारी दी गई है:\n",
              "\n",
              "1. **ताजमहल, आगरा**: ताजमहल भारत का सबसे प्रसिद्ध स्मारक है और इसे दुनिया के सात आश्चर्यों में से एक माना जाता है। यह सफेद संगमरमर से बना मकबरा मुगल सम्राट शाहजहां ने अपनी पत्नी मुमताज महल की याद में बनवाया था। इसकी वास्तुकला और बागवानी अद्वितीय है।\n",
              "\n",
              "2. **जयपुर, राजस्थान**: जयपुर, जिसे &quot;गुलाबी शहर&quot; के नाम से भी जाना जाता है, अपनी भव्य महलों, किलों और सांस्कृतिक धरोहरों के लिए प्रसिद्ध है। आमेर किला, हवा महल, सिटी पैलेस और जंतर मंतर यहां के प्रमुख आकर्षण हैं।\n",
              "\n",
              "3. **केरल के बैकवाटर्स**: केरल के बैकवाटर्स एक शांत और सुंदर जलमार्ग प्रणाली है जो पर्यटकों को हाउसबोट के माध्यम से प्राकृतिक सुंदरता का अनुभव करने का अवसर प्रदान करती है। अल्लेप्पी और कुमारकोम इसके प्रमुख केंद्र हैं।\n",
              "\n",
              "4. **वाराणसी, उत्तर प्रदेश**: वाराणसी दुनिया के सबसे प्राचीन शहरों में से एक है और यह गंगा नदी के किनारे स्थित है। यह शहर हिंदू धर्म का एक महत्वपूर्ण तीर्थ स्थल है और यहां के घाट, मंदिर और सांस्कृतिक गतिविधियाँ पर्यटकों को आकर्षित करती हैं।\n",
              "\n",
              "5. **गोवा**: गोवा अपने सुंदर समुद्र तटों, जीवंत नाइटलाइफ़ और पुर्तगाली वास्तुकला के लिए प्रसिद्ध है। यह स्थान समुद्र तट प्रेमियों और पार्टी के शौकीनों के लिए एक आदर्श गंतव्य है। बागा, अंजुना और कैंडोलिम इसके प्रमुख समुद्र तट हैं।\n",
              "\n",
              "ये स्थल भारत की विविधता और समृद्ध सांस्कृतिक धरोहर को दर्शाते हैं और हर साल लाखों पर्यटकों को आकर्षित करते हैं।</pre><p><b>Time:</b> 7.12 seconds</p>"
            ],
            "text/plain": [
              "<IPython.core.display.HTML object>"
            ]
          },
          "metadata": {},
          "output_type": "display_data"
        },
        {
          "data": {
            "text/html": [
              "<hr>"
            ],
            "text/plain": [
              "<IPython.core.display.HTML object>"
            ]
          },
          "metadata": {},
          "output_type": "display_data"
        },
        {
          "data": {
            "text/html": [
              "<h3>Language: Spanish</h3>"
            ],
            "text/plain": [
              "<IPython.core.display.HTML object>"
            ]
          },
          "metadata": {},
          "output_type": "display_data"
        },
        {
          "data": {
            "text/html": [
              "<h3>Prompt:</h3><p>Explica la importancia de la diversidad cultural en la sociedad moderna.</p>"
            ],
            "text/plain": [
              "<IPython.core.display.HTML object>"
            ]
          },
          "metadata": {},
          "output_type": "display_data"
        },
        {
          "data": {
            "text/html": [
              "<h4>Sutra V2 Response:</h4><pre style='background-color:#f5f5f5; color:#000; padding:10px; border-radius:5px;'>La diversidad cultural es fundamental en la sociedad moderna por varias razones:\n",
              "\n",
              "1. **Enriquecimiento social**: La diversidad cultural aporta una variedad de perspectivas, tradiciones y prácticas que enriquecen la vida social. Las interacciones entre diferentes culturas fomentan el aprendizaje y la comprensión mutua, lo que puede llevar a una mayor cohesión social.\n",
              "\n",
              "2. **Innovación y creatividad**: La mezcla de ideas y enfoques de diversas culturas puede impulsar la innovación y la creatividad. En entornos laborales, equipos diversos tienden a generar soluciones más creativas y efectivas, ya que combinan diferentes formas de pensar.\n",
              "\n",
              "3. **Desarrollo económico**: La diversidad cultural puede ser un motor para el desarrollo económico. Las comunidades que valoran y promueven su diversidad cultural pueden atraer turismo, fomentar industrias creativas y generar nuevas oportunidades de negocio.\n",
              "\n",
              "4. **Identidad y pertenencia**: La diversidad cultural permite a las personas mantener y celebrar sus identidades culturales, lo que es esencial para el bienestar emocional y psicológico. La aceptación y el respeto por las diferencias culturales contribuyen a un sentido de pertenencia en la sociedad.\n",
              "\n",
              "5. **Resolución de conflictos**: La comprensión y el respeto por la diversidad cultural pueden ayudar a prevenir y resolver conflictos. Fomentar el diálogo intercultural y la empatía puede reducir tensiones y promover la paz en sociedades multiculturales.\n",
              "\n",
              "6. **Educación y sensibilización**: La diversidad cultural enriquece la educación al ofrecer a los estudiantes una visión más amplia del mundo. Aprender sobre diferentes culturas fomenta la tolerancia y el respeto, preparando a las nuevas generaciones para vivir en un mundo globalizado.\n",
              "\n",
              "7. **Sostenibilidad**: Las diversas culturas a menudo tienen conocimientos y prácticas sostenibles que pueden contribuir a la conservación del medio ambiente. La integración de estas prácticas en la vida moderna puede ayudar a abordar desafíos globales como el cambio climático.\n",
              "\n",
              "En resumen, la diversidad cultural no solo es un aspecto valioso de la humanidad, sino que también es esencial para el progreso social, económico y ambiental en la sociedad moderna.</pre><p><b>Time:</b> 8.59 seconds</p>"
            ],
            "text/plain": [
              "<IPython.core.display.HTML object>"
            ]
          },
          "metadata": {},
          "output_type": "display_data"
        },
        {
          "data": {
            "text/html": [
              "<h4>gpt-4o Response:</h4><pre style='background-color:#f5f5f5; color:#000; padding:10px; border-radius:5px;'>La diversidad cultural es un componente esencial en la sociedad moderna por varias razones:\n",
              "\n",
              "1. **Enriquecimiento cultural**: La diversidad cultural aporta una amplia gama de perspectivas, tradiciones, y expresiones artísticas. Esto enriquece la vida cultural de una sociedad, ofreciendo una variedad de experiencias y conocimientos que de otro modo no estarían disponibles.\n",
              "\n",
              "2. **Innovación y creatividad**: La interacción de diferentes culturas puede generar nuevas ideas y enfoques. La diversidad de pensamiento y experiencia es un motor clave para la innovación, ya que fomenta la creatividad y la solución de problemas desde múltiples ángulos.\n",
              "\n",
              "3. **Tolerancia y comprensión**: La exposición a diferentes culturas promueve la tolerancia y la comprensión entre las personas. Al conocer y apreciar las diferencias culturales, se reducen los prejuicios y se fomenta una convivencia más pacífica y armoniosa.\n",
              "\n",
              "4. **Desarrollo económico**: Las sociedades culturalmente diversas pueden ser más competitivas económicamente. La diversidad puede abrir mercados internacionales, atraer talento global y fomentar un entorno empresarial dinámico y adaptable.\n",
              "\n",
              "5. **Identidad y pertenencia**: La diversidad cultural permite a los individuos mantener y celebrar sus propias identidades culturales mientras forman parte de una sociedad más amplia. Esto puede fortalecer el sentido de pertenencia y cohesión social.\n",
              "\n",
              "6. **Educación y aprendizaje**: La diversidad cultural enriquece el entorno educativo, ofreciendo a los estudiantes la oportunidad de aprender sobre diferentes culturas y perspectivas. Esto prepara a los individuos para vivir y trabajar en un mundo globalizado.\n",
              "\n",
              "7. **Derechos humanos y equidad**: Promover la diversidad cultural es también una cuestión de derechos humanos. Reconocer y respetar las diferentes culturas es fundamental para garantizar la equidad y la justicia social.\n",
              "\n",
              "En resumen, la diversidad cultural es vital para el desarrollo social, económico y personal en la sociedad moderna. Fomenta un entorno más inclusivo, innovador y comprensivo, que es esencial para enfrentar los desafíos globales actuales.</pre><p><b>Time:</b> 5.89 seconds</p>"
            ],
            "text/plain": [
              "<IPython.core.display.HTML object>"
            ]
          },
          "metadata": {},
          "output_type": "display_data"
        },
        {
          "data": {
            "text/html": [
              "<hr>"
            ],
            "text/plain": [
              "<IPython.core.display.HTML object>"
            ]
          },
          "metadata": {},
          "output_type": "display_data"
        },
        {
          "data": {
            "text/html": [
              "<h3>Language: French</h3>"
            ],
            "text/plain": [
              "<IPython.core.display.HTML object>"
            ]
          },
          "metadata": {},
          "output_type": "display_data"
        },
        {
          "data": {
            "text/html": [
              "<h3>Prompt:</h3><p>Décrivez les avantages et les inconvénients du travail à distance.</p>"
            ],
            "text/plain": [
              "<IPython.core.display.HTML object>"
            ]
          },
          "metadata": {},
          "output_type": "display_data"
        },
        {
          "data": {
            "text/html": [
              "<h4>Sutra V2 Response:</h4><pre style='background-color:#f5f5f5; color:#000; padding:10px; border-radius:5px;'>Le travail à distance présente plusieurs avantages et inconvénients qui peuvent varier en fonction des individus et des contextes professionnels. Voici une description détaillée :\n",
              "\n",
              "### Avantages du travail à distance :\n",
              "\n",
              "1. **Flexibilité** : Les employés peuvent souvent choisir leurs horaires de travail, ce qui leur permet de mieux concilier vie professionnelle et vie personnelle.\n",
              "\n",
              "2. **Économie de temps et d&#x27;argent** : Pas de trajets quotidiens, ce qui réduit les coûts de transport et le temps perdu dans les embouteillages.\n",
              "\n",
              "3. **Augmentation de la productivité** : De nombreuses personnes trouvent qu&#x27;elles sont plus productives à domicile, loin des distractions d&#x27;un bureau traditionnel.\n",
              "\n",
              "4. **Accès à un plus large vivier de talents** : Les entreprises peuvent recruter des employés de n&#x27;importe où, ce qui leur permet de trouver des compétences spécifiques sans être limitées par la géographie.\n",
              "\n",
              "5. **Réduction des coûts d&#x27;exploitation** : Les entreprises peuvent économiser sur les frais de location de bureaux, d&#x27;électricité et d&#x27;autres dépenses liées à l&#x27;entretien d&#x27;un espace de travail physique.\n",
              "\n",
              "6. **Amélioration de la qualité de vie** : Les employés peuvent créer un environnement de travail qui leur convient mieux, ce qui peut contribuer à leur bien-être général.\n",
              "\n",
              "### Inconvénients du travail à distance :\n",
              "\n",
              "1. **Isolement social** : Le manque d&#x27;interactions en personne peut entraîner un sentiment d&#x27;isolement et affecter la santé mentale des employés.\n",
              "\n",
              "2. **Difficulté à séparer vie professionnelle et vie personnelle** : Travailler à domicile peut rendre difficile la déconnexion du travail, ce qui peut mener à un surmenage.\n",
              "\n",
              "3. **Communication et collaboration** : Les échanges peuvent être moins fluides qu&#x27;en personne, ce qui peut nuire à la collaboration et à la créativité.\n",
              "\n",
              "4. **Problèmes techniques** : Les employés dépendent de la technologie pour travailler efficacement, et des problèmes techniques peuvent perturber leur productivité.\n",
              "\n",
              "5. **Gestion de la performance** : Évaluer la performance des employés à distance peut être plus complexe pour les managers, rendant la supervision et le feedback plus difficiles.\n",
              "\n",
              "6. **Inégalités d&#x27;accès** : Tous les employés n&#x27;ont pas accès à un environnement de travail adéquat à domicile, ce qui peut créer des disparités en matière de productivité et de confort.\n",
              "\n",
              "En somme, le travail à distance offre des opportunités intéressantes mais pose également des défis qui nécessitent une gestion attentive pour maximiser ses bénéfices tout en minimisant ses inconvénients.</pre><p><b>Time:</b> 16.72 seconds</p>"
            ],
            "text/plain": [
              "<IPython.core.display.HTML object>"
            ]
          },
          "metadata": {},
          "output_type": "display_data"
        },
        {
          "data": {
            "text/html": [
              "<h4>gpt-4o Response:</h4><pre style='background-color:#f5f5f5; color:#000; padding:10px; border-radius:5px;'>Le travail à distance, ou télétravail, présente plusieurs avantages et inconvénients qui varient selon les individus, les entreprises et les secteurs d&#x27;activité. Voici une description des principaux points :\n",
              "\n",
              "### Avantages :\n",
              "\n",
              "1. **Flexibilité** : Les employés peuvent souvent choisir leurs horaires de travail, ce qui leur permet de mieux concilier vie professionnelle et vie personnelle. Cela peut être particulièrement bénéfique pour les parents ou ceux qui ont des engagements personnels.\n",
              "\n",
              "2. **Économie de temps et d&#x27;argent** : En éliminant le trajet domicile-travail, les employés économisent du temps et de l&#x27;argent. Cela peut également réduire le stress lié aux déplacements quotidiens.\n",
              "\n",
              "3. **Augmentation de la productivité** : Pour certains, travailler dans un environnement familier et confortable peut augmenter la concentration et la productivité. Les interruptions sont souvent moindres qu&#x27;au bureau.\n",
              "\n",
              "4. **Accès à un vivier de talents plus large** : Les entreprises peuvent recruter des talents sans se limiter à une zone géographique spécifique, ce qui peut enrichir la diversité et les compétences de l&#x27;équipe.\n",
              "\n",
              "5. **Réduction des coûts pour les entreprises** : Moins de personnel sur site signifie des économies sur les frais généraux, tels que l&#x27;espace de bureau, l&#x27;électricité et d&#x27;autres ressources.\n",
              "\n",
              "### Inconvénients :\n",
              "\n",
              "1. **Isolement** : Le manque d&#x27;interaction sociale peut conduire à un sentiment d&#x27;isolement pour certains employés, ce qui peut affecter leur bien-être mental et leur motivation.\n",
              "\n",
              "2. **Difficulté de déconnexion** : Travailler à domicile peut brouiller les frontières entre vie professionnelle et vie personnelle, rendant difficile la déconnexion après les heures de travail.\n",
              "\n",
              "3. **Problèmes de communication** : La communication peut être plus compliquée à distance, avec des risques de malentendus ou de délais dans les réponses. Les interactions spontanées et les discussions informelles sont également réduites.\n",
              "\n",
              "4. **Dépendance à la technologie** : Le télétravail repose fortement sur la technologie, ce qui peut poser des problèmes en cas de pannes techniques ou de connexions Internet instables.\n",
              "\n",
              "5. **Gestion et supervision** : Pour les managers, superviser et évaluer les performances des employés à distance peut être plus complexe, nécessitant de nouvelles approches et outils de gestion.\n",
              "\n",
              "En somme, le travail à distance offre une grande flexibilité et des avantages économiques, mais il nécessite également des ajustements en termes de communication, de gestion et de maintien de la culture d&#x27;entreprise. Les entreprises et les employés doivent peser ces facteurs pour déterminer si le télétravail est une option viable et bénéfique pour eux.</pre><p><b>Time:</b> 8.72 seconds</p>"
            ],
            "text/plain": [
              "<IPython.core.display.HTML object>"
            ]
          },
          "metadata": {},
          "output_type": "display_data"
        },
        {
          "data": {
            "text/html": [
              "<hr>"
            ],
            "text/plain": [
              "<IPython.core.display.HTML object>"
            ]
          },
          "metadata": {},
          "output_type": "display_data"
        },
        {
          "data": {
            "text/html": [
              "<h3>Language: Arabic</h3>"
            ],
            "text/plain": [
              "<IPython.core.display.HTML object>"
            ]
          },
          "metadata": {},
          "output_type": "display_data"
        },
        {
          "data": {
            "text/html": [
              "<h3>Prompt:</h3><p>اشرح أهمية الذكاء الاصطناعي في مجال الرعاية الصحية.</p>"
            ],
            "text/plain": [
              "<IPython.core.display.HTML object>"
            ]
          },
          "metadata": {},
          "output_type": "display_data"
        },
        {
          "data": {
            "text/html": [
              "<h4>Sutra V2 Response:</h4><pre style='background-color:#f5f5f5; color:#000; padding:10px; border-radius:5px;'>الذكاء الاصطناعي (AI) يلعب دورًا متزايد الأهمية في مجال الرعاية الصحية، حيث يسهم في تحسين جودة الخدمات الصحية وزيادة كفاءتها. إليك بعض النقاط التي توضح أهمية الذكاء الاصطناعي في هذا المجال:\n",
              "\n",
              "1. **تشخيص الأمراض**: يمكن للذكاء الاصطناعي تحليل الصور الطبية مثل الأشعة السينية والرنين المغناطيسي بدقة عالية، مما يساعد الأطباء في تشخيص الأمراض بشكل أسرع وأكثر دقة.\n",
              "\n",
              "2. **تحليل البيانات**: يمكن للذكاء الاصطناعي معالجة كميات ضخمة من البيانات الصحية، مما يساعد في تحديد الأنماط والاتجاهات التي قد تكون غير واضحة للبشر. هذا يمكن أن يؤدي إلى اكتشافات جديدة في مجال الطب.\n",
              "\n",
              "3. **الرعاية الشخصية**: يمكن استخدام الذكاء الاصطناعي لتطوير خطط علاج مخصصة بناءً على البيانات الفردية للمرضى، مما يزيد من فعالية العلاجات ويقلل من الآثار الجانبية.\n",
              "\n",
              "4. **إدارة الموارد**: يساعد الذكاء الاصطناعي في تحسين إدارة المستشفيات والموارد الصحية، من خلال التنبؤ بالاحتياجات وتوزيع الموارد بشكل أكثر كفاءة.\n",
              "\n",
              "5. **التفاعل مع المرضى**: يمكن استخدام الروبوتات والمساعدات الذكية لتحسين تجربة المرضى، من خلال تقديم المعلومات والدعم في الوقت الحقيقي.\n",
              "\n",
              "6. **البحث والتطوير**: يساهم الذكاء الاصطناعي في تسريع عمليات البحث والتطوير للأدوية والعلاجات الجديدة، من خلال تحليل البيانات السريرية والتجريبية بشكل أسرع.\n",
              "\n",
              "7. **التنبؤ بالأوبئة**: يمكن للذكاء الاصطناعي تحليل البيانات العالمية للتنبؤ بانتشار الأمراض والأوبئة، مما يساعد في اتخاذ إجراءات وقائية مبكرة.\n",
              "\n",
              "باختصار، الذكاء الاصطناعي يعزز من قدرة النظام الصحي على تقديم رعاية أفضل وأكثر كفاءة، مما يؤدي إلى تحسين النتائج الصحية للمرضى.</pre><p><b>Time:</b> 5.37 seconds</p>"
            ],
            "text/plain": [
              "<IPython.core.display.HTML object>"
            ]
          },
          "metadata": {},
          "output_type": "display_data"
        },
        {
          "data": {
            "text/html": [
              "<h4>gpt-4o Response:</h4><pre style='background-color:#f5f5f5; color:#000; padding:10px; border-radius:5px;'>الذكاء الاصطناعي (AI) يلعب دورًا متزايد الأهمية في مجال الرعاية الصحية، وله تأثيرات إيجابية متعددة تشمل تحسين الكفاءة، تعزيز دقة التشخيص، وتقديم رعاية مخصصة للمرضى. إليك بعض النقاط التي توضح أهمية الذكاء الاصطناعي في هذا المجال:\n",
              "\n",
              "1. **تحسين التشخيص**: يمكن للذكاء الاصطناعي تحليل الصور الطبية مثل الأشعة السينية والتصوير بالرنين المغناطيسي بدقة عالية، مما يساعد الأطباء في اكتشاف الأمراض مثل السرطان في مراحلها المبكرة.\n",
              "\n",
              "2. **الرعاية الشخصية**: من خلال تحليل البيانات الصحية للمرضى، يمكن للذكاء الاصطناعي تقديم توصيات مخصصة للعلاج والوقاية، مما يعزز من فعالية الرعاية الصحية المقدمة.\n",
              "\n",
              "3. **إدارة البيانات**: يساعد الذكاء الاصطناعي في تنظيم وتحليل كميات ضخمة من البيانات الصحية بسرعة وكفاءة، مما يسهل على مقدمي الرعاية الصحية الوصول إلى المعلومات الضرورية لاتخاذ قرارات مستنيرة.\n",
              "\n",
              "4. **التنبؤ بالأمراض**: يمكن للذكاء الاصطناعي التنبؤ باحتمالية إصابة الأفراد بأمراض معينة بناءً على تاريخهم الصحي والبيانات الجينية، مما يتيح اتخاذ إجراءات وقائية مبكرة.\n",
              "\n",
              "5. **تطوير الأدوية**: يساهم الذكاء الاصطناعي في تسريع عملية اكتشاف وتطوير الأدوية من خلال تحليل البيانات البيولوجية والكيميائية، مما يقلل من الوقت والتكلفة المرتبطة بتطوير العلاجات الجديدة.\n",
              "\n",
              "6. **تحسين العمليات الجراحية**: تُستخدم الروبوتات المدعومة بالذكاء الاصطناعي في إجراء العمليات الجراحية بدقة عالية، مما يقلل من المخاطر ويعزز من نتائج العمليات.\n",
              "\n",
              "7. **إدارة الموارد**: يساعد الذكاء الاصطناعي في تحسين إدارة الموارد في المستشفيات والعيادات من خلال تحسين جداول المواعيد وإدارة المخزون الطبي.\n",
              "\n",
              "بشكل عام، يسهم الذكاء الاصطناعي في تحسين جودة الرعاية الصحية، تقليل التكاليف، وزيادة الوصول إلى الخدمات الصحية، مما يؤدي إلى نظام صحي أكثر فعالية وكفاءة.</pre><p><b>Time:</b> 7.43 seconds</p>"
            ],
            "text/plain": [
              "<IPython.core.display.HTML object>"
            ]
          },
          "metadata": {},
          "output_type": "display_data"
        },
        {
          "data": {
            "text/html": [
              "<hr>"
            ],
            "text/plain": [
              "<IPython.core.display.HTML object>"
            ]
          },
          "metadata": {},
          "output_type": "display_data"
        }
      ],
      "source": [
        "multilingual_prompts = {\n",
        "    \"Hindi\": \"भारत के पांच प्रमुख पर्यटन स्थलों के बारे में बताएं।\",  # Tell me about five major tourist places in India\n",
        "    \"Spanish\": \"Explica la importancia de la diversidad cultural en la sociedad moderna.\",  # Explain the importance of cultural diversity in modern society\n",
        "    \"French\": \"Décrivez les avantages et les inconvénients du travail à distance.\",  # Describe the advantages and disadvantages of remote work\n",
        "    \"Arabic\": \"اشرح أهمية الذكاء الاصطناعي في مجال الرعاية الصحية.\"  # Explain the importance of AI in healthcare\n",
        "}\n",
        "\n",
        "multilingual_results = []\n",
        "\n",
        "for language, prompt in multilingual_prompts.items():\n",
        "    display(HTML(f\"<h3>Language: {language}</h3>\"))\n",
        "    result = compare_responses(prompt)\n",
        "    result[\"Language\"] = language\n",
        "    multilingual_results.append(result)"
      ]
    },
    {
      "cell_type": "markdown",
      "metadata": {
        "id": "code-generation"
      },
      "source": [
        "## Comparison 3: Code Generation\n",
        "\n",
        "Let's compare the code generation capabilities of both models."
      ]
    },
    {
      "cell_type": "code",
      "execution_count": null,
      "metadata": {
        "colab": {
          "base_uri": "https://localhost:8080/",
          "height": 1000
        },
        "id": "code-generation-test",
        "outputId": "879fdf27-6c0c-4dbc-899d-4fe834059fa6"
      },
      "outputs": [
        {
          "data": {
            "text/html": [
              "<h3>Prompt:</h3><p>Write a Python function to check if a string is a palindrome.</p>"
            ],
            "text/plain": [
              "<IPython.core.display.HTML object>"
            ]
          },
          "metadata": {},
          "output_type": "display_data"
        },
        {
          "data": {
            "text/html": [
              "<h4>Sutra V2 Response:</h4><pre style='background-color:#f5f5f5; color:#000; padding:10px; border-radius:5px;'>Here is a Python function that checks if a given string is a palindrome:\n",
              "\n",
              "```python\n",
              "def is_palindrome(s):\n",
              "    # Remove any non-alphanumeric characters and convert to lowercase\n",
              "    cleaned_string = &#x27;&#x27;.join(char.lower() for char in s if char.isalnum())\n",
              "    # Check if the cleaned string is equal to its reverse\n",
              "    return cleaned_string == cleaned_string[::-1]\n",
              "\n",
              "# Example usage:\n",
              "input_string = &quot;A man, a plan, a canal: Panama&quot;\n",
              "print(is_palindrome(input_string))  # Output: True\n",
              "```\n",
              "\n",
              "This function first cleans the input string by removing non-alphanumeric characters and converting it to lowercase. Then, it checks if the cleaned string is the same as its reverse. If they are equal, the function returns `True`, indicating that the string is a palindrome; otherwise, it returns `False`.</pre><p><b>Time:</b> 3.66 seconds</p>"
            ],
            "text/plain": [
              "<IPython.core.display.HTML object>"
            ]
          },
          "metadata": {},
          "output_type": "display_data"
        },
        {
          "data": {
            "text/html": [
              "<h4>gpt-4o Response:</h4><pre style='background-color:#f5f5f5; color:#000; padding:10px; border-radius:5px;'>Certainly! A palindrome is a string that reads the same forward and backward. Here&#x27;s a Python function to check if a given string is a palindrome:\n",
              "\n",
              "```python\n",
              "def is_palindrome(s):\n",
              "    # Normalize the string by converting it to lowercase and removing non-alphanumeric characters\n",
              "    normalized_str = &#x27;&#x27;.join(char.lower() for char in s if char.isalnum())\n",
              "    \n",
              "    # Check if the normalized string is equal to its reverse\n",
              "    return normalized_str == normalized_str[::-1]\n",
              "\n",
              "# Example usage:\n",
              "print(is_palindrome(&quot;A man, a plan, a canal, Panama&quot;))  # Output: True\n",
              "print(is_palindrome(&quot;racecar&quot;))                         # Output: True\n",
              "print(is_palindrome(&quot;hello&quot;))                           # Output: False\n",
              "```\n",
              "\n",
              "### Explanation:\n",
              "1. **Normalization**: The function first normalizes the input string by converting it to lowercase and removing any non-alphanumeric characters. This ensures that the palindrome check is case-insensitive and ignores spaces, punctuation, etc.\n",
              "2. **Palindrome Check**: It then checks if the normalized string is equal to its reverse. If they are the same, the string is a palindrome; otherwise, it is not.\n",
              "\n",
              "This function should work for most typical use cases involving palindromes.</pre><p><b>Time:</b> 4.99 seconds</p>"
            ],
            "text/plain": [
              "<IPython.core.display.HTML object>"
            ]
          },
          "metadata": {},
          "output_type": "display_data"
        },
        {
          "data": {
            "text/html": [
              "<hr>"
            ],
            "text/plain": [
              "<IPython.core.display.HTML object>"
            ]
          },
          "metadata": {},
          "output_type": "display_data"
        },
        {
          "data": {
            "text/html": [
              "<h3>Prompt:</h3><p>Create a JavaScript function that sorts an array of objects by a specific property.</p>"
            ],
            "text/plain": [
              "<IPython.core.display.HTML object>"
            ]
          },
          "metadata": {},
          "output_type": "display_data"
        },
        {
          "data": {
            "text/html": [
              "<h4>Sutra V2 Response:</h4><pre style='background-color:#f5f5f5; color:#000; padding:10px; border-radius:5px;'>You can create a JavaScript function to sort an array of objects by a specific property using the `Array.prototype.sort()` method. Here’s an example function that sorts an array of objects based on a given property:\n",
              "\n",
              "```javascript\n",
              "function sortByProperty(array, property) {\n",
              "    return array.sort((a, b) =&gt; {\n",
              "        if (a[property] &lt; b[property]) {\n",
              "            return -1; // a comes before b\n",
              "        }\n",
              "        if (a[property] &gt; b[property]) {\n",
              "            return 1; // a comes after b\n",
              "        }\n",
              "        return 0; // a and b are equal\n",
              "    });\n",
              "}\n",
              "\n",
              "// Example usage:\n",
              "const data = [\n",
              "    { name: &#x27;Alice&#x27;, age: 25 },\n",
              "    { name: &#x27;Bob&#x27;, age: 20 },\n",
              "    { name: &#x27;Charlie&#x27;, age: 30 }\n",
              "];\n",
              "\n",
              "const sortedData = sortByProperty(data, &#x27;age&#x27;);\n",
              "console.log(sortedData);\n",
              "```\n",
              "\n",
              "### Explanation:\n",
              "- The `sortByProperty` function takes two parameters: `array`, which is the array of objects to be sorted, and `property`, which is the property by which to sort the objects.\n",
              "- The `sort()` method compares two elements (`a` and `b`) at a time and determines their order based on the specified property.\n",
              "- The comparison returns `-1`, `1`, or `0` to indicate whether `a` should come before, after, or is equal to `b`, respectively.\n",
              "- The example usage demonstrates sorting an array of objects by the `age` property.\n",
              "\n",
              "This function sorts the array in ascending order. If you want to sort in descending order, you can simply reverse the return values in the comparison function:\n",
              "\n",
              "```javascript\n",
              "return a[property] &gt; b[property] ? -1 : 1;\n",
              "```</pre><p><b>Time:</b> 4.76 seconds</p>"
            ],
            "text/plain": [
              "<IPython.core.display.HTML object>"
            ]
          },
          "metadata": {},
          "output_type": "display_data"
        },
        {
          "data": {
            "text/html": [
              "<h4>gpt-4o Response:</h4><pre style='background-color:#f5f5f5; color:#000; padding:10px; border-radius:5px;'>Certainly! To create a JavaScript function that sorts an array of objects by a specific property, you can use the `Array.prototype.sort()` method. This method can take a comparison function as an argument, which allows you to define custom sorting logic.\n",
              "\n",
              "Here&#x27;s a function called `sortByProperty` that sorts an array of objects based on a specified property:\n",
              "\n",
              "```javascript\n",
              "function sortByProperty(arr, property) {\n",
              "  if (!Array.isArray(arr)) {\n",
              "    throw new Error(&quot;First argument must be an array&quot;);\n",
              "  }\n",
              "\n",
              "  return arr.sort((a, b) =&gt; {\n",
              "    if (a[property] &lt; b[property]) {\n",
              "      return -1;\n",
              "    }\n",
              "    if (a[property] &gt; b[property]) {\n",
              "      return 1;\n",
              "    }\n",
              "    return 0;\n",
              "  });\n",
              "}\n",
              "\n",
              "// Example usage:\n",
              "const data = [\n",
              "  { name: &#x27;Alice&#x27;, age: 30 },\n",
              "  { name: &#x27;Bob&#x27;, age: 25 },\n",
              "  { name: &#x27;Charlie&#x27;, age: 35 }\n",
              "];\n",
              "\n",
              "const sortedByName = sortByProperty(data, &#x27;name&#x27;);\n",
              "console.log(&#x27;Sorted by name:&#x27;, sortedByName);\n",
              "\n",
              "const sortedByAge = sortByProperty(data, &#x27;age&#x27;);\n",
              "console.log(&#x27;Sorted by age:&#x27;, sortedByAge);\n",
              "```\n",
              "\n",
              "### Explanation:\n",
              "\n",
              "1. **Function Definition**: The function `sortByProperty` takes two parameters: `arr` (the array of objects) and `property` (the property name by which to sort).\n",
              "\n",
              "2. **Type Checking**: It first checks if the provided `arr` is an array. If not, it throws an error.\n",
              "\n",
              "3. **Sorting Logic**: The `sort()` method is used with a comparison function:\n",
              "   - If the property value of `a` is less than that of `b`, it returns `-1` to sort `a` before `b`.\n",
              "   - If the property value of `a` is greater than that of `b`, it returns `1` to sort `b` before `a`.\n",
              "   - If the property values are equal, it returns `0`, leaving their order unchanged.\n",
              "\n",
              "4. **Example Usage**: The function is demonstrated with an array of objects, sorting by both `name` and `age`.\n",
              "\n",
              "This function assumes that the property values are comparable using the `&lt;` and `&gt;` operators, which works well for strings and numbers. If you need to handle more complex data types or custom sorting logic, you may need to adjust the comparison function accordingly.</pre><p><b>Time:</b> 7.50 seconds</p>"
            ],
            "text/plain": [
              "<IPython.core.display.HTML object>"
            ]
          },
          "metadata": {},
          "output_type": "display_data"
        },
        {
          "data": {
            "text/html": [
              "<hr>"
            ],
            "text/plain": [
              "<IPython.core.display.HTML object>"
            ]
          },
          "metadata": {},
          "output_type": "display_data"
        }
      ],
      "source": [
        "code_prompts = [\n",
        "    \"Write a Python function to check if a string is a palindrome.\",\n",
        "    \"Create a JavaScript function that sorts an array of objects by a specific property.\"\n",
        "]\n",
        "\n",
        "code_results = []\n",
        "\n",
        "for prompt in code_prompts:\n",
        "    result = compare_responses(prompt)\n",
        "    code_results.append(result)"
      ]
    },
    {
      "cell_type": "markdown",
      "metadata": {
        "id": "creative-writing"
      },
      "source": [
        "## Comparison 4: Creative Writing\n",
        "\n",
        "Now let's compare creative writing capabilities."
      ]
    },
    {
      "cell_type": "code",
      "execution_count": null,
      "metadata": {
        "colab": {
          "base_uri": "https://localhost:8080/",
          "height": 1000
        },
        "id": "creative-writing-test",
        "outputId": "70fa74fa-7c2d-4708-9e38-2fa03b83515e"
      },
      "outputs": [
        {
          "data": {
            "text/html": [
              "<h3>Prompt:</h3><p>Write a short poem about the changing seasons.</p>"
            ],
            "text/plain": [
              "<IPython.core.display.HTML object>"
            ]
          },
          "metadata": {},
          "output_type": "display_data"
        },
        {
          "data": {
            "text/html": [
              "<h4>Sutra V2 Response:</h4><pre style='background-color:#f5f5f5; color:#000; padding:10px; border-radius:5px;'>In springtime&#x27;s blush, the blossoms bloom,  \n",
              "Awakening life from winter&#x27;s gloom.  \n",
              "Summer&#x27;s sun drapes fields in gold,  \n",
              "A tapestry of warmth, stories untold.  \n",
              "\n",
              "Autumn whispers with a fiery glow,  \n",
              "Leaves dance down in a crisp, gentle flow.  \n",
              "Winter&#x27;s breath blankets the earth in white,  \n",
              "Silent and still, a serene, starry night.  \n",
              "\n",
              "Each season a verse in nature&#x27;s song,  \n",
              "A cycle of change, where all belong.  \n",
              "In every shift, a beauty unfolds,  \n",
              "A timeless tale that never grows old.  </pre><p><b>Time:</b> 2.46 seconds</p>"
            ],
            "text/plain": [
              "<IPython.core.display.HTML object>"
            ]
          },
          "metadata": {},
          "output_type": "display_data"
        },
        {
          "data": {
            "text/html": [
              "<h4>gpt-4o Response:</h4><pre style='background-color:#f5f5f5; color:#000; padding:10px; border-radius:5px;'>Leaves of amber, gold, and rust,  \n",
              "Dance gently in the autumn gust.  \n",
              "Whispering winds begin to weave,  \n",
              "A tapestry that trees must leave.  \n",
              "\n",
              "Winter&#x27;s breath with icy grace,  \n",
              "Casts a spell on nature&#x27;s face.  \n",
              "Snowflakes drift in silent show,  \n",
              "Blanketing the world below.  \n",
              "\n",
              "Spring awakens from its sleep,  \n",
              "With blooms that burst and colors deep.  \n",
              "Life emerges from the frost,  \n",
              "In vibrant hues, no longer lost.  \n",
              "\n",
              "Summer basks in sunlit days,  \n",
              "With skies of blue and golden rays.  \n",
              "Laughter echoes, waters gleam,  \n",
              "In the warmth of summer&#x27;s dream.  \n",
              "\n",
              "Seasons cycle, time moves on,  \n",
              "A symphony that can&#x27;t be drawn.  \n",
              "In each turn, a story spun,  \n",
              "Nature&#x27;s dance, forever one.  </pre><p><b>Time:</b> 4.52 seconds</p>"
            ],
            "text/plain": [
              "<IPython.core.display.HTML object>"
            ]
          },
          "metadata": {},
          "output_type": "display_data"
        },
        {
          "data": {
            "text/html": [
              "<hr>"
            ],
            "text/plain": [
              "<IPython.core.display.HTML object>"
            ]
          },
          "metadata": {},
          "output_type": "display_data"
        },
        {
          "data": {
            "text/html": [
              "<h3>Prompt:</h3><p>Create a brief story about a traveler who discovers a hidden village in the mountains.</p>"
            ],
            "text/plain": [
              "<IPython.core.display.HTML object>"
            ]
          },
          "metadata": {},
          "output_type": "display_data"
        },
        {
          "data": {
            "text/html": [
              "<h4>Sutra V2 Response:</h4><pre style='background-color:#f5f5f5; color:#000; padding:10px; border-radius:5px;'>In the heart of the rugged mountains, where the air was crisp and the sky painted in hues of blue, a weary traveler named Elara stumbled upon an ancient path. She had been trekking for days, seeking solace from the chaos of her bustling city life. \n",
              "\n",
              "As she navigated through the dense forest, the trees opened up to reveal a breathtaking valley bathed in golden sunlight. Nestled within the embrace of towering peaks lay a hidden village, seemingly untouched by time. Its quaint cottages, adorned with vibrant flowers, exuded warmth and charm. The villagers, clad in colorful garments, went about their daily routines, blissfully unaware of the outside world.\n",
              "\n",
              "Curiosity sparked within Elara as she ventured into the village. The air was fragrant with the scent of freshly baked bread and blooming herbs. The villagers welcomed her with open arms, sharing stories of their ancestors and the traditions that bound them. They spoke of a sacred spring at the village&#x27;s edge, said to grant clarity and peace to those who sought it.\n",
              "\n",
              "Intrigued, Elara visited the spring, its waters glistening under the sun. As she knelt to drink, she felt a wave of tranquility wash over her, easing the burdens she carried. In that moment, she realized this hidden sanctuary was not just a place but a reminder of the beauty in simplicity and connection.\n",
              "\n",
              "Days turned into weeks as Elara immersed herself in village life, learning their crafts and laughter. Eventually, the time came for her to return to her own world. With a heavy heart, she bid farewell, promising to carry the spirit of the hidden village with her.\n",
              "\n",
              "As she descended the mountain, Elara felt transformed, her soul replenished. The hidden village had not just been a discovery; it had become a part of her journey, a cherished memory etched in her heart forever.</pre><p><b>Time:</b> 4.21 seconds</p>"
            ],
            "text/plain": [
              "<IPython.core.display.HTML object>"
            ]
          },
          "metadata": {},
          "output_type": "display_data"
        },
        {
          "data": {
            "text/html": [
              "<h4>gpt-4o Response:</h4><pre style='background-color:#f5f5f5; color:#000; padding:10px; border-radius:5px;'>Once upon a time, in the heart of the soaring Himalayas, there was a seasoned traveler named Elara. She was known for her insatiable curiosity and penchant for adventure. On a crisp autumn morning, Elara set out on a solo trek, her boots crunching on the frost-kissed trail, determined to explore the less trodden path.\n",
              "\n",
              "As she ascended higher into the mountains, the air became thin and the landscape more rugged. The path was narrow, winding through dense forests that whispered secrets of ancient times. Elara&#x27;s compass guided her, but it was her intuition that led her to a narrow, overgrown trail branching off the main path. Something about it beckoned her, promising mystery and discovery.\n",
              "\n",
              "The trail was challenging, strewn with rocks and concealed roots, but Elara forged ahead, driven by the thrill of the unknown. After hours of arduous trekking, the forest began to thin, revealing a breathtaking vista. Nestled in a secluded valley below was a village, unlike any she had ever seen. Its rooftops were painted in vibrant hues, and tendrils of smoke curled lazily from chimneys, blending with the mist that cradled the village.\n",
              "\n",
              "With a heart full of anticipation, Elara descended into the valley. As she approached, she noticed the village&#x27;s intricate architecture; each building was adorned with carvings depicting tales of gods, nature, and the stars. The villagers, dressed in colorful traditional attire, greeted her with warmth and curiosity, their eyes filled with stories waiting to be told.\n",
              "\n",
              "Elara soon learned that this hidden village, called Shambalaya, was a place of peace and wisdom, preserved for generations by its inhabitants. They were the guardians of ancient knowledge, skilled in herbal medicine, astronomy, and the art of harmony with nature. The villagers welcomed Elara into their community, eager to share their way of life with someone from the outside world.\n",
              "\n",
              "Days turned into weeks as Elara immersed herself in the village&#x27;s rhythms. She learned the art of meditation from the elders, discovered the healing properties of rare mountain herbs, and listened to the enchanting melodies played on traditional instruments. The villagers, in turn, were captivated by her tales of the world beyond the mountains.\n",
              "\n",
              "As the first snow of winter blanketed Shambalaya, Elara knew it was time to continue her journey. She bid farewell to her newfound friends, her heart heavy yet filled with gratitude. The village had gifted her not only with knowledge and friendship but also with a renewed sense of purpose.\n",
              "\n",
              "Elara promised to return one day and share the wisdom of Shambalaya with the world, ensuring that the hidden village in the mountains would never be forgotten. With the spirit of the village guiding her, she set off into the vast, white expanse, ready for the next adventure that awaited her.</pre><p><b>Time:</b> 11.54 seconds</p>"
            ],
            "text/plain": [
              "<IPython.core.display.HTML object>"
            ]
          },
          "metadata": {},
          "output_type": "display_data"
        },
        {
          "data": {
            "text/html": [
              "<hr>"
            ],
            "text/plain": [
              "<IPython.core.display.HTML object>"
            ]
          },
          "metadata": {},
          "output_type": "display_data"
        }
      ],
      "source": [
        "creative_prompts = [\n",
        "    \"Write a short poem about the changing seasons.\",\n",
        "    \"Create a brief story about a traveler who discovers a hidden village in the mountains.\"\n",
        "]\n",
        "\n",
        "creative_results = []\n",
        "\n",
        "for prompt in creative_prompts:\n",
        "    result = compare_responses(prompt, temperature=0.7)  # Higher temperature for creativity\n",
        "    creative_results.append(result)"
      ]
    },
    {
      "cell_type": "markdown",
      "metadata": {
        "id": "reasoning"
      },
      "source": [
        "## Comparison 5: Complex Reasoning\n",
        "\n",
        "Let's compare how both models handle complex reasoning tasks."
      ]
    },
    {
      "cell_type": "code",
      "execution_count": null,
      "metadata": {
        "colab": {
          "base_uri": "https://localhost:8080/",
          "height": 1000
        },
        "id": "reasoning-test",
        "outputId": "0ec77123-827b-44a0-de37-75bf06065736"
      },
      "outputs": [
        {
          "data": {
            "text/html": [
              "<h3>Prompt:</h3><p>A ball and a bat cost $1.10 in total. The bat costs $1.00 more than the ball. How much does the ball cost?</p>"
            ],
            "text/plain": [
              "<IPython.core.display.HTML object>"
            ]
          },
          "metadata": {},
          "output_type": "display_data"
        },
        {
          "data": {
            "text/html": [
              "<h4>Sutra V2 Response:</h4><pre style='background-color:#f5f5f5; color:#000; padding:10px; border-radius:5px;'>Let the cost of the ball be \\( x \\) dollars. According to the problem, the bat costs \\( x + 1.00 \\) dollars. \n",
              "\n",
              "The total cost of the ball and the bat is given as:\n",
              "\n",
              "\\[\n",
              "x + (x + 1.00) = 1.10\n",
              "\\]\n",
              "\n",
              "Simplifying this equation:\n",
              "\n",
              "\\[\n",
              "2x + 1.00 = 1.10\n",
              "\\]\n",
              "\n",
              "Subtracting 1.00 from both sides:\n",
              "\n",
              "\\[\n",
              "2x = 0.10\n",
              "\\]\n",
              "\n",
              "Dividing both sides by 2:\n",
              "\n",
              "\\[\n",
              "x = 0.05\n",
              "\\]\n",
              "\n",
              "Thus, the ball costs \\( 0.05 \\) dollars, or 5 cents. The bat, therefore, costs \\( 1.05 \\) dollars.</pre><p><b>Time:</b> 2.81 seconds</p>"
            ],
            "text/plain": [
              "<IPython.core.display.HTML object>"
            ]
          },
          "metadata": {},
          "output_type": "display_data"
        },
        {
          "data": {
            "text/html": [
              "<h4>gpt-4o Response:</h4><pre style='background-color:#f5f5f5; color:#000; padding:10px; border-radius:5px;'>Let&#x27;s denote the cost of the ball as \\( x \\) dollars. According to the problem, the bat costs $1.00 more than the ball, so the cost of the bat is \\( x + 1.00 \\) dollars.\n",
              "\n",
              "The total cost of the ball and the bat is $1.10. Therefore, we can set up the following equation:\n",
              "\n",
              "\\[\n",
              "x + (x + 1.00) = 1.10\n",
              "\\]\n",
              "\n",
              "Simplifying the equation:\n",
              "\n",
              "\\[\n",
              "2x + 1.00 = 1.10\n",
              "\\]\n",
              "\n",
              "Subtract 1.00 from both sides:\n",
              "\n",
              "\\[\n",
              "2x = 0.10\n",
              "\\]\n",
              "\n",
              "Divide both sides by 2:\n",
              "\n",
              "\\[\n",
              "x = 0.05\n",
              "\\]\n",
              "\n",
              "Thus, the ball costs $0.05.</pre><p><b>Time:</b> 1.98 seconds</p>"
            ],
            "text/plain": [
              "<IPython.core.display.HTML object>"
            ]
          },
          "metadata": {},
          "output_type": "display_data"
        },
        {
          "data": {
            "text/html": [
              "<hr>"
            ],
            "text/plain": [
              "<IPython.core.display.HTML object>"
            ]
          },
          "metadata": {},
          "output_type": "display_data"
        },
        {
          "data": {
            "text/html": [
              "<h3>Prompt:</h3><p>If it takes 5 machines 5 minutes to make 5 widgets, how long would it take 100 machines to make 100 widgets?</p>"
            ],
            "text/plain": [
              "<IPython.core.display.HTML object>"
            ]
          },
          "metadata": {},
          "output_type": "display_data"
        },
        {
          "data": {
            "text/html": [
              "<h4>Sutra V2 Response:</h4><pre style='background-color:#f5f5f5; color:#000; padding:10px; border-radius:5px;'>To solve this problem, we first determine the rate at which the machines produce widgets.\n",
              "\n",
              "From the information given:\n",
              "- 5 machines take 5 minutes to make 5 widgets.\n",
              "\n",
              "This means that each machine makes 1 widget in 5 minutes. Therefore, the production rate of one machine is:\n",
              "\n",
              "- 1 widget per 5 minutes.\n",
              "\n",
              "Now, if we have 100 machines, they will work simultaneously. Since each machine can produce 1 widget in 5 minutes, 100 machines will produce 100 widgets in the same 5 minutes.\n",
              "\n",
              "Thus, it would take 100 machines 5 minutes to make 100 widgets.</pre><p><b>Time:</b> 2.36 seconds</p>"
            ],
            "text/plain": [
              "<IPython.core.display.HTML object>"
            ]
          },
          "metadata": {},
          "output_type": "display_data"
        },
        {
          "data": {
            "text/html": [
              "<h4>gpt-4o Response:</h4><pre style='background-color:#f5f5f5; color:#000; padding:10px; border-radius:5px;'>To solve this problem, we first need to determine the rate at which the machines produce widgets. According to the problem, 5 machines take 5 minutes to make 5 widgets. This means that 1 machine makes 1 widget in 5 minutes.\n",
              "\n",
              "Now, if we have 100 machines working simultaneously, each machine can still make 1 widget in 5 minutes. Therefore, 100 machines would also take 5 minutes to make 100 widgets, since each machine is making 1 widget in that time frame.\n",
              "\n",
              "So, it would take 100 machines 5 minutes to make 100 widgets.</pre><p><b>Time:</b> 2.38 seconds</p>"
            ],
            "text/plain": [
              "<IPython.core.display.HTML object>"
            ]
          },
          "metadata": {},
          "output_type": "display_data"
        },
        {
          "data": {
            "text/html": [
              "<hr>"
            ],
            "text/plain": [
              "<IPython.core.display.HTML object>"
            ]
          },
          "metadata": {},
          "output_type": "display_data"
        }
      ],
      "source": [
        "reasoning_prompts = [\n",
        "    \"A ball and a bat cost $1.10 in total. The bat costs $1.00 more than the ball. How much does the ball cost?\",\n",
        "    \"If it takes 5 machines 5 minutes to make 5 widgets, how long would it take 100 machines to make 100 widgets?\"\n",
        "]\n",
        "\n",
        "reasoning_results = []\n",
        "\n",
        "for prompt in reasoning_prompts:\n",
        "    result = compare_responses(prompt)\n",
        "    reasoning_results.append(result)"
      ]
    },
    {
      "cell_type": "markdown",
      "metadata": {
        "id": "performance-analysis"
      },
      "source": [
        "## Performance Analysis\n",
        "\n",
        "Let's analyze the performance of both models across different tasks."
      ]
    },
    {
      "cell_type": "code",
      "execution_count": null,
      "metadata": {
        "colab": {
          "base_uri": "https://localhost:8080/",
          "height": 1000
        },
        "id": "performance-visualization",
        "outputId": "97925e09-0f9c-4ae9-86c8-dabb41af83d3"
      },
      "outputs": [
        {
          "data": {
            "image/png": "[encoded data removed]",
            "text/plain": [
              "<Figure size 1400x800 with 1 Axes>"
            ]
          },
          "metadata": {},
          "output_type": "display_data"
        },
        {
          "data": {
            "image/png": "[encoded data removed]",
            "text/plain": [
              "<Figure size 1200x600 with 1 Axes>"
            ]
          },
          "metadata": {},
          "output_type": "display_data"
        }
      ],
      "source": [
        "# Combine all results\n",
        "all_results = (\n",
        "    general_knowledge_results +\n",
        "    multilingual_results +\n",
        "    code_results +\n",
        "    creative_results +\n",
        "    reasoning_results\n",
        ")\n",
        "\n",
        "# Extract timing data\n",
        "timing_data = []\n",
        "for result in all_results:\n",
        "    if \"Language\" not in result:\n",
        "        result[\"Language\"] = \"English\"  # Default language\n",
        "\n",
        "    timing_data.append({\n",
        "        \"Task Type\": \"General Knowledge\" if result in general_knowledge_results else\n",
        "                    \"Multilingual\" if result in multilingual_results else\n",
        "                    \"Code Generation\" if result in code_results else\n",
        "                    \"Creative Writing\" if result in creative_results else\n",
        "                    \"Complex Reasoning\",\n",
        "        \"Language\": result[\"Language\"],\n",
        "        \"Model\": \"Sutra V2\",\n",
        "        \"Response Time\": result[\"Sutra Time\"]\n",
        "    })\n",
        "\n",
        "    timing_data.append({\n",
        "        \"Task Type\": \"General Knowledge\" if result in general_knowledge_results else\n",
        "                    \"Multilingual\" if result in multilingual_results else\n",
        "                    \"Code Generation\" if result in code_results else\n",
        "                    \"Creative Writing\" if result in creative_results else\n",
        "                    \"Complex Reasoning\",\n",
        "        \"Language\": result[\"Language\"],\n",
        "        \"Model\": result[\"OpenAI Model\"],\n",
        "        \"Response Time\": result[\"OpenAI Time\"]\n",
        "    })\n",
        "\n",
        "# Convert to DataFrame\n",
        "timing_df = pd.DataFrame(timing_data)\n",
        "\n",
        "# Visualization: Response time comparison by task type\n",
        "plt.figure(figsize=(14, 8))\n",
        "sns.barplot(x='Task Type', y='Response Time', hue='Model', data=timing_df)\n",
        "plt.title('Response Time Comparison by Task Type')\n",
        "plt.xlabel('Task Type')\n",
        "plt.ylabel('Response Time (seconds)')\n",
        "plt.xticks(rotation=45)\n",
        "plt.tight_layout()\n",
        "plt.show()\n",
        "\n",
        "# Visualization: Response time comparison by language\n",
        "plt.figure(figsize=(12, 6))\n",
        "multilingual_timing = timing_df[timing_df['Task Type'] == 'Multilingual']\n",
        "sns.barplot(x='Language', y='Response Time', hue='Model', data=multilingual_timing)\n",
        "plt.title('Response Time Comparison for Multilingual Tasks')\n",
        "plt.xlabel('Language')\n",
        "plt.ylabel('Response Time (seconds)')\n",
        "plt.tight_layout()\n",
        "plt.show()"
      ]
    },
    {
      "cell_type": "markdown",
      "metadata": {
        "id": "response-length"
      },
      "source": [
        "## Response Length Analysis\n",
        "\n",
        "Let's also compare the length of responses from both models."
      ]
    },
    {
      "cell_type": "code",
      "execution_count": null,
      "metadata": {
        "colab": {
          "base_uri": "https://localhost:8080/",
          "height": 765
        },
        "id": "length-visualization",
        "outputId": "11f4d94c-2a70-4fac-a8e4-1243755e391c"
      },
      "outputs": [
        {
          "data": {
            "image/png": "[encoded data removed]",
            "text/plain": [
              "<Figure size 1400x800 with 1 Axes>"
            ]
          },
          "metadata": {},
          "output_type": "display_data"
        }
      ],
      "source": [
        "# Extract response length data\n",
        "length_data = []\n",
        "for result in all_results:\n",
        "    if \"Language\" not in result:\n",
        "        result[\"Language\"] = \"English\"  # Default language\n",
        "\n",
        "    length_data.append({\n",
        "        \"Task Type\": \"General Knowledge\" if result in general_knowledge_results else\n",
        "                    \"Multilingual\" if result in multilingual_results else\n",
        "                    \"Code Generation\" if result in code_results else\n",
        "                    \"Creative Writing\" if result in creative_results else\n",
        "                    \"Complex Reasoning\",\n",
        "        \"Language\": result[\"Language\"],\n",
        "        \"Model\": \"Sutra V2\",\n",
        "        \"Response Length\": len(result[\"Sutra Response\"])\n",
        "    })\n",
        "\n",
        "    length_data.append({\n",
        "        \"Task Type\": \"General Knowledge\" if result in general_knowledge_results else\n",
        "                    \"Multilingual\" if result in multilingual_results else\n",
        "                    \"Code Generation\" if result in code_results else\n",
        "                    \"Creative Writing\" if result in creative_results else\n",
        "                    \"Complex Reasoning\",\n",
        "        \"Language\": result[\"Language\"],\n",
        "        \"Model\": result[\"OpenAI Model\"],\n",
        "        \"Response Length\": len(result[\"OpenAI Response\"])\n",
        "    })\n",
        "\n",
        "# Convert to DataFrame\n",
        "length_df = pd.DataFrame(length_data)\n",
        "\n",
        "# Visualization: Response length comparison by task type\n",
        "plt.figure(figsize=(14, 8))\n",
        "sns.barplot(x='Task Type', y='Response Length', hue='Model', data=length_df)\n",
        "plt.title('Response Length Comparison by Task Type')\n",
        "plt.xlabel('Task Type')\n",
        "plt.ylabel('Response Length (characters)')\n",
        "plt.xticks(rotation=45)\n",
        "plt.tight_layout()\n",
        "plt.show()"
      ]
    },
    {
      "cell_type": "markdown",
      "metadata": {
        "id": "conclusion"
      },
      "source": [
        "## Conclusion\n",
        "\n",
        "This notebook has provided a comparison between Sutra V2 and OpenAI models across various tasks and capabilities. Here are the key takeaways:\n",
        "\n",
        "1. **Multilingual Capabilities**: Sutra V2 demonstrates exceptional performance across a wide range of languages, particularly excelling in Indic and Far Eastern languages. This makes it an excellent choice for applications requiring multilingual support.\n",
        "\n",
        "2. **Performance Characteristics**: Both models show different strengths in terms of response time, length, and quality across different types of tasks.\n",
        "\n",
        "3. **Task-Specific Performance**:\n",
        "   - **General Knowledge**: Both models demonstrate strong factual knowledge\n",
        "   - **Code Generation**: Both can generate functional code with good syntax\n",
        "   - **Creative Writing**: Both produce creative and contextually appropriate content\n",
        "   - **Complex Reasoning**: Both can handle multi-step reasoning tasks\n",
        "\n",
        "4. **Use Case Recommendations**:\n",
        "   - Choose Sutra V2 for applications requiring:\n",
        "     - Broad multilingual support, especially for Indic and Far Eastern languages\n",
        "     - Cost-efficient deployment at scale\n",
        "     - Consistent performance across diverse domains\n",
        "   \n",
        "   - Choose OpenAI models for applications requiring:\n",
        "     - Cutting-edge performance on complex reasoning tasks\n",
        "     - Advanced code generation\n",
        "     - Extensive English language capabilities\n",
        "\n",
        "The best model choice ultimately depends on your specific use case, language requirements, and performance needs. This comparison should help you make an informed decision based on your application's requirements."
      ]
    }
  ],
  "metadata": {
    "colab": {
      "provenance": []
    },
    "kernelspec": {
      "display_name": "Python 3",
      "name": "python3"
    },
    "language_info": {
      "name": "python"
    }
  },
  "nbformat": 4,
  "nbformat_minor": 0
}
