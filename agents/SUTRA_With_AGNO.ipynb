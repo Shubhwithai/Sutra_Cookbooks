{
  "cells": [
    {
      "cell_type": "markdown",
      "metadata": {
        "id": "FU1Tf9H2K0Gp"
      },
      "source": [
        "<div style=\"display: flex; align-items: center; gap: 40px;\">\n",
        "\n",
        "<img src=\"https://play-lh.googleusercontent.com/_O9p4Z4yucA2NLmZBu9mTJCuBwXeT9NcbtrDN6I8gKlkIPRySV0adOmbyipjSj9Gew\" width=\"120\">\n",
        "<img src=\"https://images.crunchbase.com/image/upload/c_pad,f_auto,q_auto:eco,dpr_1/fc52752016ff487da8e4686a2b7fcb6d\" width=\"120\">\n",
        "\n",
        "<div>\n",
        "  <h2>SUTRA by TWO Platforms</h2>\n",
        "  <p>SUTRA is a family of larges multi-lingual language (LMLMs) models pioneered by Two Platforms. SUTRA’s dual-transformer approach extends the power of both MoE and Dense AI language model architectures, delivering cost-efficient multilingual capabilities for over 50+ languages. It powers scalable AI applications for conversation, search, and advanced reasoning, ensuring high-performance across diverse languages, domains and applications.</p>\n",
        "\n",
        "  <h2>Agno</h2>\n",
        "  <p>Agno is a developer-friendly framework to build intelligent agents with memory, tools, and reasoning. It simplifies creating multimodal, agentic workflows with built-in FastAPI routes, chat UI, and performance monitoring.</p>\n",
        "</div>\n",
        "</div>\n"
      ]
    },
    {
      "cell_type": "markdown",
      "metadata": {},
      "source": [
        "<a href=\"https://colab.research.google.com/drive/1UCgEFAbydLXMFm1t4R3dwtBRDN0Npmg-\" target=\"_parent\"><img src=\"https://colab.research.google.com/assets/colab-badge.svg\" alt=\"Open In Colab\"/></a>"
      ]
    },
    {
      "cell_type": "markdown",
      "metadata": {},
      "source": [
        "## Get Your API Keys\n",
        "\n",
        "Before you begin, make sure you have:\n",
        "\n",
        "1. A SUTRA API key (Get yours at [TWO AI's SUTRA API page](https://www.two.ai/sutra/api))\n",
        "2. Basic familiarity with Python and Jupyter notebooks\n",
        "\n",
        "This notebook is designed to run in Google Colab, so no local Python installation is required."
      ]
    },
    {
      "cell_type": "markdown",
      "metadata": {
        "id": "dX4IemuILxgV"
      },
      "source": [
        "## Sutra using Agno"
      ]
    },
    {
      "cell_type": "markdown",
      "metadata": {
        "id": "Q4LsNbD2L5Lb"
      },
      "source": [
        "###Install Requirements"
      ]
    },
    {
      "cell_type": "code",
      "execution_count": null,
      "metadata": {
        "id": "Bq5GWrUNKpCV"
      },
      "outputs": [],
      "source": [
        "!pip install -qU openai agno tavily-python pypdf lancedb"
      ]
    },
    {
      "cell_type": "markdown",
      "metadata": {
        "id": "dboBkjnjXgMv"
      },
      "source": [
        "####Setup API Keys"
      ]
    },
    {
      "cell_type": "code",
      "execution_count": null,
      "metadata": {
        "id": "GvuwrgBSMS0n"
      },
      "outputs": [],
      "source": [
        "import os\n",
        "from google.colab import userdata\n",
        "\n",
        "# Set the API key from Colab secrets\n",
        "os.environ[\"SUTRA_API_KEY\"] = userdata.get(\"SUTRA_API_KEY\")\n",
        "os.environ[\"TAVILY_API_KEY\"] = userdata.get(\"TAVILY_API_KEY\")\n",
        "os.environ[\"OPENAI_API_KEY\"] = userdata.get(\"OPENAI_API_KEY\")"
      ]
    },
    {
      "cell_type": "markdown",
      "metadata": {
        "id": "di-zBrjWX4Dr"
      },
      "source": [
        "##Initialize Agent with Sutra Model:"
      ]
    },
    {
      "cell_type": "code",
      "execution_count": null,
      "metadata": {
        "id": "FOKMPuEyM9i8"
      },
      "outputs": [],
      "source": [
        "import os\n",
        "from agno.agent import Agent\n",
        "from agno.models.openai.like import OpenAILike\n",
        "\n",
        "# Initialize the Agent with Sutra model via OpenAILike wrapper\n",
        "agent = Agent(\n",
        "    model=OpenAILike(\n",
        "        id=\"sutra-v2\",\n",
        "        api_key=os.getenv(\"SUTRA_API_KEY\"),\n",
        "        base_url=\"https://api.two.ai/v2\"\n",
        "    ),\n",
        "    markdown=True\n",
        ")"
      ]
    },
    {
      "cell_type": "markdown",
      "metadata": {
        "id": "evonLdClYKI3"
      },
      "source": [
        "###Send Message to Agent and Get Response:"
      ]
    },
    {
      "cell_type": "code",
      "execution_count": null,
      "metadata": {
        "colab": {
          "base_uri": "https://localhost:8080/"
        },
        "id": "YJOnW3hXYNDg",
        "outputId": "c1987ff3-3b28-449f-84fb-6da74a0d787b"
      },
      "outputs": [
        {
          "name": "stdout",
          "output_type": "stream",
          "text": [
            "I am SUTRA, an advanced multilingual AI model designed to assist with a variety of inquiries and tasks. How can I help you today?\n"
          ]
        }
      ],
      "source": [
        "# Send the message to the agent and get the response\n",
        "response = agent.run(\"Who are you?\")\n",
        "\n",
        "# Print the response\n",
        "print(response.content)"
      ]
    },
    {
      "cell_type": "markdown",
      "metadata": {
        "id": "zXOs3AFzYfx3"
      },
      "source": [
        "#### Define Multilingual Prompts:"
      ]
    },
    {
      "cell_type": "code",
      "execution_count": null,
      "metadata": {
        "id": "a9e0Y_AkNyia"
      },
      "outputs": [],
      "source": [
        "from agno.agent import Agent\n",
        "from agno.models.openai.like import OpenAILike\n",
        "\n",
        "agent = Agent(\n",
        "    model=OpenAILike(\n",
        "        id=\"sutra-v2\",\n",
        "        api_key=os.getenv(\"SUTRA_API_KEY\"),\n",
        "        base_url=\"https://api.two.ai/v2\"\n",
        "    ),\n",
        "    markdown=True\n",
        ")\n",
        "\n",
        "prompts = [\n",
        "    \"తెలుగులో ఒక కథ చెప్పు?\",                          # Telugu\n",
        "    \"Une histoire en français, s'il vous plaît.\",      # French\n",
        "    \"Por favor, cuéntame una historia en español.\",    # Spanish\n",
        "    \"कृपया हिंदी में एक कहानी सुनाइए।\",                     # Hindi\n",
        "    \"Bitte erzähle mir eine Geschichte auf Deutsch.\"   # German\n",
        "]"
      ]
    },
    {
      "cell_type": "markdown",
      "metadata": {
        "id": "gqW_OyyeYr6F"
      },
      "source": [
        "####Process Prompts and Print Responses:"
      ]
    },
    {
      "cell_type": "code",
      "execution_count": null,
      "metadata": {
        "colab": {
          "base_uri": "https://localhost:8080/"
        },
        "id": "ZrekcqgbYxn_",
        "outputId": "ec0de442-9157-4d70-c0a8-0db3602bad1a"
      },
      "outputs": [
        {
          "name": "stdout",
          "output_type": "stream",
          "text": [
            "\n",
            "📝 Prompt: తెలుగులో ఒక కథ చెప్పు?\n",
            "📘 Response: ### కథ: పిట్టల పండుగ\n",
            "\n",
            "ఒక గ్రామంలో చిన్న పిట్టలు నివసించేవి. వాటి పేరు \"చిట్టి\" మరియు \"కిట్టి\". ఈ పిట్టలు ప్రతి సంవత్సరం ఒక ప్రత్యేక పండుగను జరుపుకునే వారు. ఆ పండుగ పేరు \"పిట్టల పండుగ\".\n",
            "\n",
            "ఈ పండుగలో, గ్రామంలోని అన్ని పిట్టలు కలుస్తాయి. చిట్టి మరియు కిట్టి ఈ పండుగను మరింత ప్రత్యేకంగా చేయడానికి ప్రతీ సంవత్సరం కొత్త కొత్త ఆలోచనలు చేస్తుంటాయి.\n",
            "\n",
            "#### పండుగ రోజు:\n",
            "ఈసారి, చిట్టి మరియు కిట్టి ఒక ప్రత్యేక కార్యక్రమాన్ని ఏర్పాటు చేశారు. అవి గ్రామంలోని పెద్ద చెట్టు వద్ద అందరికీ సాంగ్స్ మరియు నాటికలు చేయాలని నిర్ణయించాయి. అందరూ ఆనందంతో పాల్గొనడం ప్రారంభించారు.\n",
            "\n",
            "చిట్టి ఒక అందమైన పాట పాడింది. అందరి హృదయాలను తాకింది. కిట్టి తన నాటికతో అందరిని నవ్వించింది. పిట్టల పండుగ రోజున, గ్రామంలోని ప్రతి పిట్ట కూడా తమ స్నేహితులతో కలిసి ఆహారాలు పంచుకుంది.\n",
            "\n",
            "#### పండుగ ముగింపు:\n",
            "పండుగ ముగిసినప్పుడు, చిట్టి మరియు కిట్టి అందరికి ధన్యవాదాలు చెప్పాయి. అందరూ ఒకటిగా ఉంటే, ఎన్ని సంతోషాలు వచ్చాయో అర్థం కావాలంటే, ఇది పిట్టల పండుగ అని తెలిపారు.\n",
            "\n",
            "ఇలా, చిట్టి మరియు కిట్టి వారి గ్రామంలో స్నేహం, ప్రేమ మరియు ఆనందాన్ని పంచుతూ, ప్రతి సంవత్సరం పిట్టల పండుగను జరుపుకుంటూ వచ్చాయి.\n",
            "\n",
            "### ముద్రణ:\n",
            "ఈ కథ ద్వారా మనం తెలుసుకోవాలి, స్నేహం మరియు సహాయం ఉన్న చోట ఎలాంటి కష్టాలు వచ్చినప్పటికీ, అందరినీ కలిపి ముందుకు సాగవచ్చు.\n",
            "\n",
            "\n",
            "📝 Prompt: Une histoire en français, s'il vous plaît.\n",
            "📘 Response: ### La Petite Étoile\n",
            "\n",
            "Il était une fois, dans un ciel étoilé, une petite étoile nommée Étoilelette. Elle brillait de mille feux et rêvait d’être plus qu’une simple étoile dans la nuit. Étoilelette avait entendu les histoires des étoiles filantes qui exauçaient des vœux, et elle voulait faire quelque chose de spécial pour les habitants de la Terre.\n",
            "\n",
            "Un soir, alors que le vent soufflait doucement, Étoilelette décida de descendre sur Terre pour rencontrer les humains. Elle se transforma en une jolie luciole et se posa délicatement sur le rebord d'une fenêtre d'un petit village.\n",
            "\n",
            "À l’intérieur de la maison, une petite fille nommée Clara était triste. Elle avait perdu son chat, Minou, et ne savait pas où le chercher. Étoilelette, touchée par la peine de Clara, décida d’agir. Elle brilla intensément, attirant l’attention de la fillette.\n",
            "\n",
            "« Qui es-tu ? » demanda Clara, émerveillée par la lumière scintillante. \n",
            "\n",
            "« Je suis Étoilelette, » répondit la luciole avec une voix douce. « Je peux t’aider à retrouver Minou. Suis-moi ! »\n",
            "\n",
            "Clara, pleine d’espoir, suivit Étoilelette à travers le village. Ensemble, elles parcoururent les ruelles sombres et les jardins fleuris. Chaque fois qu’Étoilelette éclairait le chemin, Clara se sentait plus courageuse.\n",
            "\n",
            "Finalement, elles arrivèrent près d’un vieux chêne. Étoilelette brilla encore plus fort, et soudain, un miaulement familier résonna dans l’air. Minou était là, blotti contre l’arbre, endormi paisiblement. Clara courut vers lui, le prit dans ses bras et le serra très fort.\n",
            "\n",
            "« Merci, Étoilelette ! Tu es vraiment magique ! » s’exclama Clara, les larmes aux yeux.\n",
            "\n",
            "Étoilelette, heureuse d’avoir aidé, lui sourit. « N’oublie jamais que même les petites étoiles peuvent faire de grandes choses. »\n",
            "\n",
            "Avec cela, Étoilelette s’envola vers le ciel, reprenant sa forme d’étoile. Elle continua de briller chaque nuit, sachant qu’elle avait fait une différence dans la vie d’une petite fille.\n",
            "\n",
            "Et depuis ce jour, Clara ne regarda plus jamais le ciel de la même manière. Chaque fois qu’elle voyait Étoilelette briller, elle se souvenait de leur aventure et du pouvoir de l’espoir.\n",
            "\n",
            "### Fin\n",
            "\n",
            "\n",
            "📝 Prompt: Por favor, cuéntame una historia en español.\n",
            "📘 Response: ### La Leyenda del Lago Espejo\n",
            "\n",
            "En un pequeño pueblo rodeado de montañas, existía un lago conocido como el Lago Espejo. Se decía que sus aguas eran tan claras que reflejaban el cielo como un espejo. Sin embargo, había algo más en ese lago que lo hacía especial: se creía que quien se mirara en sus aguas podría ver su verdadero destino.\n",
            "\n",
            "Una joven llamada Clara, curiosa y aventurera, había escuchado muchas historias sobre el Lago Espejo desde niña. Un día, decidió que era hora de descubrir la verdad por sí misma. Con una mochila llena de provisiones y su corazón lleno de esperanza, emprendió el camino hacia el lago.\n",
            "\n",
            "Después de varias horas de caminata, Clara llegó al lago al atardecer. El sol se ocultaba detrás de las montañas, pintando el cielo de colores anaranjados y morados. Al acercarse a la orilla, sintió una mezcla de emoción y nerviosismo. Se arrodilló y miró fijamente su reflejo en el agua.\n",
            "\n",
            "Al principio, vio su propia imagen, pero poco a poco, la superficie comenzó a cambiar. En lugar de su reflejo, apareció una escena de su vida futura: Clara, rodeada de amigos y familiares, sonriendo en una celebración. Vio cómo había logrado abrir su propio taller de cerámica, un sueño que había tenido desde pequeña.\n",
            "\n",
            "Sin embargo, la visión también le mostró momentos difíciles: desafíos y obstáculos que tendría que enfrentar. A pesar de esto, Clara sintió una profunda determinación. Sabía que, aunque el camino no sería fácil, estaba dispuesta a luchar por su sueño.\n",
            "\n",
            "Con el corazón lleno de inspiración, Clara regresó a su pueblo. A partir de ese día, trabajó incansablemente en su pasión por la cerámica. Pasaron los años, y finalmente, logró abrir su taller. La gente del pueblo comenzó a admirar su trabajo, y sus sueños se convirtieron en realidad.\n",
            "\n",
            "Cada vez que alguien le preguntaba sobre su éxito, Clara sonreía y les contaba la historia del Lago Espejo, recordando que a veces, mirar hacia adentro es el primer paso para descubrir nuestro verdadero destino. Y así, la leyenda del lago continuó, inspirando a otros a buscar sus sueños y a no temer los desafíos que puedan encontrar en el camino.\n",
            "\n",
            "\n",
            "📝 Prompt: कृपया हिंदी में एक कहानी सुनाइए।\n",
            "📘 Response: ### कहानी: चतुर लोमड़ी और मूर्ख बकरी\n",
            "\n",
            "एक बार की बात है, एक घने जंगल में एक चतुर लोमड़ी और एक मूर्ख बकरी रहते थे। लोमड़ी अपनी चालाकी के लिए जानी जाती थी, जबकि बकरी अपनी भोली भाली स्वभाव के लिए।\n",
            "\n",
            "#### घटना का आरंभ\n",
            "\n",
            "एक दिन, लोमड़ी ने सोचा कि क्यों न बकरी को धोखा देकर उसका खाना छीन लिया जाए। उसने बकरी को देखा और उसके पास जाकर बोली, \"हे बकरी, तुम कितनी सुंदर हो! तुम्हारे दूध का स्वाद तो अद्भुत होगा।\"\n",
            "\n",
            "बकरी लोमड़ी की बातें सुनकर खुश हो गई। उसने कहा, \"धन्यवाद, लोमड़ी! तुम भी बहुत सुंदर हो।\"\n",
            "\n",
            "#### धोखे का खेल\n",
            "\n",
            "लोमड़ी ने कहा, \"अगर तुम मुझे अपना दूध दो, तो मैं तुम्हें एक जादुई घास दिखा सकती हूँ, जो तुम्हारे दूध को और भी मीठा बना देगी।\" बकरी ने लोमड़ी पर विश्वास किया और उसे अपने साथ ले चलने का निर्णय लिया।\n",
            "\n",
            "वे दोनों जंगल के एक कोने में पहुँचे, जहाँ लोमड़ी ने कहा, \"यहाँ जादुई घास है। लेकिन तुम्हें पहले मुझे अपना दूध देना होगा।\" बकरी ने बिना सोचे समझे अपना दूध लोमड़ी को दे दिया।\n",
            "\n",
            "#### परिणाम\n",
            "\n",
            "जैसे ही बकरी ने अपना दूध दिया, लोमड़ी ने उसे धोखा देकर वहाँ से भाग निकली। बकरी समझ गई कि वह धोखे में आ गई है, लेकिन अब पछताने का कोई फायदा नहीं था। \n",
            "\n",
            "#### सीख\n",
            "\n",
            "इस घटना से बकरी ने सीखा कि किसी पर blindly भरोसा करना सही नहीं है। उसे समझ में आया कि चालाक लोगों से दूर रहना चाहिए और हमेशा सतर्क रहना चाहिए।\n",
            "\n",
            "इस प्रकार, बकरी ने अपनी गलती से सबक सीखा और आगे से हमेशा सावधानी बरतने लगी।\n",
            "\n",
            "### समाप्त\n",
            "\n",
            "यह कहानी हमें यह सिखाती है कि हमें हमेशा सतर्क रहना चाहिए और किसी पर भी बिना सोच-विचार के भरोसा नहीं करना चाहिए।\n",
            "\n",
            "\n",
            "📝 Prompt: Bitte erzähle mir eine Geschichte auf Deutsch.\n",
            "📘 Response: Es war einmal in einem kleinen Dorf am Fuß eines großen, majestätischen Berges. Das Dorf war bekannt für seine freundlichen Menschen und die bunten Blumen, die überall blühten. In diesem Dorf lebte ein junger Mann namens Lukas. Er hatte immer davon geträumt, den Gipfel des großen Berges zu erklimmen, der das Dorf überragte.\n",
            "\n",
            "Eines Morgens, als die Sonne gerade aufging und die ersten Strahlen das Dorf erhellten, beschloss Lukas, dass es endlich Zeit war, seinen Traum zu verwirklichen. Er packte einige Vorräte – Wasser, Brot und eine kleine Decke – und machte sich auf den Weg.\n",
            "\n",
            "Der Aufstieg war steil und beschwerlich. Lukas musste durch dichte Wälder gehen, über glitschige Steine klettern und sich durch Gestrüpp kämpfen. Doch je höher er kam, desto schöner wurde die Aussicht. Er konnte das gesamte Dorf sehen, das wie ein kleines Spielzeughaus in der Ferne lag.\n",
            "\n",
            "Nach Stunden des Wanderns gelangte Lukas an einen schmalen Grat, von dem aus er den Gipfel des Berges sehen konnte. Plötzlich hörte er ein leises Geräusch. Neugierig schaute er sich um und entdeckte einen verletzten Vogel, der auf dem Boden lag. Der Vogel hatte sich anscheinend den Flügel gebrochen.\n",
            "\n",
            "Lukas erinnerte sich daran, dass seine Mutter ihm beigebracht hatte, dass man immer anderen helfen sollte, egal wie klein sie sind. Er kniete sich neben den Vogel und verband vorsichtig seinen Flügel mit einem Stück Stoff aus seiner Decke. Der Vogel sah ihn dankbar an und blieb ruhig.\n",
            "\n",
            "Nachdem er dem Vogel geholfen hatte, setzte Lukas seinen Weg fort. Endlich, nach vielen Mühen, erreichte er den Gipfel des Berges. Die Aussicht war atemberaubend. Er konnte die Wolken berühren und die Welt unter ihm bewundern. In diesem Moment fühlte er sich frei und glücklich.\n",
            "\n",
            "Als er sich umdrehte, bemerkte er, dass der Vogel ihm gefolgt war. Er saß jetzt auf einem Stein und sang ein wunderschönes Lied. Lukas lächelte und verstand, dass die wahre Belohnung nicht nur im Erreichen des Ziels lag, sondern auch im Helfen anderer und der Liebe zur Natur.\n",
            "\n",
            "Von diesem Tag an besuchte Lukas oft den Gipfel des Berges, und jedes Mal brachte er etwas Futter für seinen gefiederten Freund mit. Die beiden wurden unzertrennliche Gefährten, und Lukas wusste, dass er nie wieder alleine sein würde. Und so lebten sie glücklich und zufrieden in ihrem kleinen Dorf, verbunden durch Freundschaft und Abenteuer.\n",
            "\n",
            "Und wenn sie nicht gestorben sind, dann leben sie noch heute.\n",
            "\n"
          ]
        }
      ],
      "source": [
        "for prompt in prompts:\n",
        "    response = agent.run(prompt)\n",
        "    print(f\"\\n📝 Prompt: {prompt}\\n📘 Response: {response.content}\\n\")"
      ]
    },
    {
      "cell_type": "markdown",
      "metadata": {
        "id": "woMOcS1eZEs4"
      },
      "source": [
        "###Initialize Sutra Model and Start Chatbot Interaction"
      ]
    },
    {
      "cell_type": "code",
      "execution_count": null,
      "metadata": {
        "colab": {
          "base_uri": "https://localhost:8080/"
        },
        "id": "6CNxXhmcV0yr",
        "outputId": "1abde6ae-f1d0-44f6-b971-6f4b0d4e5b5d"
      },
      "outputs": [
        {
          "name": "stdout",
          "output_type": "stream",
          "text": [
            "💬 Chatbot ready (type 'exit' to quit)\n",
            "\n",
            "You: hello\n",
            "Bot: Hello! How can I assist you today?\n",
            "You: About Agno AI\n",
            "Bot: Agno AI is a technology company focused on developing artificial intelligence solutions. It aims to leverage advanced machine learning techniques to create tools that enhance productivity, improve decision-making, and facilitate automation across various industries. \n",
            "\n",
            "### Key Features of Agno AI:\n",
            "- **Natural Language Processing (NLP)**: Enabling machines to understand and respond to human language effectively.\n",
            "- **Machine Learning**: Utilizing algorithms that allow systems to learn from data and improve over time without explicit programming.\n",
            "- **Automation Solutions**: Implementing AI-driven processes that streamline business operations and reduce manual effort.\n",
            "\n",
            "### Applications:\n",
            "- **Customer Service**: Chatbots and virtual assistants powered by AI help address customer inquiries and support issues.\n",
            "- **Data Analysis**: Tools that analyze large datasets to uncover insights and trends, aiding in strategic planning.\n",
            "- **Personalization**: Algorithms that tailor recommendations and experiences based on user behavior and preferences.\n",
            "\n",
            "Agno AI continues to evolve as the field of artificial intelligence advances, contributing to various sectors such as healthcare, finance, and education.\n",
            "You: About Sutra by TWO AI\n",
            "Bot: SUTRA by TWO AI is an advanced multilingual AI model designed with a unique dual-transformer architecture. This innovative design enables SUTRA to understand and generate human-like text across various languages, enhancing communication and accessibility. The model is trained on a diverse dataset, allowing it to handle a wide range of topics and queries effectively.\n",
            "\n",
            "Key features of SUTRA include:\n",
            "\n",
            "- **Multilingual Capabilities**: Proficient in numerous languages, making it suitable for global applications.\n",
            "- **Contextual Understanding**: Can grasp the context of conversations, providing relevant and coherent responses.\n",
            "- **Adaptability**: Designed to learn from interactions, improving its performance over time.\n",
            "- **User-Friendly Interface**: Aimed at providing seamless interaction for users, whether for casual inquiries or more complex tasks.\n",
            "\n",
            "The development of SUTRA showcases the commitment of TWO AI to push the boundaries of artificial intelligence, making it a valuable tool for both individuals and organizations looking to leverage AI technology.\n",
            "You: exit\n",
            "Bot: Goodbye! 👋\n"
          ]
        }
      ],
      "source": [
        "from agno.agent import Agent\n",
        "from agno.models.openai.like import OpenAILike\n",
        "\n",
        "agent = Agent(\n",
        "    model=OpenAILike(\n",
        "        id=\"sutra-v2\",\n",
        "        api_key=os.getenv(\"SUTRA_API_KEY\"),\n",
        "        base_url=\"https://api.two.ai/v2\"\n",
        "    ),\n",
        "    markdown=True\n",
        ")\n",
        "\n",
        "print(\"💬 Chatbot ready (type 'exit' to quit)\\n\")\n",
        "\n",
        "while True:\n",
        "    user_input = input(\"You: \")\n",
        "    if user_input.lower() == \"exit\":\n",
        "        print(\"Bot: Goodbye! 👋\")\n",
        "        break\n",
        "\n",
        "    response = agent.run(user_input)\n",
        "    print(\"Bot:\", response.content)"
      ]
    },
    {
      "cell_type": "markdown",
      "metadata": {
        "id": "ddRYRiB8ZS7g"
      },
      "source": [
        "### Initialize Agent with Sutra Model and Tavily Tool"
      ]
    },
    {
      "cell_type": "code",
      "execution_count": null,
      "metadata": {
        "colab": {
          "base_uri": "https://localhost:8080/"
        },
        "id": "jWzfR2p4UTdn",
        "outputId": "ca26ea49-8056-477e-f188-69e9f342f057"
      },
      "outputs": [
        {
          "name": "stdout",
          "output_type": "stream",
          "text": [
            "SUTRA is an advanced AI model developed by TWO AI, utilizing a unique dual-transformer architecture. This design enhances the model's ability to understand and generate human-like text across various languages and contexts. Founded by Pranav Mistry, TWO AI focuses on creating innovative AI solutions that can effectively assist users in diverse applications.\n",
            "\n",
            "If you need specific information about SUTRA's features, capabilities, or applications, please let me know!\n"
          ]
        }
      ],
      "source": [
        "import os\n",
        "from agno.agent import Agent\n",
        "from agno.models.openai.like import OpenAILike\n",
        "from agno.tools.tavily import TavilyTools\n",
        "\n",
        "# Initialize the agent with Sutra model and Tavily tool\n",
        "agent = Agent(\n",
        "    model=OpenAILike(\n",
        "        id=\"sutra-v2\",\n",
        "        api_key=os.getenv(\"SUTRA_API_KEY\"),\n",
        "        base_url=\"https://api.two.ai/v2\"\n",
        "    ),\n",
        "    tools=[TavilyTools()],\n",
        "    description=\"You are a search agent capable of answering queries using Tavily search.\",\n",
        "    instructions=[\n",
        "        \"Always use Tavily search to fetch relevant information for the user's query.\",\n",
        "        \"Provide concise, informative, and relevant answers based on the search results.\"\n",
        "    ],\n",
        "    show_tool_calls=True,\n",
        "    markdown=True\n",
        ")\n",
        "\n",
        "# Run a sample query using Tavily\n",
        "response = agent.run(\"About SUTRA by TWO AI\")\n",
        "print(response.content)"
      ]
    },
    {
      "cell_type": "markdown",
      "metadata": {
        "id": "kbXZI12sYt7e"
      },
      "source": [
        "###Agentic RAG with LanceDB using Sutra LLM in Agno Framework"
      ]
    },
    {
      "cell_type": "code",
      "execution_count": null,
      "metadata": {
        "colab": {
          "base_uri": "https://localhost:8080/",
          "height": 995,
          "referenced_widgets": [
            "259b5a854b2747f6909443a34a054196",
            "d4e02caaaed54edf8fc9f5352d1c192e"
          ]
        },
        "id": "x65vStMEXy1n",
        "outputId": "6b1e6a7e-db5c-41de-f8bc-e9470b7cccbb"
      },
      "outputs": [
        {
          "data": {
            "text/html": [
              "<pre style=\"white-space:pre;overflow-x:auto;line-height:normal;font-family:Menlo,'DejaVu Sans Mono',consolas,'Courier New',monospace\"><span style=\"color: #000080; text-decoration-color: #000080\">INFO</span> Loading knowledge base                                                                                        \n",
              "</pre>\n"
            ],
            "text/plain": [
              "\u001b[34mINFO\u001b[0m Loading knowledge base                                                                                        \n"
            ]
          },
          "metadata": {},
          "output_type": "display_data"
        },
        {
          "data": {
            "text/html": [
              "<pre style=\"white-space:pre;overflow-x:auto;line-height:normal;font-family:Menlo,'DejaVu Sans Mono',consolas,'Courier New',monospace\"><span style=\"color: #000080; text-decoration-color: #000080\">INFO</span> Reading: <span style=\"color: #0000ff; text-decoration-color: #0000ff; text-decoration: underline\">https://agno-public.s3.amazonaws.com/recipes/ThaiRecipes.pdf</span>                                         \n",
              "</pre>\n"
            ],
            "text/plain": [
              "\u001b[34mINFO\u001b[0m Reading: \u001b[4;94mhttps://agno-public.s3.amazonaws.com/recipes/ThaiRecipes.pdf\u001b[0m                                         \n"
            ]
          },
          "metadata": {},
          "output_type": "display_data"
        },
        {
          "data": {
            "text/html": [
              "<pre style=\"white-space:pre;overflow-x:auto;line-height:normal;font-family:Menlo,'DejaVu Sans Mono',consolas,'Courier New',monospace\"><span style=\"color: #000080; text-decoration-color: #000080\">INFO</span> No documents to insert                                                                                        \n",
              "</pre>\n"
            ],
            "text/plain": [
              "\u001b[34mINFO\u001b[0m No documents to insert                                                                                        \n"
            ]
          },
          "metadata": {},
          "output_type": "display_data"
        },
        {
          "data": {
            "text/html": [
              "<pre style=\"white-space:pre;overflow-x:auto;line-height:normal;font-family:Menlo,'DejaVu Sans Mono',consolas,'Courier New',monospace\"><span style=\"color: #000080; text-decoration-color: #000080\">INFO</span> Added <span style=\"color: #008080; text-decoration-color: #008080; font-weight: bold\">0</span> documents to knowledge base                                                                           \n",
              "</pre>\n"
            ],
            "text/plain": [
              "\u001b[34mINFO\u001b[0m Added \u001b[1;36m0\u001b[0m documents to knowledge base                                                                           \n"
            ]
          },
          "metadata": {},
          "output_type": "display_data"
        },
        {
          "data": {
            "application/vnd.jupyter.widget-view+json": {
              "model_id": "259b5a854b2747f6909443a34a054196",
              "version_major": 2,
              "version_minor": 0
            },
            "text/plain": [
              "Output()"
            ]
          },
          "metadata": {},
          "output_type": "display_data"
        },
        {
          "data": {
            "text/html": [
              "<pre style=\"white-space:pre;overflow-x:auto;line-height:normal;font-family:Menlo,'DejaVu Sans Mono',consolas,'Courier New',monospace\"></pre>\n"
            ],
            "text/plain": []
          },
          "metadata": {},
          "output_type": "display_data"
        }
      ],
      "source": [
        "import os\n",
        "from agno.agent import Agent\n",
        "from agno.models.openai.like import OpenAILike\n",
        "from agno.embedder.openai import OpenAIEmbedder\n",
        "from agno.knowledge.pdf_url import PDFUrlKnowledgeBase\n",
        "from agno.vectordb.lancedb import LanceDb, SearchType\n",
        "\n",
        "# Step 1: Define the Knowledge Base from PDF URL\n",
        "knowledge_base = PDFUrlKnowledgeBase(\n",
        "    urls=[\"https://agno-public.s3.amazonaws.com/recipes/ThaiRecipes.pdf\"],\n",
        "    vector_db=LanceDb(\n",
        "        table_name=\"recipes\",\n",
        "        uri=\"tmp/lancedb\",\n",
        "        search_type=SearchType.vector,\n",
        "        embedder=OpenAIEmbedder(id=\"text-embedding-3-small\"),\n",
        "    ),\n",
        ")\n",
        "\n",
        "# Step 2: Load knowledge base (Run only once; comment in later runs)\n",
        "knowledge_base.load()\n",
        "\n",
        "# Step 3: Define the Agent using Sutra (OpenAI-compatible via OpenAILike)\n",
        "agent = Agent(\n",
        "    model=OpenAILike(\n",
        "        id=\"sutra-v2\",\n",
        "        api_key=os.getenv(\"SUTRA_API_KEY\"),\n",
        "        base_url=\"https://api.two.ai/v2\"\n",
        "    ),\n",
        "    knowledge=knowledge_base,\n",
        "    search_knowledge=True,   # Enables agentic RAG behavior\n",
        "    show_tool_calls=True,    # Show tool usage by agent\n",
        "    markdown=True            # Output in markdown\n",
        ")\n",
        "\n",
        "# Step 4: Ask your question\n",
        "agent.print_response(\n",
        "    \"How do I make chicken and galangal in coconut milk soup?\", stream=True\n",
        ")"
      ]
    },
    {
      "cell_type": "markdown",
      "metadata": {
        "id": "6n8ZK3A5oveN"
      },
      "source": [
        "###🍿 PopcornPal - Movie Recommendation Agent 🎬"
      ]
    },
    {
      "cell_type": "code",
      "execution_count": null,
      "metadata": {
        "colab": {
          "base_uri": "https://localhost:8080/",
          "height": 1000,
          "referenced_widgets": [
            "904259bb19e8478d92565e64e29ba5b1",
            "302691f07a1e4cec85a4b4c8a9822a74"
          ]
        },
        "id": "sfMmnl5GlrQt",
        "outputId": "9cfee136-c402-4a55-ec2c-52d704dc1f52"
      },
      "outputs": [
        {
          "data": {
            "application/vnd.jupyter.widget-view+json": {
              "model_id": "904259bb19e8478d92565e64e29ba5b1",
              "version_major": 2,
              "version_minor": 0
            },
            "text/plain": [
              "Output()"
            ]
          },
          "metadata": {},
          "output_type": "display_data"
        },
        {
          "data": {
            "text/html": [
              "<pre style=\"white-space:pre;overflow-x:auto;line-height:normal;font-family:Menlo,'DejaVu Sans Mono',consolas,'Courier New',monospace\"></pre>\n"
            ],
            "text/plain": []
          },
          "metadata": {},
          "output_type": "display_data"
        }
      ],
      "source": [
        "import os\n",
        "from textwrap import dedent\n",
        "from agno.agent import Agent\n",
        "from agno.models.openai.like import OpenAILike\n",
        "from agno.tools.tavily import TavilyTools\n",
        "\n",
        "\n",
        "# ✅ Define the Agent\n",
        "agent = Agent(\n",
        "    name=\"PopcornPal\",\n",
        "    tools=[TavilyTools()],\n",
        "    model=OpenAILike(\n",
        "        id=\"sutra-v2\",\n",
        "        api_key=os.getenv(\"SUTRA_API_KEY\"),\n",
        "        base_url=\"https://api.two.ai/v2\"\n",
        "    ),\n",
        "    description=dedent(\"\"\"\\\n",
        "        You are PopcornPal, a passionate film expert helping users discover amazing movies. 🎬\n",
        "        Suggest detailed, high-quality recommendations based on user tastes and movie ratings.\n",
        "    \"\"\"),\n",
        "    instructions=dedent(\"\"\"\\\n",
        "        Steps:\n",
        "        1. Understand user's taste.\n",
        "        2. Use Tavily to search for recent movies with good ratings (IMDb > 7.5).\n",
        "        3. Recommend 5+ movies with: Title, Year, Genre, Rating, Summary, Director, Cast.\n",
        "        4. Format in Markdown table. Add 🎬 or genre emojis. Mention streaming if known.\n",
        "    \"\"\"),\n",
        "    markdown=True,\n",
        "    show_tool_calls=True,\n",
        "    add_datetime_to_instructions=True\n",
        ")\n",
        "\n",
        "# 🎯 Ask for recommendations\n",
        "agent.print_response(\n",
        "    \"Suggest thriller movies with IMDb rating above 8. I enjoyed Parasite, The Dark Knight, and Inception.\",\n",
        "    stream=True\n",
        ")\n"
      ]
    }
  ],
  "metadata": {
    "colab": {
      "provenance": []
    },
    "kernelspec": {
      "display_name": "Python 3",
      "name": "python3"
    },
    "language_info": {
      "name": "python"
    }
  },
  "nbformat": 4,
  "nbformat_minor": 0
}
